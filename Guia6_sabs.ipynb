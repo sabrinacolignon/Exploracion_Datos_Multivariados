{
 "cells": [
  {
   "cell_type": "code",
   "execution_count": 2,
   "id": "7ea6466f",
   "metadata": {
    "scrolled": true
   },
   "outputs": [
    {
     "name": "stderr",
     "output_type": "stream",
     "text": [
      "Warning message:\n",
      "\"package 'readxl' was built under R version 3.6.3\"Warning message:\n",
      "\"package 'dplyr' was built under R version 3.6.3\"\n",
      "Attaching package: 'dplyr'\n",
      "\n",
      "The following objects are masked from 'package:stats':\n",
      "\n",
      "    filter, lag\n",
      "\n",
      "The following objects are masked from 'package:base':\n",
      "\n",
      "    intersect, setdiff, setequal, union\n",
      "\n",
      "Warning message:\n",
      "\"package 'pwr' was built under R version 3.6.3\"Warning message:\n",
      "\"package 'lsr' was built under R version 3.6.3\"Warning message:\n",
      "\"package 'ggplot2' was built under R version 3.6.3\""
     ]
    }
   ],
   "source": [
    "library(readxl)\n",
    "library(dplyr)\n",
    "library(pwr)\n",
    "library(lsr)\n",
    "library(ggplot2)"
   ]
  },
  {
   "cell_type": "code",
   "execution_count": 67,
   "id": "9660063a",
   "metadata": {},
   "outputs": [],
   "source": [
    "secundaria_promedios <- read_excel(\"C:/Users/Sabrina/Downloads/Exploracion_d_multivariados/promedios_secundaria.xlsx\")\n",
    "primaria_promedios <- read_excel(\"C:/Users/Sabrina/Downloads/Exploracion_d_multivariados/promedios_primaria.xlsx\")"
   ]
  },
  {
   "cell_type": "markdown",
   "id": "76344078",
   "metadata": {},
   "source": [
    "# Ejercicio 1 Analisis de matriculas"
   ]
  },
  {
   "cell_type": "code",
   "execution_count": 10,
   "id": "fcbf52db",
   "metadata": {
    "scrolled": true
   },
   "outputs": [
    {
     "ename": "ERROR",
     "evalue": "Error: Problem with `filter()` input `..1`.\ni Input `..1` is `Departamento == \"DIAMANTE\"`.\nx objeto 'Departamento' no encontrado\n",
     "output_type": "error",
     "traceback": [
      "Error: Problem with `filter()` input `..1`.\ni Input `..1` is `Departamento == \"DIAMANTE\"`.\nx objeto 'Departamento' no encontrado\nTraceback:\n",
      "1. filter(secundaria_promedios, Departamento == \"DIAMANTE\")",
      "2. filter.data.frame(secundaria_promedios, Departamento == \"DIAMANTE\")",
      "3. filter_rows(.data, ...)",
      "4. withCallingHandlers({\n .     dots <- new_quosures(flatten(imap(dots, function(dot, index) {\n .         env_filter$current_expression <- index\n .         expand_if_across(dot)\n .     })))\n .     mask$eval_all_filter(dots, env_filter)\n . }, error = function(e) {\n .     local_call_step(dots = dots, .index = env_filter$current_expression, \n .         .fn = \"filter\")\n .     abort(c(cnd_bullet_header(), i = cnd_bullet_input_info(), \n .         x = conditionMessage(e), i = cnd_bullet_cur_group_label()), \n .         class = \"dplyr_error\")\n . })",
      "5. mask$eval_all_filter(dots, env_filter)",
      "6. .handleSimpleError(function (e) \n . {\n .     local_call_step(dots = dots, .index = env_filter$current_expression, \n .         .fn = \"filter\")\n .     abort(c(cnd_bullet_header(), i = cnd_bullet_input_info(), \n .         x = conditionMessage(e), i = cnd_bullet_cur_group_label()), \n .         class = \"dplyr_error\")\n . }, \"objeto 'Departamento' no encontrado\", base::quote(mask$eval_all_filter(dots, \n .     env_filter)))",
      "7. h(simpleError(msg, call))",
      "8. abort(c(cnd_bullet_header(), i = cnd_bullet_input_info(), x = conditionMessage(e), \n .     i = cnd_bullet_cur_group_label()), class = \"dplyr_error\")",
      "9. signal_abort(cnd)"
     ]
    }
   ],
   "source": [
    "diamante <- filter(secundarias, Departamento == \"DIAMANTE\")\n",
    "diamante_cb <- diamante$Mat_ciclo_basico\n",
    "diamante_co <- diamante$Mat_ciclo_orientado\n",
    "\n",
    "#Revisamos la normalidad de los datos\n",
    "shapiro.test(diamante_cb)\n",
    "shapiro.test(diamante_co)\n",
    "\n",
    "#Realizamos el Test correspondiente (Test no paramétrico)\n",
    "wilcox.test(diamante_cb,diamante_co, alternative = \"two.sided\", conf.level = 0.95, paired = FALSE)"
   ]
  },
  {
   "cell_type": "markdown",
   "id": "1597ffb7",
   "metadata": {},
   "source": [
    "# Ejercicio 2 Analisis de matriculas por Curso\n"
   ]
  },
  {
   "cell_type": "code",
   "execution_count": null,
   "id": "b20c01e7",
   "metadata": {},
   "outputs": [],
   "source": [
    "secundarias <- na.omit(secundarias)\n",
    "Primero <- secundarias$Primero\n",
    "Segundo <- secundarias$Segundo\n",
    "Tercero <- secundarias$Tercero\n",
    "Cuarto <- secundarias$Cuarto\n",
    "Quinto <- secundarias$Quinto\n",
    "Sexto <- secundarias$Sexto\n",
    "matricula <- as.numeric(c(primero,segundo,tercero,cuarto,quinto,sexto))\n",
    "curso <- as.factor(c(rep(\"Primero\",length(Primero)), \n",
    "                     rep(\"Segundo\",length(Segundo)),\n",
    "                     rep(\"Tercero\",length(Tercero)),\n",
    "                     rep(\"Cuarto\",length(Cuarto)),\n",
    "                     rep(\"Quinto\",length(Quinto)),\n",
    "                     rep(\"Sexto\", length(Sexto))))\n",
    "matricula_curso <- data.frame(curso,matricula)\n",
    "matricula_curso\n",
    "matricula_curso$curso <- factor(matricula_curso$curso, levels = c(\"Primero\",\"Segundo\",\"Tercero\",\"Cuarto\",\"Quinto\",\"Sexto\"))"
   ]
  },
  {
   "cell_type": "code",
   "execution_count": null,
   "id": "5e31f973",
   "metadata": {},
   "outputs": [],
   "source": [
    "boxplot(matricula_curso$matricula ~ matricula_curso$curso, \n",
    "        col = c(\"yellow\", \"blue\", \"orange\",\"green\",\"purple\",\"brown\"), \n",
    "        ylim = c(0,300),\n",
    "        ylab = \"Matricula por curso\", \n",
    "        xlab=\"Cursos\",\n",
    "        sub=\"Fuente de elaboración propia\",\n",
    "        main=\"Cantidad de matriculas por curso en el departamento de Diamante\")"
   ]
  },
  {
   "cell_type": "code",
   "execution_count": null,
   "id": "d78c28ce",
   "metadata": {},
   "outputs": [],
   "source": [
    "matricula_curso %>% group_by(curso) %>%\n",
    "  summarise(mean = round(mean(matricula),1), datos = n())\n",
    "#Genero el modelo de ANOVA\n",
    "fm = aov( matricula ~ curso )\n",
    "summary(fm) # pvalor < 0.05 rechazamos H0 y existe al menos una de las medias que difiere en cuanto a las otras"
   ]
  },
  {
   "cell_type": "code",
   "execution_count": null,
   "id": "d6592e71",
   "metadata": {},
   "outputs": [],
   "source": [
    "TukeyHSD(fm, \"curso\", conf.level = .95)"
   ]
  },
  {
   "cell_type": "code",
   "execution_count": null,
   "id": "8f56c224",
   "metadata": {},
   "outputs": [],
   "source": [
    "#Analizamos los supuestos\n",
    "shapiro.test(matricula_curso$matricula[matricula_curso$curso == \"Primero\"])\n",
    "shapiro.test(matricula_curso$matricula[matricula_curso$curso == \"Segundo\"])\n",
    "shapiro.test(matricula_curso$matricula[matricula_curso$curso == \"Tercero\"])\n",
    "shapiro.test(matricula_curso$matricula[matricula_curso$curso == \"Cuarto\"])\n",
    "shapiro.test(matricula_curso$matricula[matricula_curso$curso == \"Quinto\"])\n",
    "shapiro.test(matricula_curso$matricula[matricula_curso$curso == \"Sexto\"])\n"
   ]
  },
  {
   "cell_type": "code",
   "execution_count": null,
   "id": "193e66df",
   "metadata": {},
   "outputs": [],
   "source": [
    "#Test no parametrico Kruskal Wallis\n",
    "kruskal.test(matricula_curso$curso,matricula_curso$matricula)"
   ]
  },
  {
   "cell_type": "code",
   "execution_count": null,
   "id": "daf6c9c0",
   "metadata": {},
   "outputs": [],
   "source": [
    "#Analisis a posteriori\n",
    "pairwise.wilcox.test(matricula_curso$matricula,matricula_curso$curso)"
   ]
  },
  {
   "cell_type": "markdown",
   "id": "d65b88b0",
   "metadata": {},
   "source": [
    "# EJERCICIO 3"
   ]
  },
  {
   "cell_type": "markdown",
   "id": "c23fb540",
   "metadata": {},
   "source": [
    "Lengua"
   ]
  },
  {
   "cell_type": "code",
   "execution_count": 13,
   "id": "b9040ab2",
   "metadata": {},
   "outputs": [
    {
     "data": {
      "text/plain": [
       "\n",
       "COMPLETO   DIURNO   MAÑANA ROTATIVO    TARDE \n",
       "    2630       40    22846     1277    19142 "
      ]
     },
     "metadata": {},
     "output_type": "display_data"
    },
    {
     "data": {
      "text/plain": [
       "\n",
       "   1    2    3    4    5    6 \n",
       "9780 7741 7233 7187 6898 7096 "
      ]
     },
     "metadata": {},
     "output_type": "display_data"
    }
   ],
   "source": [
    "table(primaria_promedios$Turno)\n",
    "\n",
    "table(primaria_promedios$Curso)"
   ]
  },
  {
   "cell_type": "code",
   "execution_count": 12,
   "id": "7e57da4c",
   "metadata": {},
   "outputs": [],
   "source": [
    "#----------------------------------- PRIMER CICLO--------------------------\n",
    "primer_ciclo_mañana_L <- c(na.omit(filter(primaria_promedios, Turno == \"MAÑANA\" & Materia == \"LENGUA\" & Curso == 1 )$Promedio),\n",
    "                  na.omit(filter(primaria_promedios, Turno == \"MAÑANA\" & Materia == \"LENGUA\" & Curso == 2 )$Promedio),\n",
    "                  na.omit(filter(primaria_promedios, Turno == \"MAÑANA\" & Materia == \"LENGUA\" & Curso == 3 )$Promedio))\n",
    "\n",
    "primer_ciclo_tarde_L <- c(na.omit(filter(primaria_promedios, Turno == \"TARDE\" & Materia == \"LENGUA\" & Curso == 1 )$Promedio),\n",
    "                  na.omit(filter(primaria_promedios, Turno == \"TARDE\" & Materia == \"LENGUA\" & Curso == 2 )$Promedio),\n",
    "                  na.omit(filter(primaria_promedios, Turno == \"TARDE\" & Materia == \"LENGUA\" & Curso == 3 )$Promedio))\n",
    "\n",
    "primer_ciclo_otros_L <- c(na.omit(filter(primaria_promedios,Turno == \"DIURNO\" & Materia == \"LENGUA\" & Curso == 1 )$Promedio),\n",
    "       na.omit(filter(primaria_promedios,Turno == \"COMPLETO\" & Materia == \"LENGUA\" & Curso == 1 )$Promedio),\n",
    "       na.omit(filter(primaria_promedios,Turno == \"ROTATIVO\" & Materia == \"LENGUA\" & Curso == 1 )$Promedio),\n",
    "       na.omit(filter(primaria_promedios,Turno == \"DIURNO\" & Materia == \"LENGUA\" & Curso == 2 )$Promedio),\n",
    "       na.omit(filter(primaria_promedios,Turno == \"COMPLETO\" & Materia == \"LENGUA\" & Curso == 2 )$Promedio),\n",
    "       na.omit(filter(primaria_promedios,Turno == \"ROTATIVO\" & Materia == \"LENGUA\" & Curso == 2 )$Promedio),\n",
    "       na.omit(filter(primaria_promedios,Turno == \"DIURNO\" & Materia == \"LENGUA\" & Curso == 3 )$Promedio),\n",
    "       na.omit(filter(primaria_promedios,Turno == \"COMPLETO\" & Materia == \"LENGUA\" & Curso == 3 )$Promedio),\n",
    "       na.omit(filter(primaria_promedios,Turno == \"ROTATIVO\" & Materia == \"LENGUA\" & Curso == 3)$Promedio))\n",
    "\n",
    "#----------------------------------- SEGUNDO CICLO--------------------------\n",
    "segundo_ciclo_mañana_L <- c(na.omit(filter(primaria_promedios, Turno == \"MAÑANA\" & Materia == \"LENGUA\" & Curso == 4  )$Promedio),\n",
    "                  na.omit(filter(primaria_promedios, Turno == \"MAÑANA\" & Materia == \"LENGUA\" & Curso == 5 )$Promedio),\n",
    "                  na.omit(filter(primaria_promedios, Turno == \"MAÑANA\" & Materia == \"LENGUA\" & Curso == 6 )$Promedio))\n",
    "\n",
    "segundo_ciclo_tarde_L <- c(na.omit(filter(primaria_promedios, Turno == \"TARDE\" & Materia == \"LENGUA\" & Curso == 4  )$Promedio),\n",
    "                  na.omit(filter(primaria_promedios, Turno == \"TARDE\" & Materia == \"LENGUA\" & Curso == 5 )$Promedio),\n",
    "                  na.omit(filter(primaria_promedios, Turno == \"TARDE\" & Materia == \"LENGUA\" & Curso == 6 )$Promedio))\n",
    "\n",
    "segundo_ciclo_otros_L <- primer_ciclo_otros_L <- c(na.omit(filter(primaria_promedios,Turno == \"DIURNO\" & Materia == \"LENGUA\" & Curso == 4 )$Promedio),\n",
    "       na.omit(filter(primaria_promedios,Turno == \"COMPLETO\" & Materia == \"LENGUA\" & Curso == 4 )$Promedio),\n",
    "       na.omit(filter(primaria_promedios,Turno == \"ROTATIVO\" & Materia == \"LENGUA\" & Curso == 4 )$Promedio),\n",
    "       na.omit(filter(primaria_promedios,Turno == \"DIURNO\" & Materia == \"LENGUA\" & Curso == 5 )$Promedio),\n",
    "       na.omit(filter(primaria_promedios,Turno == \"COMPLETO\" & Materia == \"LENGUA\" & Curso == 5 )$Promedio),\n",
    "       na.omit(filter(primaria_promedios,Turno == \"ROTATIVO\" & Materia == \"LENGUA\" & Curso == 5 )$Promedio),\n",
    "       na.omit(filter(primaria_promedios,Turno == \"DIURNO\" & Materia == \"LENGUA\" & Curso == 6 )$Promedio),\n",
    "       na.omit(filter(primaria_promedios,Turno == \"COMPLETO\" & Materia == \"LENGUA\" & Curso == 6 )$Promedio),\n",
    "       na.omit(filter(primaria_promedios,Turno == \"ROTATIVO\" & Materia == \"LENGUA\" & Curso == 6)$Promedio))"
   ]
  },
  {
   "cell_type": "code",
   "execution_count": 14,
   "id": "879d6d53",
   "metadata": {
    "scrolled": true
   },
   "outputs": [],
   "source": [
    "promedios_primer_ciclo_L <- as.numeric(c(primer_ciclo_mañana_L, primer_ciclo_tarde_L, primer_ciclo_otros_L))\n",
    "turno_primer_ciclo_L <- as.factor(c( rep(\"Mañana\",length(primer_ciclo_mañana_L)), \n",
    "                                     rep(\"Tarde\",length(primer_ciclo_tarde_L)),\n",
    "                                     rep(\"Otros\", length(primer_ciclo_otros_L))))\n",
    "\n",
    "promedios_turno_primer_ciclo_L <- data.frame(turno_primer_ciclo_L, promedios_primer_ciclo_L)\n",
    "\n",
    "promedios_segundo_ciclo_L <- as.numeric(c(segundo_ciclo_mañana_L, segundo_ciclo_tarde_L, segundo_ciclo_otros_L))\n",
    "turno_segundo_ciclo_L <- as.factor(c(rep(\"Mañana\",length(segundo_ciclo_mañana_L)), \n",
    "                     rep(\"Tarde\",length(segundo_ciclo_tarde_L)),\n",
    "                     rep(\"Otros\", length(segundo_ciclo_otros_L))))\n",
    "\n",
    "promedios_turno_segundo_ciclo_L <- data.frame(turno_segundo_ciclo_L, promedios_segundo_ciclo_L)"
   ]
  },
  {
   "cell_type": "code",
   "execution_count": 88,
   "id": "e027464a",
   "metadata": {
    "scrolled": true
   },
   "outputs": [
    {
     "data": {
      "text/html": [
       "<table>\n",
       "<thead><tr><th scope=col>turno_primer_ciclo_L</th><th scope=col>mean</th><th scope=col>datos</th></tr></thead>\n",
       "<tbody>\n",
       "\t<tr><td>Mañana</td><td>8.0   </td><td>1014  </td></tr>\n",
       "\t<tr><td>Otros </td><td>7.6   </td><td> 140  </td></tr>\n",
       "\t<tr><td>Tarde </td><td>8.0   </td><td>1170  </td></tr>\n",
       "</tbody>\n",
       "</table>\n"
      ],
      "text/latex": [
       "\\begin{tabular}{r|lll}\n",
       " turno\\_primer\\_ciclo\\_L & mean & datos\\\\\n",
       "\\hline\n",
       "\t Mañana & 8.0    & 1014  \\\\\n",
       "\t Otros  & 7.6    &  140  \\\\\n",
       "\t Tarde  & 8.0    & 1170  \\\\\n",
       "\\end{tabular}\n"
      ],
      "text/markdown": [
       "\n",
       "| turno_primer_ciclo_L | mean | datos |\n",
       "|---|---|---|\n",
       "| Mañana | 8.0    | 1014   |\n",
       "| Otros  | 7.6    |  140   |\n",
       "| Tarde  | 8.0    | 1170   |\n",
       "\n"
      ],
      "text/plain": [
       "  turno_primer_ciclo_L mean datos\n",
       "1 Mañana               8.0  1014 \n",
       "2 Otros                7.6   140 \n",
       "3 Tarde                8.0  1170 "
      ]
     },
     "metadata": {},
     "output_type": "display_data"
    },
    {
     "data": {
      "image/png": "[encoded data removed]",
      "text/plain": [
       "Plot with title \"Promedios de Primaria para Lengua según el Primer Turno en el departamento de Diamante\""
      ]
     },
     "metadata": {},
     "output_type": "display_data"
    }
   ],
   "source": [
    "boxplot(promedios_turno_primer_ciclo_L$promedios_primer_ciclo_L ~ promedios_turno_primer_ciclo_L$turno_primer_ciclo_L, \n",
    "        col = c(\"lightblue\", \"pink\",\"lightgreen\"), \n",
    "        ylim = c(0,11),\n",
    "        ylab = \"Promedios por Turno\", \n",
    "        xlab=\"Turno\",\n",
    "        sub=\"Fuente de elaboración propia\",\n",
    "        main=\"Promedios de Primaria para Lengua según el Turno en el departamento de Diamante\",\n",
    "        cex.main = 0.7)\n",
    "\n",
    "promedios_turno_primer_ciclo_L %>% group_by(turno_primer_ciclo_L) %>%\n",
    "summarise(mean = round(mean(promedios_primer_ciclo_L),1), datos = n())"
   ]
  },
  {
   "cell_type": "code",
   "execution_count": 49,
   "id": "89e79eb5",
   "metadata": {
    "scrolled": false
   },
   "outputs": [
    {
     "data": {
      "text/plain": [
       "                       Df Sum Sq Mean Sq F value   Pr(>F)    \n",
       "turno_primer_ciclo_L    2   22.4  11.198    9.62 6.91e-05 ***\n",
       "Residuals            2321 2701.8   1.164                     \n",
       "---\n",
       "Signif. codes:  0 '***' 0.001 '**' 0.01 '*' 0.05 '.' 0.1 ' ' 1"
      ]
     },
     "metadata": {},
     "output_type": "display_data"
    }
   ],
   "source": [
    "#Genero el modelo de ANOVA\n",
    "anova_primer_ciclo_L = aov(promedios_primer_ciclo_L ~ turno_primer_ciclo_L)\n",
    "summary(anova_primer_ciclo_L) "
   ]
  },
  {
   "cell_type": "code",
   "execution_count": 50,
   "id": "d3a29665",
   "metadata": {},
   "outputs": [
    {
     "data": {
      "text/plain": [
       "  Tukey multiple comparisons of means\n",
       "    95% family-wise confidence level\n",
       "\n",
       "Fit: aov(formula = promedios_primer_ciclo_L ~ turno_primer_ciclo_L)\n",
       "\n",
       "$turno_primer_ciclo_L\n",
       "                     diff        lwr        upr     p adj\n",
       "Otros-Mañana -0.415919977 -0.6440527 -0.1877872 0.0000589\n",
       "Tarde-Mañana -0.006640368 -0.1152034  0.1019227 0.9887199\n",
       "Tarde-Otros   0.409279609  0.1829995  0.6355597 0.0000684\n"
      ]
     },
     "metadata": {},
     "output_type": "display_data"
    }
   ],
   "source": [
    "TukeyHSD(anova_primer_ciclo_L, \"turno_primer_ciclo_L\", conf.level = .95)"
   ]
  },
  {
   "cell_type": "code",
   "execution_count": 76,
   "id": "23de3eb7",
   "metadata": {},
   "outputs": [
    {
     "data": {
      "text/plain": [
       "\n",
       "\tShapiro-Wilk normality test\n",
       "\n",
       "data:  promedios_turno_primer_ciclo_L$promedios_primer_ciclo_L[promedios_turno_primer_ciclo_L$turno_primer_ciclo_L ==     \"Mañana\"]\n",
       "W = 0.9659, p-value = 1.136e-14\n"
      ]
     },
     "metadata": {},
     "output_type": "display_data"
    },
    {
     "data": {
      "text/plain": [
       "\n",
       "\tShapiro-Wilk normality test\n",
       "\n",
       "data:  promedios_turno_primer_ciclo_L$promedios_primer_ciclo_L[promedios_turno_primer_ciclo_L$turno_primer_ciclo_L ==     \"Tarde\"]\n",
       "W = 0.96398, p-value < 2.2e-16\n"
      ]
     },
     "metadata": {},
     "output_type": "display_data"
    },
    {
     "data": {
      "text/plain": [
       "\n",
       "\tShapiro-Wilk normality test\n",
       "\n",
       "data:  promedios_turno_primer_ciclo_L$promedios_primer_ciclo_L[promedios_turno_primer_ciclo_L$turno_primer_ciclo_L ==     \"Otros\"]\n",
       "W = 0.93174, p-value = 2.715e-06\n"
      ]
     },
     "metadata": {},
     "output_type": "display_data"
    }
   ],
   "source": [
    "#Analizamos los supuestos\n",
    "shapiro.test(promedios_turno_primer_ciclo_L$promedios_primer_ciclo_L[promedios_turno_primer_ciclo_L$turno_primer_ciclo_L == \"Mañana\"])\n",
    "shapiro.test(promedios_turno_primer_ciclo_L$promedios_primer_ciclo_L[promedios_turno_primer_ciclo_L$turno_primer_ciclo_L == \"Tarde\"])\n",
    "shapiro.test(promedios_turno_primer_ciclo_L$promedios_primer_ciclo_L[promedios_turno_primer_ciclo_L$turno_primer_ciclo_L == \"Otros\"])"
   ]
  },
  {
   "cell_type": "code",
   "execution_count": 72,
   "id": "8b6163af",
   "metadata": {},
   "outputs": [
    {
     "data": {
      "text/plain": [
       "\n",
       "\tKruskal-Wallis rank sum test\n",
       "\n",
       "data:  promedios_turno_primer_ciclo_L$turno_primer_ciclo_L and promedios_turno_primer_ciclo_L$promedios_primer_ciclo_L\n",
       "Kruskal-Wallis chi-squared = 17.354, df = 12, p-value = 0.1368\n"
      ]
     },
     "metadata": {},
     "output_type": "display_data"
    }
   ],
   "source": [
    "#Test no parametrico Kruskal Wallis\n",
    "kruskal.test(promedios_turno_primer_ciclo_L$turno_primer_ciclo_L, promedios_turno_primer_ciclo_L$promedios_primer_ciclo_L)"
   ]
  },
  {
   "cell_type": "code",
   "execution_count": 73,
   "id": "a2084588",
   "metadata": {},
   "outputs": [
    {
     "data": {
      "text/plain": [
       "\n",
       "\tPairwise comparisons using Wilcoxon rank sum test \n",
       "\n",
       "data:  promedios_turno_primer_ciclo_L$promedios_primer_ciclo_L and promedios_turno_primer_ciclo_L$turno_primer_ciclo_L \n",
       "\n",
       "      Mañana  Otros  \n",
       "Otros 0.00021 -      \n",
       "Tarde 0.97580 0.00021\n",
       "\n",
       "P value adjustment method: holm "
      ]
     },
     "metadata": {},
     "output_type": "display_data"
    }
   ],
   "source": [
    "#Analisis a posteriori\n",
    "pairwise.wilcox.test(promedios_turno_primer_ciclo_L$promedios_primer_ciclo_L, promedios_turno_primer_ciclo_L$turno_primer_ciclo_L)"
   ]
  },
  {
   "cell_type": "markdown",
   "id": "7318abe6",
   "metadata": {},
   "source": [
    "# segundo turno -> 4, 5, 6"
   ]
  },
  {
   "cell_type": "code",
   "execution_count": 90,
   "id": "9392fd3a",
   "metadata": {
    "scrolled": true
   },
   "outputs": [
    {
     "data": {
      "text/html": [
       "<table>\n",
       "<thead><tr><th scope=col>turno_segundo_ciclo_L</th><th scope=col>mean</th><th scope=col>datos</th></tr></thead>\n",
       "<tbody>\n",
       "\t<tr><td>Mañana</td><td>8.0   </td><td>1156  </td></tr>\n",
       "\t<tr><td>Otros </td><td>7.6   </td><td> 140  </td></tr>\n",
       "\t<tr><td>Tarde </td><td>8.0   </td><td> 770  </td></tr>\n",
       "</tbody>\n",
       "</table>\n"
      ],
      "text/latex": [
       "\\begin{tabular}{r|lll}\n",
       " turno\\_segundo\\_ciclo\\_L & mean & datos\\\\\n",
       "\\hline\n",
       "\t Mañana & 8.0    & 1156  \\\\\n",
       "\t Otros  & 7.6    &  140  \\\\\n",
       "\t Tarde  & 8.0    &  770  \\\\\n",
       "\\end{tabular}\n"
      ],
      "text/markdown": [
       "\n",
       "| turno_segundo_ciclo_L | mean | datos |\n",
       "|---|---|---|\n",
       "| Mañana | 8.0    | 1156   |\n",
       "| Otros  | 7.6    |  140   |\n",
       "| Tarde  | 8.0    |  770   |\n",
       "\n"
      ],
      "text/plain": [
       "  turno_segundo_ciclo_L mean datos\n",
       "1 Mañana                8.0  1156 \n",
       "2 Otros                 7.6   140 \n",
       "3 Tarde                 8.0   770 "
      ]
     },
     "metadata": {},
     "output_type": "display_data"
    },
    {
     "data": {
      "image/png": "[encoded data removed]",
      "text/plain": [
       "Plot with title \"Promedios de Primaria para Lengua según el Segundo Turno en el departamento de Diamante\""
      ]
     },
     "metadata": {},
     "output_type": "display_data"
    }
   ],
   "source": [
    "boxplot(promedios_turno_segundo_ciclo_L$promedios_segundo_ciclo_L ~ promedios_turno_segundo_ciclo_L$turno_segundo_ciclo_L, \n",
    "        col = c(\"lightblue\", \"pink\",\"lightgreen\"), \n",
    "        ylim = c(0,11),\n",
    "        ylab = \"Promedios por Turno\", \n",
    "        xlab=\"Turno\",\n",
    "        sub=\"Fuente de elaboración propia\",\n",
    "        main=\"Promedios de Primaria para Lengua según el Segundo Turno en el departamento de Diamante\",\n",
    "        cex.main = 0.7)\n",
    "\n",
    "promedios_turno_segundo_ciclo_L %>% group_by(turno_segundo_ciclo_L) %>%\n",
    "summarise(mean = round(mean(promedios_segundo_ciclo_L),1), datos = n())"
   ]
  },
  {
   "cell_type": "code",
   "execution_count": 42,
   "id": "e2b6467c",
   "metadata": {},
   "outputs": [
    {
     "data": {
      "text/plain": [
       "                        Df Sum Sq Mean Sq F value   Pr(>F)    \n",
       "turno_segundo_ciclo_L    2     19   9.506   7.785 0.000428 ***\n",
       "Residuals             2063   2519   1.221                     \n",
       "---\n",
       "Signif. codes:  0 '***' 0.001 '**' 0.01 '*' 0.05 '.' 0.1 ' ' 1"
      ]
     },
     "metadata": {},
     "output_type": "display_data"
    }
   ],
   "source": [
    "#Genero el modelo de ANOVA\n",
    "anova_segundo_ciclo_L = aov( promedios_segundo_ciclo_L ~ turno_segundo_ciclo_L)\n",
    "summary(anova_segundo_ciclo_L) "
   ]
  },
  {
   "cell_type": "code",
   "execution_count": 51,
   "id": "446861d6",
   "metadata": {},
   "outputs": [
    {
     "data": {
      "text/plain": [
       "  Tukey multiple comparisons of means\n",
       "    95% family-wise confidence level\n",
       "\n",
       "Fit: aov(formula = promedios_segundo_ciclo_L ~ turno_segundo_ciclo_L)\n",
       "\n",
       "$turno_segundo_ciclo_L\n",
       "                     diff        lwr        upr     p adj\n",
       "Otros-Mañana -0.377385072 -0.6093107 -0.1454594 0.0004096\n",
       "Tarde-Mañana  0.009627915 -0.1109293  0.1301851 0.9808446\n",
       "Tarde-Otros   0.387012987  0.1488904  0.6251355 0.0004170\n"
      ]
     },
     "metadata": {},
     "output_type": "display_data"
    }
   ],
   "source": [
    "TukeyHSD(anova_segundo_ciclo_L, \"turno_segundo_ciclo_L\", conf.level = .95)"
   ]
  },
  {
   "cell_type": "code",
   "execution_count": 80,
   "id": "daab0ba6",
   "metadata": {},
   "outputs": [
    {
     "data": {
      "text/plain": [
       "\n",
       "\tShapiro-Wilk normality test\n",
       "\n",
       "data:  promedios_turno_segundo_ciclo_L$promedios_segundo_ciclo_L[promedios_turno_segundo_ciclo_L$turno_segundo_ciclo_L ==     \"Mañana\"]\n",
       "W = 0.96362, p-value < 2.2e-16\n"
      ]
     },
     "metadata": {},
     "output_type": "display_data"
    },
    {
     "data": {
      "text/plain": [
       "\n",
       "\tShapiro-Wilk normality test\n",
       "\n",
       "data:  promedios_turno_segundo_ciclo_L$promedios_segundo_ciclo_L[promedios_turno_segundo_ciclo_L$turno_segundo_ciclo_L ==     \"Tarde\"]\n",
       "W = 0.96296, p-value = 4.791e-13\n"
      ]
     },
     "metadata": {},
     "output_type": "display_data"
    },
    {
     "data": {
      "text/plain": [
       "\n",
       "\tShapiro-Wilk normality test\n",
       "\n",
       "data:  promedios_turno_segundo_ciclo_L$promedios_segundo_ciclo_L[promedios_turno_segundo_ciclo_L$turno_segundo_ciclo_L ==     \"Otros\"]\n",
       "W = 0.93174, p-value = 2.715e-06\n"
      ]
     },
     "metadata": {},
     "output_type": "display_data"
    }
   ],
   "source": [
    "#Analizamos los supuestos\n",
    "shapiro.test(promedios_turno_segundo_ciclo_L$promedios_segundo_ciclo_L[promedios_turno_segundo_ciclo_L$turno_segundo_ciclo_L == \"Mañana\"])\n",
    "shapiro.test(promedios_turno_segundo_ciclo_L$promedios_segundo_ciclo_L[promedios_turno_segundo_ciclo_L$turno_segundo_ciclo_L == \"Tarde\"])\n",
    "shapiro.test(promedios_turno_segundo_ciclo_L$promedios_segundo_ciclo_L[promedios_turno_segundo_ciclo_L$turno_segundo_ciclo_L == \"Otros\"])\n"
   ]
  },
  {
   "cell_type": "code",
   "execution_count": 81,
   "id": "02ee9bd7",
   "metadata": {},
   "outputs": [
    {
     "data": {
      "text/plain": [
       "\n",
       "\tKruskal-Wallis rank sum test\n",
       "\n",
       "data:  promedios_turno_segundo_ciclo_L$turno_segundo_ciclo_L and promedios_turno_segundo_ciclo_L$promedios_segundo_ciclo_L\n",
       "Kruskal-Wallis chi-squared = 14.755, df = 12, p-value = 0.2551\n"
      ]
     },
     "metadata": {},
     "output_type": "display_data"
    }
   ],
   "source": [
    "#Test no parametrico Kruskal Wallis\n",
    "kruskal.test(promedios_turno_segundo_ciclo_L$turno_segundo_ciclo_L, promedios_turno_segundo_ciclo_L$promedios_segundo_ciclo_L)"
   ]
  },
  {
   "cell_type": "code",
   "execution_count": 82,
   "id": "65caac57",
   "metadata": {},
   "outputs": [
    {
     "data": {
      "text/plain": [
       "\n",
       "\tPairwise comparisons using Wilcoxon rank sum test \n",
       "\n",
       "data:  promedios_turno_segundo_ciclo_L$promedios_segundo_ciclo_L and promedios_turno_segundo_ciclo_L$turno_segundo_ciclo_L \n",
       "\n",
       "      Mañana  Otros  \n",
       "Otros 0.00081 -      \n",
       "Tarde 0.91938 0.00081\n",
       "\n",
       "P value adjustment method: holm "
      ]
     },
     "metadata": {},
     "output_type": "display_data"
    }
   ],
   "source": [
    "#Analisis a posteriori\n",
    "pairwise.wilcox.test(promedios_turno_segundo_ciclo_L$promedios_segundo_ciclo_L, promedios_turno_segundo_ciclo_L$turno_segundo_ciclo_L)"
   ]
  },
  {
   "cell_type": "markdown",
   "id": "c9753502",
   "metadata": {},
   "source": [
    "# SECUNDARIA"
   ]
  },
  {
   "cell_type": "code",
   "execution_count": 99,
   "id": "3f7ed4d6",
   "metadata": {},
   "outputs": [],
   "source": [
    "#----------------------------------- PRIMER CICLO--------------------------\n",
    "sec_primer_ciclo_mañana_L <- c(na.omit(filter(secundaria_promedios, Turno == \"MAÑANA\" & Materia == \"LENGUA Y LITERATURA\" & Curso == 1 )$Promedio),\n",
    "                  na.omit(filter(secundaria_promedios, Turno == \"MAÑANA\" & Materia == \"LENGUA Y LITERATURA\" & Curso == 2 )$Promedio),\n",
    "                  na.omit(filter(secundaria_promedios, Turno == \"MAÑANA\" & Materia == \"LENGUA Y LITERATURA\" & Curso == 3 )$Promedio))\n",
    "\n",
    "sec_primer_ciclo_tarde_L <- c(na.omit(filter(secundaria_promedios, Turno == \"TARDE\" & Materia == \"LENGUA Y LITERATURA\" & Curso == 1 )$Promedio),\n",
    "                  na.omit(filter(secundaria_promedios, Turno == \"TARDE\" & Materia == \"LENGUA Y LITERATURA\" & Curso == 2 )$Promedio),\n",
    "                  na.omit(filter(secundaria_promedios, Turno == \"TARDE\" & Materia == \"LENGUA Y LITERATURA\" & Curso == 3 )$Promedio))\n",
    "\n",
    "sec_primer_ciclo_otros_L <- c(na.omit(filter(secundaria_promedios,Turno == \"DIURNO\" & Materia == \"LENGUA Y LITERATURA\" & Curso == 1 )$Promedio),\n",
    "       na.omit(filter(secundaria_promedios,Turno == \"ROTATIVO\" & Materia == \"LENGUA Y LITERATURA\" & Curso == 1 )$Promedio),\n",
    "       na.omit(filter(secundaria_promedios,Turno == \"DIURNO\" & Materia == \"LENGUA Y LITERATURA\" & Curso == 2 )$Promedio),\n",
    "       na.omit(filter(secundaria_promedios,Turno == \"ROTATIVO\" & Materia == \"LENGUA\" & Curso == 2 )$Promedio),\n",
    "       na.omit(filter(secundaria_promedios,Turno == \"DIURNO\" & Materia == \"LENGUA Y LITERATURA\" & Curso == 3 )$Promedio),\n",
    "       na.omit(filter(secundaria_promedios,Turno == \"ROTATIVO\" & Materia == \"LENGUA Y LITERATURA\" & Curso == 3)$Promedio))\n",
    "\n",
    "#----------------------------------- SEGUNDO CICLO--------------------------\n",
    "sec_segundo_ciclo_mañana_L <- c(na.omit(filter(secundaria_promedios, Turno == \"MAÑANA\" & Materia == \"LENGUA Y LITERATURA\" & Curso == 4  )$Promedio),\n",
    "                  na.omit(filter(secundaria_promedios, Turno == \"MAÑANA\" & Materia == \"LITERATURA LATINOAMERICANA\" & Curso == 5 )$Promedio),\n",
    "                  na.omit(filter(secundaria_promedios, Turno == \"MAÑANA\" & Materia == \"LITERATURA ARGENTINA\" & Curso == 6 )$Promedio))\n",
    "\n",
    "sec_segundo_ciclo_tarde_L <- c(na.omit(filter(secundaria_promedios, Turno == \"TARDE\" & Materia == \"LENGUA Y LITERATURA\" & Curso == 4  )$Promedio),\n",
    "                  na.omit(filter(secundaria_promedios, Turno == \"TARDE\" & Materia == \"LITERATURA LATINOAMERICANA\" & Curso == 5 )$Promedio),\n",
    "                  na.omit(filter(secundaria_promedios, Turno == \"TARDE\" & Materia == \"LITERATURA ARGENTINA\" & Curso == 6 )$Promedio))\n",
    "\n",
    "sec_segundo_ciclo_otros_L <- primer_ciclo_otros_L <- c(na.omit(filter(secundaria_promedios,Turno == \"DIURNO\" & Materia == \"LENGUA Y LITERATURA\" & Curso == 4 )$Promedio),\n",
    "       na.omit(filter(secundaria_promedios,Turno == \"ROTATIVO\" & Materia == \"LENGUA Y LITERATURA\" & Curso == 4 )$Promedio),\n",
    "       na.omit(filter(secundaria_promedios,Turno == \"DIURNO\" & Materia == \"LITERATURA LATINOAMERICANA\" & Curso == 5 )$Promedio),\n",
    "       na.omit(filter(secundaria_promedios,Turno == \"ROTATIVO\" & Materia == \"LITERATURA LATINOAMERICANA\" & Curso == 5 )$Promedio),\n",
    "       na.omit(filter(secundaria_promedios,Turno == \"DIURNO\" & Materia == \"LITERATURA ARGENTINA\" & Curso == 6 )$Promedio),\n",
    "       na.omit(filter(secundaria_promedios,Turno == \"ROTATIVO\" & Materia == \"LITERATURA ARGENTINA\" & Curso == 6)$Promedio))"
   ]
  },
  {
   "cell_type": "code",
   "execution_count": 100,
   "id": "5f18c182",
   "metadata": {
    "scrolled": true
   },
   "outputs": [
    {
     "data": {
      "text/html": [
       "<table>\n",
       "<thead><tr><th scope=col>sec_turno_primer_ciclo_L</th><th scope=col>sec_promedios_primer_ciclo_L</th></tr></thead>\n",
       "<tbody>\n",
       "\t<tr><td>Mañana  </td><td>6.000000</td></tr>\n",
       "\t<tr><td>Mañana  </td><td>5.000000</td></tr>\n",
       "\t<tr><td>Mañana  </td><td>8.000000</td></tr>\n",
       "\t<tr><td>Mañana  </td><td>5.000000</td></tr>\n",
       "\t<tr><td>Mañana  </td><td>4.666667</td></tr>\n",
       "\t<tr><td>Mañana  </td><td>5.000000</td></tr>\n",
       "\t<tr><td>Mañana  </td><td>4.333333</td></tr>\n",
       "\t<tr><td>Mañana  </td><td>5.666667</td></tr>\n",
       "\t<tr><td>Mañana  </td><td>6.333333</td></tr>\n",
       "\t<tr><td>Mañana  </td><td>4.000000</td></tr>\n",
       "\t<tr><td>Mañana  </td><td>6.000000</td></tr>\n",
       "\t<tr><td>Mañana  </td><td>6.000000</td></tr>\n",
       "\t<tr><td>Mañana  </td><td>7.000000</td></tr>\n",
       "\t<tr><td>Mañana  </td><td>6.000000</td></tr>\n",
       "\t<tr><td>Mañana  </td><td>5.000000</td></tr>\n",
       "\t<tr><td>Mañana  </td><td>5.333333</td></tr>\n",
       "\t<tr><td>Mañana  </td><td>5.000000</td></tr>\n",
       "\t<tr><td>Mañana  </td><td>7.000000</td></tr>\n",
       "\t<tr><td>Mañana  </td><td>4.666667</td></tr>\n",
       "\t<tr><td>Mañana  </td><td>7.000000</td></tr>\n",
       "\t<tr><td>Mañana  </td><td>5.333333</td></tr>\n",
       "\t<tr><td>Mañana  </td><td>5.333333</td></tr>\n",
       "\t<tr><td>Mañana  </td><td>5.666667</td></tr>\n",
       "\t<tr><td>Mañana  </td><td>5.333333</td></tr>\n",
       "\t<tr><td>Mañana  </td><td>5.666667</td></tr>\n",
       "\t<tr><td>Mañana  </td><td>5.333333</td></tr>\n",
       "\t<tr><td>Mañana  </td><td>5.333333</td></tr>\n",
       "\t<tr><td>Mañana  </td><td>6.000000</td></tr>\n",
       "\t<tr><td>Mañana  </td><td>7.000000</td></tr>\n",
       "\t<tr><td>Mañana  </td><td>6.000000</td></tr>\n",
       "\t<tr><td>...</td><td>...</td></tr>\n",
       "\t<tr><td>Tarde   </td><td>9.000000</td></tr>\n",
       "\t<tr><td>Tarde   </td><td>8.333333</td></tr>\n",
       "\t<tr><td>Tarde   </td><td>8.333333</td></tr>\n",
       "\t<tr><td>Tarde   </td><td>8.333333</td></tr>\n",
       "\t<tr><td>Tarde   </td><td>8.333333</td></tr>\n",
       "\t<tr><td>Tarde   </td><td>8.333333</td></tr>\n",
       "\t<tr><td>Tarde   </td><td>8.333333</td></tr>\n",
       "\t<tr><td>Tarde   </td><td>8.333333</td></tr>\n",
       "\t<tr><td>Tarde   </td><td>8.333333</td></tr>\n",
       "\t<tr><td>Tarde   </td><td>9.333333</td></tr>\n",
       "\t<tr><td>Tarde   </td><td>8.333333</td></tr>\n",
       "\t<tr><td>Tarde   </td><td>6.000000</td></tr>\n",
       "\t<tr><td>Tarde   </td><td>8.000000</td></tr>\n",
       "\t<tr><td>Tarde   </td><td>5.333333</td></tr>\n",
       "\t<tr><td>Tarde   </td><td>9.000000</td></tr>\n",
       "\t<tr><td>Tarde   </td><td>7.333333</td></tr>\n",
       "\t<tr><td>Tarde   </td><td>7.000000</td></tr>\n",
       "\t<tr><td>Tarde   </td><td>6.666667</td></tr>\n",
       "\t<tr><td>Tarde   </td><td>8.333333</td></tr>\n",
       "\t<tr><td>Tarde   </td><td>7.000000</td></tr>\n",
       "\t<tr><td>Tarde   </td><td>5.333333</td></tr>\n",
       "\t<tr><td>Tarde   </td><td>7.333333</td></tr>\n",
       "\t<tr><td>Tarde   </td><td>6.000000</td></tr>\n",
       "\t<tr><td>Tarde   </td><td>6.000000</td></tr>\n",
       "\t<tr><td>Tarde   </td><td>7.666667</td></tr>\n",
       "\t<tr><td>Tarde   </td><td>6.666667</td></tr>\n",
       "\t<tr><td>Tarde   </td><td>6.333333</td></tr>\n",
       "\t<tr><td>Tarde   </td><td>8.333333</td></tr>\n",
       "\t<tr><td>Tarde   </td><td>6.666667</td></tr>\n",
       "\t<tr><td>Tarde   </td><td>6.000000</td></tr>\n",
       "</tbody>\n",
       "</table>\n"
      ],
      "text/latex": [
       "\\begin{tabular}{r|ll}\n",
       " sec\\_turno\\_primer\\_ciclo\\_L & sec\\_promedios\\_primer\\_ciclo\\_L\\\\\n",
       "\\hline\n",
       "\t Mañana   & 6.000000\\\\\n",
       "\t Mañana   & 5.000000\\\\\n",
       "\t Mañana   & 8.000000\\\\\n",
       "\t Mañana   & 5.000000\\\\\n",
       "\t Mañana   & 4.666667\\\\\n",
       "\t Mañana   & 5.000000\\\\\n",
       "\t Mañana   & 4.333333\\\\\n",
       "\t Mañana   & 5.666667\\\\\n",
       "\t Mañana   & 6.333333\\\\\n",
       "\t Mañana   & 4.000000\\\\\n",
       "\t Mañana   & 6.000000\\\\\n",
       "\t Mañana   & 6.000000\\\\\n",
       "\t Mañana   & 7.000000\\\\\n",
       "\t Mañana   & 6.000000\\\\\n",
       "\t Mañana   & 5.000000\\\\\n",
       "\t Mañana   & 5.333333\\\\\n",
       "\t Mañana   & 5.000000\\\\\n",
       "\t Mañana   & 7.000000\\\\\n",
       "\t Mañana   & 4.666667\\\\\n",
       "\t Mañana   & 7.000000\\\\\n",
       "\t Mañana   & 5.333333\\\\\n",
       "\t Mañana   & 5.333333\\\\\n",
       "\t Mañana   & 5.666667\\\\\n",
       "\t Mañana   & 5.333333\\\\\n",
       "\t Mañana   & 5.666667\\\\\n",
       "\t Mañana   & 5.333333\\\\\n",
       "\t Mañana   & 5.333333\\\\\n",
       "\t Mañana   & 6.000000\\\\\n",
       "\t Mañana   & 7.000000\\\\\n",
       "\t Mañana   & 6.000000\\\\\n",
       "\t ... & ...\\\\\n",
       "\t Tarde    & 9.000000\\\\\n",
       "\t Tarde    & 8.333333\\\\\n",
       "\t Tarde    & 8.333333\\\\\n",
       "\t Tarde    & 8.333333\\\\\n",
       "\t Tarde    & 8.333333\\\\\n",
       "\t Tarde    & 8.333333\\\\\n",
       "\t Tarde    & 8.333333\\\\\n",
       "\t Tarde    & 8.333333\\\\\n",
       "\t Tarde    & 8.333333\\\\\n",
       "\t Tarde    & 9.333333\\\\\n",
       "\t Tarde    & 8.333333\\\\\n",
       "\t Tarde    & 6.000000\\\\\n",
       "\t Tarde    & 8.000000\\\\\n",
       "\t Tarde    & 5.333333\\\\\n",
       "\t Tarde    & 9.000000\\\\\n",
       "\t Tarde    & 7.333333\\\\\n",
       "\t Tarde    & 7.000000\\\\\n",
       "\t Tarde    & 6.666667\\\\\n",
       "\t Tarde    & 8.333333\\\\\n",
       "\t Tarde    & 7.000000\\\\\n",
       "\t Tarde    & 5.333333\\\\\n",
       "\t Tarde    & 7.333333\\\\\n",
       "\t Tarde    & 6.000000\\\\\n",
       "\t Tarde    & 6.000000\\\\\n",
       "\t Tarde    & 7.666667\\\\\n",
       "\t Tarde    & 6.666667\\\\\n",
       "\t Tarde    & 6.333333\\\\\n",
       "\t Tarde    & 8.333333\\\\\n",
       "\t Tarde    & 6.666667\\\\\n",
       "\t Tarde    & 6.000000\\\\\n",
       "\\end{tabular}\n"
      ],
      "text/markdown": [
       "\n",
       "| sec_turno_primer_ciclo_L | sec_promedios_primer_ciclo_L |\n",
       "|---|---|\n",
       "| Mañana   | 6.000000 |\n",
       "| Mañana   | 5.000000 |\n",
       "| Mañana   | 8.000000 |\n",
       "| Mañana   | 5.000000 |\n",
       "| Mañana   | 4.666667 |\n",
       "| Mañana   | 5.000000 |\n",
       "| Mañana   | 4.333333 |\n",
       "| Mañana   | 5.666667 |\n",
       "| Mañana   | 6.333333 |\n",
       "| Mañana   | 4.000000 |\n",
       "| Mañana   | 6.000000 |\n",
       "| Mañana   | 6.000000 |\n",
       "| Mañana   | 7.000000 |\n",
       "| Mañana   | 6.000000 |\n",
       "| Mañana   | 5.000000 |\n",
       "| Mañana   | 5.333333 |\n",
       "| Mañana   | 5.000000 |\n",
       "| Mañana   | 7.000000 |\n",
       "| Mañana   | 4.666667 |\n",
       "| Mañana   | 7.000000 |\n",
       "| Mañana   | 5.333333 |\n",
       "| Mañana   | 5.333333 |\n",
       "| Mañana   | 5.666667 |\n",
       "| Mañana   | 5.333333 |\n",
       "| Mañana   | 5.666667 |\n",
       "| Mañana   | 5.333333 |\n",
       "| Mañana   | 5.333333 |\n",
       "| Mañana   | 6.000000 |\n",
       "| Mañana   | 7.000000 |\n",
       "| Mañana   | 6.000000 |\n",
       "| ... | ... |\n",
       "| Tarde    | 9.000000 |\n",
       "| Tarde    | 8.333333 |\n",
       "| Tarde    | 8.333333 |\n",
       "| Tarde    | 8.333333 |\n",
       "| Tarde    | 8.333333 |\n",
       "| Tarde    | 8.333333 |\n",
       "| Tarde    | 8.333333 |\n",
       "| Tarde    | 8.333333 |\n",
       "| Tarde    | 8.333333 |\n",
       "| Tarde    | 9.333333 |\n",
       "| Tarde    | 8.333333 |\n",
       "| Tarde    | 6.000000 |\n",
       "| Tarde    | 8.000000 |\n",
       "| Tarde    | 5.333333 |\n",
       "| Tarde    | 9.000000 |\n",
       "| Tarde    | 7.333333 |\n",
       "| Tarde    | 7.000000 |\n",
       "| Tarde    | 6.666667 |\n",
       "| Tarde    | 8.333333 |\n",
       "| Tarde    | 7.000000 |\n",
       "| Tarde    | 5.333333 |\n",
       "| Tarde    | 7.333333 |\n",
       "| Tarde    | 6.000000 |\n",
       "| Tarde    | 6.000000 |\n",
       "| Tarde    | 7.666667 |\n",
       "| Tarde    | 6.666667 |\n",
       "| Tarde    | 6.333333 |\n",
       "| Tarde    | 8.333333 |\n",
       "| Tarde    | 6.666667 |\n",
       "| Tarde    | 6.000000 |\n",
       "\n"
      ],
      "text/plain": [
       "     sec_turno_primer_ciclo_L sec_promedios_primer_ciclo_L\n",
       "1    Mañana                   6.000000                    \n",
       "2    Mañana                   5.000000                    \n",
       "3    Mañana                   8.000000                    \n",
       "4    Mañana                   5.000000                    \n",
       "5    Mañana                   4.666667                    \n",
       "6    Mañana                   5.000000                    \n",
       "7    Mañana                   4.333333                    \n",
       "8    Mañana                   5.666667                    \n",
       "9    Mañana                   6.333333                    \n",
       "10   Mañana                   4.000000                    \n",
       "11   Mañana                   6.000000                    \n",
       "12   Mañana                   6.000000                    \n",
       "13   Mañana                   7.000000                    \n",
       "14   Mañana                   6.000000                    \n",
       "15   Mañana                   5.000000                    \n",
       "16   Mañana                   5.333333                    \n",
       "17   Mañana                   5.000000                    \n",
       "18   Mañana                   7.000000                    \n",
       "19   Mañana                   4.666667                    \n",
       "20   Mañana                   7.000000                    \n",
       "21   Mañana                   5.333333                    \n",
       "22   Mañana                   5.333333                    \n",
       "23   Mañana                   5.666667                    \n",
       "24   Mañana                   5.333333                    \n",
       "25   Mañana                   5.666667                    \n",
       "26   Mañana                   5.333333                    \n",
       "27   Mañana                   5.333333                    \n",
       "28   Mañana                   6.000000                    \n",
       "29   Mañana                   7.000000                    \n",
       "30   Mañana                   6.000000                    \n",
       "...  ...                      ...                         \n",
       "1097 Tarde                    9.000000                    \n",
       "1098 Tarde                    8.333333                    \n",
       "1099 Tarde                    8.333333                    \n",
       "1100 Tarde                    8.333333                    \n",
       "1101 Tarde                    8.333333                    \n",
       "1102 Tarde                    8.333333                    \n",
       "1103 Tarde                    8.333333                    \n",
       "1104 Tarde                    8.333333                    \n",
       "1105 Tarde                    8.333333                    \n",
       "1106 Tarde                    9.333333                    \n",
       "1107 Tarde                    8.333333                    \n",
       "1108 Tarde                    6.000000                    \n",
       "1109 Tarde                    8.000000                    \n",
       "1110 Tarde                    5.333333                    \n",
       "1111 Tarde                    9.000000                    \n",
       "1112 Tarde                    7.333333                    \n",
       "1113 Tarde                    7.000000                    \n",
       "1114 Tarde                    6.666667                    \n",
       "1115 Tarde                    8.333333                    \n",
       "1116 Tarde                    7.000000                    \n",
       "1117 Tarde                    5.333333                    \n",
       "1118 Tarde                    7.333333                    \n",
       "1119 Tarde                    6.000000                    \n",
       "1120 Tarde                    6.000000                    \n",
       "1121 Tarde                    7.666667                    \n",
       "1122 Tarde                    6.666667                    \n",
       "1123 Tarde                    6.333333                    \n",
       "1124 Tarde                    8.333333                    \n",
       "1125 Tarde                    6.666667                    \n",
       "1126 Tarde                    6.000000                    "
      ]
     },
     "metadata": {},
     "output_type": "display_data"
    },
    {
     "data": {
      "text/html": [
       "<table>\n",
       "<thead><tr><th scope=col>sec_turno_segundo_ciclo_L</th><th scope=col>sec_promedios_segundo_ciclo_L</th></tr></thead>\n",
       "<tbody>\n",
       "\t<tr><td>Mañana  </td><td>4.666667</td></tr>\n",
       "\t<tr><td>Mañana  </td><td>5.000000</td></tr>\n",
       "\t<tr><td>Mañana  </td><td>9.000000</td></tr>\n",
       "\t<tr><td>Mañana  </td><td>6.333333</td></tr>\n",
       "\t<tr><td>Mañana  </td><td>6.000000</td></tr>\n",
       "\t<tr><td>Mañana  </td><td>8.333333</td></tr>\n",
       "\t<tr><td>Mañana  </td><td>5.000000</td></tr>\n",
       "\t<tr><td>Mañana  </td><td>7.666667</td></tr>\n",
       "\t<tr><td>Mañana  </td><td>7.333333</td></tr>\n",
       "\t<tr><td>Mañana  </td><td>6.000000</td></tr>\n",
       "\t<tr><td>Mañana  </td><td>6.333333</td></tr>\n",
       "\t<tr><td>Mañana  </td><td>4.666667</td></tr>\n",
       "\t<tr><td>Mañana  </td><td>9.000000</td></tr>\n",
       "\t<tr><td>Mañana  </td><td>7.333333</td></tr>\n",
       "\t<tr><td>Mañana  </td><td>5.000000</td></tr>\n",
       "\t<tr><td>Mañana  </td><td>6.333333</td></tr>\n",
       "\t<tr><td>Mañana  </td><td>5.000000</td></tr>\n",
       "\t<tr><td>Mañana  </td><td>4.333333</td></tr>\n",
       "\t<tr><td>Mañana  </td><td>6.333333</td></tr>\n",
       "\t<tr><td>Mañana  </td><td>5.333333</td></tr>\n",
       "\t<tr><td>Mañana  </td><td>5.000000</td></tr>\n",
       "\t<tr><td>Mañana  </td><td>4.666667</td></tr>\n",
       "\t<tr><td>Mañana  </td><td>6.333333</td></tr>\n",
       "\t<tr><td>Mañana  </td><td>9.333333</td></tr>\n",
       "\t<tr><td>Mañana  </td><td>4.666667</td></tr>\n",
       "\t<tr><td>Mañana  </td><td>6.000000</td></tr>\n",
       "\t<tr><td>Mañana  </td><td>7.333333</td></tr>\n",
       "\t<tr><td>Mañana  </td><td>5.000000</td></tr>\n",
       "\t<tr><td>Mañana  </td><td>8.000000</td></tr>\n",
       "\t<tr><td>Mañana  </td><td>6.000000</td></tr>\n",
       "\t<tr><td>...</td><td>...</td></tr>\n",
       "\t<tr><td>Tarde    </td><td> 6.333333</td></tr>\n",
       "\t<tr><td>Tarde    </td><td> 8.666667</td></tr>\n",
       "\t<tr><td>Tarde    </td><td> 8.000000</td></tr>\n",
       "\t<tr><td>Tarde    </td><td> 9.333333</td></tr>\n",
       "\t<tr><td>Tarde    </td><td> 8.333333</td></tr>\n",
       "\t<tr><td>Tarde    </td><td> 8.666667</td></tr>\n",
       "\t<tr><td>Tarde    </td><td>10.000000</td></tr>\n",
       "\t<tr><td>Tarde    </td><td> 7.666667</td></tr>\n",
       "\t<tr><td>Tarde    </td><td> 6.666667</td></tr>\n",
       "\t<tr><td>Tarde    </td><td> 9.000000</td></tr>\n",
       "\t<tr><td>Tarde    </td><td> 7.000000</td></tr>\n",
       "\t<tr><td>Tarde    </td><td>10.000000</td></tr>\n",
       "\t<tr><td>Tarde    </td><td> 8.666667</td></tr>\n",
       "\t<tr><td>Tarde    </td><td> 9.000000</td></tr>\n",
       "\t<tr><td>Tarde    </td><td> 8.666667</td></tr>\n",
       "\t<tr><td>Tarde    </td><td> 9.666667</td></tr>\n",
       "\t<tr><td>Tarde    </td><td> 5.666667</td></tr>\n",
       "\t<tr><td>Tarde    </td><td> 8.000000</td></tr>\n",
       "\t<tr><td>Tarde    </td><td> 7.666667</td></tr>\n",
       "\t<tr><td>Tarde    </td><td> 7.000000</td></tr>\n",
       "\t<tr><td>Tarde    </td><td> 7.000000</td></tr>\n",
       "\t<tr><td>Tarde    </td><td> 7.666667</td></tr>\n",
       "\t<tr><td>Tarde    </td><td> 8.666667</td></tr>\n",
       "\t<tr><td>Tarde    </td><td> 9.000000</td></tr>\n",
       "\t<tr><td>Tarde    </td><td> 7.666667</td></tr>\n",
       "\t<tr><td>Tarde    </td><td> 9.000000</td></tr>\n",
       "\t<tr><td>Tarde    </td><td> 8.333333</td></tr>\n",
       "\t<tr><td>Tarde    </td><td> 9.000000</td></tr>\n",
       "\t<tr><td>Tarde    </td><td> 6.666667</td></tr>\n",
       "\t<tr><td>Tarde    </td><td> 9.000000</td></tr>\n",
       "</tbody>\n",
       "</table>\n"
      ],
      "text/latex": [
       "\\begin{tabular}{r|ll}\n",
       " sec\\_turno\\_segundo\\_ciclo\\_L & sec\\_promedios\\_segundo\\_ciclo\\_L\\\\\n",
       "\\hline\n",
       "\t Mañana   & 4.666667\\\\\n",
       "\t Mañana   & 5.000000\\\\\n",
       "\t Mañana   & 9.000000\\\\\n",
       "\t Mañana   & 6.333333\\\\\n",
       "\t Mañana   & 6.000000\\\\\n",
       "\t Mañana   & 8.333333\\\\\n",
       "\t Mañana   & 5.000000\\\\\n",
       "\t Mañana   & 7.666667\\\\\n",
       "\t Mañana   & 7.333333\\\\\n",
       "\t Mañana   & 6.000000\\\\\n",
       "\t Mañana   & 6.333333\\\\\n",
       "\t Mañana   & 4.666667\\\\\n",
       "\t Mañana   & 9.000000\\\\\n",
       "\t Mañana   & 7.333333\\\\\n",
       "\t Mañana   & 5.000000\\\\\n",
       "\t Mañana   & 6.333333\\\\\n",
       "\t Mañana   & 5.000000\\\\\n",
       "\t Mañana   & 4.333333\\\\\n",
       "\t Mañana   & 6.333333\\\\\n",
       "\t Mañana   & 5.333333\\\\\n",
       "\t Mañana   & 5.000000\\\\\n",
       "\t Mañana   & 4.666667\\\\\n",
       "\t Mañana   & 6.333333\\\\\n",
       "\t Mañana   & 9.333333\\\\\n",
       "\t Mañana   & 4.666667\\\\\n",
       "\t Mañana   & 6.000000\\\\\n",
       "\t Mañana   & 7.333333\\\\\n",
       "\t Mañana   & 5.000000\\\\\n",
       "\t Mañana   & 8.000000\\\\\n",
       "\t Mañana   & 6.000000\\\\\n",
       "\t ... & ...\\\\\n",
       "\t Tarde     &  6.333333\\\\\n",
       "\t Tarde     &  8.666667\\\\\n",
       "\t Tarde     &  8.000000\\\\\n",
       "\t Tarde     &  9.333333\\\\\n",
       "\t Tarde     &  8.333333\\\\\n",
       "\t Tarde     &  8.666667\\\\\n",
       "\t Tarde     & 10.000000\\\\\n",
       "\t Tarde     &  7.666667\\\\\n",
       "\t Tarde     &  6.666667\\\\\n",
       "\t Tarde     &  9.000000\\\\\n",
       "\t Tarde     &  7.000000\\\\\n",
       "\t Tarde     & 10.000000\\\\\n",
       "\t Tarde     &  8.666667\\\\\n",
       "\t Tarde     &  9.000000\\\\\n",
       "\t Tarde     &  8.666667\\\\\n",
       "\t Tarde     &  9.666667\\\\\n",
       "\t Tarde     &  5.666667\\\\\n",
       "\t Tarde     &  8.000000\\\\\n",
       "\t Tarde     &  7.666667\\\\\n",
       "\t Tarde     &  7.000000\\\\\n",
       "\t Tarde     &  7.000000\\\\\n",
       "\t Tarde     &  7.666667\\\\\n",
       "\t Tarde     &  8.666667\\\\\n",
       "\t Tarde     &  9.000000\\\\\n",
       "\t Tarde     &  7.666667\\\\\n",
       "\t Tarde     &  9.000000\\\\\n",
       "\t Tarde     &  8.333333\\\\\n",
       "\t Tarde     &  9.000000\\\\\n",
       "\t Tarde     &  6.666667\\\\\n",
       "\t Tarde     &  9.000000\\\\\n",
       "\\end{tabular}\n"
      ],
      "text/markdown": [
       "\n",
       "| sec_turno_segundo_ciclo_L | sec_promedios_segundo_ciclo_L |\n",
       "|---|---|\n",
       "| Mañana   | 4.666667 |\n",
       "| Mañana   | 5.000000 |\n",
       "| Mañana   | 9.000000 |\n",
       "| Mañana   | 6.333333 |\n",
       "| Mañana   | 6.000000 |\n",
       "| Mañana   | 8.333333 |\n",
       "| Mañana   | 5.000000 |\n",
       "| Mañana   | 7.666667 |\n",
       "| Mañana   | 7.333333 |\n",
       "| Mañana   | 6.000000 |\n",
       "| Mañana   | 6.333333 |\n",
       "| Mañana   | 4.666667 |\n",
       "| Mañana   | 9.000000 |\n",
       "| Mañana   | 7.333333 |\n",
       "| Mañana   | 5.000000 |\n",
       "| Mañana   | 6.333333 |\n",
       "| Mañana   | 5.000000 |\n",
       "| Mañana   | 4.333333 |\n",
       "| Mañana   | 6.333333 |\n",
       "| Mañana   | 5.333333 |\n",
       "| Mañana   | 5.000000 |\n",
       "| Mañana   | 4.666667 |\n",
       "| Mañana   | 6.333333 |\n",
       "| Mañana   | 9.333333 |\n",
       "| Mañana   | 4.666667 |\n",
       "| Mañana   | 6.000000 |\n",
       "| Mañana   | 7.333333 |\n",
       "| Mañana   | 5.000000 |\n",
       "| Mañana   | 8.000000 |\n",
       "| Mañana   | 6.000000 |\n",
       "| ... | ... |\n",
       "| Tarde     |  6.333333 |\n",
       "| Tarde     |  8.666667 |\n",
       "| Tarde     |  8.000000 |\n",
       "| Tarde     |  9.333333 |\n",
       "| Tarde     |  8.333333 |\n",
       "| Tarde     |  8.666667 |\n",
       "| Tarde     | 10.000000 |\n",
       "| Tarde     |  7.666667 |\n",
       "| Tarde     |  6.666667 |\n",
       "| Tarde     |  9.000000 |\n",
       "| Tarde     |  7.000000 |\n",
       "| Tarde     | 10.000000 |\n",
       "| Tarde     |  8.666667 |\n",
       "| Tarde     |  9.000000 |\n",
       "| Tarde     |  8.666667 |\n",
       "| Tarde     |  9.666667 |\n",
       "| Tarde     |  5.666667 |\n",
       "| Tarde     |  8.000000 |\n",
       "| Tarde     |  7.666667 |\n",
       "| Tarde     |  7.000000 |\n",
       "| Tarde     |  7.000000 |\n",
       "| Tarde     |  7.666667 |\n",
       "| Tarde     |  8.666667 |\n",
       "| Tarde     |  9.000000 |\n",
       "| Tarde     |  7.666667 |\n",
       "| Tarde     |  9.000000 |\n",
       "| Tarde     |  8.333333 |\n",
       "| Tarde     |  9.000000 |\n",
       "| Tarde     |  6.666667 |\n",
       "| Tarde     |  9.000000 |\n",
       "\n"
      ],
      "text/plain": [
       "    sec_turno_segundo_ciclo_L sec_promedios_segundo_ciclo_L\n",
       "1   Mañana                    4.666667                     \n",
       "2   Mañana                    5.000000                     \n",
       "3   Mañana                    9.000000                     \n",
       "4   Mañana                    6.333333                     \n",
       "5   Mañana                    6.000000                     \n",
       "6   Mañana                    8.333333                     \n",
       "7   Mañana                    5.000000                     \n",
       "8   Mañana                    7.666667                     \n",
       "9   Mañana                    7.333333                     \n",
       "10  Mañana                    6.000000                     \n",
       "11  Mañana                    6.333333                     \n",
       "12  Mañana                    4.666667                     \n",
       "13  Mañana                    9.000000                     \n",
       "14  Mañana                    7.333333                     \n",
       "15  Mañana                    5.000000                     \n",
       "16  Mañana                    6.333333                     \n",
       "17  Mañana                    5.000000                     \n",
       "18  Mañana                    4.333333                     \n",
       "19  Mañana                    6.333333                     \n",
       "20  Mañana                    5.333333                     \n",
       "21  Mañana                    5.000000                     \n",
       "22  Mañana                    4.666667                     \n",
       "23  Mañana                    6.333333                     \n",
       "24  Mañana                    9.333333                     \n",
       "25  Mañana                    4.666667                     \n",
       "26  Mañana                    6.000000                     \n",
       "27  Mañana                    7.333333                     \n",
       "28  Mañana                    5.000000                     \n",
       "29  Mañana                    8.000000                     \n",
       "30  Mañana                    6.000000                     \n",
       "... ...                       ...                          \n",
       "883 Tarde                      6.333333                    \n",
       "884 Tarde                      8.666667                    \n",
       "885 Tarde                      8.000000                    \n",
       "886 Tarde                      9.333333                    \n",
       "887 Tarde                      8.333333                    \n",
       "888 Tarde                      8.666667                    \n",
       "889 Tarde                     10.000000                    \n",
       "890 Tarde                      7.666667                    \n",
       "891 Tarde                      6.666667                    \n",
       "892 Tarde                      9.000000                    \n",
       "893 Tarde                      7.000000                    \n",
       "894 Tarde                     10.000000                    \n",
       "895 Tarde                      8.666667                    \n",
       "896 Tarde                      9.000000                    \n",
       "897 Tarde                      8.666667                    \n",
       "898 Tarde                      9.666667                    \n",
       "899 Tarde                      5.666667                    \n",
       "900 Tarde                      8.000000                    \n",
       "901 Tarde                      7.666667                    \n",
       "902 Tarde                      7.000000                    \n",
       "903 Tarde                      7.000000                    \n",
       "904 Tarde                      7.666667                    \n",
       "905 Tarde                      8.666667                    \n",
       "906 Tarde                      9.000000                    \n",
       "907 Tarde                      7.666667                    \n",
       "908 Tarde                      9.000000                    \n",
       "909 Tarde                      8.333333                    \n",
       "910 Tarde                      9.000000                    \n",
       "911 Tarde                      6.666667                    \n",
       "912 Tarde                      9.000000                    "
      ]
     },
     "metadata": {},
     "output_type": "display_data"
    }
   ],
   "source": [
    "sec_promedios_primer_ciclo_L <- as.numeric(c(sec_primer_ciclo_mañana_L, sec_primer_ciclo_tarde_L, sec_primer_ciclo_otros_L))\n",
    "sec_turno_primer_ciclo_L <- as.factor(c( rep(\"Mañana\",length(sec_primer_ciclo_mañana_L)), \n",
    "                                         rep(\"Tarde\",length(sec_primer_ciclo_tarde_L)),\n",
    "                                         rep(\"Otros\", length(sec_primer_ciclo_otros_L))))\n",
    "\n",
    "sec_promedios_turno_primer_ciclo_L <- data.frame(sec_turno_primer_ciclo_L, sec_promedios_primer_ciclo_L)\n",
    "sec_promedios_turno_primer_ciclo_L\n",
    "\n",
    "sec_promedios_segundo_ciclo_L <- as.numeric(c(sec_segundo_ciclo_mañana_L, sec_segundo_ciclo_tarde_L, sec_segundo_ciclo_otros_L))\n",
    "sec_turno_segundo_ciclo_L <- as.factor(c(rep(\"Mañana\",length(sec_segundo_ciclo_mañana_L)), \n",
    "                                         rep(\"Tarde\",length(sec_segundo_ciclo_tarde_L)),\n",
    "                                         rep(\"Otros\", length(sec_segundo_ciclo_otros_L))))\n",
    "\n",
    "sec_promedios_turno_segundo_ciclo_L <- data.frame(sec_turno_segundo_ciclo_L, sec_promedios_segundo_ciclo_L)\n",
    "sec_promedios_turno_segundo_ciclo_L"
   ]
  },
  {
   "cell_type": "markdown",
   "id": "47a7a7c5",
   "metadata": {},
   "source": [
    "# Primer turno secundaria: 1, 2, 3"
   ]
  },
  {
   "cell_type": "code",
   "execution_count": 87,
   "id": "6249829b",
   "metadata": {
    "scrolled": true
   },
   "outputs": [
    {
     "data": {
      "text/html": [
       "<table>\n",
       "<thead><tr><th scope=col>sec_turno_primer_ciclo_L</th><th scope=col>mean</th><th scope=col>datos</th></tr></thead>\n",
       "<tbody>\n",
       "\t<tr><td>Mañana</td><td>7.2   </td><td>728   </td></tr>\n",
       "\t<tr><td>Tarde </td><td>6.6   </td><td>398   </td></tr>\n",
       "</tbody>\n",
       "</table>\n"
      ],
      "text/latex": [
       "\\begin{tabular}{r|lll}\n",
       " sec\\_turno\\_primer\\_ciclo\\_L & mean & datos\\\\\n",
       "\\hline\n",
       "\t Mañana & 7.2    & 728   \\\\\n",
       "\t Tarde  & 6.6    & 398   \\\\\n",
       "\\end{tabular}\n"
      ],
      "text/markdown": [
       "\n",
       "| sec_turno_primer_ciclo_L | mean | datos |\n",
       "|---|---|---|\n",
       "| Mañana | 7.2    | 728    |\n",
       "| Tarde  | 6.6    | 398    |\n",
       "\n"
      ],
      "text/plain": [
       "  sec_turno_primer_ciclo_L mean datos\n",
       "1 Mañana                   7.2  728  \n",
       "2 Tarde                    6.6  398  "
      ]
     },
     "metadata": {},
     "output_type": "display_data"
    },
    {
     "data": {
      "image/png": "[encoded data removed]",
      "text/plain": [
       "Plot with title \"Promedios de Secundaria para Lengua según el Primer Turno en el departamento de Diamante\""
      ]
     },
     "metadata": {},
     "output_type": "display_data"
    }
   ],
   "source": [
    "boxplot(sec_promedios_turno_primer_ciclo_L$sec_promedios_primer_ciclo_L ~ sec_promedios_turno_primer_ciclo_L$sec_turno_primer_ciclo_L, \n",
    "        col = c(\"lightblue\", \"pink\",\"lightgreen\"), \n",
    "        ylim = c(0,11),\n",
    "        ylab = \"Promedios por Turno\", \n",
    "        xlab=\"Turno\",\n",
    "        sub=\"Fuente de elaboración propia\",\n",
    "        main=\"Promedios de Secundaria para Lengua según el Primer Turno en el departamento de Diamante\",\n",
    "        cex.main = 0.8)\n",
    "\n",
    "sec_promedios_turno_primer_ciclo_L %>% group_by(sec_turno_primer_ciclo_L) %>%\n",
    "summarise(mean = round(mean(sec_promedios_primer_ciclo_L),1), datos = n())"
   ]
  },
  {
   "cell_type": "code",
   "execution_count": 91,
   "id": "e91c7be8",
   "metadata": {},
   "outputs": [
    {
     "data": {
      "text/plain": [
       "                           Df Sum Sq Mean Sq F value   Pr(>F)    \n",
       "sec_turno_primer_ciclo_L    1   73.4   73.43   37.53 1.24e-09 ***\n",
       "Residuals                1124 2199.3    1.96                     \n",
       "---\n",
       "Signif. codes:  0 '***' 0.001 '**' 0.01 '*' 0.05 '.' 0.1 ' ' 1"
      ]
     },
     "metadata": {},
     "output_type": "display_data"
    }
   ],
   "source": [
    "#Genero el modelo de ANOVA\n",
    "anova_sec_primer_ciclo_L = aov(sec_promedios_primer_ciclo_L ~ sec_turno_primer_ciclo_L)\n",
    "summary(anova_sec_primer_ciclo_L)"
   ]
  },
  {
   "cell_type": "code",
   "execution_count": 93,
   "id": "cb2e04d1",
   "metadata": {
    "scrolled": true
   },
   "outputs": [
    {
     "data": {
      "text/plain": [
       "  Tukey multiple comparisons of means\n",
       "    95% family-wise confidence level\n",
       "\n",
       "Fit: aov(formula = sec_promedios_primer_ciclo_L ~ sec_turno_primer_ciclo_L)\n",
       "\n",
       "$sec_turno_primer_ciclo_L\n",
       "                   diff        lwr        upr p adj\n",
       "Tarde-Mañana -0.5341934 -0.7052874 -0.3630994     0\n"
      ]
     },
     "metadata": {},
     "output_type": "display_data"
    }
   ],
   "source": [
    "TukeyHSD(anova_sec_primer_ciclo_L, \"sec_turno_primer_ciclo_L\", conf.level = .95)"
   ]
  },
  {
   "cell_type": "code",
   "execution_count": 95,
   "id": "aeeb31aa",
   "metadata": {},
   "outputs": [
    {
     "data": {
      "text/plain": [
       "\n",
       "\tShapiro-Wilk normality test\n",
       "\n",
       "data:  sec_promedios_turno_primer_ciclo_L$sec_promedios_primer_ciclo_L[sec_promedios_turno_primer_ciclo_L$sec_turno_primer_ciclo_L ==     \"Mañana\"]\n",
       "W = 0.98192, p-value = 7.9e-08\n"
      ]
     },
     "metadata": {},
     "output_type": "display_data"
    },
    {
     "data": {
      "text/plain": [
       "\n",
       "\tShapiro-Wilk normality test\n",
       "\n",
       "data:  sec_promedios_turno_primer_ciclo_L$sec_promedios_primer_ciclo_L[sec_promedios_turno_primer_ciclo_L$sec_turno_primer_ciclo_L ==     \"Tarde\"]\n",
       "W = 0.98338, p-value = 0.0001551\n"
      ]
     },
     "metadata": {},
     "output_type": "display_data"
    }
   ],
   "source": [
    "#Analizamos los supuestos\n",
    "shapiro.test(sec_promedios_turno_primer_ciclo_L$sec_promedios_primer_ciclo_L[sec_promedios_turno_primer_ciclo_L$sec_turno_primer_ciclo_L == \"Mañana\"])\n",
    "shapiro.test(sec_promedios_turno_primer_ciclo_L$sec_promedios_primer_ciclo_L[sec_promedios_turno_primer_ciclo_L$sec_turno_primer_ciclo_L == \"Tarde\"])\n",
    "#shapiro.test(sec_promedios_turno_primer_ciclo_L$sec_promedios_primer_ciclo_L[sec_promedios_turno_primer_ciclo_L$sec_turno_primer_ciclo_L == \"Otros\"])"
   ]
  },
  {
   "cell_type": "code",
   "execution_count": 96,
   "id": "640ef227",
   "metadata": {},
   "outputs": [
    {
     "data": {
      "text/plain": [
       "\n",
       "\tKruskal-Wallis rank sum test\n",
       "\n",
       "data:  sec_promedios_turno_primer_ciclo_L$sec_turno_primer_ciclo_L and sec_promedios_turno_primer_ciclo_L$sec_promedios_primer_ciclo_L\n",
       "Kruskal-Wallis chi-squared = 71.672, df = 23, p-value = 6.692e-07\n"
      ]
     },
     "metadata": {},
     "output_type": "display_data"
    }
   ],
   "source": [
    "#Test no parametrico Kruskal Wallis\n",
    "kruskal.test(sec_promedios_turno_primer_ciclo_L$sec_turno_primer_ciclo_L, sec_promedios_turno_primer_ciclo_L$sec_promedios_primer_ciclo_L)"
   ]
  },
  {
   "cell_type": "code",
   "execution_count": 97,
   "id": "b97687fa",
   "metadata": {
    "scrolled": true
   },
   "outputs": [
    {
     "data": {
      "text/plain": [
       "\n",
       "\tPairwise comparisons using Wilcoxon rank sum test \n",
       "\n",
       "data:  sec_promedios_turno_primer_ciclo_L$sec_promedios_primer_ciclo_L and sec_promedios_turno_primer_ciclo_L$sec_turno_primer_ciclo_L \n",
       "\n",
       "      Mañana \n",
       "Tarde 3.3e-08\n",
       "\n",
       "P value adjustment method: holm "
      ]
     },
     "metadata": {},
     "output_type": "display_data"
    }
   ],
   "source": [
    "#Analisis a posteriori\n",
    "pairwise.wilcox.test(sec_promedios_turno_primer_ciclo_L$sec_promedios_primer_ciclo_L, sec_promedios_turno_primer_ciclo_L$sec_turno_primer_ciclo_L)"
   ]
  },
  {
   "cell_type": "markdown",
   "id": "5dad413d",
   "metadata": {},
   "source": [
    "# Segundo turno secundaria: 4, 5, 6"
   ]
  },
  {
   "cell_type": "code",
   "execution_count": 103,
   "id": "9e70b59c",
   "metadata": {},
   "outputs": [
    {
     "data": {
      "text/plain": [
       "\n",
       "Mañana  Tarde \n",
       "   531    381 "
      ]
     },
     "metadata": {},
     "output_type": "display_data"
    }
   ],
   "source": [
    "table(sec_promedios_turno_segundo_ciclo_L$sec_turno_segundo_ciclo_L)"
   ]
  },
  {
   "cell_type": "code",
   "execution_count": 102,
   "id": "2a209a89",
   "metadata": {
    "scrolled": true
   },
   "outputs": [
    {
     "data": {
      "text/html": [
       "<table>\n",
       "<thead><tr><th scope=col>sec_turno_segundo_ciclo_L</th><th scope=col>mean</th><th scope=col>datos</th></tr></thead>\n",
       "<tbody>\n",
       "\t<tr><td>Mañana</td><td>7.2   </td><td>531   </td></tr>\n",
       "\t<tr><td>Tarde </td><td>7.4   </td><td>381   </td></tr>\n",
       "</tbody>\n",
       "</table>\n"
      ],
      "text/latex": [
       "\\begin{tabular}{r|lll}\n",
       " sec\\_turno\\_segundo\\_ciclo\\_L & mean & datos\\\\\n",
       "\\hline\n",
       "\t Mañana & 7.2    & 531   \\\\\n",
       "\t Tarde  & 7.4    & 381   \\\\\n",
       "\\end{tabular}\n"
      ],
      "text/markdown": [
       "\n",
       "| sec_turno_segundo_ciclo_L | mean | datos |\n",
       "|---|---|---|\n",
       "| Mañana | 7.2    | 531    |\n",
       "| Tarde  | 7.4    | 381    |\n",
       "\n"
      ],
      "text/plain": [
       "  sec_turno_segundo_ciclo_L mean datos\n",
       "1 Mañana                    7.2  531  \n",
       "2 Tarde                     7.4  381  "
      ]
     },
     "metadata": {},
     "output_type": "display_data"
    },
    {
     "data": {
      "image/png": "[encoded data removed]",
      "text/plain": [
       "Plot with title \"Promedios de Secundaria para Lengua según el Segundo Turno en el departamento de Diamante\""
      ]
     },
     "metadata": {},
     "output_type": "display_data"
    }
   ],
   "source": [
    "boxplot(sec_promedios_turno_segundo_ciclo_L$sec_promedios_segundo_ciclo_L ~ sec_promedios_turno_segundo_ciclo_L$sec_turno_segundo_ciclo_L, \n",
    "        col = c(\"lightblue\", \"pink\",\"lightgreen\"), \n",
    "        ylim = c(0,11),\n",
    "        ylab = \"Promedios por Turno\", \n",
    "        xlab=\"Turno\",\n",
    "        sub=\"Fuente de elaboración propia\",\n",
    "        main=\"Promedios de Secundaria para Lengua según el Segundo Turno en el departamento de Diamante\",\n",
    "        cex.main = 0.7)\n",
    "\n",
    "sec_promedios_turno_segundo_ciclo_L %>% group_by(sec_turno_segundo_ciclo_L) %>%\n",
    "summarise(mean = round(mean(sec_promedios_segundo_ciclo_L),1), datos = n())"
   ]
  },
  {
   "cell_type": "code",
   "execution_count": null,
   "id": "25b30a2d",
   "metadata": {},
   "outputs": [],
   "source": []
  }
 ],
 "metadata": {
  "kernelspec": {
   "display_name": "R",
   "language": "R",
   "name": "ir"
  },
  "language_info": {
   "codemirror_mode": "r",
   "file_extension": ".r",
   "mimetype": "text/x-r-source",
   "name": "R",
   "pygments_lexer": "r",
   "version": "3.6.1"
  }
 },
 "nbformat": 4,
 "nbformat_minor": 5
}
