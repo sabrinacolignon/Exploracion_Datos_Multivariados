{
 "cells": [
  {
   "cell_type": "code",
   "execution_count": 1,
   "id": "7ea6466f",
   "metadata": {
    "collapsed": true
   },
   "outputs": [
    {
     "name": "stderr",
     "output_type": "stream",
     "text": [
      "Warning message:\n",
      "\"package 'readxl' was built under R version 3.6.3\"Warning message:\n",
      "\"package 'tidyverse' was built under R version 3.6.3\"-- Attaching packages --------------------------------------- tidyverse 1.3.1 --\n",
      "v ggplot2 3.3.3     v purrr   0.3.4\n",
      "v tibble  3.1.1     v dplyr   1.0.6\n",
      "v tidyr   1.1.3     v stringr 1.4.0\n",
      "v readr   1.4.0     v forcats 0.5.1\n",
      "Warning message:\n",
      "\"package 'ggplot2' was built under R version 3.6.3\"Warning message:\n",
      "\"package 'tibble' was built under R version 3.6.3\"Warning message:\n",
      "\"package 'tidyr' was built under R version 3.6.3\"Warning message:\n",
      "\"package 'readr' was built under R version 3.6.3\"Warning message:\n",
      "\"package 'purrr' was built under R version 3.6.3\"Warning message:\n",
      "\"package 'dplyr' was built under R version 3.6.3\"Warning message:\n",
      "\"package 'stringr' was built under R version 3.6.3\"Warning message:\n",
      "\"package 'forcats' was built under R version 3.6.3\"-- Conflicts ------------------------------------------ tidyverse_conflicts() --\n",
      "x dplyr::filter() masks stats::filter()\n",
      "x dplyr::lag()    masks stats::lag()\n",
      "Warning message:\n",
      "\"package 'pwr' was built under R version 3.6.3\"Warning message:\n",
      "\"package 'lsr' was built under R version 3.6.3\""
     ]
    }
   ],
   "source": [
    "library(readxl)\n",
    "library(tidyverse)\n",
    "library(pwr)\n",
    "library(lsr)\n",
    "library(ggplot2)"
   ]
  },
  {
   "cell_type": "code",
   "execution_count": 5,
   "id": "9660063a",
   "metadata": {},
   "outputs": [],
   "source": [
    "secundaria_promedios <- read_excel(\"C:\\\\Users\\\\patoa\\\\OneDrive\\\\Escritorio\\\\Anchu\\\\Exploracion de datos multi\\\\promedios_secundaria.xlsx\")\n",
    "secundarias <- read_excel(\"C:\\\\Users\\\\patoa\\\\OneDrive\\\\Escritorio\\\\Anchu\\\\Exploracion de datos multi\\\\Secundaria3.xlsx\")"
   ]
  },
  {
   "cell_type": "code",
   "execution_count": 6,
   "id": "32bac376",
   "metadata": {
    "collapsed": true
   },
   "outputs": [
    {
     "data": {
      "text/html": [
       "<table>\n",
       "<thead><tr><th scope=col>Cue_Anexo</th><th scope=col>Nivel</th><th scope=col>Modalidad_Educ_Gral</th><th scope=col>Cue</th><th scope=col>Estado</th><th scope=col>Sector</th><th scope=col>Departamento</th><th scope=col>NINA</th><th scope=col>Cant_Secciones</th><th scope=col>Tipo_titulo</th><th scope=col>...</th><th scope=col>Segundo</th><th scope=col>Tercero</th><th scope=col>Cuarto</th><th scope=col>Quinto</th><th scope=col>Sexto</th><th scope=col>Septimo</th><th scope=col>Mat_ciclo_basico</th><th scope=col>Mat_ciclo_orientado</th><th scope=col>Matricula_Total</th><th scope=col>Titulo</th></tr></thead>\n",
       "<tbody>\n",
       "\t<tr><td>600003600                                                                                                                                                                                                              </td><td>Secundaria                                                                                                                                                                                                             </td><td>Común                                                                                                                                                                                                                  </td><td>6000036                                                                                                                                                                                                                </td><td>Activo                                                                                                                                                                                                                 </td><td>ESTATAL                                                                                                                                                                                                                </td><td>NA                                                                                                                                                                                                                     </td><td>no                                                                                                                                                                                                                     </td><td>18                                                                                                                                                                                                                     </td><td>Ciclo básico/ educación secundaria básica                                                                                                                                                                              </td><td>...                                                                                                                                                                                                                    </td><td> 79                                                                                                                                                                                                                    </td><td> 73                                                                                                                                                                                                                    </td><td> 65                                                                                                                                                                                                                    </td><td> 54                                                                                                                                                                                                                    </td><td>61                                                                                                                                                                                                                     </td><td>0                                                                                                                                                                                                                      </td><td>219                                                                                                                                                                                                                    </td><td>180                                                                                                                                                                                                                    </td><td>399                                                                                                                                                                                                                    </td><td>Bachiller en ciencias sociales y humanidades; Bachiller en economía y administración                                                                                                                                   </td></tr>\n",
       "\t<tr><td>600035000                                                                                                                                                                                                              </td><td>Secundaria                                                                                                                                                                                                             </td><td>Común                                                                                                                                                                                                                  </td><td>6000350                                                                                                                                                                                                                </td><td>Activo                                                                                                                                                                                                                 </td><td>ESTATAL                                                                                                                                                                                                                </td><td>NA                                                                                                                                                                                                                     </td><td>no                                                                                                                                                                                                                     </td><td> 6                                                                                                                                                                                                                     </td><td>Ciclo básico/ educación secundaria básica                                                                                                                                                                              </td><td>...                                                                                                                                                                                                                    </td><td> 17                                                                                                                                                                                                                    </td><td> 11                                                                                                                                                                                                                    </td><td>  9                                                                                                                                                                                                                    </td><td>  7                                                                                                                                                                                                                    </td><td> 7                                                                                                                                                                                                                     </td><td>0                                                                                                                                                                                                                      </td><td> 44                                                                                                                                                                                                                    </td><td> 23                                                                                                                                                                                                                    </td><td> 67                                                                                                                                                                                                                    </td><td>Bachiller en economía y administración                                                                                                                                                                                 </td></tr>\n",
       "\t<tr><td>600046400                                                                                                                                                                                                              </td><td>Secundaria                                                                                                                                                                                                             </td><td>Común                                                                                                                                                                                                                  </td><td>6000464                                                                                                                                                                                                                </td><td>Activo                                                                                                                                                                                                                 </td><td>ESTATAL                                                                                                                                                                                                                </td><td>FEDERACION                                                                                                                                                                                                             </td><td>no                                                                                                                                                                                                                     </td><td>13                                                                                                                                                                                                                     </td><td>Ciclo básico/ educación secundaria básica                                                                                                                                                                              </td><td>...                                                                                                                                                                                                                    </td><td> 60                                                                                                                                                                                                                    </td><td> 32                                                                                                                                                                                                                    </td><td> 39                                                                                                                                                                                                                    </td><td> 43                                                                                                                                                                                                                    </td><td>NA                                                                                                                                                                                                                     </td><td>0                                                                                                                                                                                                                      </td><td>157                                                                                                                                                                                                                    </td><td> 99                                                                                                                                                                                                                    </td><td>256                                                                                                                                                                                                                    </td><td>Bachiller con orientación en arte; Bachiller en economía y administración                                                                                                                                              </td></tr>\n",
       "\t<tr><td>600067800                                                                                                                                                                                                              </td><td>Secundaria                                                                                                                                                                                                             </td><td>Común                                                                                                                                                                                                                  </td><td>6000678                                                                                                                                                                                                                </td><td>Activo                                                                                                                                                                                                                 </td><td>ESTATAL                                                                                                                                                                                                                </td><td>NA                                                                                                                                                                                                                     </td><td>no                                                                                                                                                                                                                     </td><td>17                                                                                                                                                                                                                     </td><td>Ciclo básico/ educación secundaria básica                                                                                                                                                                              </td><td>...                                                                                                                                                                                                                    </td><td> 45                                                                                                                                                                                                                    </td><td> 47                                                                                                                                                                                                                    </td><td> 41                                                                                                                                                                                                                    </td><td> 37                                                                                                                                                                                                                    </td><td>40                                                                                                                                                                                                                     </td><td>0                                                                                                                                                                                                                      </td><td>127                                                                                                                                                                                                                    </td><td>118                                                                                                                                                                                                                    </td><td>245                                                                                                                                                                                                                    </td><td>Bachiller en ciencias naturales; Bachiller en economía y administración                                                                                                                                                </td></tr>\n",
       "\t<tr><td>600093400                                                                                                                                                                                                              </td><td>Secundaria                                                                                                                                                                                                             </td><td>Común                                                                                                                                                                                                                  </td><td>6000934                                                                                                                                                                                                                </td><td>Activo                                                                                                                                                                                                                 </td><td>ESTATAL                                                                                                                                                                                                                </td><td>VILLAGUAY                                                                                                                                                                                                              </td><td>no                                                                                                                                                                                                                     </td><td>37                                                                                                                                                                                                                     </td><td>Ciclo básico/ educación secundaria básica                                                                                                                                                                              </td><td>...                                                                                                                                                                                                                    </td><td>146                                                                                                                                                                                                                    </td><td>103                                                                                                                                                                                                                    </td><td>184                                                                                                                                                                                                                    </td><td>120                                                                                                                                                                                                                    </td><td>73                                                                                                                                                                                                                     </td><td>0                                                                                                                                                                                                                      </td><td>345                                                                                                                                                                                                                    </td><td>377                                                                                                                                                                                                                    </td><td>722                                                                                                                                                                                                                    </td><td>Bachiller con orientación en economía y administración; Bachiller con orientación en economía y administración; Bachiller orientado en ciencias naturales; Bachiller con orientación en ciencias sociales y humanidades</td></tr>\n",
       "\t<tr><td>600110200                                                                                                                                                                                                              </td><td>Secundaria                                                                                                                                                                                                             </td><td>Común                                                                                                                                                                                                                  </td><td>6001102                                                                                                                                                                                                                </td><td>Activo                                                                                                                                                                                                                 </td><td>ESTATAL                                                                                                                                                                                                                </td><td>NA                                                                                                                                                                                                                     </td><td>no                                                                                                                                                                                                                     </td><td>14                                                                                                                                                                                                                     </td><td>Ciclo básico/ educación secundaria básica                                                                                                                                                                              </td><td>...                                                                                                                                                                                                                    </td><td> 73                                                                                                                                                                                                                    </td><td> 66                                                                                                                                                                                                                    </td><td> 59                                                                                                                                                                                                                    </td><td> 39                                                                                                                                                                                                                    </td><td>43                                                                                                                                                                                                                     </td><td>0                                                                                                                                                                                                                      </td><td>199                                                                                                                                                                                                                    </td><td>141                                                                                                                                                                                                                    </td><td>340                                                                                                                                                                                                                    </td><td>Bachiller con orientación en ciencias naturales; Bachiller en ciencias sociales y humanidades                                                                                                                          </td></tr>\n",
       "</tbody>\n",
       "</table>\n"
      ],
      "text/latex": [
       "\\begin{tabular}{r|lllllllllllllllllllll}\n",
       " Cue\\_Anexo & Nivel & Modalidad\\_Educ\\_Gral & Cue & Estado & Sector & Departamento & NINA & Cant\\_Secciones & Tipo\\_titulo & ... & Segundo & Tercero & Cuarto & Quinto & Sexto & Septimo & Mat\\_ciclo\\_basico & Mat\\_ciclo\\_orientado & Matricula\\_Total & Titulo\\\\\n",
       "\\hline\n",
       "\t 600003600                                                                                                                                                                                                               & Secundaria                                                                                                                                                                                                              & Común                                                                                                                                                                                                                   & 6000036                                                                                                                                                                                                                 & Activo                                                                                                                                                                                                                  & ESTATAL                                                                                                                                                                                                                 & NA                                                                                                                                                                                                                      & no                                                                                                                                                                                                                      & 18                                                                                                                                                                                                                      & Ciclo básico/ educación secundaria básica                                                                                                                                                                               & ...                                                                                                                                                                                                                     &  79                                                                                                                                                                                                                     &  73                                                                                                                                                                                                                     &  65                                                                                                                                                                                                                     &  54                                                                                                                                                                                                                     & 61                                                                                                                                                                                                                      & 0                                                                                                                                                                                                                       & 219                                                                                                                                                                                                                     & 180                                                                                                                                                                                                                     & 399                                                                                                                                                                                                                     & Bachiller en ciencias sociales y humanidades; Bachiller en economía y administración                                                                                                                                   \\\\\n",
       "\t 600035000                                                                                                                                                                                                               & Secundaria                                                                                                                                                                                                              & Común                                                                                                                                                                                                                   & 6000350                                                                                                                                                                                                                 & Activo                                                                                                                                                                                                                  & ESTATAL                                                                                                                                                                                                                 & NA                                                                                                                                                                                                                      & no                                                                                                                                                                                                                      &  6                                                                                                                                                                                                                      & Ciclo básico/ educación secundaria básica                                                                                                                                                                               & ...                                                                                                                                                                                                                     &  17                                                                                                                                                                                                                     &  11                                                                                                                                                                                                                     &   9                                                                                                                                                                                                                     &   7                                                                                                                                                                                                                     &  7                                                                                                                                                                                                                      & 0                                                                                                                                                                                                                       &  44                                                                                                                                                                                                                     &  23                                                                                                                                                                                                                     &  67                                                                                                                                                                                                                     & Bachiller en economía y administración                                                                                                                                                                                 \\\\\n",
       "\t 600046400                                                                                                                                                                                                               & Secundaria                                                                                                                                                                                                              & Común                                                                                                                                                                                                                   & 6000464                                                                                                                                                                                                                 & Activo                                                                                                                                                                                                                  & ESTATAL                                                                                                                                                                                                                 & FEDERACION                                                                                                                                                                                                              & no                                                                                                                                                                                                                      & 13                                                                                                                                                                                                                      & Ciclo básico/ educación secundaria básica                                                                                                                                                                               & ...                                                                                                                                                                                                                     &  60                                                                                                                                                                                                                     &  32                                                                                                                                                                                                                     &  39                                                                                                                                                                                                                     &  43                                                                                                                                                                                                                     & NA                                                                                                                                                                                                                      & 0                                                                                                                                                                                                                       & 157                                                                                                                                                                                                                     &  99                                                                                                                                                                                                                     & 256                                                                                                                                                                                                                     & Bachiller con orientación en arte; Bachiller en economía y administración                                                                                                                                              \\\\\n",
       "\t 600067800                                                                                                                                                                                                               & Secundaria                                                                                                                                                                                                              & Común                                                                                                                                                                                                                   & 6000678                                                                                                                                                                                                                 & Activo                                                                                                                                                                                                                  & ESTATAL                                                                                                                                                                                                                 & NA                                                                                                                                                                                                                      & no                                                                                                                                                                                                                      & 17                                                                                                                                                                                                                      & Ciclo básico/ educación secundaria básica                                                                                                                                                                               & ...                                                                                                                                                                                                                     &  45                                                                                                                                                                                                                     &  47                                                                                                                                                                                                                     &  41                                                                                                                                                                                                                     &  37                                                                                                                                                                                                                     & 40                                                                                                                                                                                                                      & 0                                                                                                                                                                                                                       & 127                                                                                                                                                                                                                     & 118                                                                                                                                                                                                                     & 245                                                                                                                                                                                                                     & Bachiller en ciencias naturales; Bachiller en economía y administración                                                                                                                                                \\\\\n",
       "\t 600093400                                                                                                                                                                                                               & Secundaria                                                                                                                                                                                                              & Común                                                                                                                                                                                                                   & 6000934                                                                                                                                                                                                                 & Activo                                                                                                                                                                                                                  & ESTATAL                                                                                                                                                                                                                 & VILLAGUAY                                                                                                                                                                                                               & no                                                                                                                                                                                                                      & 37                                                                                                                                                                                                                      & Ciclo básico/ educación secundaria básica                                                                                                                                                                               & ...                                                                                                                                                                                                                     & 146                                                                                                                                                                                                                     & 103                                                                                                                                                                                                                     & 184                                                                                                                                                                                                                     & 120                                                                                                                                                                                                                     & 73                                                                                                                                                                                                                      & 0                                                                                                                                                                                                                       & 345                                                                                                                                                                                                                     & 377                                                                                                                                                                                                                     & 722                                                                                                                                                                                                                     & Bachiller con orientación en economía y administración; Bachiller con orientación en economía y administración; Bachiller orientado en ciencias naturales; Bachiller con orientación en ciencias sociales y humanidades\\\\\n",
       "\t 600110200                                                                                                                                                                                                               & Secundaria                                                                                                                                                                                                              & Común                                                                                                                                                                                                                   & 6001102                                                                                                                                                                                                                 & Activo                                                                                                                                                                                                                  & ESTATAL                                                                                                                                                                                                                 & NA                                                                                                                                                                                                                      & no                                                                                                                                                                                                                      & 14                                                                                                                                                                                                                      & Ciclo básico/ educación secundaria básica                                                                                                                                                                               & ...                                                                                                                                                                                                                     &  73                                                                                                                                                                                                                     &  66                                                                                                                                                                                                                     &  59                                                                                                                                                                                                                     &  39                                                                                                                                                                                                                     & 43                                                                                                                                                                                                                      & 0                                                                                                                                                                                                                       & 199                                                                                                                                                                                                                     & 141                                                                                                                                                                                                                     & 340                                                                                                                                                                                                                     & Bachiller con orientación en ciencias naturales; Bachiller en ciencias sociales y humanidades                                                                                                                          \\\\\n",
       "\\end{tabular}\n"
      ],
      "text/markdown": [
       "\n",
       "| Cue_Anexo | Nivel | Modalidad_Educ_Gral | Cue | Estado | Sector | Departamento | NINA | Cant_Secciones | Tipo_titulo | ... | Segundo | Tercero | Cuarto | Quinto | Sexto | Septimo | Mat_ciclo_basico | Mat_ciclo_orientado | Matricula_Total | Titulo |\n",
       "|---|---|---|---|---|---|---|---|---|---|---|---|---|---|---|---|---|---|---|---|---|\n",
       "| 600003600                                                                                                                                                                                                               | Secundaria                                                                                                                                                                                                              | Común                                                                                                                                                                                                                   | 6000036                                                                                                                                                                                                                 | Activo                                                                                                                                                                                                                  | ESTATAL                                                                                                                                                                                                                 | NA                                                                                                                                                                                                                      | no                                                                                                                                                                                                                      | 18                                                                                                                                                                                                                      | Ciclo básico/ educación secundaria básica                                                                                                                                                                               | ...                                                                                                                                                                                                                     |  79                                                                                                                                                                                                                     |  73                                                                                                                                                                                                                     |  65                                                                                                                                                                                                                     |  54                                                                                                                                                                                                                     | 61                                                                                                                                                                                                                      | 0                                                                                                                                                                                                                       | 219                                                                                                                                                                                                                     | 180                                                                                                                                                                                                                     | 399                                                                                                                                                                                                                     | Bachiller en ciencias sociales y humanidades; Bachiller en economía y administración                                                                                                                                    |\n",
       "| 600035000                                                                                                                                                                                                               | Secundaria                                                                                                                                                                                                              | Común                                                                                                                                                                                                                   | 6000350                                                                                                                                                                                                                 | Activo                                                                                                                                                                                                                  | ESTATAL                                                                                                                                                                                                                 | NA                                                                                                                                                                                                                      | no                                                                                                                                                                                                                      |  6                                                                                                                                                                                                                      | Ciclo básico/ educación secundaria básica                                                                                                                                                                               | ...                                                                                                                                                                                                                     |  17                                                                                                                                                                                                                     |  11                                                                                                                                                                                                                     |   9                                                                                                                                                                                                                     |   7                                                                                                                                                                                                                     |  7                                                                                                                                                                                                                      | 0                                                                                                                                                                                                                       |  44                                                                                                                                                                                                                     |  23                                                                                                                                                                                                                     |  67                                                                                                                                                                                                                     | Bachiller en economía y administración                                                                                                                                                                                  |\n",
       "| 600046400                                                                                                                                                                                                               | Secundaria                                                                                                                                                                                                              | Común                                                                                                                                                                                                                   | 6000464                                                                                                                                                                                                                 | Activo                                                                                                                                                                                                                  | ESTATAL                                                                                                                                                                                                                 | FEDERACION                                                                                                                                                                                                              | no                                                                                                                                                                                                                      | 13                                                                                                                                                                                                                      | Ciclo básico/ educación secundaria básica                                                                                                                                                                               | ...                                                                                                                                                                                                                     |  60                                                                                                                                                                                                                     |  32                                                                                                                                                                                                                     |  39                                                                                                                                                                                                                     |  43                                                                                                                                                                                                                     | NA                                                                                                                                                                                                                      | 0                                                                                                                                                                                                                       | 157                                                                                                                                                                                                                     |  99                                                                                                                                                                                                                     | 256                                                                                                                                                                                                                     | Bachiller con orientación en arte; Bachiller en economía y administración                                                                                                                                               |\n",
       "| 600067800                                                                                                                                                                                                               | Secundaria                                                                                                                                                                                                              | Común                                                                                                                                                                                                                   | 6000678                                                                                                                                                                                                                 | Activo                                                                                                                                                                                                                  | ESTATAL                                                                                                                                                                                                                 | NA                                                                                                                                                                                                                      | no                                                                                                                                                                                                                      | 17                                                                                                                                                                                                                      | Ciclo básico/ educación secundaria básica                                                                                                                                                                               | ...                                                                                                                                                                                                                     |  45                                                                                                                                                                                                                     |  47                                                                                                                                                                                                                     |  41                                                                                                                                                                                                                     |  37                                                                                                                                                                                                                     | 40                                                                                                                                                                                                                      | 0                                                                                                                                                                                                                       | 127                                                                                                                                                                                                                     | 118                                                                                                                                                                                                                     | 245                                                                                                                                                                                                                     | Bachiller en ciencias naturales; Bachiller en economía y administración                                                                                                                                                 |\n",
       "| 600093400                                                                                                                                                                                                               | Secundaria                                                                                                                                                                                                              | Común                                                                                                                                                                                                                   | 6000934                                                                                                                                                                                                                 | Activo                                                                                                                                                                                                                  | ESTATAL                                                                                                                                                                                                                 | VILLAGUAY                                                                                                                                                                                                               | no                                                                                                                                                                                                                      | 37                                                                                                                                                                                                                      | Ciclo básico/ educación secundaria básica                                                                                                                                                                               | ...                                                                                                                                                                                                                     | 146                                                                                                                                                                                                                     | 103                                                                                                                                                                                                                     | 184                                                                                                                                                                                                                     | 120                                                                                                                                                                                                                     | 73                                                                                                                                                                                                                      | 0                                                                                                                                                                                                                       | 345                                                                                                                                                                                                                     | 377                                                                                                                                                                                                                     | 722                                                                                                                                                                                                                     | Bachiller con orientación en economía y administración; Bachiller con orientación en economía y administración; Bachiller orientado en ciencias naturales; Bachiller con orientación en ciencias sociales y humanidades |\n",
       "| 600110200                                                                                                                                                                                                               | Secundaria                                                                                                                                                                                                              | Común                                                                                                                                                                                                                   | 6001102                                                                                                                                                                                                                 | Activo                                                                                                                                                                                                                  | ESTATAL                                                                                                                                                                                                                 | NA                                                                                                                                                                                                                      | no                                                                                                                                                                                                                      | 14                                                                                                                                                                                                                      | Ciclo básico/ educación secundaria básica                                                                                                                                                                               | ...                                                                                                                                                                                                                     |  73                                                                                                                                                                                                                     |  66                                                                                                                                                                                                                     |  59                                                                                                                                                                                                                     |  39                                                                                                                                                                                                                     | 43                                                                                                                                                                                                                      | 0                                                                                                                                                                                                                       | 199                                                                                                                                                                                                                     | 141                                                                                                                                                                                                                     | 340                                                                                                                                                                                                                     | Bachiller con orientación en ciencias naturales; Bachiller en ciencias sociales y humanidades                                                                                                                           |\n",
       "\n"
      ],
      "text/plain": [
       "  Cue_Anexo Nivel      Modalidad_Educ_Gral Cue     Estado Sector  Departamento\n",
       "1 600003600 Secundaria Común               6000036 Activo ESTATAL NA          \n",
       "2 600035000 Secundaria Común               6000350 Activo ESTATAL NA          \n",
       "3 600046400 Secundaria Común               6000464 Activo ESTATAL FEDERACION  \n",
       "4 600067800 Secundaria Común               6000678 Activo ESTATAL NA          \n",
       "5 600093400 Secundaria Común               6000934 Activo ESTATAL VILLAGUAY   \n",
       "6 600110200 Secundaria Común               6001102 Activo ESTATAL NA          \n",
       "  NINA Cant_Secciones Tipo_titulo                               ... Segundo\n",
       "1 no   18             Ciclo básico/ educación secundaria básica ...  79    \n",
       "2 no    6             Ciclo básico/ educación secundaria básica ...  17    \n",
       "3 no   13             Ciclo básico/ educación secundaria básica ...  60    \n",
       "4 no   17             Ciclo básico/ educación secundaria básica ...  45    \n",
       "5 no   37             Ciclo básico/ educación secundaria básica ... 146    \n",
       "6 no   14             Ciclo básico/ educación secundaria básica ...  73    \n",
       "  Tercero Cuarto Quinto Sexto Septimo Mat_ciclo_basico Mat_ciclo_orientado\n",
       "1  73      65     54    61    0       219              180                \n",
       "2  11       9      7     7    0        44               23                \n",
       "3  32      39     43    NA    0       157               99                \n",
       "4  47      41     37    40    0       127              118                \n",
       "5 103     184    120    73    0       345              377                \n",
       "6  66      59     39    43    0       199              141                \n",
       "  Matricula_Total\n",
       "1 399            \n",
       "2  67            \n",
       "3 256            \n",
       "4 245            \n",
       "5 722            \n",
       "6 340            \n",
       "  Titulo                                                                                                                                                                                                                 \n",
       "1 Bachiller en ciencias sociales y humanidades; Bachiller en economía y administración                                                                                                                                   \n",
       "2 Bachiller en economía y administración                                                                                                                                                                                 \n",
       "3 Bachiller con orientación en arte; Bachiller en economía y administración                                                                                                                                              \n",
       "4 Bachiller en ciencias naturales; Bachiller en economía y administración                                                                                                                                                \n",
       "5 Bachiller con orientación en economía y administración; Bachiller con orientación en economía y administración; Bachiller orientado en ciencias naturales; Bachiller con orientación en ciencias sociales y humanidades\n",
       "6 Bachiller con orientación en ciencias naturales; Bachiller en ciencias sociales y humanidades                                                                                                                          "
      ]
     },
     "metadata": {},
     "output_type": "display_data"
    }
   ],
   "source": [
    "head(secundarias)"
   ]
  },
  {
   "cell_type": "markdown",
   "id": "76344078",
   "metadata": {},
   "source": [
    "# Ejercicio 1 Analisis de matriculas"
   ]
  },
  {
   "cell_type": "code",
   "execution_count": 51,
   "id": "fcbf52db",
   "metadata": {},
   "outputs": [
    {
     "data": {
      "text/plain": [
       "\n",
       "\tShapiro-Wilk normality test\n",
       "\n",
       "data:  diamante_cb\n",
       "W = 0.809, p-value = 0.0004148\n"
      ]
     },
     "metadata": {},
     "output_type": "display_data"
    },
    {
     "data": {
      "text/plain": [
       "\n",
       "\tShapiro-Wilk normality test\n",
       "\n",
       "data:  diamante_co\n",
       "W = 0.81041, p-value = 0.000438\n"
      ]
     },
     "metadata": {},
     "output_type": "display_data"
    },
    {
     "name": "stderr",
     "output_type": "stream",
     "text": [
      "Warning message in wilcox.test.default(diamante_cb, diamante_co, alternative = \"two.sided\", :\n",
      "\"cannot compute exact p-value with ties\""
     ]
    },
    {
     "data": {
      "text/plain": [
       "\n",
       "\tWilcoxon rank sum test with continuity correction\n",
       "\n",
       "data:  diamante_cb and diamante_co\n",
       "W = 333, p-value = 0.3588\n",
       "alternative hypothesis: true location shift is not equal to 0\n"
      ]
     },
     "metadata": {},
     "output_type": "display_data"
    }
   ],
   "source": [
    "diamante <- filter(secundarias, Departamento == \"DIAMANTE\")\n",
    "diamante_cb <- diamante$Mat_ciclo_basico\n",
    "diamante_co <- diamante$Mat_ciclo_orientado\n",
    "\n",
    "#Revisamos la normalidad de los datos\n",
    "shapiro.test(diamante_cb)\n",
    "shapiro.test(diamante_co)\n",
    "\n",
    "#Realizamos el Test correspondiente (Test no paramétrico)\n",
    "wilcox.test(diamante_cb,diamante_co, alternative = \"two.sided\", conf.level = 0.95, paired = FALSE)"
   ]
  },
  {
   "cell_type": "markdown",
   "id": "1597ffb7",
   "metadata": {},
   "source": [
    "# Ejercicio 2 Analisis de matriculas por Curso\n"
   ]
  },
  {
   "cell_type": "code",
   "execution_count": 56,
   "id": "b20c01e7",
   "metadata": {},
   "outputs": [
    {
     "data": {
      "text/html": [
       "<table>\n",
       "<thead><tr><th scope=col>curso</th><th scope=col>matricula</th></tr></thead>\n",
       "<tbody>\n",
       "\t<tr><td>Primero</td><td> 96    </td></tr>\n",
       "\t<tr><td>Primero</td><td> 32    </td></tr>\n",
       "\t<tr><td>Primero</td><td> 15    </td></tr>\n",
       "\t<tr><td>Primero</td><td> 21    </td></tr>\n",
       "\t<tr><td>Primero</td><td>151    </td></tr>\n",
       "\t<tr><td>Primero</td><td> 99    </td></tr>\n",
       "\t<tr><td>Primero</td><td> 39    </td></tr>\n",
       "\t<tr><td>Primero</td><td>106    </td></tr>\n",
       "\t<tr><td>Primero</td><td> 53    </td></tr>\n",
       "\t<tr><td>Primero</td><td>106    </td></tr>\n",
       "\t<tr><td>Primero</td><td>100    </td></tr>\n",
       "\t<tr><td>Primero</td><td>  9    </td></tr>\n",
       "\t<tr><td>Primero</td><td> 11    </td></tr>\n",
       "\t<tr><td>Primero</td><td> 15    </td></tr>\n",
       "\t<tr><td>Primero</td><td> 95    </td></tr>\n",
       "\t<tr><td>Primero</td><td> 90    </td></tr>\n",
       "\t<tr><td>Primero</td><td> 12    </td></tr>\n",
       "\t<tr><td>Primero</td><td>118    </td></tr>\n",
       "\t<tr><td>Primero</td><td> 14    </td></tr>\n",
       "\t<tr><td>Primero</td><td> 26    </td></tr>\n",
       "\t<tr><td>Primero</td><td>131    </td></tr>\n",
       "\t<tr><td>Primero</td><td> 34    </td></tr>\n",
       "\t<tr><td>Primero</td><td>119    </td></tr>\n",
       "\t<tr><td>Primero</td><td> 17    </td></tr>\n",
       "\t<tr><td>Primero</td><td> 26    </td></tr>\n",
       "\t<tr><td>Primero</td><td> 10    </td></tr>\n",
       "\t<tr><td>Primero</td><td>  4    </td></tr>\n",
       "\t<tr><td>Primero</td><td> 14    </td></tr>\n",
       "\t<tr><td>Primero</td><td> 25    </td></tr>\n",
       "\t<tr><td>Primero</td><td> 12    </td></tr>\n",
       "\t<tr><td>...</td><td>...</td></tr>\n",
       "\t<tr><td>Sexto</td><td> 48  </td></tr>\n",
       "\t<tr><td>Sexto</td><td> 22  </td></tr>\n",
       "\t<tr><td>Sexto</td><td> 17  </td></tr>\n",
       "\t<tr><td>Sexto</td><td> 11  </td></tr>\n",
       "\t<tr><td>Sexto</td><td> 29  </td></tr>\n",
       "\t<tr><td>Sexto</td><td> 20  </td></tr>\n",
       "\t<tr><td>Sexto</td><td> 68  </td></tr>\n",
       "\t<tr><td>Sexto</td><td> 43  </td></tr>\n",
       "\t<tr><td>Sexto</td><td>107  </td></tr>\n",
       "\t<tr><td>Sexto</td><td> 42  </td></tr>\n",
       "\t<tr><td>Sexto</td><td> 13  </td></tr>\n",
       "\t<tr><td>Sexto</td><td> 13  </td></tr>\n",
       "\t<tr><td>Sexto</td><td> 19  </td></tr>\n",
       "\t<tr><td>Sexto</td><td> 55  </td></tr>\n",
       "\t<tr><td>Sexto</td><td> 89  </td></tr>\n",
       "\t<tr><td>Sexto</td><td> 10  </td></tr>\n",
       "\t<tr><td>Sexto</td><td> 59  </td></tr>\n",
       "\t<tr><td>Sexto</td><td> 11  </td></tr>\n",
       "\t<tr><td>Sexto</td><td> 22  </td></tr>\n",
       "\t<tr><td>Sexto</td><td> 16  </td></tr>\n",
       "\t<tr><td>Sexto</td><td> 63  </td></tr>\n",
       "\t<tr><td>Sexto</td><td> 11  </td></tr>\n",
       "\t<tr><td>Sexto</td><td> 11  </td></tr>\n",
       "\t<tr><td>Sexto</td><td> 14  </td></tr>\n",
       "\t<tr><td>Sexto</td><td> 12  </td></tr>\n",
       "\t<tr><td>Sexto</td><td> 16  </td></tr>\n",
       "\t<tr><td>Sexto</td><td> 10  </td></tr>\n",
       "\t<tr><td>Sexto</td><td> 26  </td></tr>\n",
       "\t<tr><td>Sexto</td><td> 13  </td></tr>\n",
       "\t<tr><td>Sexto</td><td> 28  </td></tr>\n",
       "</tbody>\n",
       "</table>\n"
      ],
      "text/latex": [
       "\\begin{tabular}{r|ll}\n",
       " curso & matricula\\\\\n",
       "\\hline\n",
       "\t Primero &  96    \\\\\n",
       "\t Primero &  32    \\\\\n",
       "\t Primero &  15    \\\\\n",
       "\t Primero &  21    \\\\\n",
       "\t Primero & 151    \\\\\n",
       "\t Primero &  99    \\\\\n",
       "\t Primero &  39    \\\\\n",
       "\t Primero & 106    \\\\\n",
       "\t Primero &  53    \\\\\n",
       "\t Primero & 106    \\\\\n",
       "\t Primero & 100    \\\\\n",
       "\t Primero &   9    \\\\\n",
       "\t Primero &  11    \\\\\n",
       "\t Primero &  15    \\\\\n",
       "\t Primero &  95    \\\\\n",
       "\t Primero &  90    \\\\\n",
       "\t Primero &  12    \\\\\n",
       "\t Primero & 118    \\\\\n",
       "\t Primero &  14    \\\\\n",
       "\t Primero &  26    \\\\\n",
       "\t Primero & 131    \\\\\n",
       "\t Primero &  34    \\\\\n",
       "\t Primero & 119    \\\\\n",
       "\t Primero &  17    \\\\\n",
       "\t Primero &  26    \\\\\n",
       "\t Primero &  10    \\\\\n",
       "\t Primero &   4    \\\\\n",
       "\t Primero &  14    \\\\\n",
       "\t Primero &  25    \\\\\n",
       "\t Primero &  12    \\\\\n",
       "\t ... & ...\\\\\n",
       "\t Sexto &  48  \\\\\n",
       "\t Sexto &  22  \\\\\n",
       "\t Sexto &  17  \\\\\n",
       "\t Sexto &  11  \\\\\n",
       "\t Sexto &  29  \\\\\n",
       "\t Sexto &  20  \\\\\n",
       "\t Sexto &  68  \\\\\n",
       "\t Sexto &  43  \\\\\n",
       "\t Sexto & 107  \\\\\n",
       "\t Sexto &  42  \\\\\n",
       "\t Sexto &  13  \\\\\n",
       "\t Sexto &  13  \\\\\n",
       "\t Sexto &  19  \\\\\n",
       "\t Sexto &  55  \\\\\n",
       "\t Sexto &  89  \\\\\n",
       "\t Sexto &  10  \\\\\n",
       "\t Sexto &  59  \\\\\n",
       "\t Sexto &  11  \\\\\n",
       "\t Sexto &  22  \\\\\n",
       "\t Sexto &  16  \\\\\n",
       "\t Sexto &  63  \\\\\n",
       "\t Sexto &  11  \\\\\n",
       "\t Sexto &  11  \\\\\n",
       "\t Sexto &  14  \\\\\n",
       "\t Sexto &  12  \\\\\n",
       "\t Sexto &  16  \\\\\n",
       "\t Sexto &  10  \\\\\n",
       "\t Sexto &  26  \\\\\n",
       "\t Sexto &  13  \\\\\n",
       "\t Sexto &  28  \\\\\n",
       "\\end{tabular}\n"
      ],
      "text/markdown": [
       "\n",
       "| curso | matricula |\n",
       "|---|---|\n",
       "| Primero |  96     |\n",
       "| Primero |  32     |\n",
       "| Primero |  15     |\n",
       "| Primero |  21     |\n",
       "| Primero | 151     |\n",
       "| Primero |  99     |\n",
       "| Primero |  39     |\n",
       "| Primero | 106     |\n",
       "| Primero |  53     |\n",
       "| Primero | 106     |\n",
       "| Primero | 100     |\n",
       "| Primero |   9     |\n",
       "| Primero |  11     |\n",
       "| Primero |  15     |\n",
       "| Primero |  95     |\n",
       "| Primero |  90     |\n",
       "| Primero |  12     |\n",
       "| Primero | 118     |\n",
       "| Primero |  14     |\n",
       "| Primero |  26     |\n",
       "| Primero | 131     |\n",
       "| Primero |  34     |\n",
       "| Primero | 119     |\n",
       "| Primero |  17     |\n",
       "| Primero |  26     |\n",
       "| Primero |  10     |\n",
       "| Primero |   4     |\n",
       "| Primero |  14     |\n",
       "| Primero |  25     |\n",
       "| Primero |  12     |\n",
       "| ... | ... |\n",
       "| Sexto |  48   |\n",
       "| Sexto |  22   |\n",
       "| Sexto |  17   |\n",
       "| Sexto |  11   |\n",
       "| Sexto |  29   |\n",
       "| Sexto |  20   |\n",
       "| Sexto |  68   |\n",
       "| Sexto |  43   |\n",
       "| Sexto | 107   |\n",
       "| Sexto |  42   |\n",
       "| Sexto |  13   |\n",
       "| Sexto |  13   |\n",
       "| Sexto |  19   |\n",
       "| Sexto |  55   |\n",
       "| Sexto |  89   |\n",
       "| Sexto |  10   |\n",
       "| Sexto |  59   |\n",
       "| Sexto |  11   |\n",
       "| Sexto |  22   |\n",
       "| Sexto |  16   |\n",
       "| Sexto |  63   |\n",
       "| Sexto |  11   |\n",
       "| Sexto |  11   |\n",
       "| Sexto |  14   |\n",
       "| Sexto |  12   |\n",
       "| Sexto |  16   |\n",
       "| Sexto |  10   |\n",
       "| Sexto |  26   |\n",
       "| Sexto |  13   |\n",
       "| Sexto |  28   |\n",
       "\n"
      ],
      "text/plain": [
       "     curso   matricula\n",
       "1    Primero  96      \n",
       "2    Primero  32      \n",
       "3    Primero  15      \n",
       "4    Primero  21      \n",
       "5    Primero 151      \n",
       "6    Primero  99      \n",
       "7    Primero  39      \n",
       "8    Primero 106      \n",
       "9    Primero  53      \n",
       "10   Primero 106      \n",
       "11   Primero 100      \n",
       "12   Primero   9      \n",
       "13   Primero  11      \n",
       "14   Primero  15      \n",
       "15   Primero  95      \n",
       "16   Primero  90      \n",
       "17   Primero  12      \n",
       "18   Primero 118      \n",
       "19   Primero  14      \n",
       "20   Primero  26      \n",
       "21   Primero 131      \n",
       "22   Primero  34      \n",
       "23   Primero 119      \n",
       "24   Primero  17      \n",
       "25   Primero  26      \n",
       "26   Primero  10      \n",
       "27   Primero   4      \n",
       "28   Primero  14      \n",
       "29   Primero  25      \n",
       "30   Primero  12      \n",
       "...  ...     ...      \n",
       "1117 Sexto    48      \n",
       "1118 Sexto    22      \n",
       "1119 Sexto    17      \n",
       "1120 Sexto    11      \n",
       "1121 Sexto    29      \n",
       "1122 Sexto    20      \n",
       "1123 Sexto    68      \n",
       "1124 Sexto    43      \n",
       "1125 Sexto   107      \n",
       "1126 Sexto    42      \n",
       "1127 Sexto    13      \n",
       "1128 Sexto    13      \n",
       "1129 Sexto    19      \n",
       "1130 Sexto    55      \n",
       "1131 Sexto    89      \n",
       "1132 Sexto    10      \n",
       "1133 Sexto    59      \n",
       "1134 Sexto    11      \n",
       "1135 Sexto    22      \n",
       "1136 Sexto    16      \n",
       "1137 Sexto    63      \n",
       "1138 Sexto    11      \n",
       "1139 Sexto    11      \n",
       "1140 Sexto    14      \n",
       "1141 Sexto    12      \n",
       "1142 Sexto    16      \n",
       "1143 Sexto    10      \n",
       "1144 Sexto    26      \n",
       "1145 Sexto    13      \n",
       "1146 Sexto    28      "
      ]
     },
     "metadata": {},
     "output_type": "display_data"
    }
   ],
   "source": [
    "secundarias <- na.omit(secundarias)\n",
    "Primero <- secundarias$Primero\n",
    "Segundo <- secundarias$Segundo\n",
    "Tercero <- secundarias$Tercero\n",
    "Cuarto <- secundarias$Cuarto\n",
    "Quinto <- secundarias$Quinto\n",
    "Sexto <- secundarias$Sexto\n",
    "matricula <- as.numeric(c(primero,segundo,tercero,cuarto,quinto,sexto))\n",
    "curso <- as.factor(c(rep(\"Primero\",length(Primero)), \n",
    "                     rep(\"Segundo\",length(Segundo)),\n",
    "                     rep(\"Tercero\",length(Tercero)),\n",
    "                     rep(\"Cuarto\",length(Cuarto)),\n",
    "                     rep(\"Quinto\",length(Quinto)),\n",
    "                     rep(\"Sexto\", length(Sexto))))\n",
    "matricula_curso <- data.frame(curso,matricula)\n",
    "matricula_curso\n",
    "matricula_curso$curso  <- factor(matricula_curso$curso, levels = c(\"Primero\",\"Segundo\",\"Tercero\",\"Cuarto\",\"Quinto\",\"Sexto\"))"
   ]
  },
  {
   "cell_type": "code",
   "execution_count": 58,
   "id": "5e31f973",
   "metadata": {},
   "outputs": [
    {
     "data": {
      "image/png": "[encoded data removed]",
      "text/plain": [
       "Plot with title \"Cantidad de matriculas por curso en el departamento de Diamante\""
      ]
     },
     "metadata": {},
     "output_type": "display_data"
    }
   ],
   "source": [
    "boxplot(matricula_curso$matricula ~ matricula_curso$curso, \n",
    "        col = c(\"yellow\", \"blue\", \"orange\",\"green\",\"purple\",\"brown\"), \n",
    "        ylim = c(0,300),\n",
    "        ylab = \"Matricula por curso\", \n",
    "        xlab=\"Cursos\",\n",
    "        sub=\"Fuente de elaboración propia\",\n",
    "        main=\"Cantidad de matriculas por curso en el departamento de Diamante\")"
   ]
  },
  {
   "cell_type": "code",
   "execution_count": 62,
   "id": "d78c28ce",
   "metadata": {},
   "outputs": [
    {
     "data": {
      "text/html": [
       "<table>\n",
       "<thead><tr><th scope=col>curso</th><th scope=col>mean</th><th scope=col>datos</th></tr></thead>\n",
       "<tbody>\n",
       "\t<tr><td>Primero</td><td>42.8   </td><td>191    </td></tr>\n",
       "\t<tr><td>Segundo</td><td>44.1   </td><td>191    </td></tr>\n",
       "\t<tr><td>Tercero</td><td>38.2   </td><td>191    </td></tr>\n",
       "\t<tr><td>Cuarto </td><td>40.9   </td><td>191    </td></tr>\n",
       "\t<tr><td>Quinto </td><td>34.0   </td><td>191    </td></tr>\n",
       "\t<tr><td>Sexto  </td><td>31.0   </td><td>191    </td></tr>\n",
       "</tbody>\n",
       "</table>\n"
      ],
      "text/latex": [
       "\\begin{tabular}{r|lll}\n",
       " curso & mean & datos\\\\\n",
       "\\hline\n",
       "\t Primero & 42.8    & 191    \\\\\n",
       "\t Segundo & 44.1    & 191    \\\\\n",
       "\t Tercero & 38.2    & 191    \\\\\n",
       "\t Cuarto  & 40.9    & 191    \\\\\n",
       "\t Quinto  & 34.0    & 191    \\\\\n",
       "\t Sexto   & 31.0    & 191    \\\\\n",
       "\\end{tabular}\n"
      ],
      "text/markdown": [
       "\n",
       "| curso | mean | datos |\n",
       "|---|---|---|\n",
       "| Primero | 42.8    | 191     |\n",
       "| Segundo | 44.1    | 191     |\n",
       "| Tercero | 38.2    | 191     |\n",
       "| Cuarto  | 40.9    | 191     |\n",
       "| Quinto  | 34.0    | 191     |\n",
       "| Sexto   | 31.0    | 191     |\n",
       "\n"
      ],
      "text/plain": [
       "  curso   mean datos\n",
       "1 Primero 42.8 191  \n",
       "2 Segundo 44.1 191  \n",
       "3 Tercero 38.2 191  \n",
       "4 Cuarto  40.9 191  \n",
       "5 Quinto  34.0 191  \n",
       "6 Sexto   31.0 191  "
      ]
     },
     "metadata": {},
     "output_type": "display_data"
    },
    {
     "data": {
      "text/plain": [
       "              Df  Sum Sq Mean Sq F value   Pr(>F)    \n",
       "curso          5   25381    5076   4.522 0.000436 ***\n",
       "Residuals   1140 1279695    1123                     \n",
       "---\n",
       "Signif. codes:  0 '***' 0.001 '**' 0.01 '*' 0.05 '.' 0.1 ' ' 1"
      ]
     },
     "metadata": {},
     "output_type": "display_data"
    }
   ],
   "source": [
    "matricula_curso %>% group_by(curso) %>%\n",
    "  summarise(mean = round(mean(matricula),1), datos = n())\n",
    "#Genero el modelo de ANOVA\n",
    "fm = aov( matricula ~ curso )\n",
    "summary(fm) # pvalor < 0.05 rechazamos H0 y existe al menos una de las medias que difiere en cuanto a las otras"
   ]
  },
  {
   "cell_type": "code",
   "execution_count": 66,
   "id": "d6592e71",
   "metadata": {},
   "outputs": [
    {
     "data": {
      "text/plain": [
       "  Tukey multiple comparisons of means\n",
       "    95% family-wise confidence level\n",
       "\n",
       "Fit: aov(formula = matricula ~ curso)\n",
       "\n",
       "$curso\n",
       "                      diff         lwr        upr     p adj\n",
       "Primero-Cuarto    1.848168  -7.9386061 11.6349412 0.9945532\n",
       "Quinto-Cuarto    -6.900524 -16.6872972  2.8862501 0.3355850\n",
       "Segundo-Cuarto    3.204188  -6.5825852 12.9909622 0.9375423\n",
       "Sexto-Cuarto     -9.968586 -19.7553601 -0.1818127 0.0430210\n",
       "Tercero-Cuarto   -2.774869 -12.5616428  7.0119046 0.9658591\n",
       "Quinto-Primero   -8.748691 -18.5354648  1.0380826 0.1103393\n",
       "Segundo-Primero   1.356021  -8.4307527 11.1427946 0.9987533\n",
       "Sexto-Primero   -11.816754 -21.6035276 -2.0299803 0.0077348\n",
       "Tercero-Primero  -4.623037 -14.4098103  5.1637370 0.7577216\n",
       "Segundo-Quinto   10.104712   0.3179384 19.8914857 0.0383556\n",
       "Sexto-Quinto     -3.068063 -12.8548365  6.7187108 0.9477748\n",
       "Tercero-Quinto    4.125654  -5.6611192 13.9124281 0.8353417\n",
       "Sexto-Segundo   -13.172775 -22.9595485 -3.3860012 0.0017872\n",
       "Tercero-Segundo  -5.979058 -15.7658313  3.8077161 0.5028527\n",
       "Tercero-Sexto     7.193717  -2.5930564 16.9804909 0.2888372\n"
      ]
     },
     "metadata": {},
     "output_type": "display_data"
    }
   ],
   "source": [
    "TukeyHSD(fm, \"curso\", conf.level = .95)"
   ]
  },
  {
   "cell_type": "code",
   "execution_count": 65,
   "id": "8f56c224",
   "metadata": {},
   "outputs": [
    {
     "data": {
      "text/plain": [
       "\n",
       "\tShapiro-Wilk normality test\n",
       "\n",
       "data:  matricula_curso$matricula[matricula_curso$curso == \"Primero\"]\n",
       "W = 0.89376, p-value = 2.042e-10\n"
      ]
     },
     "metadata": {},
     "output_type": "display_data"
    },
    {
     "data": {
      "text/plain": [
       "\n",
       "\tShapiro-Wilk normality test\n",
       "\n",
       "data:  matricula_curso$matricula[matricula_curso$curso == \"Segundo\"]\n",
       "W = 0.87039, p-value = 9.915e-12\n"
      ]
     },
     "metadata": {},
     "output_type": "display_data"
    },
    {
     "data": {
      "text/plain": [
       "\n",
       "\tShapiro-Wilk normality test\n",
       "\n",
       "data:  matricula_curso$matricula[matricula_curso$curso == \"Tercero\"]\n",
       "W = 0.88163, p-value = 4.045e-11\n"
      ]
     },
     "metadata": {},
     "output_type": "display_data"
    },
    {
     "data": {
      "text/plain": [
       "\n",
       "\tShapiro-Wilk normality test\n",
       "\n",
       "data:  matricula_curso$matricula[matricula_curso$curso == \"Cuarto\"]\n",
       "W = 0.82117, p-value = 4.805e-14\n"
      ]
     },
     "metadata": {},
     "output_type": "display_data"
    },
    {
     "data": {
      "text/plain": [
       "\n",
       "\tShapiro-Wilk normality test\n",
       "\n",
       "data:  matricula_curso$matricula[matricula_curso$curso == \"Quinto\"]\n",
       "W = 0.79489, p-value = 4.215e-15\n"
      ]
     },
     "metadata": {},
     "output_type": "display_data"
    },
    {
     "data": {
      "text/plain": [
       "\n",
       "\tShapiro-Wilk normality test\n",
       "\n",
       "data:  matricula_curso$matricula[matricula_curso$curso == \"Sexto\"]\n",
       "W = 0.84145, p-value = 3.755e-13\n"
      ]
     },
     "metadata": {},
     "output_type": "display_data"
    }
   ],
   "source": [
    "#Analizamos los supuestos\n",
    "shapiro.test(matricula_curso$matricula[matricula_curso$curso == \"Primero\"])\n",
    "shapiro.test(matricula_curso$matricula[matricula_curso$curso == \"Segundo\"])\n",
    "shapiro.test(matricula_curso$matricula[matricula_curso$curso == \"Tercero\"])\n",
    "shapiro.test(matricula_curso$matricula[matricula_curso$curso == \"Cuarto\"])\n",
    "shapiro.test(matricula_curso$matricula[matricula_curso$curso == \"Quinto\"])\n",
    "shapiro.test(matricula_curso$matricula[matricula_curso$curso == \"Sexto\"])\n"
   ]
  },
  {
   "cell_type": "code",
   "execution_count": 67,
   "id": "193e66df",
   "metadata": {},
   "outputs": [
    {
     "data": {
      "text/plain": [
       "\n",
       "\tKruskal-Wallis rank sum test\n",
       "\n",
       "data:  matricula_curso$curso and matricula_curso$matricula\n",
       "Kruskal-Wallis chi-squared = 174.34, df = 140, p-value = 0.02594\n"
      ]
     },
     "metadata": {},
     "output_type": "display_data"
    }
   ],
   "source": [
    "#Test no parametrico Kruskal Wallis\n",
    "kruskal.test(matricula_curso$curso,matricula_curso$matricula)"
   ]
  },
  {
   "cell_type": "code",
   "execution_count": 69,
   "id": "daf6c9c0",
   "metadata": {},
   "outputs": [
    {
     "data": {
      "text/plain": [
       "\n",
       "\tPairwise comparisons using Wilcoxon rank sum test \n",
       "\n",
       "data:  matricula_curso$matricula and matricula_curso$curso \n",
       "\n",
       "        Primero Segundo Tercero Cuarto Quinto\n",
       "Segundo 1.0000  -       -       -      -     \n",
       "Tercero 1.0000  1.0000  -       -      -     \n",
       "Cuarto  1.0000  1.0000  1.0000  -      -     \n",
       "Quinto  0.0513  0.0205  0.4213  0.3268 -     \n",
       "Sexto   0.0051  0.0015  0.0732  0.0513 1.0000\n",
       "\n",
       "P value adjustment method: holm "
      ]
     },
     "metadata": {},
     "output_type": "display_data"
    }
   ],
   "source": [
    "#Analisis a posteriori\n",
    "pairwise.wilcox.test(matricula_curso$matricula,matricula_curso$curso)"
   ]
  }
 ],
 "metadata": {
  "kernelspec": {
   "display_name": "R",
   "language": "R",
   "name": "ir"
  },
  "language_info": {
   "codemirror_mode": "r",
   "file_extension": ".r",
   "mimetype": "text/x-r-source",
   "name": "R",
   "pygments_lexer": "r",
   "version": "3.6.1"
  }
 },
 "nbformat": 4,
 "nbformat_minor": 5
}
