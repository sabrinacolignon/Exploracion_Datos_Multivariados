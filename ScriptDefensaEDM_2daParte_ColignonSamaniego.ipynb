{
  "cells": [
    {
      "cell_type": "code",
      "execution_count": null,
      "id": "bdfcca9b",
      "metadata": {
        "collapsed": true,
        "id": "bdfcca9b",
        "outputId": "0160768f-101c-4889-d4ee-7cb0a2afc517"
      },
      "outputs": [
        {
          "name": "stderr",
          "output_type": "stream",
          "text": [
            "Warning message:\n",
            "\"package 'readxl' was built under R version 3.6.3\"Warning message:\n",
            "\"package 'dplyr' was built under R version 3.6.3\"\n",
            "Attaching package: 'dplyr'\n",
            "\n",
            "The following objects are masked from 'package:stats':\n",
            "\n",
            "    filter, lag\n",
            "\n",
            "The following objects are masked from 'package:base':\n",
            "\n",
            "    intersect, setdiff, setequal, union\n",
            "\n",
            "Warning message:\n",
            "\"package 'ggplot2' was built under R version 3.6.3\"Warning message:\n",
            "\"package 'scales' was built under R version 3.6.3\"Warning message:\n",
            "\"package 'stringr' was built under R version 3.6.3\"Warning message:\n",
            "\"package 'nortest' was built under R version 3.6.3\"Warning message:\n",
            "\"package 'corrplot' was built under R version 3.6.3\"corrplot 0.88 loaded\n",
            "Warning message:\n",
            "\"package 'PerformanceAnalytics' was built under R version 3.6.3\"Loading required package: xts\n",
            "Loading required package: zoo\n",
            "\n",
            "Attaching package: 'zoo'\n",
            "\n",
            "The following objects are masked from 'package:base':\n",
            "\n",
            "    as.Date, as.Date.numeric\n",
            "\n",
            "Registered S3 method overwritten by 'xts':\n",
            "  method     from\n",
            "  as.zoo.xts zoo \n",
            "\n",
            "Attaching package: 'xts'\n",
            "\n",
            "The following objects are masked from 'package:dplyr':\n",
            "\n",
            "    first, last\n",
            "\n",
            "\n",
            "Attaching package: 'PerformanceAnalytics'\n",
            "\n",
            "The following object is masked from 'package:graphics':\n",
            "\n",
            "    legend\n",
            "\n",
            "Warning message:\n",
            "\"package 'GGally' was built under R version 3.6.3\"Registered S3 method overwritten by 'GGally':\n",
            "  method from   \n",
            "  +.gg   ggplot2\n",
            "Warning message:\n",
            "\"package 'tidyr' was built under R version 3.6.3\""
          ]
        }
      ],
      "source": [
        "#Cargamos las librerias utilizadas para realizar el análisis\n",
        "library(readxl)\n",
        "library(dplyr)\n",
        "library(ggplot2)\n",
        "library(scales)\n",
        "library(stringr)\n",
        "library(nortest)\n",
        "library(corrplot)\n",
        "library(PerformanceAnalytics)\n",
        "library(GGally)\n",
        "library(ggradar)\n",
        "library(gmodels)\n",
        "library(DescTools)\n",
        "library(tidyr)\n",
        "library(scatterplot3d)\n",
        "library(gmodels)"
      ]
    },
    {
      "cell_type": "code",
      "execution_count": null,
      "id": "a56c399e",
      "metadata": {
        "id": "a56c399e"
      },
      "outputs": [],
      "source": [
        "#Cargamos la base de datos a utilizar\n",
        "secundaria_promedios <- read_excel(\"C:\\\\Users\\\\patoa\\\\OneDrive\\\\Escritorio\\\\Anchu\\\\Exploracion de datos multi\\\\promedios_secundaria.xlsx\")\n",
        "secundarias_base <- read_excel(\"C:\\\\Users\\\\patoa\\\\OneDrive\\\\Escritorio\\\\Anchu\\\\Exploracion de datos multi\\\\Secundaria3.xlsx\")\n",
        "secundaria_promedios <- na.omit(secundaria_promedios)"
      ]
    },
    {
      "cell_type": "markdown",
      "id": "78492b5d",
      "metadata": {
        "id": "78492b5d"
      },
      "source": [
        "# Comenzamos con los análisis"
      ]
    },
    {
      "cell_type": "markdown",
      "id": "bf594ad6",
      "metadata": {
        "id": "bf594ad6"
      },
      "source": [
        "# Tipificación y Comparación de Medias"
      ]
    },
    {
      "cell_type": "code",
      "execution_count": null,
      "id": "30fedd5e",
      "metadata": {
        "collapsed": true,
        "id": "30fedd5e",
        "outputId": "ca3b16b4-f947-410e-8d54-7d485058945a"
      },
      "outputs": [
        {
          "data": {
            "text/html": [
              "-1.41981958414009"
            ],
            "text/latex": [
              "-1.41981958414009"
            ],
            "text/markdown": [
              "-1.41981958414009"
            ],
            "text/plain": [
              "[1] -1.41982"
            ]
          },
          "metadata": {},
          "output_type": "display_data"
        }
      ],
      "source": [
        "#Analizamos el rendimiento de las escuelas públicas y privadas en Matemática comparando\n",
        "#con la media obtenida de todo el departamento\n",
        "#Calculamos los estadísticos del departamento\n",
        "mediagral <- mean(filter(secundaria_promedios, Materia == \"MATEMATICA\")$Promedio)\n",
        "desvio <- sd(filter(secundaria_promedios, Materia == \"MATEMATICA\")$Promedio)\n",
        "\n",
        "#Calculamos la media para cada tipo de escuela\n",
        "mediapriv <- mean(filter(secundaria_promedios, Materia == \"MATEMATICA\" & EsPrivada == \"S\")$Promedio)\n",
        "mediapub <- mean(filter(secundaria_promedios, Materia == \"MATEMATICA\" & EsPrivada == \"N\")$Promedio)\n",
        "\n",
        "#Calculamos la puntuación Z\n",
        "Zpriv <- (mediapriv-mediagral)/desvio #0.303 Por encima del promedio\n",
        "Zpub <- (mediapub-mediagral)/desvio  #-0.117 Por debajo del promedio\n"
      ]
    },
    {
      "cell_type": "code",
      "execution_count": null,
      "id": "65f7d036",
      "metadata": {
        "id": "65f7d036"
      },
      "outputs": [],
      "source": [
        "#Comparamos el rendimiento del primer año en matemática, para una escuela pública y una escuela privada particular\n",
        "#Separamos dos datasets para cada escuela\n",
        "privada_primero <- filter(secundaria_promedios, CUE == 6000116 & Curso == 1 & Materia == \"MATEMATICA\")\n",
        "publica_primero <- filter(secundaria_promedios, CUE == 6005160 & Curso == 1 & Materia == \"MATEMATICA\")\n",
        "#Creamos los vectores para comparar\n",
        "publica_n <- as.numeric(filter(secundaria_promedios,Curso == 1 & Materia ==\"MATEMATICA\" & CUE == 6000116)$Promedio) # Primer grupo\n",
        "privada_n <-  as.numeric(filter(secundaria_promedios,Curso == 1 & Materia ==\"MATEMATICA\" & CUE == 6005160)$Promedio)"
      ]
    },
    {
      "cell_type": "code",
      "execution_count": null,
      "id": "59c2de5b",
      "metadata": {
        "collapsed": true,
        "id": "59c2de5b",
        "outputId": "f068c579-1fd9-4af3-945d-f7a6d594a520"
      },
      "outputs": [
        {
          "data": {
            "image/png": "[encoded data removed]",
            "text/plain": [
              "Plot with title \"Histograma Fa superpuestas Mat. 1er Año\""
            ]
          },
          "metadata": {},
          "output_type": "display_data"
        }
      ],
      "source": [
        "#Histograma superpuesto de Frecuencias absolutas\n",
        "hist(publica_n,\n",
        "     col=\"paleturquoise3\",\n",
        "     border=\"royalblue\",\n",
        "     breaks = \"Sturges\",\n",
        "     ylim = c(0, 20),\n",
        "     xlim = c(5,10),\n",
        "     density=20,\n",
        "     angle=70,\n",
        "     xlab=\"Notas\",\n",
        "     ylab=\"Frecuencia absoluta\",\n",
        "     main=\"Histograma Fa superpuestas Mat. 1er Año\",\n",
        "     labels = TRUE,\n",
        "     sub = \"Fuente de elaboración propia\")\n",
        "\n",
        "hist(privada_n,\n",
        "     add = TRUE,\n",
        "     col = rgb(1, 1, 0, alpha = 0.5),\n",
        "     breaks = \"Sturges\",\n",
        "     labels = TRUE )\n",
        "\n",
        "#Legenda\n",
        "legend(\"topright\",\n",
        "       legend = c(\"Escuela Pública\", \"Escuela Privada\"),\n",
        "       fill = c(\"paleturquoise3\", \"#FFFF0080\"))"
      ]
    },
    {
      "cell_type": "code",
      "execution_count": null,
      "id": "4abb79b1",
      "metadata": {
        "id": "4abb79b1"
      },
      "outputs": [],
      "source": [
        "#Para poder comparar de una mejor manera normalizamos las muestras y volvemos a crear el histograma\n",
        "privada_primero <- mutate(privada_primero, tipificado = ((privada_primero$Promedio)-7.14)/1.13)\n",
        "publica_primero <- mutate(publica_primero, tipificado = ((publica_primero$Promedio)-7.083)/0.86)\n",
        "x <- privada_primero$tipificado\n",
        "y <- publica_primero$tipificado"
      ]
    },
    {
      "cell_type": "code",
      "execution_count": null,
      "id": "8ef68207",
      "metadata": {
        "collapsed": true,
        "id": "8ef68207",
        "outputId": "94d76225-1fb8-469d-f169-7f8ac55f8c2d"
      },
      "outputs": [
        {
          "data": {
            "image/png": "[encoded data removed]",
            "text/plain": [
              "Plot with title \"Histograma normalizado Fa superpuestas Mat. 1er Año\""
            ]
          },
          "metadata": {},
          "output_type": "display_data"
        }
      ],
      "source": [
        "#Creamos nuevamente el histograma\n",
        "hist(x,\n",
        "     col=\"paleturquoise3\",\n",
        "     border=\"royalblue\",\n",
        "     breaks = \"Sturges\",\n",
        "     ylim = c(0, 20),\n",
        "     xlim = c(-3,3),\n",
        "     density=20,\n",
        "     angle=70,\n",
        "     xlab=\"Notas normalizadas\",\n",
        "     ylab=\"Frecuencia absoluta\",\n",
        "     main=\"Histograma normalizado Fa superpuestas Mat. 1er Año\",\n",
        "     sub = \"Fuente de elaboración propia\",\n",
        "     labels = T)\n",
        "\n",
        "hist(y,\n",
        "     add = TRUE,\n",
        "     col = rgb(1, 1, 0, alpha = 0.5),\n",
        "     breaks = \"Sturges\",\n",
        "     xlim = c(-3,3),\n",
        "     sub = \"Fuente de elaboración propia\",\n",
        "     labels = T)\n",
        "\n",
        "#Legenda\n",
        "legend(\"topright\",\n",
        "       legend = c(\"Escuela Pública\", \"Escuela Privada\"),\n",
        "       fill = c(\"paleturquoise3\", \"#FFFF0080\"))"
      ]
    },
    {
      "cell_type": "markdown",
      "id": "de9b5423",
      "metadata": {
        "id": "de9b5423"
      },
      "source": [
        "# Comparamos los rendimientos en Matemática para el primer año tomando según Sector."
      ]
    },
    {
      "cell_type": "code",
      "execution_count": null,
      "id": "cc5bf3ce",
      "metadata": {
        "collapsed": true,
        "id": "cc5bf3ce",
        "outputId": "3c5b08e9-7ac2-4621-bbe3-e133a6391383"
      },
      "outputs": [
        {
          "data": {
            "text/plain": [
              "\n",
              "\tLilliefors (Kolmogorov-Smirnov) normality test\n",
              "\n",
              "data:  primero_tarde$Promedio\n",
              "D = 0.1482, p-value = 5.508e-08\n"
            ]
          },
          "metadata": {},
          "output_type": "display_data"
        },
        {
          "data": {
            "text/plain": [
              "\n",
              "\tLilliefors (Kolmogorov-Smirnov) normality test\n",
              "\n",
              "data:  primero_mañana$Promedio\n",
              "D = 0.12154, p-value = 2.145e-11\n"
            ]
          },
          "metadata": {},
          "output_type": "display_data"
        },
        {
          "data": {
            "text/plain": [
              "\n",
              "\tWilcoxon rank sum test with continuity correction\n",
              "\n",
              "data:  primero_mañana$Promedio and primero_tarde$Promedio\n",
              "W = 25550, p-value = 8.104e-05\n",
              "alternative hypothesis: true location shift is not equal to 0\n"
            ]
          },
          "metadata": {},
          "output_type": "display_data"
        }
      ],
      "source": [
        "#Muestras indpendientes\n",
        "#Hipótesis generada: existe diferencia significativa entre las notas de ambos turnos?\n",
        "#H0: media privada = media pública\n",
        "#H1: media privada ≠  media pública\n",
        "#Creamos la muestra\n",
        "primero_priv <- filter(secundaria_promedios, Curso == 1 & Materia == \"MATEMATICA\" & EsPrivada == \"S\")\n",
        "primero_pub <- filter(secundaria_promedios, Curso == 1 & Materia == \"MATEMATICA\" & EsPrivada == \"N\")\n",
        "\n",
        "#Comprobamos los supuestos de normalidad\n",
        "lillie.test(primero_priv$Promedio) #pvalor: 5.508e-08\n",
        "lillie.test(primero_pub$Promedio) #pvalor: 2.145e-11\n",
        "#Rechazamos H0 y concluimos que las muestras no son normales\n",
        "\n",
        "#Realizamos el test --> prueba no paramétrica para un par de muestras independientes (Test de Wilcoxon)\n",
        "wilcox.test(primero_priv$Promedio, primero_pub$Promedio,\n",
        "           alternative = \"two.sided\",\n",
        "           conf.level = 0.05) #pvalor: 2.666e-07 < 0.05: rechazamos H0, existe una diferencia significativa\n"
      ]
    },
    {
      "cell_type": "markdown",
      "id": "f250284c",
      "metadata": {
        "id": "f250284c"
      },
      "source": [
        "# Comparación por matrícula de cada curso"
      ]
    },
    {
      "cell_type": "code",
      "execution_count": null,
      "id": "c13a85bb",
      "metadata": {
        "collapsed": true,
        "id": "c13a85bb",
        "outputId": "c6861916-c365-4aae-97b3-459864eea2b3"
      },
      "outputs": [
        {
          "data": {
            "text/html": [
              "<table>\n",
              "<thead><tr><th scope=col>curso</th><th scope=col>matricula</th></tr></thead>\n",
              "<tbody>\n",
              "\t<tr><td>Primero</td><td> 99    </td></tr>\n",
              "\t<tr><td>Primero</td><td> 10    </td></tr>\n",
              "\t<tr><td>Primero</td><td> 14    </td></tr>\n",
              "\t<tr><td>Primero</td><td>  3    </td></tr>\n",
              "\t<tr><td>Primero</td><td> 11    </td></tr>\n",
              "\t<tr><td>Primero</td><td>  7    </td></tr>\n",
              "\t<tr><td>Primero</td><td> 10    </td></tr>\n",
              "\t<tr><td>Primero</td><td> 10    </td></tr>\n",
              "\t<tr><td>Primero</td><td> 78    </td></tr>\n",
              "\t<tr><td>Primero</td><td> 62    </td></tr>\n",
              "\t<tr><td>Primero</td><td> 30    </td></tr>\n",
              "\t<tr><td>Primero</td><td> 36    </td></tr>\n",
              "\t<tr><td>Primero</td><td> 18    </td></tr>\n",
              "\t<tr><td>Primero</td><td> 78    </td></tr>\n",
              "\t<tr><td>Primero</td><td> 22    </td></tr>\n",
              "\t<tr><td>Primero</td><td> 26    </td></tr>\n",
              "\t<tr><td>Primero</td><td>  6    </td></tr>\n",
              "\t<tr><td>Primero</td><td>115    </td></tr>\n",
              "\t<tr><td>Primero</td><td> 27    </td></tr>\n",
              "\t<tr><td>Primero</td><td> 63    </td></tr>\n",
              "\t<tr><td>Primero</td><td>  5    </td></tr>\n",
              "\t<tr><td>Primero</td><td>  9    </td></tr>\n",
              "\t<tr><td>Primero</td><td>  2    </td></tr>\n",
              "\t<tr><td>Primero</td><td>  2    </td></tr>\n",
              "\t<tr><td>Primero</td><td>127    </td></tr>\n",
              "\t<tr><td>Primero</td><td>121    </td></tr>\n",
              "\t<tr><td>Segundo</td><td>134    </td></tr>\n",
              "\t<tr><td>Segundo</td><td>  6    </td></tr>\n",
              "\t<tr><td>Segundo</td><td> 13    </td></tr>\n",
              "\t<tr><td>Segundo</td><td>  6    </td></tr>\n",
              "\t<tr><td>...</td><td>...</td></tr>\n",
              "\t<tr><td>Quinto</td><td>  3   </td></tr>\n",
              "\t<tr><td>Quinto</td><td>  5   </td></tr>\n",
              "\t<tr><td>Quinto</td><td>107   </td></tr>\n",
              "\t<tr><td>Quinto</td><td> 37   </td></tr>\n",
              "\t<tr><td>Sexto </td><td> 84   </td></tr>\n",
              "\t<tr><td>Sexto </td><td>  7   </td></tr>\n",
              "\t<tr><td>Sexto </td><td>  3   </td></tr>\n",
              "\t<tr><td>Sexto </td><td>  4   </td></tr>\n",
              "\t<tr><td>Sexto </td><td> 38   </td></tr>\n",
              "\t<tr><td>Sexto </td><td> 11   </td></tr>\n",
              "\t<tr><td>Sexto </td><td>  5   </td></tr>\n",
              "\t<tr><td>Sexto </td><td>  8   </td></tr>\n",
              "\t<tr><td>Sexto </td><td> 40   </td></tr>\n",
              "\t<tr><td>Sexto </td><td> 28   </td></tr>\n",
              "\t<tr><td>Sexto </td><td> 19   </td></tr>\n",
              "\t<tr><td>Sexto </td><td>  7   </td></tr>\n",
              "\t<tr><td>Sexto </td><td>  9   </td></tr>\n",
              "\t<tr><td>Sexto </td><td> 55   </td></tr>\n",
              "\t<tr><td>Sexto </td><td> 17   </td></tr>\n",
              "\t<tr><td>Sexto </td><td> 28   </td></tr>\n",
              "\t<tr><td>Sexto </td><td>  5   </td></tr>\n",
              "\t<tr><td>Sexto </td><td> 46   </td></tr>\n",
              "\t<tr><td>Sexto </td><td> 25   </td></tr>\n",
              "\t<tr><td>Sexto </td><td> 68   </td></tr>\n",
              "\t<tr><td>Sexto </td><td> 18   </td></tr>\n",
              "\t<tr><td>Sexto </td><td>  1   </td></tr>\n",
              "\t<tr><td>Sexto </td><td>  2   </td></tr>\n",
              "\t<tr><td>Sexto </td><td>  3   </td></tr>\n",
              "\t<tr><td>Sexto </td><td>107   </td></tr>\n",
              "\t<tr><td>Sexto </td><td> 42   </td></tr>\n",
              "</tbody>\n",
              "</table>\n"
            ],
            "text/latex": [
              "\\begin{tabular}{r|ll}\n",
              " curso & matricula\\\\\n",
              "\\hline\n",
              "\t Primero &  99    \\\\\n",
              "\t Primero &  10    \\\\\n",
              "\t Primero &  14    \\\\\n",
              "\t Primero &   3    \\\\\n",
              "\t Primero &  11    \\\\\n",
              "\t Primero &   7    \\\\\n",
              "\t Primero &  10    \\\\\n",
              "\t Primero &  10    \\\\\n",
              "\t Primero &  78    \\\\\n",
              "\t Primero &  62    \\\\\n",
              "\t Primero &  30    \\\\\n",
              "\t Primero &  36    \\\\\n",
              "\t Primero &  18    \\\\\n",
              "\t Primero &  78    \\\\\n",
              "\t Primero &  22    \\\\\n",
              "\t Primero &  26    \\\\\n",
              "\t Primero &   6    \\\\\n",
              "\t Primero & 115    \\\\\n",
              "\t Primero &  27    \\\\\n",
              "\t Primero &  63    \\\\\n",
              "\t Primero &   5    \\\\\n",
              "\t Primero &   9    \\\\\n",
              "\t Primero &   2    \\\\\n",
              "\t Primero &   2    \\\\\n",
              "\t Primero & 127    \\\\\n",
              "\t Primero & 121    \\\\\n",
              "\t Segundo & 134    \\\\\n",
              "\t Segundo &   6    \\\\\n",
              "\t Segundo &  13    \\\\\n",
              "\t Segundo &   6    \\\\\n",
              "\t ... & ...\\\\\n",
              "\t Quinto &   3   \\\\\n",
              "\t Quinto &   5   \\\\\n",
              "\t Quinto & 107   \\\\\n",
              "\t Quinto &  37   \\\\\n",
              "\t Sexto  &  84   \\\\\n",
              "\t Sexto  &   7   \\\\\n",
              "\t Sexto  &   3   \\\\\n",
              "\t Sexto  &   4   \\\\\n",
              "\t Sexto  &  38   \\\\\n",
              "\t Sexto  &  11   \\\\\n",
              "\t Sexto  &   5   \\\\\n",
              "\t Sexto  &   8   \\\\\n",
              "\t Sexto  &  40   \\\\\n",
              "\t Sexto  &  28   \\\\\n",
              "\t Sexto  &  19   \\\\\n",
              "\t Sexto  &   7   \\\\\n",
              "\t Sexto  &   9   \\\\\n",
              "\t Sexto  &  55   \\\\\n",
              "\t Sexto  &  17   \\\\\n",
              "\t Sexto  &  28   \\\\\n",
              "\t Sexto  &   5   \\\\\n",
              "\t Sexto  &  46   \\\\\n",
              "\t Sexto  &  25   \\\\\n",
              "\t Sexto  &  68   \\\\\n",
              "\t Sexto  &  18   \\\\\n",
              "\t Sexto  &   1   \\\\\n",
              "\t Sexto  &   2   \\\\\n",
              "\t Sexto  &   3   \\\\\n",
              "\t Sexto  & 107   \\\\\n",
              "\t Sexto  &  42   \\\\\n",
              "\\end{tabular}\n"
            ],
            "text/markdown": [
              "\n",
              "| curso | matricula |\n",
              "|---|---|\n",
              "| Primero |  99     |\n",
              "| Primero |  10     |\n",
              "| Primero |  14     |\n",
              "| Primero |   3     |\n",
              "| Primero |  11     |\n",
              "| Primero |   7     |\n",
              "| Primero |  10     |\n",
              "| Primero |  10     |\n",
              "| Primero |  78     |\n",
              "| Primero |  62     |\n",
              "| Primero |  30     |\n",
              "| Primero |  36     |\n",
              "| Primero |  18     |\n",
              "| Primero |  78     |\n",
              "| Primero |  22     |\n",
              "| Primero |  26     |\n",
              "| Primero |   6     |\n",
              "| Primero | 115     |\n",
              "| Primero |  27     |\n",
              "| Primero |  63     |\n",
              "| Primero |   5     |\n",
              "| Primero |   9     |\n",
              "| Primero |   2     |\n",
              "| Primero |   2     |\n",
              "| Primero | 127     |\n",
              "| Primero | 121     |\n",
              "| Segundo | 134     |\n",
              "| Segundo |   6     |\n",
              "| Segundo |  13     |\n",
              "| Segundo |   6     |\n",
              "| ... | ... |\n",
              "| Quinto |   3    |\n",
              "| Quinto |   5    |\n",
              "| Quinto | 107    |\n",
              "| Quinto |  37    |\n",
              "| Sexto  |  84    |\n",
              "| Sexto  |   7    |\n",
              "| Sexto  |   3    |\n",
              "| Sexto  |   4    |\n",
              "| Sexto  |  38    |\n",
              "| Sexto  |  11    |\n",
              "| Sexto  |   5    |\n",
              "| Sexto  |   8    |\n",
              "| Sexto  |  40    |\n",
              "| Sexto  |  28    |\n",
              "| Sexto  |  19    |\n",
              "| Sexto  |   7    |\n",
              "| Sexto  |   9    |\n",
              "| Sexto  |  55    |\n",
              "| Sexto  |  17    |\n",
              "| Sexto  |  28    |\n",
              "| Sexto  |   5    |\n",
              "| Sexto  |  46    |\n",
              "| Sexto  |  25    |\n",
              "| Sexto  |  68    |\n",
              "| Sexto  |  18    |\n",
              "| Sexto  |   1    |\n",
              "| Sexto  |   2    |\n",
              "| Sexto  |   3    |\n",
              "| Sexto  | 107    |\n",
              "| Sexto  |  42    |\n",
              "\n"
            ],
            "text/plain": [
              "    curso   matricula\n",
              "1   Primero  99      \n",
              "2   Primero  10      \n",
              "3   Primero  14      \n",
              "4   Primero   3      \n",
              "5   Primero  11      \n",
              "6   Primero   7      \n",
              "7   Primero  10      \n",
              "8   Primero  10      \n",
              "9   Primero  78      \n",
              "10  Primero  62      \n",
              "11  Primero  30      \n",
              "12  Primero  36      \n",
              "13  Primero  18      \n",
              "14  Primero  78      \n",
              "15  Primero  22      \n",
              "16  Primero  26      \n",
              "17  Primero   6      \n",
              "18  Primero 115      \n",
              "19  Primero  27      \n",
              "20  Primero  63      \n",
              "21  Primero   5      \n",
              "22  Primero   9      \n",
              "23  Primero   2      \n",
              "24  Primero   2      \n",
              "25  Primero 127      \n",
              "26  Primero 121      \n",
              "27  Segundo 134      \n",
              "28  Segundo   6      \n",
              "29  Segundo  13      \n",
              "30  Segundo   6      \n",
              "... ...     ...      \n",
              "127 Quinto    3      \n",
              "128 Quinto    5      \n",
              "129 Quinto  107      \n",
              "130 Quinto   37      \n",
              "131 Sexto    84      \n",
              "132 Sexto     7      \n",
              "133 Sexto     3      \n",
              "134 Sexto     4      \n",
              "135 Sexto    38      \n",
              "136 Sexto    11      \n",
              "137 Sexto     5      \n",
              "138 Sexto     8      \n",
              "139 Sexto    40      \n",
              "140 Sexto    28      \n",
              "141 Sexto    19      \n",
              "142 Sexto     7      \n",
              "143 Sexto     9      \n",
              "144 Sexto    55      \n",
              "145 Sexto    17      \n",
              "146 Sexto    28      \n",
              "147 Sexto     5      \n",
              "148 Sexto    46      \n",
              "149 Sexto    25      \n",
              "150 Sexto    68      \n",
              "151 Sexto    18      \n",
              "152 Sexto     1      \n",
              "153 Sexto     2      \n",
              "154 Sexto     3      \n",
              "155 Sexto   107      \n",
              "156 Sexto    42      "
            ]
          },
          "metadata": {},
          "output_type": "display_data"
        }
      ],
      "source": [
        "#Creamos las muestras\n",
        "secundarias_base <- filter(secundarias_base, Departamento == \"DIAMANTE\")\n",
        "Primero <- secundarias_base$Primero\n",
        "Segundo <- secundarias_base$Segundo\n",
        "Tercero <- secundarias_base$Tercero\n",
        "Cuarto <- secundarias_base$Cuarto\n",
        "Quinto <- secundarias_base$Quinto\n",
        "Sexto <- secundarias_base$Sexto\n",
        "#Creamos un nuevo dataset de doble entrada\n",
        "matricula <- as.numeric(c(Primero,Segundo,Tercero,Cuarto,Quinto,Sexto))\n",
        "curso <- as.factor(c(rep(\"Primero\",length(Primero)),\n",
        "                     rep(\"Segundo\",length(Segundo)),\n",
        "                     rep(\"Tercero\",length(Tercero)),\n",
        "                     rep(\"Cuarto\",length(Cuarto)),\n",
        "                     rep(\"Quinto\",length(Quinto)),\n",
        "                     rep(\"Sexto\", length(Sexto))))\n",
        "matricula_curso <- data.frame(curso,matricula)\n",
        "matricula_curso\n",
        "matricula_curso$curso  <- factor(matricula_curso$curso, levels = c(\"Primero\",\"Segundo\",\"Tercero\",\"Cuarto\",\"Quinto\",\"Sexto\"))"
      ]
    },
    {
      "cell_type": "code",
      "execution_count": null,
      "id": "9c5bf7e5",
      "metadata": {
        "collapsed": true,
        "id": "9c5bf7e5",
        "outputId": "fe3fe116-0b60-47a7-b5fe-c16e7b59debb"
      },
      "outputs": [
        {
          "data": {
            "text/html": [
              "<table>\n",
              "<thead><tr><th scope=col>Cue_Anexo</th><th scope=col>Nivel</th><th scope=col>Modalidad_Educ_Gral</th><th scope=col>Cue</th><th scope=col>Estado</th><th scope=col>Sector</th><th scope=col>Departamento</th><th scope=col>NINA</th><th scope=col>Cant_Secciones</th><th scope=col>Tipo_titulo</th><th scope=col>...</th><th scope=col>Segundo</th><th scope=col>Tercero</th><th scope=col>Cuarto</th><th scope=col>Quinto</th><th scope=col>Sexto</th><th scope=col>Septimo</th><th scope=col>Mat_ciclo_basico</th><th scope=col>Mat_ciclo_orientado</th><th scope=col>Matricula_Total</th><th scope=col>Titulo</th></tr></thead>\n",
              "<tbody>\n",
              "\t<tr><td>600003600                                                                                                                                                                                                              </td><td>Secundaria                                                                                                                                                                                                             </td><td>Común                                                                                                                                                                                                                  </td><td>6000036                                                                                                                                                                                                                </td><td>Activo                                                                                                                                                                                                                 </td><td>ESTATAL                                                                                                                                                                                                                </td><td>NA                                                                                                                                                                                                                     </td><td>no                                                                                                                                                                                                                     </td><td>18                                                                                                                                                                                                                     </td><td>Ciclo básico/ educación secundaria básica                                                                                                                                                                              </td><td>...                                                                                                                                                                                                                    </td><td> 79                                                                                                                                                                                                                    </td><td> 73                                                                                                                                                                                                                    </td><td> 65                                                                                                                                                                                                                    </td><td> 54                                                                                                                                                                                                                    </td><td>61                                                                                                                                                                                                                     </td><td>0                                                                                                                                                                                                                      </td><td>219                                                                                                                                                                                                                    </td><td>180                                                                                                                                                                                                                    </td><td>399                                                                                                                                                                                                                    </td><td>Bachiller en ciencias sociales y humanidades; Bachiller en economía y administración                                                                                                                                   </td></tr>\n",
              "\t<tr><td>600035000                                                                                                                                                                                                              </td><td>Secundaria                                                                                                                                                                                                             </td><td>Común                                                                                                                                                                                                                  </td><td>6000350                                                                                                                                                                                                                </td><td>Activo                                                                                                                                                                                                                 </td><td>ESTATAL                                                                                                                                                                                                                </td><td>NA                                                                                                                                                                                                                     </td><td>no                                                                                                                                                                                                                     </td><td> 6                                                                                                                                                                                                                     </td><td>Ciclo básico/ educación secundaria básica                                                                                                                                                                              </td><td>...                                                                                                                                                                                                                    </td><td> 17                                                                                                                                                                                                                    </td><td> 11                                                                                                                                                                                                                    </td><td>  9                                                                                                                                                                                                                    </td><td>  7                                                                                                                                                                                                                    </td><td> 7                                                                                                                                                                                                                     </td><td>0                                                                                                                                                                                                                      </td><td> 44                                                                                                                                                                                                                    </td><td> 23                                                                                                                                                                                                                    </td><td> 67                                                                                                                                                                                                                    </td><td>Bachiller en economía y administración                                                                                                                                                                                 </td></tr>\n",
              "\t<tr><td>600046400                                                                                                                                                                                                              </td><td>Secundaria                                                                                                                                                                                                             </td><td>Común                                                                                                                                                                                                                  </td><td>6000464                                                                                                                                                                                                                </td><td>Activo                                                                                                                                                                                                                 </td><td>ESTATAL                                                                                                                                                                                                                </td><td>FEDERACION                                                                                                                                                                                                             </td><td>no                                                                                                                                                                                                                     </td><td>13                                                                                                                                                                                                                     </td><td>Ciclo básico/ educación secundaria básica                                                                                                                                                                              </td><td>...                                                                                                                                                                                                                    </td><td> 60                                                                                                                                                                                                                    </td><td> 32                                                                                                                                                                                                                    </td><td> 39                                                                                                                                                                                                                    </td><td> 43                                                                                                                                                                                                                    </td><td>NA                                                                                                                                                                                                                     </td><td>0                                                                                                                                                                                                                      </td><td>157                                                                                                                                                                                                                    </td><td> 99                                                                                                                                                                                                                    </td><td>256                                                                                                                                                                                                                    </td><td>Bachiller con orientación en arte; Bachiller en economía y administración                                                                                                                                              </td></tr>\n",
              "\t<tr><td>600067800                                                                                                                                                                                                              </td><td>Secundaria                                                                                                                                                                                                             </td><td>Común                                                                                                                                                                                                                  </td><td>6000678                                                                                                                                                                                                                </td><td>Activo                                                                                                                                                                                                                 </td><td>ESTATAL                                                                                                                                                                                                                </td><td>NA                                                                                                                                                                                                                     </td><td>no                                                                                                                                                                                                                     </td><td>17                                                                                                                                                                                                                     </td><td>Ciclo básico/ educación secundaria básica                                                                                                                                                                              </td><td>...                                                                                                                                                                                                                    </td><td> 45                                                                                                                                                                                                                    </td><td> 47                                                                                                                                                                                                                    </td><td> 41                                                                                                                                                                                                                    </td><td> 37                                                                                                                                                                                                                    </td><td>40                                                                                                                                                                                                                     </td><td>0                                                                                                                                                                                                                      </td><td>127                                                                                                                                                                                                                    </td><td>118                                                                                                                                                                                                                    </td><td>245                                                                                                                                                                                                                    </td><td>Bachiller en ciencias naturales; Bachiller en economía y administración                                                                                                                                                </td></tr>\n",
              "\t<tr><td>600093400                                                                                                                                                                                                              </td><td>Secundaria                                                                                                                                                                                                             </td><td>Común                                                                                                                                                                                                                  </td><td>6000934                                                                                                                                                                                                                </td><td>Activo                                                                                                                                                                                                                 </td><td>ESTATAL                                                                                                                                                                                                                </td><td>VILLAGUAY                                                                                                                                                                                                              </td><td>no                                                                                                                                                                                                                     </td><td>37                                                                                                                                                                                                                     </td><td>Ciclo básico/ educación secundaria básica                                                                                                                                                                              </td><td>...                                                                                                                                                                                                                    </td><td>146                                                                                                                                                                                                                    </td><td>103                                                                                                                                                                                                                    </td><td>184                                                                                                                                                                                                                    </td><td>120                                                                                                                                                                                                                    </td><td>73                                                                                                                                                                                                                     </td><td>0                                                                                                                                                                                                                      </td><td>345                                                                                                                                                                                                                    </td><td>377                                                                                                                                                                                                                    </td><td>722                                                                                                                                                                                                                    </td><td>Bachiller con orientación en economía y administración; Bachiller con orientación en economía y administración; Bachiller orientado en ciencias naturales; Bachiller con orientación en ciencias sociales y humanidades</td></tr>\n",
              "\t<tr><td>600110200                                                                                                                                                                                                              </td><td>Secundaria                                                                                                                                                                                                             </td><td>Común                                                                                                                                                                                                                  </td><td>6001102                                                                                                                                                                                                                </td><td>Activo                                                                                                                                                                                                                 </td><td>ESTATAL                                                                                                                                                                                                                </td><td>NA                                                                                                                                                                                                                     </td><td>no                                                                                                                                                                                                                     </td><td>14                                                                                                                                                                                                                     </td><td>Ciclo básico/ educación secundaria básica                                                                                                                                                                              </td><td>...                                                                                                                                                                                                                    </td><td> 73                                                                                                                                                                                                                    </td><td> 66                                                                                                                                                                                                                    </td><td> 59                                                                                                                                                                                                                    </td><td> 39                                                                                                                                                                                                                    </td><td>43                                                                                                                                                                                                                     </td><td>0                                                                                                                                                                                                                      </td><td>199                                                                                                                                                                                                                    </td><td>141                                                                                                                                                                                                                    </td><td>340                                                                                                                                                                                                                    </td><td>Bachiller con orientación en ciencias naturales; Bachiller en ciencias sociales y humanidades                                                                                                                          </td></tr>\n",
              "</tbody>\n",
              "</table>\n"
            ],
            "text/latex": [
              "\\begin{tabular}{r|lllllllllllllllllllll}\n",
              " Cue\\_Anexo & Nivel & Modalidad\\_Educ\\_Gral & Cue & Estado & Sector & Departamento & NINA & Cant\\_Secciones & Tipo\\_titulo & ... & Segundo & Tercero & Cuarto & Quinto & Sexto & Septimo & Mat\\_ciclo\\_basico & Mat\\_ciclo\\_orientado & Matricula\\_Total & Titulo\\\\\n",
              "\\hline\n",
              "\t 600003600                                                                                                                                                                                                               & Secundaria                                                                                                                                                                                                              & Común                                                                                                                                                                                                                   & 6000036                                                                                                                                                                                                                 & Activo                                                                                                                                                                                                                  & ESTATAL                                                                                                                                                                                                                 & NA                                                                                                                                                                                                                      & no                                                                                                                                                                                                                      & 18                                                                                                                                                                                                                      & Ciclo básico/ educación secundaria básica                                                                                                                                                                               & ...                                                                                                                                                                                                                     &  79                                                                                                                                                                                                                     &  73                                                                                                                                                                                                                     &  65                                                                                                                                                                                                                     &  54                                                                                                                                                                                                                     & 61                                                                                                                                                                                                                      & 0                                                                                                                                                                                                                       & 219                                                                                                                                                                                                                     & 180                                                                                                                                                                                                                     & 399                                                                                                                                                                                                                     & Bachiller en ciencias sociales y humanidades; Bachiller en economía y administración                                                                                                                                   \\\\\n",
              "\t 600035000                                                                                                                                                                                                               & Secundaria                                                                                                                                                                                                              & Común                                                                                                                                                                                                                   & 6000350                                                                                                                                                                                                                 & Activo                                                                                                                                                                                                                  & ESTATAL                                                                                                                                                                                                                 & NA                                                                                                                                                                                                                      & no                                                                                                                                                                                                                      &  6                                                                                                                                                                                                                      & Ciclo básico/ educación secundaria básica                                                                                                                                                                               & ...                                                                                                                                                                                                                     &  17                                                                                                                                                                                                                     &  11                                                                                                                                                                                                                     &   9                                                                                                                                                                                                                     &   7                                                                                                                                                                                                                     &  7                                                                                                                                                                                                                      & 0                                                                                                                                                                                                                       &  44                                                                                                                                                                                                                     &  23                                                                                                                                                                                                                     &  67                                                                                                                                                                                                                     & Bachiller en economía y administración                                                                                                                                                                                 \\\\\n",
              "\t 600046400                                                                                                                                                                                                               & Secundaria                                                                                                                                                                                                              & Común                                                                                                                                                                                                                   & 6000464                                                                                                                                                                                                                 & Activo                                                                                                                                                                                                                  & ESTATAL                                                                                                                                                                                                                 & FEDERACION                                                                                                                                                                                                              & no                                                                                                                                                                                                                      & 13                                                                                                                                                                                                                      & Ciclo básico/ educación secundaria básica                                                                                                                                                                               & ...                                                                                                                                                                                                                     &  60                                                                                                                                                                                                                     &  32                                                                                                                                                                                                                     &  39                                                                                                                                                                                                                     &  43                                                                                                                                                                                                                     & NA                                                                                                                                                                                                                      & 0                                                                                                                                                                                                                       & 157                                                                                                                                                                                                                     &  99                                                                                                                                                                                                                     & 256                                                                                                                                                                                                                     & Bachiller con orientación en arte; Bachiller en economía y administración                                                                                                                                              \\\\\n",
              "\t 600067800                                                                                                                                                                                                               & Secundaria                                                                                                                                                                                                              & Común                                                                                                                                                                                                                   & 6000678                                                                                                                                                                                                                 & Activo                                                                                                                                                                                                                  & ESTATAL                                                                                                                                                                                                                 & NA                                                                                                                                                                                                                      & no                                                                                                                                                                                                                      & 17                                                                                                                                                                                                                      & Ciclo básico/ educación secundaria básica                                                                                                                                                                               & ...                                                                                                                                                                                                                     &  45                                                                                                                                                                                                                     &  47                                                                                                                                                                                                                     &  41                                                                                                                                                                                                                     &  37                                                                                                                                                                                                                     & 40                                                                                                                                                                                                                      & 0                                                                                                                                                                                                                       & 127                                                                                                                                                                                                                     & 118                                                                                                                                                                                                                     & 245                                                                                                                                                                                                                     & Bachiller en ciencias naturales; Bachiller en economía y administración                                                                                                                                                \\\\\n",
              "\t 600093400                                                                                                                                                                                                               & Secundaria                                                                                                                                                                                                              & Común                                                                                                                                                                                                                   & 6000934                                                                                                                                                                                                                 & Activo                                                                                                                                                                                                                  & ESTATAL                                                                                                                                                                                                                 & VILLAGUAY                                                                                                                                                                                                               & no                                                                                                                                                                                                                      & 37                                                                                                                                                                                                                      & Ciclo básico/ educación secundaria básica                                                                                                                                                                               & ...                                                                                                                                                                                                                     & 146                                                                                                                                                                                                                     & 103                                                                                                                                                                                                                     & 184                                                                                                                                                                                                                     & 120                                                                                                                                                                                                                     & 73                                                                                                                                                                                                                      & 0                                                                                                                                                                                                                       & 345                                                                                                                                                                                                                     & 377                                                                                                                                                                                                                     & 722                                                                                                                                                                                                                     & Bachiller con orientación en economía y administración; Bachiller con orientación en economía y administración; Bachiller orientado en ciencias naturales; Bachiller con orientación en ciencias sociales y humanidades\\\\\n",
              "\t 600110200                                                                                                                                                                                                               & Secundaria                                                                                                                                                                                                              & Común                                                                                                                                                                                                                   & 6001102                                                                                                                                                                                                                 & Activo                                                                                                                                                                                                                  & ESTATAL                                                                                                                                                                                                                 & NA                                                                                                                                                                                                                      & no                                                                                                                                                                                                                      & 14                                                                                                                                                                                                                      & Ciclo básico/ educación secundaria básica                                                                                                                                                                               & ...                                                                                                                                                                                                                     &  73                                                                                                                                                                                                                     &  66                                                                                                                                                                                                                     &  59                                                                                                                                                                                                                     &  39                                                                                                                                                                                                                     & 43                                                                                                                                                                                                                      & 0                                                                                                                                                                                                                       & 199                                                                                                                                                                                                                     & 141                                                                                                                                                                                                                     & 340                                                                                                                                                                                                                     & Bachiller con orientación en ciencias naturales; Bachiller en ciencias sociales y humanidades                                                                                                                          \\\\\n",
              "\\end{tabular}\n"
            ],
            "text/markdown": [
              "\n",
              "| Cue_Anexo | Nivel | Modalidad_Educ_Gral | Cue | Estado | Sector | Departamento | NINA | Cant_Secciones | Tipo_titulo | ... | Segundo | Tercero | Cuarto | Quinto | Sexto | Septimo | Mat_ciclo_basico | Mat_ciclo_orientado | Matricula_Total | Titulo |\n",
              "|---|---|---|---|---|---|---|---|---|---|---|---|---|---|---|---|---|---|---|---|---|\n",
              "| 600003600                                                                                                                                                                                                               | Secundaria                                                                                                                                                                                                              | Común                                                                                                                                                                                                                   | 6000036                                                                                                                                                                                                                 | Activo                                                                                                                                                                                                                  | ESTATAL                                                                                                                                                                                                                 | NA                                                                                                                                                                                                                      | no                                                                                                                                                                                                                      | 18                                                                                                                                                                                                                      | Ciclo básico/ educación secundaria básica                                                                                                                                                                               | ...                                                                                                                                                                                                                     |  79                                                                                                                                                                                                                     |  73                                                                                                                                                                                                                     |  65                                                                                                                                                                                                                     |  54                                                                                                                                                                                                                     | 61                                                                                                                                                                                                                      | 0                                                                                                                                                                                                                       | 219                                                                                                                                                                                                                     | 180                                                                                                                                                                                                                     | 399                                                                                                                                                                                                                     | Bachiller en ciencias sociales y humanidades; Bachiller en economía y administración                                                                                                                                    |\n",
              "| 600035000                                                                                                                                                                                                               | Secundaria                                                                                                                                                                                                              | Común                                                                                                                                                                                                                   | 6000350                                                                                                                                                                                                                 | Activo                                                                                                                                                                                                                  | ESTATAL                                                                                                                                                                                                                 | NA                                                                                                                                                                                                                      | no                                                                                                                                                                                                                      |  6                                                                                                                                                                                                                      | Ciclo básico/ educación secundaria básica                                                                                                                                                                               | ...                                                                                                                                                                                                                     |  17                                                                                                                                                                                                                     |  11                                                                                                                                                                                                                     |   9                                                                                                                                                                                                                     |   7                                                                                                                                                                                                                     |  7                                                                                                                                                                                                                      | 0                                                                                                                                                                                                                       |  44                                                                                                                                                                                                                     |  23                                                                                                                                                                                                                     |  67                                                                                                                                                                                                                     | Bachiller en economía y administración                                                                                                                                                                                  |\n",
              "| 600046400                                                                                                                                                                                                               | Secundaria                                                                                                                                                                                                              | Común                                                                                                                                                                                                                   | 6000464                                                                                                                                                                                                                 | Activo                                                                                                                                                                                                                  | ESTATAL                                                                                                                                                                                                                 | FEDERACION                                                                                                                                                                                                              | no                                                                                                                                                                                                                      | 13                                                                                                                                                                                                                      | Ciclo básico/ educación secundaria básica                                                                                                                                                                               | ...                                                                                                                                                                                                                     |  60                                                                                                                                                                                                                     |  32                                                                                                                                                                                                                     |  39                                                                                                                                                                                                                     |  43                                                                                                                                                                                                                     | NA                                                                                                                                                                                                                      | 0                                                                                                                                                                                                                       | 157                                                                                                                                                                                                                     |  99                                                                                                                                                                                                                     | 256                                                                                                                                                                                                                     | Bachiller con orientación en arte; Bachiller en economía y administración                                                                                                                                               |\n",
              "| 600067800                                                                                                                                                                                                               | Secundaria                                                                                                                                                                                                              | Común                                                                                                                                                                                                                   | 6000678                                                                                                                                                                                                                 | Activo                                                                                                                                                                                                                  | ESTATAL                                                                                                                                                                                                                 | NA                                                                                                                                                                                                                      | no                                                                                                                                                                                                                      | 17                                                                                                                                                                                                                      | Ciclo básico/ educación secundaria básica                                                                                                                                                                               | ...                                                                                                                                                                                                                     |  45                                                                                                                                                                                                                     |  47                                                                                                                                                                                                                     |  41                                                                                                                                                                                                                     |  37                                                                                                                                                                                                                     | 40                                                                                                                                                                                                                      | 0                                                                                                                                                                                                                       | 127                                                                                                                                                                                                                     | 118                                                                                                                                                                                                                     | 245                                                                                                                                                                                                                     | Bachiller en ciencias naturales; Bachiller en economía y administración                                                                                                                                                 |\n",
              "| 600093400                                                                                                                                                                                                               | Secundaria                                                                                                                                                                                                              | Común                                                                                                                                                                                                                   | 6000934                                                                                                                                                                                                                 | Activo                                                                                                                                                                                                                  | ESTATAL                                                                                                                                                                                                                 | VILLAGUAY                                                                                                                                                                                                               | no                                                                                                                                                                                                                      | 37                                                                                                                                                                                                                      | Ciclo básico/ educación secundaria básica                                                                                                                                                                               | ...                                                                                                                                                                                                                     | 146                                                                                                                                                                                                                     | 103                                                                                                                                                                                                                     | 184                                                                                                                                                                                                                     | 120                                                                                                                                                                                                                     | 73                                                                                                                                                                                                                      | 0                                                                                                                                                                                                                       | 345                                                                                                                                                                                                                     | 377                                                                                                                                                                                                                     | 722                                                                                                                                                                                                                     | Bachiller con orientación en economía y administración; Bachiller con orientación en economía y administración; Bachiller orientado en ciencias naturales; Bachiller con orientación en ciencias sociales y humanidades |\n",
              "| 600110200                                                                                                                                                                                                               | Secundaria                                                                                                                                                                                                              | Común                                                                                                                                                                                                                   | 6001102                                                                                                                                                                                                                 | Activo                                                                                                                                                                                                                  | ESTATAL                                                                                                                                                                                                                 | NA                                                                                                                                                                                                                      | no                                                                                                                                                                                                                      | 14                                                                                                                                                                                                                      | Ciclo básico/ educación secundaria básica                                                                                                                                                                               | ...                                                                                                                                                                                                                     |  73                                                                                                                                                                                                                     |  66                                                                                                                                                                                                                     |  59                                                                                                                                                                                                                     |  39                                                                                                                                                                                                                     | 43                                                                                                                                                                                                                      | 0                                                                                                                                                                                                                       | 199                                                                                                                                                                                                                     | 141                                                                                                                                                                                                                     | 340                                                                                                                                                                                                                     | Bachiller con orientación en ciencias naturales; Bachiller en ciencias sociales y humanidades                                                                                                                           |\n",
              "\n"
            ],
            "text/plain": [
              "  Cue_Anexo Nivel      Modalidad_Educ_Gral Cue     Estado Sector  Departamento\n",
              "1 600003600 Secundaria Común               6000036 Activo ESTATAL NA          \n",
              "2 600035000 Secundaria Común               6000350 Activo ESTATAL NA          \n",
              "3 600046400 Secundaria Común               6000464 Activo ESTATAL FEDERACION  \n",
              "4 600067800 Secundaria Común               6000678 Activo ESTATAL NA          \n",
              "5 600093400 Secundaria Común               6000934 Activo ESTATAL VILLAGUAY   \n",
              "6 600110200 Secundaria Común               6001102 Activo ESTATAL NA          \n",
              "  NINA Cant_Secciones Tipo_titulo                               ... Segundo\n",
              "1 no   18             Ciclo básico/ educación secundaria básica ...  79    \n",
              "2 no    6             Ciclo básico/ educación secundaria básica ...  17    \n",
              "3 no   13             Ciclo básico/ educación secundaria básica ...  60    \n",
              "4 no   17             Ciclo básico/ educación secundaria básica ...  45    \n",
              "5 no   37             Ciclo básico/ educación secundaria básica ... 146    \n",
              "6 no   14             Ciclo básico/ educación secundaria básica ...  73    \n",
              "  Tercero Cuarto Quinto Sexto Septimo Mat_ciclo_basico Mat_ciclo_orientado\n",
              "1  73      65     54    61    0       219              180                \n",
              "2  11       9      7     7    0        44               23                \n",
              "3  32      39     43    NA    0       157               99                \n",
              "4  47      41     37    40    0       127              118                \n",
              "5 103     184    120    73    0       345              377                \n",
              "6  66      59     39    43    0       199              141                \n",
              "  Matricula_Total\n",
              "1 399            \n",
              "2  67            \n",
              "3 256            \n",
              "4 245            \n",
              "5 722            \n",
              "6 340            \n",
              "  Titulo                                                                                                                                                                                                                 \n",
              "1 Bachiller en ciencias sociales y humanidades; Bachiller en economía y administración                                                                                                                                   \n",
              "2 Bachiller en economía y administración                                                                                                                                                                                 \n",
              "3 Bachiller con orientación en arte; Bachiller en economía y administración                                                                                                                                              \n",
              "4 Bachiller en ciencias naturales; Bachiller en economía y administración                                                                                                                                                \n",
              "5 Bachiller con orientación en economía y administración; Bachiller con orientación en economía y administración; Bachiller orientado en ciencias naturales; Bachiller con orientación en ciencias sociales y humanidades\n",
              "6 Bachiller con orientación en ciencias naturales; Bachiller en ciencias sociales y humanidades                                                                                                                          "
            ]
          },
          "metadata": {},
          "output_type": "display_data"
        }
      ],
      "source": [
        "#Graficamos (Boxplot)\n",
        "boxplot(matricula_curso$matricula ~ matricula_curso$curso,\n",
        "        col = c(\"yellow\", \"blue\", \"orange\",\"green\",\"purple\",\"brown\"),\n",
        "        ylim = c(0,300),\n",
        "        ylab = \"Matricula por curso\",\n",
        "        xlab=\"Cursos\",\n",
        "        sub=\"Fuente de elaboración propia\",\n",
        "        main=\"Cantidad de matriculas por curso en el departamento de Diamante\")"
      ]
    },
    {
      "cell_type": "code",
      "execution_count": null,
      "id": "cdfd810b",
      "metadata": {
        "collapsed": true,
        "id": "cdfd810b",
        "outputId": "7720ecff-66d9-4ecb-fc1c-580efa4e6984"
      },
      "outputs": [
        {
          "data": {
            "text/plain": [
              "             Df Sum Sq Mean Sq F value Pr(>F)\n",
              "curso         5   4650     930   0.742  0.593\n",
              "Residuals   147 184160    1253               \n",
              "3 observations deleted due to missingness"
            ]
          },
          "metadata": {},
          "output_type": "display_data"
        },
        {
          "data": {
            "text/plain": [
              "\n",
              "\tShapiro-Wilk normality test\n",
              "\n",
              "data:  matricula_curso$matricula[matricula_curso$curso == \"Primero\"]\n",
              "W = 0.80296, p-value = 0.0001978\n"
            ]
          },
          "metadata": {},
          "output_type": "display_data"
        },
        {
          "data": {
            "text/plain": [
              "\n",
              "\tShapiro-Wilk normality test\n",
              "\n",
              "data:  matricula_curso$matricula[matricula_curso$curso == \"Segundo\"]\n",
              "W = 0.80364, p-value = 0.0002032\n"
            ]
          },
          "metadata": {},
          "output_type": "display_data"
        },
        {
          "data": {
            "text/plain": [
              "\n",
              "\tShapiro-Wilk normality test\n",
              "\n",
              "data:  matricula_curso$matricula[matricula_curso$curso == \"Tercero\"]\n",
              "W = 0.77536, p-value = 9.068e-05\n"
            ]
          },
          "metadata": {},
          "output_type": "display_data"
        },
        {
          "data": {
            "text/plain": [
              "\n",
              "\tShapiro-Wilk normality test\n",
              "\n",
              "data:  matricula_curso$matricula[matricula_curso$curso == \"Cuarto\"]\n",
              "W = 0.83743, p-value = 0.001026\n"
            ]
          },
          "metadata": {},
          "output_type": "display_data"
        },
        {
          "data": {
            "text/plain": [
              "\n",
              "\tShapiro-Wilk normality test\n",
              "\n",
              "data:  matricula_curso$matricula[matricula_curso$curso == \"Quinto\"]\n",
              "W = 0.8092, p-value = 0.000325\n"
            ]
          },
          "metadata": {},
          "output_type": "display_data"
        },
        {
          "data": {
            "text/plain": [
              "\n",
              "\tShapiro-Wilk normality test\n",
              "\n",
              "data:  matricula_curso$matricula[matricula_curso$curso == \"Sexto\"]\n",
              "W = 0.82647, p-value = 0.0005142\n"
            ]
          },
          "metadata": {},
          "output_type": "display_data"
        }
      ],
      "source": [
        "#Generamos el modelo de ANOVA para poder comprobar si existe diferencia significativa en las matrículas\n",
        "#H0: Todas las medias son iguales\n",
        "#H1: Al menos una media difiere del resto\n",
        "#Genero el modelo de ANOVA\n",
        "modelo_matricula = aov( matricula ~ curso )\n",
        "summary(modelo_matricula) #En un principio como pvalor = 0.593 > 0.05, no tenemos evidencia para rechazar H0\n",
        "\n",
        "#Comprobamos supuestos de normalidad\n",
        "lillie.test(matricula_curso$matricula[matricula_curso$curso == \"Primero\"])\n",
        "lillie.test(matricula_curso$matricula[matricula_curso$curso == \"Segundo\"])\n",
        "lillie.test(matricula_curso$matricula[matricula_curso$curso == \"Tercero\"])\n",
        "lillie.test(matricula_curso$matricula[matricula_curso$curso == \"Cuarto\"])\n",
        "lillie.test(matricula_curso$matricula[matricula_curso$curso == \"Quinto\"])\n",
        "lillie.test(matricula_curso$matricula[matricula_curso$curso == \"Sexto\"])\n",
        "#Todos obtuvieron un pvalor<0.05, rechazamos la hipótesis de normalidad --> debemos aplicar una prueba de tipo no paramétrica"
      ]
    },
    {
      "cell_type": "code",
      "execution_count": null,
      "id": "9802347a",
      "metadata": {
        "collapsed": true,
        "id": "9802347a",
        "outputId": "68e159d8-1fd9-4f05-b4b5-5d6786c69a98"
      },
      "outputs": [
        {
          "data": {
            "text/plain": [
              "\n",
              "\tKruskal-Wallis rank sum test\n",
              "\n",
              "data:  matricula_curso$curso and matricula_curso$matricula\n",
              "Kruskal-Wallis chi-squared = 70.009, df = 72, p-value = 0.5445\n"
            ]
          },
          "metadata": {},
          "output_type": "display_data"
        }
      ],
      "source": [
        "#Test no paramétrico de Kruskall Wallis\n",
        "kruskal.test(matricula_curso$curso,matricula_curso$matricula) #pvalor: 0.5445 > 0.05\n",
        "#No podemos rechazar H0 por falta de evidencia, no existe diferencia entre los cursos de las escuelas secundarias de diamante."
      ]
    },
    {
      "cell_type": "markdown",
      "id": "e40e5ae7",
      "metadata": {
        "id": "e40e5ae7"
      },
      "source": [
        "# Comparación de las notas obtenidas en los tres trimestres de Matemática (1er Año) Según la gestión\n"
      ]
    },
    {
      "cell_type": "code",
      "execution_count": null,
      "id": "25f1df34",
      "metadata": {
        "id": "25f1df34"
      },
      "outputs": [],
      "source": [
        "#Creamos nuestras muestras de estudio (Pareadas)\n",
        "matematica_primero <-  filter(secundaria_promedios, Curso == 1 & Materia == \"MATEMATICA\")\n",
        "matematica_primero <- na.omit(matematica_primero)\n",
        "\n",
        "matematica_primero_priv<- filter(matematica_primero, EsPrivada == \"S\")\n",
        "matematica_primero_pub <- filter(matematica_primero, EsPrivada == \"N\")\n",
        "\n",
        "matematica_primero_priv <- subset(matematica_primero_priv, !duplicated(DNI))\n",
        "matematica_primero_pub <- subset(matematica_primero_pub, !duplicated(DNI))\n",
        "\n",
        "\n",
        "\n",
        "primertri_priv<- matematica_primero_priv$NotasPTS\n",
        "primertri_pub <- matematica_primero_pub$NotasPTS\n",
        "segundotri_priv <-matematica_primero_priv$NotasSTS\n",
        "segundotri_pub <-matematica_primero_pub$NotasSTS\n",
        "tercertri_priv <-matematica_primero_priv$NotasTTS\n",
        "tercertri_pub <-matematica_primero_pub$NotasTTS\n",
        "dnipriv<- unique(matematica_primero_priv$DNI)\n",
        "dnipub<- unique(matematica_primero_pub$DNI)\n",
        "\n",
        "#Nuevos dataframe para análisis\n",
        "#Escuelas privadas\n",
        "notaspriv <- as.numeric(c(primertri_priv,segundotri_priv,tercertri_priv))\n",
        "\n",
        "trimestrespriv <- as.factor(c(rep(\"Primer Trimestre\", length(primertri_priv)),\n",
        "                               rep(\"Segundo Trimestre\", length(segundotri_priv)),\n",
        "                               rep(\"Tercer Trimestre\", length(tercertri_priv))))\n",
        "\n",
        "matematica_secundaria_priv <- data.frame(DNI = rep(dnipriv , 3),\n",
        "                                  Trimestres = trimestrespriv,\n",
        "                                  Notas = notaspriv)\n",
        "\n",
        "\n",
        "#Escuelas públicas\n",
        "notaspub <- as.numeric(c(primertri_pub,segundotri_pub,tercertri_pub))\n",
        "\n",
        "trimestrespub <- as.factor(c(rep(\"Primer Trimestre\", length(primertri_pub)),\n",
        "                               rep(\"Segundo Trimestre\", length(segundotri_pub)),\n",
        "                               rep(\"Tercer Trimestre\", length(tercertri_pub))))\n",
        "\n",
        "matematica_secundaria_pub <- data.frame(DNI = rep(dnipub , 3),\n",
        "                                  Trimestres = trimestrespub,\n",
        "                                  Notas = notaspub)\n"
      ]
    },
    {
      "cell_type": "code",
      "execution_count": null,
      "id": "bb3fda41",
      "metadata": {
        "collapsed": true,
        "id": "bb3fda41",
        "outputId": "34bb86f6-df6a-480c-be74-4eef664becd9"
      },
      "outputs": [
        {
          "ename": "ERROR",
          "evalue": "Error in eval(predvars, data, env): objeto 'lengua_secundaria_priv' no encontrado\n",
          "output_type": "error",
          "traceback": [
            "Error in eval(predvars, data, env): objeto 'lengua_secundaria_priv' no encontrado\nTraceback:\n",
            "1. boxplot(lengua_secundaria_priv$Notas ~ matematica_secundaria_priv$Trimestres, \n .     col = c(\"lightblue\", \"pink\", \"lightgreen\"), ylim = c(0, 10), \n .     ylab = \"Notas\", xlab = \"Trimestres\", sub = \"Fuente de elaboración propia\", \n .     main = \"Notas Lengua por trimestre 1er Año Escuelas Privadas\")",
            "2. boxplot.formula(lengua_secundaria_priv$Notas ~ matematica_secundaria_priv$Trimestres, \n .     col = c(\"lightblue\", \"pink\", \"lightgreen\"), ylim = c(0, 10), \n .     ylab = \"Notas\", xlab = \"Trimestres\", sub = \"Fuente de elaboración propia\", \n .     main = \"Notas Lengua por trimestre 1er Año Escuelas Privadas\")",
            "3. eval(m, parent.frame())",
            "4. eval(m, parent.frame())",
            "5. stats::model.frame.default(formula = lengua_secundaria_priv$Notas ~ \n .     matematica_secundaria_priv$Trimestres)",
            "6. eval(predvars, data, env)",
            "7. eval(predvars, data, env)"
          ]
        }
      ],
      "source": [
        "#Análisis gráfico\n",
        "layout(matrix(c(1,2), nrow = 1))\n",
        "#Escuelas privadas\n",
        "boxplot(matematica_secundaria_priv$Notas ~ matematica_secundaria_priv$Trimestres,\n",
        "        col = c(\"lightblue\", \"pink\", \"lightgreen\"),\n",
        "        ylim = c(0,10),\n",
        "        ylab = \"Notas\",\n",
        "        xlab=\"Trimestres\",\n",
        "        sub=\"Fuente de elaboración propia\",\n",
        "        main=\"Notas Lengua por trimestre 1er Año Escuelas Privadas\")\n",
        "#Escuelas públicas\n",
        "boxplot(matematica_secundaria_pub$Notas ~ matematica_secundaria_pub$Trimestres,\n",
        "        col = c(\"lightblue\", \"pink\", \"lightgreen\"),\n",
        "        ylim = c(0,10),\n",
        "        ylab = \"Notas\",\n",
        "        xlab=\"Trimestres\",\n",
        "        sub=\"Fuente de elaboración propia\",\n",
        "        main=\"Notas Lengua por trimestre 1er Año Escuelas Públicas\")"
      ]
    },
    {
      "cell_type": "code",
      "execution_count": null,
      "id": "6f699ce9",
      "metadata": {
        "colab": {
          "base_uri": "https://localhost:8080/",
          "height": 183
        },
        "collapsed": true,
        "id": "6f699ce9",
        "outputId": "06570283-168f-4148-c623-5e83d6c18bf6"
      },
      "outputs": [
        {
          "ename": "ERROR",
          "evalue": "ignored",
          "output_type": "error",
          "traceback": [
            "Error in eval(m$data, parent.frame()): object 'matematica_secundaria_priv' not found\nTraceback:\n",
            "1. friedman.test(Notas ~ Trimestres | DNI, data = matematica_secundaria_priv)",
            "2. friedman.test.formula(Notas ~ Trimestres | DNI, data = matematica_secundaria_priv)",
            "3. eval(m$data, parent.frame())",
            "4. eval(m$data, parent.frame())"
          ]
        }
      ],
      "source": [
        "#Planteamos nuestra hipótesis\n",
        "#H0: No existe diferencia entre las notas de cada trimestre para Matemática en 1er Año en cada tipo de gestión\n",
        "#H1: Al menos una de los trimestres difiere.\n",
        "#Como se trata de una muestra pareada debemos aplicar el Test de Friedman\n",
        "#Privadas\n",
        "friedman.test(Notas~Trimestres | DNI, data = matematica_secundaria_priv) #pvalor: 4.809e-05 < 0.05, rechazamos H0\n",
        "#Públicas\n",
        "friedman.test(Notas~Trimestres | DNI, data= matematica_secundaria_pub)#pvalor: 0.001599 < 0.05, rechazamos H0\n",
        "#Concluimos que para ambos tipos de gestión existe al menos un trimestre que difiere del resto."
      ]
    },
    {
      "cell_type": "code",
      "execution_count": null,
      "id": "f30cbcf7",
      "metadata": {
        "collapsed": true,
        "id": "f30cbcf7",
        "outputId": "7eda1475-605c-47be-b87f-0294fa5f584f"
      },
      "outputs": [
        {
          "data": {
            "text/plain": [
              "\n",
              "\tPairwise comparisons using Wilcoxon signed rank test \n",
              "\n",
              "data:  matematica_secundaria$Notas and matematica_secundaria$Trimestres \n",
              "\n",
              "                  Primer Trimestre Segundo Trimestre\n",
              "Segundo Trimestre 0.00048          -                \n",
              "Tercer Trimestre  0.38012          0.02826          \n",
              "\n",
              "P value adjustment method: holm "
            ]
          },
          "metadata": {},
          "output_type": "display_data"
        }
      ],
      "source": [
        "#Análisis a posteriori\n",
        "#Privada\n",
        "pairwise.wilcox.test(matematica_secundaria_priv$Notas, matematica_secundaria_priv$Trimestres, paired = TRUE)\n",
        "\n",
        "#Pública\n",
        "pairwise.wilcox.test(matematica_secundaria_pub$Notas, matematica_secundaria_pub$Trimestres, paired = TRUE)"
      ]
    },
    {
      "cell_type": "markdown",
      "id": "6e978704",
      "metadata": {
        "id": "6e978704"
      },
      "source": [
        "# Comparación de las notas obtenidas en los tres trimestres de Lengua (1er Año) Según la gestión¶"
      ]
    },
    {
      "cell_type": "code",
      "execution_count": null,
      "id": "22b22367",
      "metadata": {
        "id": "22b22367"
      },
      "outputs": [],
      "source": [
        "#Creamos nuestras muestras de estudio (Pareadas)\n",
        "lengua_primero <-  filter(secundaria_promedios, Curso == 1 & Materia == \"LENGUA Y LITERATURA\")\n",
        "lengua_primero <- na.omit(matematica_primero)\n",
        "\n",
        "lengua_primero_priv<- filter(lengua_primero, EsPrivada == \"S\")\n",
        "lengua_primero_pub <- filter(lengua_primero, EsPrivada == \"N\")\n",
        "\n",
        "lengua_primero_priv <- subset(lengua_primero_priv, !duplicated(DNI))\n",
        "lengua_primero_pub <- subset(lengua_primero_pub, !duplicated(DNI))\n",
        "\n",
        "\n",
        "\n",
        "primertri_priv<- lengua_primero_priv$NotasPTS\n",
        "primertri_pub <- lengua_primero_pub$NotasPTS\n",
        "segundotri_priv <-lengua_primero_priv$NotasSTS\n",
        "segundotri_pub <-lengua_primero_pub$NotasSTS\n",
        "tercertri_priv <-lengua_primero_priv$NotasTTS\n",
        "tercertri_pub <-lengua_primero_pub$NotasTTS\n",
        "dnipriv<- unique(lengua_primero_priv$DNI)\n",
        "dnipub<- unique(lengua_primero_pub$DNI)\n",
        "\n",
        "#Nuevos dataframe para análisis\n",
        "#Escuelas privadas\n",
        "notaspriv <- as.numeric(c(primertri_priv,segundotri_priv,tercertri_priv))\n",
        "\n",
        "trimestrespriv <- as.factor(c(rep(\"Primer Trimestre\", length(primertri_priv)),\n",
        "                               rep(\"Segundo Trimestre\", length(segundotri_priv)),\n",
        "                               rep(\"Tercer Trimestre\", length(tercertri_priv))))\n",
        "\n",
        "lengua_secundaria_priv <- data.frame(DNI = rep(dnipriv , 3),\n",
        "                                  Trimestres = trimestrespriv,\n",
        "                                  Notas = notaspriv)\n",
        "\n",
        "\n",
        "#Escuelas públicas\n",
        "notaspub <- as.numeric(c(primertri_pub,segundotri_pub,tercertri_pub))\n",
        "\n",
        "trimestrespub <- as.factor(c(rep(\"Primer Trimestre\", length(primertri_pub)),\n",
        "                               rep(\"Segundo Trimestre\", length(segundotri_pub)),\n",
        "                               rep(\"Tercer Trimestre\", length(tercertri_pub))))\n",
        "\n",
        "lengua_secundaria_pub <- data.frame(DNI = rep(dnipub , 3),\n",
        "                                  Trimestres = trimestrespub,\n",
        "                                  Notas = notaspub)"
      ]
    },
    {
      "cell_type": "code",
      "execution_count": null,
      "id": "a49d81c7",
      "metadata": {
        "collapsed": true,
        "id": "a49d81c7",
        "outputId": "c30acefc-83a5-4764-a729-1c0d062dc416"
      },
      "outputs": [
        {
          "data": {
            "image/png": "[encoded data removed]",
            "text/plain": [
              "Plot with title \"Notas Lengua por trimestre 1er Año Escuelas Públicas\""
            ]
          },
          "metadata": {},
          "output_type": "display_data"
        }
      ],
      "source": [
        "#Análisis gráfico\n",
        "layout(matrix(c(1,2), nrow = 1))\n",
        "#Escuelas privadas\n",
        "boxplot(lengua_secundaria_priv$Notas ~ matematica_secundaria_priv$Trimestres,\n",
        "        col = c(\"lightblue\", \"pink\", \"lightgreen\"),\n",
        "        ylim = c(0,10),\n",
        "        ylab = \"Notas\",\n",
        "        xlab=\"Trimestres\",\n",
        "        sub=\"Fuente de elaboración propia\",\n",
        "        main=\"Notas Lengua por trimestre 1er Año Escuelas Privadas\")\n",
        "#Escuelas públicas\n",
        "boxplot(lengua_secundaria_pub$Notas ~ matematica_secundaria_pub$Trimestres,\n",
        "        col = c(\"lightblue\", \"pink\", \"lightgreen\"),\n",
        "        ylim = c(0,10),\n",
        "        ylab = \"Notas\",\n",
        "        xlab=\"Trimestres\",\n",
        "        sub=\"Fuente de elaboración propia\",\n",
        "        main=\"Notas Lengua por trimestre 1er Año Escuelas Públicas\")"
      ]
    },
    {
      "cell_type": "code",
      "execution_count": null,
      "id": "e63443a1",
      "metadata": {
        "collapsed": true,
        "id": "e63443a1",
        "outputId": "380fedd8-db74-4d64-85a3-2db36db6a481"
      },
      "outputs": [
        {
          "data": {
            "text/plain": [
              "\n",
              "\tFriedman rank sum test\n",
              "\n",
              "data:  Notas and Trimestres and DNI\n",
              "Friedman chi-squared = 19.885, df = 2, p-value = 4.809e-05\n"
            ]
          },
          "metadata": {},
          "output_type": "display_data"
        },
        {
          "data": {
            "text/plain": [
              "\n",
              "\tFriedman rank sum test\n",
              "\n",
              "data:  Notas and Trimestres and DNI\n",
              "Friedman chi-squared = 12.877, df = 2, p-value = 0.001599\n"
            ]
          },
          "metadata": {},
          "output_type": "display_data"
        }
      ],
      "source": [
        "#Planteamos nuestra hipótesis\n",
        "#H0: No existe diferencia entre las notas de cada trimestre para Lengua en 1er Año en cada tipo de gestión\n",
        "#H1: Al menos una de los trimestres difiere.\n",
        "#Como se trata de una muestra pareada debemos aplicar el Test de Friedman\n",
        "#Privadas\n",
        "friedman.test(Notas~Trimestres | DNI, data =lengua_secundaria_priv) #pvalor: 4.809e-05 < 0.05, rechazamos H0\n",
        "#Públicas\n",
        "friedman.test(Notas~Trimestres | DNI, data= lengua_secundaria_pub)#pvalor: 0.001599 < 0.05, rechazamos H0\n",
        "#Concluimos que para ambos tipos de gestión existe al menos un trimestre que difiere del resto."
      ]
    },
    {
      "cell_type": "code",
      "execution_count": null,
      "id": "83b505f0",
      "metadata": {
        "collapsed": true,
        "id": "83b505f0",
        "outputId": "96b36237-8ee9-444e-972c-ec1616ac468b"
      },
      "outputs": [
        {
          "data": {
            "text/plain": [
              "\n",
              "\tPairwise comparisons using Wilcoxon signed rank test \n",
              "\n",
              "data:  lengua_secundaria_priv$Notas and lengua_secundaria_priv$Trimestres \n",
              "\n",
              "                  Primer Trimestre Segundo Trimestre\n",
              "Segundo Trimestre 0.2891           -                \n",
              "Tercer Trimestre  0.0015           5.2e-06          \n",
              "\n",
              "P value adjustment method: holm "
            ]
          },
          "metadata": {},
          "output_type": "display_data"
        },
        {
          "data": {
            "text/plain": [
              "\n",
              "\tPairwise comparisons using Wilcoxon signed rank test \n",
              "\n",
              "data:  lengua_secundaria_pub$Notas and lengua_secundaria_pub$Trimestres \n",
              "\n",
              "                  Primer Trimestre Segundo Trimestre\n",
              "Segundo Trimestre 0.0093           -                \n",
              "Tercer Trimestre  0.0906           0.8510           \n",
              "\n",
              "P value adjustment method: holm "
            ]
          },
          "metadata": {},
          "output_type": "display_data"
        }
      ],
      "source": [
        "#Análisis a posteriori\n",
        "#Privada\n",
        "pairwise.wilcox.test(lengua_secundaria_priv$Notas,lengua_secundaria_priv$Trimestres, paired = TRUE)\n",
        "\n",
        "#Pública\n",
        "pairwise.wilcox.test(lengua_secundaria_pub$Notas, lengua_secundaria_pub$Trimestres, paired = TRUE)"
      ]
    },
    {
      "cell_type": "markdown",
      "id": "0536dac2",
      "metadata": {
        "id": "0536dac2"
      },
      "source": [
        "# Análisis bivariado cualitativo"
      ]
    },
    {
      "cell_type": "code",
      "execution_count": null,
      "id": "_myYojewIuM-",
      "metadata": {
        "id": "_myYojewIuM-"
      },
      "outputs": [],
      "source": [
        "#Creamos un nuevo dataset que solo contenga las materias troncales\n",
        "\n",
        "DF_MateriasTroncales <- secundaria_promedios %>% filter(Materia %in% c(\"MATEMATICA\", \"LENGUA Y LITERATURA\", \"HISTORIA\",\"GEOGRAFIA\",\"FISICA\",\"QUIMICA\",\"LENGUAS EXTRANJERAS\", \"FISICA Y QUIMICA\", \"LITERATURA LATINOAMERICANA\", \"LITERATURA ARGENTINA\"))\n",
        "DF_MateriasTroncales <- DF_MateriasTroncales %>% mutate(Materia = case_when(\n",
        "  Materia == \"LITERATURA LATINOAMERICANA\" ~ \"LENGUA Y LITERATURA\",\n",
        "  Materia == \"LITERATURA ARGENTINA\" ~ \"LENGUA Y LITERATURA\",\n",
        "  Materia == \"LENGUA Y LITERATURA\" ~ \"LENGUA Y LITERATURA\",\n",
        "  Materia == \"FISICA\" ~ \"CS NATURALES\",\n",
        "  Materia == \"FISICA Y QUIMICA\" ~ \"CS NATURALES\",\n",
        "  Materia == \"MATEMATICA\" ~ \"MATEMATICA\",\n",
        "  Materia == \"HISTORIA\" ~ \"HISTORIA\",\n",
        "  Materia == \"GEOGRAFIA\" ~ \"GEOGRAFIA\",\n",
        "  Materia == \"LENGUAS EXTRANJERAS\" ~ \"LENGUAS EXTRANJERAS\"))\n",
        "\n",
        "DF_MateriasTroncales <- na.omit(DF_MateriasTroncales)"
      ]
    },
    {
      "cell_type": "markdown",
      "id": "89cf5033",
      "metadata": {
        "id": "89cf5033"
      },
      "source": [
        "# Creamos las nuevas variables cualitativas a utilizar en este apartado"
      ]
    },
    {
      "cell_type": "code",
      "execution_count": null,
      "id": "f8a850c8",
      "metadata": {
        "id": "f8a850c8"
      },
      "outputs": [],
      "source": [
        "# Variable desempeño:\n",
        "DF_MateriasTroncales <- mutate(DF_MateriasTroncales, Desempeño = case_when(\n",
        "  Promedio < 4 ~ \"Insuficiente\",\n",
        "  Promedio >= 4 & Promedio < 6 ~ \"Regular\",\n",
        "  Promedio >= 6 & Promedio < 7 ~ \"Aprobado\",\n",
        "  Promedio >= 7 & Promedio < 8 ~ \"Bueno\",\n",
        "  Promedio >= 8 & Promedio < 9 ~ \"Muy bueno\",\n",
        "  Promedio >9  & Promedio <= 10 ~ \"Distinguido\") )\n",
        "\n",
        "#Variable \"Orientación\": sugiere a los alumnos de los primeros tres años una orientación a partir de las notas obtenidas\n",
        "#Primero creamos una columna ayuda que le asigna a cada materia una orientación\n",
        "DF_MateriasTroncales_CB <- filter(DF_MateriasTroncales, Curso == 1 | Curso == 2 | Curso == 3)\n",
        "DF_MateriasTroncales_CB <- DF_MateriasTroncales_CB %>% mutate (Orientacion_materia = case_when(\n",
        "  Materia == \"MATEMATICA\" | Materia == \"FISICA Y QUIMICA\"| Materia == \"FISICA\"| Materia == \"QUIMICA\" ~ \"Naturales\",\n",
        "  Materia == \"LENGUA Y LITERATURA\"| Materia == \"HISTORIA\"| Materia == \"GEOGRAFIA\" ~ \"Sociales\"))\n",
        "#Luego creamos la columna propia de nuestro análisis\n",
        "DF_MateriasTroncales_CB <- DF_MateriasTroncales_CB %>%\n",
        "  group_by(DNI,Materia) %>%\n",
        "  mutate(Orientacion = case_when(\n",
        "    Orientacion_materia == \"Sociales \" &  Desempeño == \"Bueno\" | Desempeño == \"Muy bueno\"| Desempeño == \"Distinguido\" ~ \"O.Sociales\",\n",
        "    Orientacion_materia == \"Naturales\" &  Desempeño == \"Bueno\" | Desempeño == \"Muy bueno\"| Desempeño == \"Distinguido\" ~ \"O.Naturales\",\n",
        "    Orientacion_materia == \"Sociales\" | Orientacion_materia == \"Naturales\" &  Desempeño == \"Bueno\" | Desempeño == \"Muy bueno\"| Desempeño == \"Distinguido\" ~ \"Multiorientacion\",\n",
        "    Desempeño == \"Aprobado\"| Desempeño == \"Insuficiente\"| Desempeño == \"Regular\" ~ \"Sin orientacion\"))\n",
        "\n",
        "#Variable Eximido: etiqueta a los alumnos según la cantidad de materias desaprobadas al final del año (se utiliza la variable \"desaprobado\")\n",
        "DF_MateriasTroncales <- mutate(DF_MateriasTroncales, Resultado = case_when(\n",
        "  Promedio < 6 ~ \"Desaprobado\",\n",
        "  Promedio >= 6 & NotasTTS < 6 ~ \"Desaprobado\",\n",
        "  Promedio >= 6 & NotasTTS >= 6 ~ \"Aprobado\") )\n",
        "\n",
        "DF_MateriasTroncales <- DF_MateriasTroncales %>%\n",
        "  group_by(DNI) %>%\n",
        "  mutate(Cantidad_Desaprobados = sum(str_detect(Resultado, regex(\"Desaprobado\", ignore_case = TRUE))))\n",
        "\n",
        "DF_MateriasTroncales<- DF_MateriasTroncales %>% mutate(Eximido = case_when(\n",
        "  Cantidad_Desaprobados == 0 ~ \"Eximido\",\n",
        "  Cantidad_Desaprobados  >= 1 & Cantidad_Desaprobados < 3 ~ \"ParcialmenteEximido\",\n",
        "  Cantidad_Desaprobados > 3  ~ \"NoEximido\",\n",
        "  TRUE ~ \"sin registro completo\"\n",
        "))"
      ]
    },
    {
      "cell_type": "markdown",
      "id": "9fb0fa94",
      "metadata": {
        "id": "9fb0fa94"
      },
      "source": [
        "# Análisis Desempeño General según la Gestión de la escuela"
      ]
    },
    {
      "cell_type": "code",
      "execution_count": null,
      "id": "7bda2e47",
      "metadata": {
        "collapsed": true,
        "id": "7bda2e47",
        "outputId": "26d1eb43-403e-4de1-e16c-8c4d1881acf1"
      },
      "outputs": [
        {
          "name": "stdout",
          "output_type": "stream",
          "text": [
            "\n",
            "   Cell Contents\n",
            "|-------------------------|\n",
            "|                   Count |\n",
            "|             Row Percent |\n",
            "|          Column Percent |\n",
            "|           Total Percent |\n",
            "|-------------------------|\n",
            "\n",
            "Total Observations in Table:  10961 \n",
            "\n",
            "                               | DF_MateriasTroncales$EsPrivada \n",
            "DF_MateriasTroncales$Desempeño |        N  |        S  | Row Total | \n",
            "-------------------------------|-----------|-----------|-----------|\n",
            "                      Aprobado |     2218  |      660  |     2878  | \n",
            "                               |     77.1% |     22.9% |     26.3% | \n",
            "                               |     27.6% |     22.5% |           | \n",
            "                               |     20.2% |      6.0% |           | \n",
            "-------------------------------|-----------|-----------|-----------|\n",
            "                         Bueno |     1810  |      712  |     2522  | \n",
            "                               |     71.8% |     28.2% |     23.0% | \n",
            "                               |     22.5% |     24.3% |           | \n",
            "                               |     16.5% |      6.5% |           | \n",
            "-------------------------------|-----------|-----------|-----------|\n",
            "                   Distinguido |      553  |      449  |     1002  | \n",
            "                               |     55.2% |     44.8% |      9.1% | \n",
            "                               |      6.9% |     15.3% |           | \n",
            "                               |      5.0% |      4.1% |           | \n",
            "-------------------------------|-----------|-----------|-----------|\n",
            "                  Insuficiente |       98  |        6  |      104  | \n",
            "                               |     94.2% |      5.8% |      0.9% | \n",
            "                               |      1.2% |      0.2% |           | \n",
            "                               |      0.9% |      0.1% |           | \n",
            "-------------------------------|-----------|-----------|-----------|\n",
            "                     Muy bueno |     1453  |      849  |     2302  | \n",
            "                               |     63.1% |     36.9% |     21.0% | \n",
            "                               |     18.1% |     29.0% |           | \n",
            "                               |     13.3% |      7.7% |           | \n",
            "-------------------------------|-----------|-----------|-----------|\n",
            "                       Regular |     1901  |      252  |     2153  | \n",
            "                               |     88.3% |     11.7% |     19.6% | \n",
            "                               |     23.7% |      8.6% |           | \n",
            "                               |     17.3% |      2.3% |           | \n",
            "-------------------------------|-----------|-----------|-----------|\n",
            "                  Column Total |     8033  |     2928  |    10961  | \n",
            "                               |     73.3% |     26.7% |           | \n",
            "-------------------------------|-----------|-----------|-----------|\n",
            "\n",
            " \n"
          ]
        }
      ],
      "source": [
        "#Creamos la tabla de contingencia:\n",
        "CrossTable( DF_MateriasTroncales$Desempeño,\n",
        "            DF_MateriasTroncales$EsPrivada,\n",
        "            digits=1,\n",
        "            prop.chisq = FALSE,\n",
        "            format=\"SPSS\")"
      ]
    },
    {
      "cell_type": "code",
      "execution_count": null,
      "id": "c022974b",
      "metadata": {
        "id": "c022974b"
      },
      "outputs": [],
      "source": [
        "#Análisis gráfico\n",
        "tabla_variables_fila_desemp<-round(prop.table( table( DF_MateriasTroncales$EsPrivada, DF_MateriasTroncales$Desempeño ),1)*100,1)\n",
        "tabla_variables_fila_desemp<-t(tabla_variables_fila_desemp)\n",
        "tabla_variables_fila\n",
        "\n",
        "colores <- sample(colors(), 6)\n",
        "\n",
        "bpc<-barplot(tabla_variables_fila_desemp,\n",
        "             main = \"Desempeño en Materias Troncales según la Gestión\",\n",
        "             beside = TRUE, # Barras agrupadas\n",
        "             space = c(0.1, 2.5), # Espacio primer elemento es el espacio entre barras de cada grupo (0.1) y el segundo el espacio entre grupos (2.5).\n",
        "             ylim = c(0,40),\n",
        "             cex.axis = 1.2, #tamaño etiquetas eje y\n",
        "             cex.names=1.5, #tamaño etiqueta eje x\n",
        "             cex.main=1.5, #tamaño título gráfico\n",
        "             col=colores,\n",
        "             #legend.text = rownames(tabla_variables_fila),\n",
        "             xlab = \"Es Privada?\",\n",
        "             cex.lab=1.5, #tamaño  xlab ylab\n",
        "             ylab = \"Desempeño\",\n",
        "             col.lab = \"blue\",\n",
        "             sub= \"Fuente de elaboración propia\")\n",
        "\n",
        "#leyenda\n",
        "legend(\"top\", rownames(tabla_variables_fila_desemp),\n",
        "       title = \"Desempeño\", # Título\n",
        "       title.adj = 0.5,          # Ajuste horizontal del título\n",
        "       title.col = \"black\",       # Color del título\n",
        "       lty = c(1),\n",
        "       col=colores,\n",
        "       lwd = 2,\n",
        "       cex =  0.6)# Cambiar el tamaño\n",
        "\n",
        "# valores sobre barras\n",
        "TC <- tabla_variables_fila_desemp\n",
        "text(bpc, TC+2.5,format(TC), cex=1.2)"
      ]
    },
    {
      "cell_type": "code",
      "execution_count": null,
      "id": "fd3a3a43",
      "metadata": {
        "collapsed": true,
        "id": "fd3a3a43",
        "outputId": "ca8a3dff-5f3b-45e0-a599-481f590c7d4c"
      },
      "outputs": [
        {
          "data": {
            "text/plain": [
              "\n",
              "\tPearson's Chi-squared test\n",
              "\n",
              "data:  DF_MateriasTroncales$Desempeño and DF_MateriasTroncales$EsPrivada\n",
              "X-squared = 584.2, df = 5, p-value < 2.2e-16\n"
            ]
          },
          "metadata": {},
          "output_type": "display_data"
        },
        {
          "data": {
            "text/plain": [
              "                              DF_MateriasTroncales$EsPrivada\n",
              "DF_MateriasTroncales$Desempeño    N    S\n",
              "                  Aprobado     2218  660\n",
              "                  Bueno        1810  712\n",
              "                  Distinguido   553  449\n",
              "                  Insuficiente   98    6\n",
              "                  Muy bueno    1453  849\n",
              "                  Regular      1901  252"
            ]
          },
          "metadata": {},
          "output_type": "display_data"
        },
        {
          "data": {
            "text/html": [
              "<table>\n",
              "<thead><tr><th></th><th scope=col>N</th><th scope=col>S</th></tr></thead>\n",
              "<tbody>\n",
              "\t<tr><th scope=row>Aprobado</th><td>2109</td><td>769 </td></tr>\n",
              "\t<tr><th scope=row>Bueno</th><td>1848</td><td>674 </td></tr>\n",
              "\t<tr><th scope=row>Distinguido</th><td> 734</td><td>268 </td></tr>\n",
              "\t<tr><th scope=row>Insuficiente</th><td>  76</td><td> 28 </td></tr>\n",
              "\t<tr><th scope=row>Muy bueno</th><td>1687</td><td>615 </td></tr>\n",
              "\t<tr><th scope=row>Regular</th><td>1578</td><td>575 </td></tr>\n",
              "</tbody>\n",
              "</table>\n"
            ],
            "text/latex": [
              "\\begin{tabular}{r|ll}\n",
              "  & N & S\\\\\n",
              "\\hline\n",
              "\tAprobado & 2109 & 769 \\\\\n",
              "\tBueno & 1848 & 674 \\\\\n",
              "\tDistinguido &  734 & 268 \\\\\n",
              "\tInsuficiente &   76 &  28 \\\\\n",
              "\tMuy bueno & 1687 & 615 \\\\\n",
              "\tRegular & 1578 & 575 \\\\\n",
              "\\end{tabular}\n"
            ],
            "text/markdown": [
              "\n",
              "| <!--/--> | N | S |\n",
              "|---|---|---|\n",
              "| Aprobado | 2109 | 769  |\n",
              "| Bueno | 1848 | 674  |\n",
              "| Distinguido |  734 | 268  |\n",
              "| Insuficiente |   76 |  28  |\n",
              "| Muy bueno | 1687 | 615  |\n",
              "| Regular | 1578 | 575  |\n",
              "\n"
            ],
            "text/plain": [
              "                              DF_MateriasTroncales$EsPrivada\n",
              "DF_MateriasTroncales$Desempeño N    S  \n",
              "                  Aprobado     2109 769\n",
              "                  Bueno        1848 674\n",
              "                  Distinguido   734 268\n",
              "                  Insuficiente   76  28\n",
              "                  Muy bueno    1687 615\n",
              "                  Regular      1578 575"
            ]
          },
          "metadata": {},
          "output_type": "display_data"
        },
        {
          "data": {
            "text/plain": [
              "                              DF_MateriasTroncales$EsPrivada\n",
              "DF_MateriasTroncales$Desempeño     N     S\n",
              "                  Aprobado       2.4  -3.9\n",
              "                  Bueno         -0.9   1.5\n",
              "                  Distinguido   -6.7  11.1\n",
              "                  Insuficiente   2.5  -4.1\n",
              "                  Muy bueno     -5.7   9.4\n",
              "                  Regular        8.1 -13.5"
            ]
          },
          "metadata": {},
          "output_type": "display_data"
        },
        {
          "data": {
            "text/plain": [
              "                              DF_MateriasTroncales$EsPrivada\n",
              "DF_MateriasTroncales$Desempeño     N     S\n",
              "                  Aprobado       5.3  -5.3\n",
              "                  Bueno         -2.0   2.0\n",
              "                  Distinguido  -13.6  13.6\n",
              "                  Insuficiente   4.9  -4.9\n",
              "                  Muy bueno    -12.4  12.4\n",
              "                  Regular       17.6 -17.6"
            ]
          },
          "metadata": {},
          "output_type": "display_data"
        },
        {
          "ename": "ERROR",
          "evalue": "Error in CramerV(DF_MateriasTroncales$Desempeño, DF_MateriasTroncales$EsPrivada): no se pudo encontrar la función \"CramerV\"\n",
          "output_type": "error",
          "traceback": [
            "Error in CramerV(DF_MateriasTroncales$Desempeño, DF_MateriasTroncales$EsPrivada): no se pudo encontrar la función \"CramerV\"\nTraceback:\n"
          ]
        }
      ],
      "source": [
        "#Análisis estadístico\n",
        "#Planteamos la pregunta e hipótesis: ¿Existe una asociación entre tener un buen desempeño y el tipo de escuela al que se asiste?\n",
        "#H0: El desempeño en las materias troncales no está asociado a la gestión de la escuela (independiente)\n",
        "#H1: El desempeño está asociado (dependiente)\n",
        "\n",
        "#Prueba estadística ---> Chi-cuadrado\n",
        "chi_desemp<-chisq.test( DF_MateriasTroncales$Desempeño, DF_MateriasTroncales$EsPrivada )\n",
        "chi_desemp #--> pvalor = 2.2e-16 < 0.05, rechazamos H0 existe una asociación entre el desempeño en Matemática y el de Lengua\n",
        "#Valores observados\n",
        "chi_desemp$observed\n",
        "#Valores esperados\n",
        "round(chi_desemp$expected,0)\n",
        "#Residuos\n",
        "round(chi_desemp$residuals, 1)\n",
        "#Residuos corregidos\n",
        "round(chi_desemp$stdres,1)\n",
        "\n",
        "#Coeficiente V de Cramer para ver que tan fuerte es la asociación\n",
        "CramerV(DF_MateriasTroncales$Desempeño,DF_MateriasTroncales$EsPrivada) #Valor obtenido =  0.2308645 --> podemos concluir que existe una asociacion que puede definirse entre debil/media"
      ]
    },
    {
      "cell_type": "markdown",
      "id": "9d428679",
      "metadata": {
        "id": "9d428679"
      },
      "source": [
        "# Análisis de la Orientación sugerida según el sector de la escuela"
      ]
    },
    {
      "cell_type": "code",
      "execution_count": null,
      "id": "6bb1c78a",
      "metadata": {
        "collapsed": true,
        "id": "6bb1c78a",
        "outputId": "17af82d1-e745-4645-e871-e8d71bcc5ccc"
      },
      "outputs": [
        {
          "name": "stdout",
          "output_type": "stream",
          "text": [
            "\n",
            "   Cell Contents\n",
            "|-------------------------|\n",
            "|                   Count |\n",
            "|             Row Percent |\n",
            "|          Column Percent |\n",
            "|           Total Percent |\n",
            "|-------------------------|\n",
            "\n",
            "Total Observations in Table:  5989 \n",
            "\n",
            "                                  | DF_MateriasTroncales_CB$Orientacion \n",
            "DF_MateriasTroncales_CB$EsPrivada | Multiorientacion  |      O.Naturales  |       O.Sociales  |  Sin orientacion  |        Row Total | \n",
            "----------------------------------|------------------|------------------|------------------|------------------|------------------|\n",
            "                                N |            2080  |             147  |            1089  |            1232  |            4548  | \n",
            "                                  |            45.7% |             3.2% |            23.9% |            27.1% |            75.9% | \n",
            "                                  |            82.5% |            71.4% |            62.1% |            81.6% |                  | \n",
            "                                  |            34.7% |             2.5% |            18.2% |            20.6% |                  | \n",
            "----------------------------------|------------------|------------------|------------------|------------------|------------------|\n",
            "                                S |             440  |              59  |             665  |             277  |            1441  | \n",
            "                                  |            30.5% |             4.1% |            46.1% |            19.2% |            24.1% | \n",
            "                                  |            17.5% |            28.6% |            37.9% |            18.4% |                  | \n",
            "                                  |             7.3% |             1.0% |            11.1% |             4.6% |                  | \n",
            "----------------------------------|------------------|------------------|------------------|------------------|------------------|\n",
            "                     Column Total |            2520  |             206  |            1754  |            1509  |            5989  | \n",
            "                                  |            42.1% |             3.4% |            29.3% |            25.2% |                  | \n",
            "----------------------------------|------------------|------------------|------------------|------------------|------------------|\n",
            "\n",
            " \n"
          ]
        }
      ],
      "source": [
        "#Creamos la tabla de contingencia\n",
        "CrossTable( DF_MateriasTroncales_CB$EsPrivada,\n",
        "            DF_MateriasTroncales_CB$Orientacion,\n",
        "            digits=1,\n",
        "            prop.chisq = FALSE,\n",
        "            format=\"SPSS\")"
      ]
    },
    {
      "cell_type": "code",
      "execution_count": null,
      "id": "4260cbf1",
      "metadata": {
        "id": "4260cbf1"
      },
      "outputs": [],
      "source": [
        "#Análisis gráfico\n",
        "tabla_variables_fila_orientacion<-round(prop.table( table( DF_MateriasTroncales_CB$EsPrivada, DF_MateriasTroncales_CB$Orientacion),1)*100,1)\n",
        "tabla_variables_fila_orientacion<-t(tabla_variables_fila_orientacion)\n",
        "tabla_variables_fila_orientacion\n",
        "\n",
        "colores <- sample(colors(), 4)\n",
        "\n",
        "\n",
        "bpc<-barplot(tabla_variables_fila_orientacion,\n",
        "             main = \"Relación Orientación sugerida y Gestión\",\n",
        "             beside = TRUE, # Barras agrupadas\n",
        "             space = c(0.1, 2.5), # Espacio primer elemento es el espacio entre barras de cada grupo (0.1) y el segundo el espacio entre grupos (2.5).\n",
        "             ylim = c(0,70),\n",
        "             cex.axis = 1.2, #tamaño etiquetas eje y\n",
        "             cex.names=1.5, #tamaño etiqueta eje x\n",
        "             cex.main=1.5, #tamaño título gráfico\n",
        "             col=colores,\n",
        "             #legend.text = rownames(tabla_variables_fila),\n",
        "             xlab = \"Es Privada?\",\n",
        "             cex.lab=1.5, #tamaño  xlab ylab\n",
        "             ylab = \"Condición\",\n",
        "             col.lab = \"blue\",\n",
        "             sub= \"Fuente de elaboración propia\")\n",
        "\n",
        "#leyenda\n",
        "legend(\"top\", rownames(tabla_variables_fila_orientacion),\n",
        "       title = \"Orientación\", # Título\n",
        "       title.adj = 0.5,          # Ajuste horizontal del título\n",
        "       title.col = \"black\",       # Color del título\n",
        "       lty = c(1),\n",
        "       col=colores,\n",
        "       lwd = 2,\n",
        "       cex =  1)# Cambiar el tamaño\n",
        "\n",
        "# valores sobre barras\n",
        "TC <- tabla_variables_fila_orientacion\n",
        "text(bpc, TC+2.5,format(TC), cex=1.2)"
      ]
    },
    {
      "cell_type": "code",
      "execution_count": null,
      "id": "34738892",
      "metadata": {
        "collapsed": true,
        "id": "34738892",
        "outputId": "4d1f8bff-f469-48bc-c69c-2cb3324a1fc1"
      },
      "outputs": [
        {
          "data": {
            "text/plain": [
              "\n",
              "\tPearson's Chi-squared test\n",
              "\n",
              "data:  DF_MateriasTroncales_CB$Orientacion and DF_MateriasTroncales_CB$EsPrivada\n",
              "X-squared = 273.53, df = 3, p-value < 2.2e-16\n"
            ]
          },
          "metadata": {},
          "output_type": "display_data"
        },
        {
          "data": {
            "text/plain": [
              "                  \n",
              "                      N    S\n",
              "  Multiorientacion 2080  440\n",
              "  O.Naturales       147   59\n",
              "  O.Sociales       1089  665\n",
              "  Sin orientacion  1232  277"
            ]
          },
          "metadata": {},
          "output_type": "display_data"
        },
        {
          "data": {
            "text/html": [
              "<table>\n",
              "<thead><tr><th></th><th scope=col>N</th><th scope=col>S</th></tr></thead>\n",
              "<tbody>\n",
              "\t<tr><th scope=row>Multiorientacion</th><td>1914</td><td>606 </td></tr>\n",
              "\t<tr><th scope=row>O.Naturales</th><td> 156</td><td> 50 </td></tr>\n",
              "\t<tr><th scope=row>O.Sociales</th><td>1332</td><td>422 </td></tr>\n",
              "\t<tr><th scope=row>Sin orientacion</th><td>1146</td><td>363 </td></tr>\n",
              "</tbody>\n",
              "</table>\n"
            ],
            "text/latex": [
              "\\begin{tabular}{r|ll}\n",
              "  & N & S\\\\\n",
              "\\hline\n",
              "\tMultiorientacion & 1914 & 606 \\\\\n",
              "\tO.Naturales &  156 &  50 \\\\\n",
              "\tO.Sociales & 1332 & 422 \\\\\n",
              "\tSin orientacion & 1146 & 363 \\\\\n",
              "\\end{tabular}\n"
            ],
            "text/markdown": [
              "\n",
              "| <!--/--> | N | S |\n",
              "|---|---|---|\n",
              "| Multiorientacion | 1914 | 606  |\n",
              "| O.Naturales |  156 |  50  |\n",
              "| O.Sociales | 1332 | 422  |\n",
              "| Sin orientacion | 1146 | 363  |\n",
              "\n"
            ],
            "text/plain": [
              "                  \n",
              "                   N    S  \n",
              "  Multiorientacion 1914 606\n",
              "  O.Naturales       156  50\n",
              "  O.Sociales       1332 422\n",
              "  Sin orientacion  1146 363"
            ]
          },
          "metadata": {},
          "output_type": "display_data"
        },
        {
          "data": {
            "text/plain": [
              "                  \n",
              "                      N    S\n",
              "  Multiorientacion  3.8 -6.8\n",
              "  O.Naturales      -0.8  1.3\n",
              "  O.Sociales       -6.7 11.8\n",
              "  Sin orientacion   2.5 -4.5"
            ]
          },
          "metadata": {},
          "output_type": "display_data"
        },
        {
          "data": {
            "text/plain": [
              "                  \n",
              "                       N     S\n",
              "  Multiorientacion  10.2 -10.2\n",
              "  O.Naturales       -1.6   1.6\n",
              "  O.Sociales       -16.1  16.1\n",
              "  Sin orientacion    6.0  -6.0"
            ]
          },
          "metadata": {},
          "output_type": "display_data"
        },
        {
          "ename": "ERROR",
          "evalue": "Error in CramerV(DF_MateriasTroncales_CB$Orientacion, DF_MateriasTroncales_CB$EsPrivada): no se pudo encontrar la función \"CramerV\"\n",
          "output_type": "error",
          "traceback": [
            "Error in CramerV(DF_MateriasTroncales_CB$Orientacion, DF_MateriasTroncales_CB$EsPrivada): no se pudo encontrar la función \"CramerV\"\nTraceback:\n"
          ]
        }
      ],
      "source": [
        "#Análisis estadístico\n",
        "#Planteamos la pregunta e hipótesis: ¿Existe una asociación entre la orientación sugerida y el tipo de escuela a la que se asiste?\n",
        "#H0: No están asociadas (independientes)\n",
        "#H1: Están asociadas (Dependiente)\n",
        "\n",
        "#Prueba estadística: Chi-cuadrado\n",
        "chi_O_Pub <-chisq.test( DF_MateriasTroncales_CB$Orientacion , DF_MateriasTroncales_CB$EsPrivada )\n",
        "chi_O_Pub #pvalor : 2.2e-16 <0.05 --> Rechazamos H0, concluimos que si existe una asociación entre el tipo de escuela y la orientación sugerida\n",
        "#Valores observados\n",
        "chi_O_Pub$observed\n",
        "#Valores esperados\n",
        "round(chi_O_Pub$expected,0)\n",
        "#Residuos\n",
        "round(chi_O_Pub$residuals, 1)\n",
        "#Residuos corregidos\n",
        "round(chi_O_Pub$stdres,1)\n",
        "\n",
        "#Coeficiente V de Cramer para ver que tan fuerte es la asociación\n",
        "CramerV(DF_MateriasTroncales_CB$Orientacion, DF_MateriasTroncales_CB$EsPrivada)\n",
        "#Valor obtenido: 0.213 --> Asociación moderada"
      ]
    },
    {
      "cell_type": "markdown",
      "id": "c4b32231",
      "metadata": {
        "id": "c4b32231"
      },
      "source": [
        "# Análisis Multivariado"
      ]
    },
    {
      "cell_type": "markdown",
      "id": "78f82988",
      "metadata": {
        "id": "78f82988"
      },
      "source": [
        "# Comparación de las notas obtenidas en las materias troncales para 1er Año por Sector"
      ]
    },
    {
      "cell_type": "code",
      "execution_count": null,
      "id": "a50f70c7",
      "metadata": {
        "id": "a50f70c7"
      },
      "outputs": [],
      "source": [
        "#Creamos el dataframe utilizado para el análisis\n",
        "MT_Primero <- secundaria_promedios %>% filter(Materia %in% c(\"MATEMATICA\", \"LENGUA Y LITERATURA\", \"HISTORIA\",\"GEOGRAFIA\",\"FISICA Y QUIMICA\",\"LENGUAS EXTRANJERAS\") & Curso == 1)\n",
        "\n",
        "#Creamos un dataset que contiene las notas para cada materia en columnas separadas\n",
        "Comparacion_sector_primero <- MT_Primero %>% distinct(DNI,EsPrivada,Materia,Promedio) %>%spread(Materia,Promedio) %>% mutate( EsPrivada = case_when(\n",
        "                                                                                                                                    EsPrivada == \"S\" ~ \"Privada\",\n",
        "                                                                                                                                    EsPrivada == \"N\"~ \"Pública\"))\n",
        "\n",
        "Comparacion_sector_primero <- na.omit(Comparacion_sector_primero)\n",
        "#Creamos vector de perfiles medios\n",
        "perfilmedio_primero_sector <- Comparacion_sector_primero %>% group_by(EsPrivada) %>% summarise_all(mean, na.rm = TRUE)"
      ]
    },
    {
      "cell_type": "code",
      "execution_count": null,
      "id": "TO8nqMOJ8Sts",
      "metadata": {
        "id": "TO8nqMOJ8Sts"
      },
      "outputs": [],
      "source": [
        "#Análisis gráfico\n",
        "#Utilizamos un gráfico de coordenadas paralelas para visualizar si existe diferencia\n",
        "ggparcoord(data = perfilmedio_primero_sector,\n",
        "           columns = 3:8,\n",
        "           groupColumn = \"EsPrivada\",\n",
        "           showPoints = TRUE,\n",
        "           scale = \"globalminmax\")+ ggtitle(\"Comparación perfiles medios de 1er Año en Materias Troncales\") +\n",
        "  labs(subtitle = \"Fuente de elaboración propia\") +\n",
        "  theme(plot.title = element_text(hjust = 0.5, face = \"bold\", size = 16),\n",
        "        plot.subtitle = element_text(hjust = 0.5, size = 14))"
      ]
    },
    {
      "cell_type": "code",
      "execution_count": null,
      "id": "df1dVXUDS6NC",
      "metadata": {
        "id": "df1dVXUDS6NC"
      },
      "outputs": [],
      "source": [
        "#Función de Mardia\n",
        "mardia2<-function(datos){\n",
        "  n<-nrow(datos)\n",
        "  k<-ncol(datos)\n",
        "\n",
        "  x<-as.matrix(datos)\n",
        "  media<-colMeans(datos)\n",
        "  matriz.media<-matrix(media,nrow=n,ncol=k,byrow=TRUE)\n",
        "\n",
        "  S<-cov(datos)*(n-1)/n\n",
        "  SI<-solve(S)   #Inversa de la matriz de covarianzas\n",
        "\n",
        "  distm<-((x-matriz.media)%*%SI)%*%t((x-matriz.media))\n",
        "\n",
        "  gl<-k*(k+1)*(k+2)/6\n",
        "\n",
        "  # Medida de Asimetría Multivariada\n",
        "  AM<-sum(distm^3)/n^2\n",
        "\n",
        "  if (n<30){\n",
        "    # Test Multivariado de Asimetría de Mardia - Muestras Pequeñas\n",
        "    c<-(n+1)*(n+3)*(k+1)/(n*((n+1)*(k+1)-6))\n",
        "    TAM<-n*c/6*AM\n",
        "    valor_p1<-pchisq(TAM,gl,lower.tail = FALSE)\n",
        "  } else {\n",
        "    # Test Multivariado de Asimetríıa de Mardia - Muestras grandes\n",
        "    TAM<-n/6*AM\n",
        "    valor_p1<-pchisq(TAM,gl,lower.tail = FALSE)\n",
        "  }\n",
        "  #Medida de Kurtosis Multivariado\n",
        "  KM<-sum((diag(distm))^2)/n\n",
        "\n",
        "  #Test Multivariado de Kurtosis de Mardia\n",
        "  TKM<-(KM-k*(k+2))*sqrt(n/(8*k*(k+2)))\n",
        "  TKM2<-TKM^2\n",
        "  valor_p2<-pchisq(TKM2,1,lower.tail = FALSE)\n",
        "\n",
        "  cat(\"Test de Normalidad Multivariada\", \"\\n\" ,\n",
        "      \"Ho: Los datos siguen una Distribución Normal Multivariada\",\"\\n\")\n",
        "  cat(\"----------------------------------------------------------------\",\"\\n\")\n",
        "  cat(\"Prueba de Mardia - Asimetría\",\"\\n\",\n",
        "      \"Asimetría Multivariada =\", AM, \"\\n\",\n",
        "      \"Valor de TAM =\",TAM, \"\\n\",\n",
        "      \"Valor p=\", valor_p1, \"\\n\")\n",
        "  cat(\"----------------------------------------------------------------\",\"\\n\")\n",
        "  cat(\"Prueba de Mardia - Curtosis\",\"\\n\",\n",
        "      \"Curtosis Multivariado =\", KM, \"\\n\",\n",
        "      \"Valor de TKM =\",TKM2, \"\\n\",\n",
        "      \"Valor p=\", valor_p2, \"\\n\")\n",
        "}"
      ]
    },
    {
      "cell_type": "code",
      "execution_count": null,
      "id": "a1474a05",
      "metadata": {
        "id": "a1474a05"
      },
      "outputs": [],
      "source": [
        "#Análisis estadístico\n",
        "#Planteamos la hipótesis\n",
        "#H0: No existe diferencia significativa entre vectores medios de cada sector\n",
        "#H1: Existe diferencia significativa\n",
        "#Antes de revisar si existe esta diferencia debemos revisar los supuestos de normalidad multivariada a través de la función de Mardia\n",
        "#Para pasar esta prueba debe cumplir las condiciones de Kurtosis y Asimetría\n",
        "mardia2(Comparacion_sector_primero[,3:8])\n",
        "#Como puede verse obtenemos que nuestra muestre no cumple con los supuestos de normalidad multivariada por lo que no es posible aplicar un test que\n",
        "#nos permita evaular si existe una diferencia estadística significativa"
      ]
    },
    {
      "cell_type": "code",
      "execution_count": null,
      "id": "xVDBczHnSWeI",
      "metadata": {
        "id": "xVDBczHnSWeI"
      },
      "outputs": [],
      "source": [
        "#Para ver que no solo ocurre en el primer año, realizamos el mismo gráfico de perfiles paralelos en general según el tipo de gestión\n",
        "Comparacion_MT_G <- DF_MateriasTroncales%>% distinct(CUE,DNI,EsPrivada, Materia,Promedio) %>%spread(Materia,Promedio)\n",
        "\n",
        "#Perfil de medias por gestión\n",
        "perfilmedio_gestión <- Comparacion_MT_G %>% group_by(EsPrivada) %>% summarise_all(mean, na.rm = T )\n",
        "\n",
        "#Gráfico de perfiles paralelos\n",
        "ggparcoord(data = perfilmedio_gestión,\n",
        "           columns = 4:9,\n",
        "           groupColumn = \"EsPrivada\",\n",
        "           showPoints = TRUE,\n",
        "           scale = \"globalminmax\")+ ggtitle(\"Comparación perfiles medios generales en Materias Troncales\") +\n",
        "  labs(subtitle = \"Fuente de elaboración propia\") +\n",
        "  theme(plot.title = element_text(hjust = 0.5, face = \"bold\", size = 16),\n",
        "        plot.subtitle = element_text(hjust = 0.5, size = 14))"
      ]
    },
    {
      "cell_type": "markdown",
      "id": "4ba7bf78",
      "metadata": {
        "id": "4ba7bf78"
      },
      "source": [
        "# Comparación de las notas obtenidas en Historia, Matematica y Lenguas Extranjeras por Sector"
      ]
    },
    {
      "cell_type": "code",
      "execution_count": null,
      "id": "40c7c5cc",
      "metadata": {
        "id": "40c7c5cc"
      },
      "outputs": [],
      "source": [
        "#Creamos el dataset a utilizar\n",
        "DF_MateriasTroncales <- secundaria_promedios %>% filter(Materia %in% c(\"MATEMATICA\", \"LENGUA Y LITERATURA\", \"HISTORIA\",\"GEOGRAFIA\",\"FISICA\",\"QUIMICA\",\"LENGUAS EXTRANJERAS\"))\n",
        "\n",
        "#Dataset con las notas de cada materia por columna\n",
        "Comparacion_MT<- DF_MateriasTroncales%>% distinct(CUE,DNI,EsPrivada, Curso,Materia,Promedio) %>%spread(Materia,Promedio)\n",
        "\n",
        "#Seleccionamos las materias de interés para este análisis\n",
        "MT_Cursos_3D <- dplyr::select(Comparacion_MT, Curso,MATEMATICA, HISTORIA, 'LENGUAS EXTRANJERAS')\n",
        "MT_Sector_3D <- filter(MT_Sector_3D, CUE == 6006252 | CUE == 6002268 | CUE == 6005416|CUE == 6006612 | CUE == 6000116)\n",
        "colnames(MT_Cursos_3D)[colnames(MT_Cursos_3D) == \"LENGUAS EXTRANJERAS\"] <- \"LENG_EXTRANJERAS\"\n",
        "MT_Cursos_3D <-  na.omit(MT_Cursos_3D)\n",
        "\n",
        "#Creamos el vector de perfiles medios\n",
        "perfil_medio_escuelas<- MT_Sector_3D %>% group_by(CUE) %>% summarise_all(mean, na.rm = T)\n",
        "#Le asignamos el sector a cada una para poder distinguirla\n",
        "perfil_medio_escuelas <- perfil_medio_escuelas %>% mutate(Sector = case_when(\n",
        "  CUE == 6006252 ~ \"Pública\",\n",
        "  CUE == 6002268 ~ \"Pública\",\n",
        "  CUE == 6005416 ~ \"Pública\",\n",
        "  CUE == 6006612 ~ \"Privada\",\n",
        "  CUE == 6000116 ~ \"Privada\"\n",
        "))"
      ]
    },
    {
      "cell_type": "code",
      "execution_count": null,
      "id": "eade48e3",
      "metadata": {
        "id": "eade48e3"
      },
      "outputs": [],
      "source": [
        "#Análisis gráfico\n",
        "#Scatterplot 3D\n",
        "colors <- c(\"#008B00\", \"firebrick4\") #cambie los colores para que azul sea compañia C\n",
        "\n",
        "colors <- colors[as.factor(perfil_medio_escuelas$Sector)]\n",
        "\n",
        "with(perfil_medio_escuelas, {\n",
        "  s3d <- scatterplot3d(\n",
        "    x = MATEMATICA,\n",
        "    y = HISTORIA,\n",
        "    z = LENG_EXTRANJERAS,\n",
        "    color = colors,\n",
        "    pch = 16,\n",
        "    type = \"h\",\n",
        "    main = \"SCATTERPLOT 3D SEGÚN LA GESTIÓN DE LA ESCUELA\",\n",
        "    xlab = \"MATEMATICA\",\n",
        "    ylab = \"HISTORIA\",\n",
        "    zlab = \"LENGUAS EXTRANJERAS\",\n",
        "    sub = \"FUENTE DE ELABORACIÓN PROPIA\")\n",
        "\n",
        "  # convert 3-D coords to 2D projection/*G_EXTRANJERAS)\n",
        "  s3d.coords <- s3d$xyz.convert(MATEMATICA, HISTORIA, LENG_EXTRANJERAS)\n",
        "  # plot text with 50% shrink and place to right of points\n",
        "  text(s3d.coords$x,\n",
        "       s3d.coords$y,\n",
        "       labels = perfil_medio_escuelas$CUE,\n",
        "       cex = .9,\n",
        "       pos = 4)\n",
        "})\n",
        "\n",
        "legend(\"bottomright\",\n",
        "       legend = c(\"Escuelas Pública\", \"Escuelas Privada\"),\n",
        "       fill = c(\"firebrick4\", \"#008B00\"))"
      ]
    },
    {
      "cell_type": "markdown",
      "id": "28f40118",
      "metadata": {
        "id": "28f40118"
      },
      "source": [
        "# Para el último análisis nos basaremos en la condición de \"eximido\". Intentando averiguar si el desempeño en el 1er Trimestre de los alumnos afecta a la cantidad de materias desaprobadas a final del año. Esto se efecutará diferenciando el sector."
      ]
    },
    {
      "cell_type": "code",
      "execution_count": null,
      "id": "df414dd3",
      "metadata": {
        "id": "df414dd3"
      },
      "outputs": [],
      "source": [
        "#Primero realizaremos una tabla de contigencia para ver la división de los alumnos según su condición y sector\n",
        "CrossTable( DF_MateriasTroncales$Eximido,\n",
        "            DF_MateriasTroncales$EsPrivada,\n",
        "            digits=1,\n",
        "            prop.chisq = FALSE,\n",
        "            format=\"SPSS\")\n",
        "#Análisis gráfico\n",
        "tabla_variables_fila_ex<-round(prop.table( table(DF_MateriasTroncales$EsPrivada, DF_MateriasTroncales$Eximido),1)*100,1)\n",
        "tabla_variables_fila_ex<-t(tabla_variables_fila_ex)\n",
        "tabla_variables_fila_ex\n",
        "\n",
        "colores <- sample(colors(), 4)\n",
        "\n",
        "bpc<-barplot(tabla_variables_fila_ex,\n",
        "             main = \"Relación Cond. Eximido de los alumnos y tipo de escuela a la que asiste\",\n",
        "             beside = TRUE, # Barras agrupadas\n",
        "             space = c(0.1, 2.5), # Espacio primer elemento es el espacio entre barras de cada grupo (0.1) y el segundo el espacio entre grupos (2.5).\n",
        "             ylim = c(0,110),\n",
        "             cex.axis = 1.2, #tamaño etiquetas eje y\n",
        "             cex.names=1.5, #tamaño etiqueta eje x\n",
        "             cex.main=1.5, #tamaño título gráfico\n",
        "             col=colores,\n",
        "             #legend.text = rownames(tabla_variables_fila),\n",
        "             xlab = \"Sector\",\n",
        "             cex.lab=1.5, #tamaño  xlab ylab\n",
        "             ylab = \"Condición\",\n",
        "             col.lab = \"blue\",\n",
        "             sub= \"Fuente de elaboración propia\")\n",
        "\n",
        "#Leyenda\n",
        "legend(\"top\", rownames(tabla_variables_fila_ex),\n",
        "       title = \"Condición\", # Título\n",
        "       title.adj = 0.5,          # Ajuste horizontal del título\n",
        "       title.col = \"black\",       # Color del título\n",
        "       lty = c(1),\n",
        "       col=colores,\n",
        "       lwd = 2,\n",
        "       cex =  0.7)# Cambiar el tamaño\n",
        "\n",
        "# valores sobre barras\n",
        "TC <- tabla_variables_fila_ex\n",
        "text(bpc, TC+2.5,format(TC), cex=1.2)"
      ]
    },
    {
      "cell_type": "code",
      "execution_count": null,
      "id": "dc8802c3",
      "metadata": {
        "id": "dc8802c3"
      },
      "outputs": [],
      "source": [
        "#Análisis multivariado\n",
        "DF_MateriasTroncales <- na.omit(DF_MateriasTroncales)\n",
        "\n",
        "MT_PrimerT <- DF_MateriasTroncales %>% distinct(DNI,Materia,EsPrivada, NotasPTS, Eximido) %>% spread(Materia, NotasPTS)\n",
        "\n",
        "#Separamos por sector\n",
        "MT_PrimerT_Priv <- filter(MT_PrimerT, EsPrivada == \"S\")\n",
        "MT_PrimerT_Pub <- filter(MT_PrimerT, EsPrivada == \"N\")"
      ]
    },
    {
      "cell_type": "code",
      "execution_count": null,
      "id": "76ee038d",
      "metadata": {
        "id": "76ee038d"
      },
      "outputs": [],
      "source": [
        "#Análisis gráfico\n",
        "MT_PrimerT_escaladopub <- data.frame(\"Condicion\"=MT_PrimerT_Pub$Eximido,\"Matematica\"=rescale(MT_PrimerT_Pub$MATEMATICA,to=c(0,1)),\n",
        "                  \"Lengua y Lit\"=rescale(MT_PrimerT_Pub$`LENGUA Y LITERATURA`,to=c(0,1)),\n",
        "                  \"Historia\"=rescale(MT_PrimerT_Pub$HISTORIA,to=c(0,1)),\n",
        "                  \"Geografia\"=rescale(MT_PrimerT_Pub$GEOGRAFIA,to=c(0,1)),\n",
        "                  \"Ingles\"=rescale(MT_PrimerT_Pub$`LENGUAS EXTRANJERAS`,to=c(0,1)))\n",
        "\n",
        "MT_PrimerT_escaladopriv <- data.frame(\"Condicion\"=MT_PrimerT_Priv$Eximido,\"Matematica\"=rescale(MT_PrimerT_Priv$MATEMATICA,to=c(0,1)),\n",
        "                                      \"Lengua y Lit\"=rescale(MT_PrimerT_Priv$`LENGUA Y LITERATURA`,to=c(0,1)),\n",
        "                                      \"Historia\"=rescale(MT_PrimerT_Priv$HISTORIA,to=c(0,1)),\n",
        "                                      \"Geografia\"=rescale(MT_PrimerT_Priv$GEOGRAFIA,to=c(0,1)),\n",
        "                                      \"Ingles\"=rescale(MT_PrimerT_Priv$`LENGUAS EXTRANJERAS`,to=c(0,1)))\n",
        "#Perfiles medio de escalado por sector\n",
        "perfilmedio_escalado_1T_priv<- MT_PrimerT_escaladopub %>% group_by(Condicion) %>% summarise_all(mean, na.rm = T)\n",
        "perfilmedio_escalado_1T_pub<- MT_PrimerT_escaladopriv %>% group_by(Condicion) %>% summarise_all(mean, na.rm = T)\n",
        "\n",
        "#Gráficos\n",
        "#Escuelas privadas\n",
        "lcols <- c(\"#5CB85C\", \"#46B8DA\", \"#A52A2A\", \"yellow\")\n",
        "ggradar(perfilmedio_escalado_1T_priv, grid.min=0, grid.max=1,\n",
        "        values.radar = c(0, 0.5, 1),\n",
        "        background.circle.colour = \"white\",\n",
        "        axis.line.colour = \"gray60\",\n",
        "        gridline.min.colour = \"gray60\",\n",
        "        gridline.mid.colour = \"gray60\",\n",
        "        gridline.max.colour = \"gray60\",\n",
        "        group.colours = lcols,\n",
        "        legend.title = \"Condición\",\n",
        "        legend.position = \"bottom\") +\n",
        "  labs(title = \"Notas 1er T según condición Esc. Privada\")+ ggtitle(\"Radar Notas 1erT según condición para Esc. Privadas\") +\n",
        "  labs(subtitle = \"Fuente de elaboración propia\") +\n",
        "  theme(plot.title = element_text(hjust = 0.5, face = \"bold\", size = 16),\n",
        "        plot.subtitle = element_text(hjust = 0.5, size = 14))\n",
        "\n",
        "#Escuelas públicas\n",
        "lcols <- c(\"#5CB85C\", \"#46B8DA\", \"#A52A2A\", \"yellow\")\n",
        "ggradar(perfilmedio_escalado_1T_priv, grid.min=0, grid.max=1,\n",
        "        values.radar = c(0, 0.5, 1),\n",
        "        background.circle.colour = \"white\",\n",
        "        axis.line.colour = \"gray60\",\n",
        "        gridline.min.colour = \"gray60\",\n",
        "        gridline.mid.colour = \"gray60\",\n",
        "        gridline.max.colour = \"gray60\",\n",
        "        group.colours = lcols,\n",
        "        legend.title = \"Condición\",\n",
        "        legend.position = \"bottom\") +\n",
        "  labs(title = \"Notas 1er T según condición Esc. Pública\")+ ggtitle(\"Radar Notas 1erT según condición para Esc. Públicas\") +\n",
        "  labs(subtitle = \"Fuente de elaboración propia\") +\n",
        "  theme(plot.title = element_text(hjust = 0.5, face = \"bold\", size = 16),\n",
        "        plot.subtitle = element_text(hjust = 0.5, size = 14))"
      ]
    }
  ],
  "metadata": {
    "colab": {
      "provenance": []
    },
    "kernelspec": {
      "display_name": "R",
      "language": "R",
      "name": "ir"
    },
    "language_info": {
      "codemirror_mode": "r",
      "file_extension": ".r",
      "mimetype": "text/x-r-source",
      "name": "R",
      "pygments_lexer": "r",
      "version": "3.6.1"
    }
  },
  "nbformat": 4,
  "nbformat_minor": 5
}