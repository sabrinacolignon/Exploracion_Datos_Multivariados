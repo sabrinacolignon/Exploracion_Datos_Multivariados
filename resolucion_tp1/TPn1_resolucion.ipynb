{
 "cells": [
  {
   "cell_type": "code",
   "execution_count": 1,
   "id": "88557a38",
   "metadata": {},
   "outputs": [
    {
     "name": "stderr",
     "output_type": "stream",
     "text": [
      "Warning message:\n",
      "\"package 'readxl' was built under R version 3.6.3\""
     ]
    }
   ],
   "source": [
    "#install.packages(\"readxl\")\n",
    "library(readxl)"
   ]
  },
  {
   "cell_type": "code",
   "execution_count": 2,
   "id": "4282669e",
   "metadata": {},
   "outputs": [],
   "source": [
    "options(warn=-1)\n",
    "Diamante<-read_excel(\"C:/Users/Sabrina/Downloads/Exploracion_d_multivariados/DIAMANTE3.xlsx\", sheet = 1)"
   ]
  },
  {
   "cell_type": "code",
   "execution_count": 3,
   "id": "e76e4557",
   "metadata": {},
   "outputs": [],
   "source": [
    "Diamante_na<-na.omit(Diamante) #Elimina registros con NA del dataset"
   ]
  },
  {
   "cell_type": "code",
   "execution_count": 4,
   "id": "3b7ae2d1",
   "metadata": {},
   "outputs": [],
   "source": [
    "Diamante$turno<-as.factor(Diamante$turno)"
   ]
  },
  {
   "cell_type": "code",
   "execution_count": 5,
   "id": "8e57d319",
   "metadata": {
    "scrolled": true
   },
   "outputs": [],
   "source": [
    "Diamante_copia <- Diamante[, -c(18)]"
   ]
  },
  {
   "cell_type": "code",
   "execution_count": 6,
   "id": "d6f64fdd",
   "metadata": {},
   "outputs": [
    {
     "name": "stderr",
     "output_type": "stream",
     "text": [
      "\n",
      "Attaching package: 'dplyr'\n",
      "\n",
      "The following objects are masked from 'package:stats':\n",
      "\n",
      "    filter, lag\n",
      "\n",
      "The following objects are masked from 'package:base':\n",
      "\n",
      "    intersect, setdiff, setequal, union\n",
      "\n"
     ]
    }
   ],
   "source": [
    "#install.packages(\"dplyr\")\n",
    "library(dplyr)"
   ]
  },
  {
   "cell_type": "code",
   "execution_count": 7,
   "id": "85588a0d",
   "metadata": {},
   "outputs": [],
   "source": [
    "Diamante_rename <- rename( Diamante_copia, año = anioLectivo ) #renombrar variables"
   ]
  },
  {
   "cell_type": "code",
   "execution_count": 8,
   "id": "99ed5185",
   "metadata": {},
   "outputs": [],
   "source": [
    "Diamante_nuevo <-select(Diamante_rename, CUE, Documento, localidad, turno, curso, año, asignatura, nota, NivelEnsenanza, Nivel, Modalidad, ModEnsenaza, EsPrivada, orden)"
   ]
  },
  {
   "cell_type": "code",
   "execution_count": 9,
   "id": "f4e3b793",
   "metadata": {},
   "outputs": [],
   "source": [
    "Diamante_primario <- filter(Diamante_rename, año == 2022 & ModEnsenaza == \"Comun\" & NivelEnsenanza == \"PRIMARIO\" & Modalidad == \"Secundaria\")"
   ]
  },
  {
   "cell_type": "code",
   "execution_count": 10,
   "id": "9ba138c3",
   "metadata": {},
   "outputs": [
    {
     "data": {
      "text/html": [
       "<ol class=list-inline>\n",
       "\t<li>178154</li>\n",
       "\t<li>24</li>\n",
       "</ol>\n"
      ],
      "text/latex": [
       "\\begin{enumerate*}\n",
       "\\item 178154\n",
       "\\item 24\n",
       "\\end{enumerate*}\n"
      ],
      "text/markdown": [
       "1. 178154\n",
       "2. 24\n",
       "\n",
       "\n"
      ],
      "text/plain": [
       "[1] 178154     24"
      ]
     },
     "metadata": {},
     "output_type": "display_data"
    }
   ],
   "source": [
    "dim(Diamante_primario)"
   ]
  },
  {
   "cell_type": "code",
   "execution_count": 11,
   "id": "a14e5079",
   "metadata": {},
   "outputs": [
    {
     "data": {
      "text/html": [
       "91"
      ],
      "text/latex": [
       "91"
      ],
      "text/markdown": [
       "91"
      ],
      "text/plain": [
       "[1] 91"
      ]
     },
     "metadata": {},
     "output_type": "display_data"
    }
   ],
   "source": [
    "length(unique(Diamante_primario$CUE))"
   ]
  },
  {
   "cell_type": "code",
   "execution_count": 13,
   "id": "ec26805d",
   "metadata": {},
   "outputs": [],
   "source": [
    "library('stringr')"
   ]
  },
  {
   "cell_type": "code",
   "execution_count": 14,
   "id": "ff507822",
   "metadata": {
    "scrolled": true
   },
   "outputs": [
    {
     "name": "stdout",
     "output_type": "stream",
     "text": [
      "[1] \"4\" \"4\" \"4\" \"1\" \"4\" \"4\"\n"
     ]
    },
    {
     "data": {
      "text/plain": [
       "\n",
       "    1     2     3     4     5     6 \n",
       "37298 29844 28184 28003 25853 28972 "
      ]
     },
     "metadata": {},
     "output_type": "display_data"
    }
   ],
   "source": [
    "Diamante_primario$curso<-as.character(Diamante_primario$curso)\n",
    "Diamante_primario$Año_cursado<-str_sub(Diamante_primario$curso,1, 1)\n",
    "print(head(Diamante_primario$Año_cursado),2)\n",
    "table(Diamante_primario$Año_cursado)"
   ]
  },
  {
   "cell_type": "code",
   "execution_count": 15,
   "id": "1e313411",
   "metadata": {},
   "outputs": [],
   "source": [
    "Diamante_primario$Año_cursado <- str_replace (Diamante_primario$Año_cursado, \"1\" , \"PRIMERO\")\n",
    "Diamante_primario$Año_cursado <- str_replace (Diamante_primario$Año_cursado, \"2\" , \"SEGUNDO\")\n",
    "Diamante_primario$Año_cursado <- str_replace (Diamante_primario$Año_cursado, \"3\" , \"TERCERO\")\n",
    "Diamante_primario$Año_cursado <- str_replace (Diamante_primario$Año_cursado, \"4\" , \"CUARTO\")\n",
    "Diamante_primario$Año_cursado <- str_replace (Diamante_primario$Año_cursado, \"5\" , \"QUINTO\")\n",
    "Diamante_primario$Año_cursado <- str_replace (Diamante_primario$Año_cursado, \"6\" , \"SEXTO\")"
   ]
  },
  {
   "cell_type": "code",
   "execution_count": 41,
   "id": "6889b29b",
   "metadata": {},
   "outputs": [],
   "source": [
    "Notas_Diamante<-select(Diamante_primario, 'CUE', 'Documento', 'localidad', 'turno' , 'curso' , 'periodoEvaluatorio', 'asignatura', 'nota','NivelEnsenanza', 'Nivel', 'Modalidad', 'año', 'EsPrivada','orden', 'Año_cursado')"
   ]
  },
  {
   "cell_type": "code",
   "execution_count": 42,
   "id": "a6777910",
   "metadata": {},
   "outputs": [
    {
     "data": {
      "text/plain": [
       "\n",
       "ACOMP .AL ESTUDIO LENGUA Y C. SOCIALES                      ACOMP. AL ESTUDIO \n",
       "                                    68                                     48 \n",
       " ACOMP. AL ESTUDIO MATEMÁTICA Y C NAT.              Acompañamiento al estudio \n",
       "                                    63                                    305 \n",
       "             Acompañamiento al Estudio              ACOMPAÑAMIENTO AL ESTUDIO \n",
       "                                   176                                    277 \n",
       "    ACOMPAÑAMIENTO AL ESTUDIO - LENGUA ACOMPAÑAMIENTO AL ESTUDIO - MATEMÁTICA \n",
       "                                   108                                    108 \n",
       "                               Ajedrez                         Artes Visuales \n",
       "                                   100                                     55 \n",
       "                        ARTES VISUALES                             Catequesis \n",
       "                                 20183                                    672 \n",
       "                            CATEQUESIS                     Ciencias Naturales \n",
       "                                  1594                                     55 \n",
       "                    CIENCIAS NATURALES                      Ciencias Sociales \n",
       "                                 20617                                     55 \n",
       "                     CIENCIAS SOCIALES                 EDUCACION AGROPECUARIA \n",
       "                                 20602                                     61 \n",
       "                Educación Agropecuaria                       EDUCACION FISICA \n",
       "                                   416                                  20552 \n",
       "                      Educación Física                      EDUCACION MUSICAL \n",
       "                                    55                                  20390 \n",
       "                     Educación Musical                  EDUCACION TECNOLOGICA \n",
       "                                    55                                  20441 \n",
       "                 Educación Tecnológica    ESPACIO DE DEFINICION INSTITUCIONAL \n",
       "                                    55                                     60 \n",
       "   Espacio de Definición Institucional       Espacio Definición Institucional \n",
       "                                   415                                    646 \n",
       "                    EXPRESION CORPORAL            Formación ética y ciudadana \n",
       "                                   451                                    121 \n",
       "           Formación Ética y Ciudadana                      IDIOMA EXTRANJERO \n",
       "                                   248                                    136 \n",
       "                                Ingles                                 INGLES \n",
       "                                   136                                   2365 \n",
       "                                Inglés                                 INGLÉS \n",
       "                                  1062                                   1344 \n",
       "                  INICIACIÓN DEPORTIVA                                 Lengua \n",
       "                                   108                                     50 \n",
       "                                LENGUA                             Matematica \n",
       "                                 20550                                     52 \n",
       "                            MATEMATICA                                 Taller \n",
       "                                 20518                                    463 \n",
       "                     Taller de Ajedrez                       TALLER DE DANZAS \n",
       "                                   205                                    108 \n",
       "         TALLER DE HUERTA Y JARDINERÍA                      Taller de inglés. \n",
       "                                   108                                    372 \n",
       "               Taller de Investigación             TALLER LENGUAS EXTRANJERAS \n",
       "                                   647                                    230 \n",
       "                Técnicas Agropecuarias \n",
       "                                   646 "
      ]
     },
     "metadata": {},
     "output_type": "display_data"
    }
   ],
   "source": [
    "table(Notas_Diamante$asignatura)"
   ]
  },
  {
   "cell_type": "code",
   "execution_count": 43,
   "id": "9199f0c1",
   "metadata": {},
   "outputs": [
    {
     "name": "stdout",
     "output_type": "stream",
     "text": [
      "tibble[,15] [178,154 x 15] (S3: tbl_df/tbl/data.frame)\n",
      " $ CUE               : num [1:178154] 6e+06 6e+06 6e+06 6e+06 6e+06 ...\n",
      " $ Documento         : num [1:178154] 53004428 50184264 51285602 54252120 51151254 ...\n",
      " $ localidad         : chr [1:178154] \"DIAMANTE\" \"DIAMANTE\" \"DIAMANTE\" \"DIAMANTE\" ...\n",
      " $ turno             : Factor w/ 6 levels \"COMPLETO\",\"DIURNO\",..: 5 5 5 5 5 5 5 5 5 5 ...\n",
      " $ curso             : chr [1:178154] \"4-6 - A Prim\" \"4-6 - A Prim\" \"4-6 - A Prim\" \"1-3 - A Prim\" ...\n",
      " $ periodoEvaluatorio: chr [1:178154] \"Primer Trimestre\" \"Segundo Trimestre\" \"Primer Trimestre\" \"Primer Trimestre\" ...\n",
      " $ asignatura        : chr [1:178154] \"LENGUA\" \"LENGUA\" \"LENGUA\" \"LENGUA\" ...\n",
      " $ nota              : chr [1:178154] \"6\" \"9\" \"7\" \"8\" ...\n",
      " $ NivelEnsenanza    : chr [1:178154] \"PRIMARIO\" \"PRIMARIO\" \"PRIMARIO\" \"PRIMARIO\" ...\n",
      " $ Nivel             : num [1:178154] 2 2 2 2 2 2 2 2 2 2 ...\n",
      " $ Modalidad         : chr [1:178154] \"Primaria\" \"Primaria\" \"Primaria\" \"Primaria\" ...\n",
      " $ año               : num [1:178154] 2022 2022 2022 2022 2022 ...\n",
      " $ EsPrivada         : chr [1:178154] \"N\" \"N\" \"N\" \"N\" ...\n",
      " $ orden             : num [1:178154] 1 2 1 1 1 2 1 1 1 1 ...\n",
      " $ Año_cursado       : chr [1:178154] \"CUARTO\" \"CUARTO\" \"CUARTO\" \"PRIMERO\" ...\n"
     ]
    }
   ],
   "source": [
    "str(Notas_Diamante)"
   ]
  },
  {
   "cell_type": "code",
   "execution_count": 44,
   "id": "e9eb6f16",
   "metadata": {},
   "outputs": [],
   "source": [
    "Notas_Diamante$asignatura <- toupper(Notas_Diamante$asignatura) "
   ]
  },
  {
   "cell_type": "code",
   "execution_count": 45,
   "id": "c1712656",
   "metadata": {},
   "outputs": [],
   "source": [
    "Notas_Diamante$asignatura <- str_replace (Notas_Diamante$asignatura, \"EDUCACION FISICA\", \"EDUCACIÓN FÍSICA\")\n",
    "Notas_Diamante$asignatura <- str_replace (Notas_Diamante$asignatura, \"MATEMATICA\", \"MATEMÁTICA\")"
   ]
  },
  {
   "cell_type": "code",
   "execution_count": 46,
   "id": "82775c4d",
   "metadata": {},
   "outputs": [],
   "source": [
    "PrimerT <- filter(Notas_Diamante, periodoEvaluatorio==\"Primer Trimestre\")\n",
    "PrimerT <- rename(PrimerT, NotasPrimerT=nota)"
   ]
  },
  {
   "cell_type": "code",
   "execution_count": 47,
   "id": "92553518",
   "metadata": {},
   "outputs": [],
   "source": [
    "SegundoT <- filter(Notas_Diamante, periodoEvaluatorio==\"Segundo Trimestre\")\n",
    "SegundoT <- rename(SegundoT, NotasSegundoT=nota)"
   ]
  },
  {
   "cell_type": "code",
   "execution_count": 48,
   "id": "3d292152",
   "metadata": {},
   "outputs": [],
   "source": [
    "prueba<-merge(x = PrimerT, y = SegundoT, by = c(\"Documento\", \"asignatura\"))"
   ]
  },
  {
   "cell_type": "code",
   "execution_count": 49,
   "id": "c183e51d",
   "metadata": {},
   "outputs": [],
   "source": [
    "TercerT <- filter(Notas_Diamante, periodoEvaluatorio==\"Tercer Trimestre\")\n",
    "TercerT <- rename(TercerT, NotasTercerT=nota)"
   ]
  },
  {
   "cell_type": "code",
   "execution_count": 25,
   "id": "303ed0d2",
   "metadata": {},
   "outputs": [],
   "source": [
    "promedio_trimestres<-merge(x = prueba, y = TercerT, by = c(\"Documento\", \"asignatura\"))"
   ]
  },
  {
   "cell_type": "code",
   "execution_count": 50,
   "id": "7b32fb98",
   "metadata": {},
   "outputs": [],
   "source": [
    "Notas_Diamante<-select(Notas_Diamante, 'CUE', 'Documento', 'localidad', 'turno' , 'curso' , 'periodoEvaluatorio', 'asignatura', 'nota','NivelEnsenanza', 'Nivel', 'Modalidad', 'año', 'EsPrivada', 'orden', 'Año_cursado')"
   ]
  },
  {
   "cell_type": "code",
   "execution_count": 51,
   "id": "c573f765",
   "metadata": {},
   "outputs": [],
   "source": [
    "materias_troncales <- Notas_Diamante %>% filter(asignatura %in% c( \"CIENCIAS NATURALES\", \"CIENCIAS SOCIALES\", \"INGLÉS\", \"EDUCACIÓN FÍSICA\", \"LENGUA\", \"MATEMÁTICA\"))"
   ]
  },
  {
   "cell_type": "code",
   "execution_count": 52,
   "id": "e486e148",
   "metadata": {
    "scrolled": false
   },
   "outputs": [
    {
     "data": {
      "text/plain": [
       " CIENCIAS NATURALES CIENCIAS SOCIALES EDUCACIÓN FÍSICA INGLÉS LENGUA MATEMÁTICA\n",
       "                                                                               \n",
       "              20672             20657            20607   2406  20600      20570"
      ]
     },
     "metadata": {},
     "output_type": "display_data"
    }
   ],
   "source": [
    "ftable(materias_troncales$asignatura)"
   ]
  },
  {
   "cell_type": "code",
   "execution_count": 53,
   "id": "85943af0",
   "metadata": {
    "scrolled": true
   },
   "outputs": [
    {
     "data": {
      "text/plain": [
       "\n",
       "       1- 6 - A Prim 1-2-3-4-5-6 - I Prim       1-2-3 - A Prim \n",
       "                 224                  232                  696 \n",
       "        1-2 - 3 Prim         1-2 - A Prim        1-2º - A Prim \n",
       "                 241                  253                  448 \n",
       "        1-3 - A Prim         1-6 - A Prim       1 - 6 - A Prim \n",
       "                 656                 4857                  224 \n",
       "          1 - A Prim           1 - B Prim           1 - C Prim \n",
       "               10677                 7336                 5720 \n",
       "          1 - D Prim           1 - E Prim        1 -2 - A Prim \n",
       "                2148                 1040                  257 \n",
       "      1 a 3 - A Prim       1 y 2 - A Prim       1 Y 2 - A Prim \n",
       "                 344                  240                  144 \n",
       "   1, 2 y 3 - A Prim 1, 2 y 3° - año Prim     1,2 y 3 - A Prim \n",
       "                 992                  191                   96 \n",
       "        1Y2 - A Prim         1Y2 - U Prim           2 - A Prim \n",
       "                 189                   93                11705 \n",
       "          2 - B Prim           2 - C Prim           2 - D Prim \n",
       "                7948                 5833                 3280 \n",
       "          2 - E Prim       2 y 3 - A Prim         3-4 - A Prim \n",
       "                 704                  374                  168 \n",
       "       3-4º - A Prim           3 - A Prim           3 - B Prim \n",
       "                  60                12217                 7645 \n",
       "          3 - C Prim           3 - D Prim           3 - E Prim \n",
       "                4926                 1994                  544 \n",
       "      3 y 4 - A Prim 3, 4, 5 y 6 - A Prim     3° y 4° - U Prim \n",
       "                 206                  256                  168 \n",
       "      4-5-6 - A Prim       4-5-6 - B Prim         4-6 - A Prim \n",
       "                 387                  160                  958 \n",
       "          4 - 5 Prim           4 - A Prim           4 - B Prim \n",
       "                 192                10311                 5665 \n",
       "          4 - B PRIM           4 - c PRIM           4 - C Prim \n",
       "                 652                  126                 4747 \n",
       "          4 - D Prim           4 - E Prim           4 - U Prim \n",
       "                2221                  544                   48 \n",
       "      4 y 5 - A Prim    4, 5 y 6 - A Prim 4, 5 y 6° - año Prim \n",
       "                 288                  600                  232 \n",
       "    4,5 y 6 - A Prim   4° A PRIM - A Prim         5-6 - A Prim \n",
       "                  32                  840                  349 \n",
       "       5-6º - A Prim           5 - A Prim  5 - A PRIM - A Prim \n",
       "                 136                10714                  832 \n",
       "          5 - B Prim           5 - C Prim           5 - D Prim \n",
       "                6624                 4954                 1170 \n",
       "          5 - E Prim       5 y 6 - A Prim         5Y6 - U Prim \n",
       "                 704                  322                   48 \n",
       "          6 - A Prim           6 - B Prim           6 - C Prim \n",
       "               12902                 7728                 5544 \n",
       "          6 - D Prim           6 - E Prim \n",
       "                2078                  720 "
      ]
     },
     "metadata": {},
     "output_type": "display_data"
    }
   ],
   "source": [
    "# Creamos variable curso\n",
    "table(Notas_Diamante$curso)"
   ]
  },
  {
   "cell_type": "code",
   "execution_count": 54,
   "id": "0e277e0c",
   "metadata": {},
   "outputs": [
    {
     "data": {
      "text/html": [
       "<table>\n",
       "<thead><tr><th scope=col>CUE</th><th scope=col>Documento</th><th scope=col>localidad</th><th scope=col>Curso</th><th scope=col>turno</th><th scope=col>curso</th><th scope=col>periodoEvaluatorio</th><th scope=col>asignatura</th><th scope=col>nota</th><th scope=col>NivelEnsenanza</th><th scope=col>Nivel</th><th scope=col>Modalidad</th><th scope=col>año</th><th scope=col>EsPrivada</th><th scope=col>orden</th><th scope=col>Año_cursado</th></tr></thead>\n",
       "<tbody>\n",
       "\t<tr><td>6000096          </td><td>53004428         </td><td>DIAMANTE         </td><td>4                </td><td>ROTATIVO         </td><td>4-6 - A Prim     </td><td>Primer Trimestre </td><td>LENGUA           </td><td>6                </td><td>PRIMARIO         </td><td>2                </td><td>Primaria         </td><td>2022             </td><td>N                </td><td>1                </td><td>CUARTO           </td></tr>\n",
       "\t<tr><td>6000096          </td><td>50184264         </td><td>DIAMANTE         </td><td>4                </td><td>ROTATIVO         </td><td>4-6 - A Prim     </td><td>Segundo Trimestre</td><td>LENGUA           </td><td>9                </td><td>PRIMARIO         </td><td>2                </td><td>Primaria         </td><td>2022             </td><td>N                </td><td>2                </td><td>CUARTO           </td></tr>\n",
       "\t<tr><td>6000096          </td><td>51285602         </td><td>DIAMANTE         </td><td>4                </td><td>ROTATIVO         </td><td>4-6 - A Prim     </td><td>Primer Trimestre </td><td>LENGUA           </td><td>7                </td><td>PRIMARIO         </td><td>2                </td><td>Primaria         </td><td>2022             </td><td>N                </td><td>1                </td><td>CUARTO           </td></tr>\n",
       "\t<tr><td>6000096          </td><td>54252120         </td><td>DIAMANTE         </td><td>1                </td><td>ROTATIVO         </td><td>1-3 - A Prim     </td><td>Primer Trimestre </td><td>LENGUA           </td><td>8                </td><td>PRIMARIO         </td><td>2                </td><td>Primaria         </td><td>2022             </td><td>N                </td><td>1                </td><td>PRIMERO          </td></tr>\n",
       "\t<tr><td>6000096          </td><td>51151254         </td><td>DIAMANTE         </td><td>4                </td><td>ROTATIVO         </td><td>4-6 - A Prim     </td><td>Primer Trimestre </td><td>LENGUA           </td><td>6                </td><td>PRIMARIO         </td><td>2                </td><td>Primaria         </td><td>2022             </td><td>N                </td><td>1                </td><td>CUARTO           </td></tr>\n",
       "\t<tr><td>6000096          </td><td>50071501         </td><td>DIAMANTE         </td><td>4                </td><td>ROTATIVO         </td><td>4-6 - A Prim     </td><td>Segundo Trimestre</td><td>LENGUA           </td><td>9                </td><td>PRIMARIO         </td><td>2                </td><td>Primaria         </td><td>2022             </td><td>N                </td><td>2                </td><td>CUARTO           </td></tr>\n",
       "</tbody>\n",
       "</table>\n"
      ],
      "text/latex": [
       "\\begin{tabular}{r|llllllllllllllll}\n",
       " CUE & Documento & localidad & Curso & turno & curso & periodoEvaluatorio & asignatura & nota & NivelEnsenanza & Nivel & Modalidad & año & EsPrivada & orden & Año\\_cursado\\\\\n",
       "\\hline\n",
       "\t 6000096           & 53004428          & DIAMANTE          & 4                 & ROTATIVO          & 4-6 - A Prim      & Primer Trimestre  & LENGUA            & 6                 & PRIMARIO          & 2                 & Primaria          & 2022              & N                 & 1                 & CUARTO           \\\\\n",
       "\t 6000096           & 50184264          & DIAMANTE          & 4                 & ROTATIVO          & 4-6 - A Prim      & Segundo Trimestre & LENGUA            & 9                 & PRIMARIO          & 2                 & Primaria          & 2022              & N                 & 2                 & CUARTO           \\\\\n",
       "\t 6000096           & 51285602          & DIAMANTE          & 4                 & ROTATIVO          & 4-6 - A Prim      & Primer Trimestre  & LENGUA            & 7                 & PRIMARIO          & 2                 & Primaria          & 2022              & N                 & 1                 & CUARTO           \\\\\n",
       "\t 6000096           & 54252120          & DIAMANTE          & 1                 & ROTATIVO          & 1-3 - A Prim      & Primer Trimestre  & LENGUA            & 8                 & PRIMARIO          & 2                 & Primaria          & 2022              & N                 & 1                 & PRIMERO          \\\\\n",
       "\t 6000096           & 51151254          & DIAMANTE          & 4                 & ROTATIVO          & 4-6 - A Prim      & Primer Trimestre  & LENGUA            & 6                 & PRIMARIO          & 2                 & Primaria          & 2022              & N                 & 1                 & CUARTO           \\\\\n",
       "\t 6000096           & 50071501          & DIAMANTE          & 4                 & ROTATIVO          & 4-6 - A Prim      & Segundo Trimestre & LENGUA            & 9                 & PRIMARIO          & 2                 & Primaria          & 2022              & N                 & 2                 & CUARTO           \\\\\n",
       "\\end{tabular}\n"
      ],
      "text/markdown": [
       "\n",
       "| CUE | Documento | localidad | Curso | turno | curso | periodoEvaluatorio | asignatura | nota | NivelEnsenanza | Nivel | Modalidad | año | EsPrivada | orden | Año_cursado |\n",
       "|---|---|---|---|---|---|---|---|---|---|---|---|---|---|---|---|\n",
       "| 6000096           | 53004428          | DIAMANTE          | 4                 | ROTATIVO          | 4-6 - A Prim      | Primer Trimestre  | LENGUA            | 6                 | PRIMARIO          | 2                 | Primaria          | 2022              | N                 | 1                 | CUARTO            |\n",
       "| 6000096           | 50184264          | DIAMANTE          | 4                 | ROTATIVO          | 4-6 - A Prim      | Segundo Trimestre | LENGUA            | 9                 | PRIMARIO          | 2                 | Primaria          | 2022              | N                 | 2                 | CUARTO            |\n",
       "| 6000096           | 51285602          | DIAMANTE          | 4                 | ROTATIVO          | 4-6 - A Prim      | Primer Trimestre  | LENGUA            | 7                 | PRIMARIO          | 2                 | Primaria          | 2022              | N                 | 1                 | CUARTO            |\n",
       "| 6000096           | 54252120          | DIAMANTE          | 1                 | ROTATIVO          | 1-3 - A Prim      | Primer Trimestre  | LENGUA            | 8                 | PRIMARIO          | 2                 | Primaria          | 2022              | N                 | 1                 | PRIMERO           |\n",
       "| 6000096           | 51151254          | DIAMANTE          | 4                 | ROTATIVO          | 4-6 - A Prim      | Primer Trimestre  | LENGUA            | 6                 | PRIMARIO          | 2                 | Primaria          | 2022              | N                 | 1                 | CUARTO            |\n",
       "| 6000096           | 50071501          | DIAMANTE          | 4                 | ROTATIVO          | 4-6 - A Prim      | Segundo Trimestre | LENGUA            | 9                 | PRIMARIO          | 2                 | Primaria          | 2022              | N                 | 2                 | CUARTO            |\n",
       "\n"
      ],
      "text/plain": [
       "  CUE     Documento localidad Curso turno    curso        periodoEvaluatorio\n",
       "1 6000096 53004428  DIAMANTE  4     ROTATIVO 4-6 - A Prim Primer Trimestre  \n",
       "2 6000096 50184264  DIAMANTE  4     ROTATIVO 4-6 - A Prim Segundo Trimestre \n",
       "3 6000096 51285602  DIAMANTE  4     ROTATIVO 4-6 - A Prim Primer Trimestre  \n",
       "4 6000096 54252120  DIAMANTE  1     ROTATIVO 1-3 - A Prim Primer Trimestre  \n",
       "5 6000096 51151254  DIAMANTE  4     ROTATIVO 4-6 - A Prim Primer Trimestre  \n",
       "6 6000096 50071501  DIAMANTE  4     ROTATIVO 4-6 - A Prim Segundo Trimestre \n",
       "  asignatura nota NivelEnsenanza Nivel Modalidad año  EsPrivada orden\n",
       "1 LENGUA     6    PRIMARIO       2     Primaria  2022 N         1    \n",
       "2 LENGUA     9    PRIMARIO       2     Primaria  2022 N         2    \n",
       "3 LENGUA     7    PRIMARIO       2     Primaria  2022 N         1    \n",
       "4 LENGUA     8    PRIMARIO       2     Primaria  2022 N         1    \n",
       "5 LENGUA     6    PRIMARIO       2     Primaria  2022 N         1    \n",
       "6 LENGUA     9    PRIMARIO       2     Primaria  2022 N         2    \n",
       "  Año_cursado\n",
       "1 CUARTO     \n",
       "2 CUARTO     \n",
       "3 CUARTO     \n",
       "4 PRIMERO    \n",
       "5 CUARTO     \n",
       "6 CUARTO     "
      ]
     },
     "metadata": {},
     "output_type": "display_data"
    }
   ],
   "source": [
    "Curso <- str_sub(Notas_Diamante$curso,1,1)\n",
    "prueba_curso <- cbind(Notas_Diamante [,1:3], Curso, Notas_Diamante[,4:15])\n",
    "head(prueba_curso)"
   ]
  },
  {
   "cell_type": "code",
   "execution_count": 55,
   "id": "fd5e05d7",
   "metadata": {},
   "outputs": [],
   "source": [
    "materias_troncales <- prueba_curso %>% filter(asignatura %in% c( \"CIENCIAS NATURALES\", \"CIENCIAS SOCIALES\", \"EDUCACIÓN FÍSICA\", \"LENGUA\", \"MATEMÁTICA\"))"
   ]
  },
  {
   "cell_type": "code",
   "execution_count": 56,
   "id": "cfe6e43c",
   "metadata": {},
   "outputs": [],
   "source": [
    "materias_troncales$nota <- as.numeric(materias_troncales$nota) "
   ]
  },
  {
   "cell_type": "code",
   "execution_count": 57,
   "id": "e8b38bd7",
   "metadata": {},
   "outputs": [
    {
     "name": "stdout",
     "output_type": "stream",
     "text": [
      "'data.frame':\t103106 obs. of  16 variables:\n",
      " $ CUE               : num  6e+06 6e+06 6e+06 6e+06 6e+06 ...\n",
      " $ Documento         : num  53004428 50184264 51285602 54252120 51151254 ...\n",
      " $ localidad         : chr  \"DIAMANTE\" \"DIAMANTE\" \"DIAMANTE\" \"DIAMANTE\" ...\n",
      " $ Curso             : Factor w/ 6 levels \"1\",\"2\",\"3\",\"4\",..: 4 4 4 1 4 4 4 1 4 1 ...\n",
      " $ turno             : Factor w/ 6 levels \"COMPLETO\",\"DIURNO\",..: 5 5 5 5 5 5 5 5 5 5 ...\n",
      " $ curso             : chr  \"4-6 - A Prim\" \"4-6 - A Prim\" \"4-6 - A Prim\" \"1-3 - A Prim\" ...\n",
      " $ periodoEvaluatorio: chr  \"Primer Trimestre\" \"Segundo Trimestre\" \"Primer Trimestre\" \"Primer Trimestre\" ...\n",
      " $ asignatura        : chr  \"LENGUA\" \"LENGUA\" \"LENGUA\" \"LENGUA\" ...\n",
      " $ nota              : num  6 9 7 8 6 9 6 8 7 6 ...\n",
      " $ NivelEnsenanza    : chr  \"PRIMARIO\" \"PRIMARIO\" \"PRIMARIO\" \"PRIMARIO\" ...\n",
      " $ Nivel             : num  2 2 2 2 2 2 2 2 2 2 ...\n",
      " $ Modalidad         : chr  \"Primaria\" \"Primaria\" \"Primaria\" \"Primaria\" ...\n",
      " $ año               : num  2022 2022 2022 2022 2022 ...\n",
      " $ EsPrivada         : chr  \"N\" \"N\" \"N\" \"N\" ...\n",
      " $ orden             : num  1 2 1 1 1 2 1 1 1 1 ...\n",
      " $ Año_cursado       : chr  \"CUARTO\" \"CUARTO\" \"CUARTO\" \"PRIMERO\" ...\n"
     ]
    }
   ],
   "source": [
    "str(materias_troncales)"
   ]
  },
  {
   "cell_type": "code",
   "execution_count": 58,
   "id": "28d89816",
   "metadata": {},
   "outputs": [
    {
     "data": {
      "text/html": [
       "5615"
      ],
      "text/latex": [
       "5615"
      ],
      "text/markdown": [
       "5615"
      ],
      "text/plain": [
       "[1] 5615"
      ]
     },
     "metadata": {},
     "output_type": "display_data"
    }
   ],
   "source": [
    "Cantidad <- length(unique(materias_troncales$Documento))\n",
    "Cantidad"
   ]
  },
  {
   "cell_type": "code",
   "execution_count": 59,
   "id": "bac5c968",
   "metadata": {},
   "outputs": [
    {
     "data": {
      "text/html": [
       "91"
      ],
      "text/latex": [
       "91"
      ],
      "text/markdown": [
       "91"
      ],
      "text/plain": [
       "[1] 91"
      ]
     },
     "metadata": {},
     "output_type": "display_data"
    }
   ],
   "source": [
    "length(unique(materias_troncales$CUE))"
   ]
  },
  {
   "cell_type": "code",
   "execution_count": 60,
   "id": "1f581be9",
   "metadata": {},
   "outputs": [
    {
     "data": {
      "text/html": [
       "<table>\n",
       "<thead><tr><th scope=col>CUE</th><th scope=col>Documento</th><th scope=col>localidad</th><th scope=col>Curso</th><th scope=col>turno</th><th scope=col>curso</th><th scope=col>periodoEvaluatorio</th><th scope=col>asignatura</th><th scope=col>nota</th><th scope=col>NivelEnsenanza</th><th scope=col>Nivel</th><th scope=col>Modalidad</th><th scope=col>año</th><th scope=col>EsPrivada</th><th scope=col>orden</th><th scope=col>Año_cursado</th></tr></thead>\n",
       "<tbody>\n",
       "\t<tr><td>6000096          </td><td>53004428         </td><td>DIAMANTE         </td><td>4                </td><td>ROTATIVO         </td><td>4-6 - A Prim     </td><td>Primer Trimestre </td><td>LENGUA           </td><td>6                </td><td>PRIMARIO         </td><td>2                </td><td>Primaria         </td><td>2022             </td><td>N                </td><td>1                </td><td>CUARTO           </td></tr>\n",
       "\t<tr><td>6000096          </td><td>50184264         </td><td>DIAMANTE         </td><td>4                </td><td>ROTATIVO         </td><td>4-6 - A Prim     </td><td>Segundo Trimestre</td><td>LENGUA           </td><td>9                </td><td>PRIMARIO         </td><td>2                </td><td>Primaria         </td><td>2022             </td><td>N                </td><td>2                </td><td>CUARTO           </td></tr>\n",
       "\t<tr><td>6000096          </td><td>51285602         </td><td>DIAMANTE         </td><td>4                </td><td>ROTATIVO         </td><td>4-6 - A Prim     </td><td>Primer Trimestre </td><td>LENGUA           </td><td>7                </td><td>PRIMARIO         </td><td>2                </td><td>Primaria         </td><td>2022             </td><td>N                </td><td>1                </td><td>CUARTO           </td></tr>\n",
       "\t<tr><td>6000096          </td><td>54252120         </td><td>DIAMANTE         </td><td>1                </td><td>ROTATIVO         </td><td>1-3 - A Prim     </td><td>Primer Trimestre </td><td>LENGUA           </td><td>8                </td><td>PRIMARIO         </td><td>2                </td><td>Primaria         </td><td>2022             </td><td>N                </td><td>1                </td><td>PRIMERO          </td></tr>\n",
       "\t<tr><td>6000096          </td><td>51151254         </td><td>DIAMANTE         </td><td>4                </td><td>ROTATIVO         </td><td>4-6 - A Prim     </td><td>Primer Trimestre </td><td>LENGUA           </td><td>6                </td><td>PRIMARIO         </td><td>2                </td><td>Primaria         </td><td>2022             </td><td>N                </td><td>1                </td><td>CUARTO           </td></tr>\n",
       "\t<tr><td>6000096          </td><td>50071501         </td><td>DIAMANTE         </td><td>4                </td><td>ROTATIVO         </td><td>4-6 - A Prim     </td><td>Segundo Trimestre</td><td>LENGUA           </td><td>9                </td><td>PRIMARIO         </td><td>2                </td><td>Primaria         </td><td>2022             </td><td>N                </td><td>2                </td><td>CUARTO           </td></tr>\n",
       "</tbody>\n",
       "</table>\n"
      ],
      "text/latex": [
       "\\begin{tabular}{r|llllllllllllllll}\n",
       " CUE & Documento & localidad & Curso & turno & curso & periodoEvaluatorio & asignatura & nota & NivelEnsenanza & Nivel & Modalidad & año & EsPrivada & orden & Año\\_cursado\\\\\n",
       "\\hline\n",
       "\t 6000096           & 53004428          & DIAMANTE          & 4                 & ROTATIVO          & 4-6 - A Prim      & Primer Trimestre  & LENGUA            & 6                 & PRIMARIO          & 2                 & Primaria          & 2022              & N                 & 1                 & CUARTO           \\\\\n",
       "\t 6000096           & 50184264          & DIAMANTE          & 4                 & ROTATIVO          & 4-6 - A Prim      & Segundo Trimestre & LENGUA            & 9                 & PRIMARIO          & 2                 & Primaria          & 2022              & N                 & 2                 & CUARTO           \\\\\n",
       "\t 6000096           & 51285602          & DIAMANTE          & 4                 & ROTATIVO          & 4-6 - A Prim      & Primer Trimestre  & LENGUA            & 7                 & PRIMARIO          & 2                 & Primaria          & 2022              & N                 & 1                 & CUARTO           \\\\\n",
       "\t 6000096           & 54252120          & DIAMANTE          & 1                 & ROTATIVO          & 1-3 - A Prim      & Primer Trimestre  & LENGUA            & 8                 & PRIMARIO          & 2                 & Primaria          & 2022              & N                 & 1                 & PRIMERO          \\\\\n",
       "\t 6000096           & 51151254          & DIAMANTE          & 4                 & ROTATIVO          & 4-6 - A Prim      & Primer Trimestre  & LENGUA            & 6                 & PRIMARIO          & 2                 & Primaria          & 2022              & N                 & 1                 & CUARTO           \\\\\n",
       "\t 6000096           & 50071501          & DIAMANTE          & 4                 & ROTATIVO          & 4-6 - A Prim      & Segundo Trimestre & LENGUA            & 9                 & PRIMARIO          & 2                 & Primaria          & 2022              & N                 & 2                 & CUARTO           \\\\\n",
       "\\end{tabular}\n"
      ],
      "text/markdown": [
       "\n",
       "| CUE | Documento | localidad | Curso | turno | curso | periodoEvaluatorio | asignatura | nota | NivelEnsenanza | Nivel | Modalidad | año | EsPrivada | orden | Año_cursado |\n",
       "|---|---|---|---|---|---|---|---|---|---|---|---|---|---|---|---|\n",
       "| 6000096           | 53004428          | DIAMANTE          | 4                 | ROTATIVO          | 4-6 - A Prim      | Primer Trimestre  | LENGUA            | 6                 | PRIMARIO          | 2                 | Primaria          | 2022              | N                 | 1                 | CUARTO            |\n",
       "| 6000096           | 50184264          | DIAMANTE          | 4                 | ROTATIVO          | 4-6 - A Prim      | Segundo Trimestre | LENGUA            | 9                 | PRIMARIO          | 2                 | Primaria          | 2022              | N                 | 2                 | CUARTO            |\n",
       "| 6000096           | 51285602          | DIAMANTE          | 4                 | ROTATIVO          | 4-6 - A Prim      | Primer Trimestre  | LENGUA            | 7                 | PRIMARIO          | 2                 | Primaria          | 2022              | N                 | 1                 | CUARTO            |\n",
       "| 6000096           | 54252120          | DIAMANTE          | 1                 | ROTATIVO          | 1-3 - A Prim      | Primer Trimestre  | LENGUA            | 8                 | PRIMARIO          | 2                 | Primaria          | 2022              | N                 | 1                 | PRIMERO           |\n",
       "| 6000096           | 51151254          | DIAMANTE          | 4                 | ROTATIVO          | 4-6 - A Prim      | Primer Trimestre  | LENGUA            | 6                 | PRIMARIO          | 2                 | Primaria          | 2022              | N                 | 1                 | CUARTO            |\n",
       "| 6000096           | 50071501          | DIAMANTE          | 4                 | ROTATIVO          | 4-6 - A Prim      | Segundo Trimestre | LENGUA            | 9                 | PRIMARIO          | 2                 | Primaria          | 2022              | N                 | 2                 | CUARTO            |\n",
       "\n"
      ],
      "text/plain": [
       "  CUE     Documento localidad Curso turno    curso        periodoEvaluatorio\n",
       "1 6000096 53004428  DIAMANTE  4     ROTATIVO 4-6 - A Prim Primer Trimestre  \n",
       "2 6000096 50184264  DIAMANTE  4     ROTATIVO 4-6 - A Prim Segundo Trimestre \n",
       "3 6000096 51285602  DIAMANTE  4     ROTATIVO 4-6 - A Prim Primer Trimestre  \n",
       "4 6000096 54252120  DIAMANTE  1     ROTATIVO 1-3 - A Prim Primer Trimestre  \n",
       "5 6000096 51151254  DIAMANTE  4     ROTATIVO 4-6 - A Prim Primer Trimestre  \n",
       "6 6000096 50071501  DIAMANTE  4     ROTATIVO 4-6 - A Prim Segundo Trimestre \n",
       "  asignatura nota NivelEnsenanza Nivel Modalidad año  EsPrivada orden\n",
       "1 LENGUA     6    PRIMARIO       2     Primaria  2022 N         1    \n",
       "2 LENGUA     9    PRIMARIO       2     Primaria  2022 N         2    \n",
       "3 LENGUA     7    PRIMARIO       2     Primaria  2022 N         1    \n",
       "4 LENGUA     8    PRIMARIO       2     Primaria  2022 N         1    \n",
       "5 LENGUA     6    PRIMARIO       2     Primaria  2022 N         1    \n",
       "6 LENGUA     9    PRIMARIO       2     Primaria  2022 N         2    \n",
       "  Año_cursado\n",
       "1 CUARTO     \n",
       "2 CUARTO     \n",
       "3 CUARTO     \n",
       "4 PRIMERO    \n",
       "5 CUARTO     \n",
       "6 CUARTO     "
      ]
     },
     "metadata": {},
     "output_type": "display_data"
    }
   ],
   "source": [
    "head(materias_troncales)"
   ]
  },
  {
   "cell_type": "code",
   "execution_count": 61,
   "id": "951e9f01",
   "metadata": {
    "scrolled": true
   },
   "outputs": [
    {
     "data": {
      "text/html": [
       "1261"
      ],
      "text/latex": [
       "1261"
      ],
      "text/markdown": [
       "1261"
      ],
      "text/plain": [
       "[1] 1261"
      ]
     },
     "metadata": {},
     "output_type": "display_data"
    },
    {
     "data": {
      "text/html": [
       "927"
      ],
      "text/latex": [
       "927"
      ],
      "text/markdown": [
       "927"
      ],
      "text/plain": [
       "[1] 927"
      ]
     },
     "metadata": {},
     "output_type": "display_data"
    },
    {
     "data": {
      "text/html": [
       "895"
      ],
      "text/latex": [
       "895"
      ],
      "text/markdown": [
       "895"
      ],
      "text/plain": [
       "[1] 895"
      ]
     },
     "metadata": {},
     "output_type": "display_data"
    },
    {
     "data": {
      "text/html": [
       "891"
      ],
      "text/latex": [
       "891"
      ],
      "text/markdown": [
       "891"
      ],
      "text/plain": [
       "[1] 891"
      ]
     },
     "metadata": {},
     "output_type": "display_data"
    },
    {
     "data": {
      "text/html": [
       "813"
      ],
      "text/latex": [
       "813"
      ],
      "text/markdown": [
       "813"
      ],
      "text/plain": [
       "[1] 813"
      ]
     },
     "metadata": {},
     "output_type": "display_data"
    },
    {
     "data": {
      "text/html": [
       "837"
      ],
      "text/latex": [
       "837"
      ],
      "text/markdown": [
       "837"
      ],
      "text/plain": [
       "[1] 837"
      ]
     },
     "metadata": {},
     "output_type": "display_data"
    }
   ],
   "source": [
    "dst_1 <- filter(materias_troncales, Curso == 1)\n",
    "dst_2 <- filter(materias_troncales, Curso == 2)\n",
    "dst_3 <- filter(materias_troncales, Curso == 3)\n",
    "dst_4 <- filter(materias_troncales, Curso == 4)\n",
    "dst_5 <- filter(materias_troncales, Curso == 5)\n",
    "dst_6 <- filter(materias_troncales, Curso == 6)\n",
    "\n",
    "\n",
    "length(unique(dst_1$Documento))\n",
    "length(unique(dst_2$Documento))\n",
    "length(unique(dst_3$Documento))\n",
    "length(unique(dst_4$Documento))\n",
    "length(unique(dst_5$Documento))\n",
    "length(unique(dst_6$Documento))"
   ]
  },
  {
   "cell_type": "code",
   "execution_count": 62,
   "id": "7fb6e5ee",
   "metadata": {},
   "outputs": [
    {
     "data": {
      "text/html": [
       "<table>\n",
       "<thead><tr><th scope=col>CUE</th><th scope=col>Documento</th><th scope=col>localidad</th><th scope=col>Curso</th><th scope=col>turno</th><th scope=col>curso</th><th scope=col>periodoEvaluatorio</th><th scope=col>asignatura</th><th scope=col>nota</th><th scope=col>NivelEnsenanza</th><th scope=col>Nivel</th><th scope=col>Modalidad</th><th scope=col>año</th><th scope=col>EsPrivada</th><th scope=col>orden</th><th scope=col>Año_cursado</th></tr></thead>\n",
       "<tbody>\n",
       "\t<tr><td>6000096          </td><td>53004428         </td><td>DIAMANTE         </td><td>4                </td><td>ROTATIVO         </td><td>4-6 - A Prim     </td><td>Primer Trimestre </td><td>LENGUA           </td><td>6                </td><td>PRIMARIO         </td><td>2                </td><td>Primaria         </td><td>2022             </td><td>N                </td><td>1                </td><td>CUARTO           </td></tr>\n",
       "\t<tr><td>6000096          </td><td>50184264         </td><td>DIAMANTE         </td><td>4                </td><td>ROTATIVO         </td><td>4-6 - A Prim     </td><td>Segundo Trimestre</td><td>LENGUA           </td><td>9                </td><td>PRIMARIO         </td><td>2                </td><td>Primaria         </td><td>2022             </td><td>N                </td><td>2                </td><td>CUARTO           </td></tr>\n",
       "\t<tr><td>6000096          </td><td>51285602         </td><td>DIAMANTE         </td><td>4                </td><td>ROTATIVO         </td><td>4-6 - A Prim     </td><td>Primer Trimestre </td><td>LENGUA           </td><td>7                </td><td>PRIMARIO         </td><td>2                </td><td>Primaria         </td><td>2022             </td><td>N                </td><td>1                </td><td>CUARTO           </td></tr>\n",
       "\t<tr><td>6000096          </td><td>54252120         </td><td>DIAMANTE         </td><td>1                </td><td>ROTATIVO         </td><td>1-3 - A Prim     </td><td>Primer Trimestre </td><td>LENGUA           </td><td>8                </td><td>PRIMARIO         </td><td>2                </td><td>Primaria         </td><td>2022             </td><td>N                </td><td>1                </td><td>PRIMERO          </td></tr>\n",
       "\t<tr><td>6000096          </td><td>51151254         </td><td>DIAMANTE         </td><td>4                </td><td>ROTATIVO         </td><td>4-6 - A Prim     </td><td>Primer Trimestre </td><td>LENGUA           </td><td>6                </td><td>PRIMARIO         </td><td>2                </td><td>Primaria         </td><td>2022             </td><td>N                </td><td>1                </td><td>CUARTO           </td></tr>\n",
       "\t<tr><td>6000096          </td><td>50071501         </td><td>DIAMANTE         </td><td>4                </td><td>ROTATIVO         </td><td>4-6 - A Prim     </td><td>Segundo Trimestre</td><td>LENGUA           </td><td>9                </td><td>PRIMARIO         </td><td>2                </td><td>Primaria         </td><td>2022             </td><td>N                </td><td>2                </td><td>CUARTO           </td></tr>\n",
       "</tbody>\n",
       "</table>\n"
      ],
      "text/latex": [
       "\\begin{tabular}{r|llllllllllllllll}\n",
       " CUE & Documento & localidad & Curso & turno & curso & periodoEvaluatorio & asignatura & nota & NivelEnsenanza & Nivel & Modalidad & año & EsPrivada & orden & Año\\_cursado\\\\\n",
       "\\hline\n",
       "\t 6000096           & 53004428          & DIAMANTE          & 4                 & ROTATIVO          & 4-6 - A Prim      & Primer Trimestre  & LENGUA            & 6                 & PRIMARIO          & 2                 & Primaria          & 2022              & N                 & 1                 & CUARTO           \\\\\n",
       "\t 6000096           & 50184264          & DIAMANTE          & 4                 & ROTATIVO          & 4-6 - A Prim      & Segundo Trimestre & LENGUA            & 9                 & PRIMARIO          & 2                 & Primaria          & 2022              & N                 & 2                 & CUARTO           \\\\\n",
       "\t 6000096           & 51285602          & DIAMANTE          & 4                 & ROTATIVO          & 4-6 - A Prim      & Primer Trimestre  & LENGUA            & 7                 & PRIMARIO          & 2                 & Primaria          & 2022              & N                 & 1                 & CUARTO           \\\\\n",
       "\t 6000096           & 54252120          & DIAMANTE          & 1                 & ROTATIVO          & 1-3 - A Prim      & Primer Trimestre  & LENGUA            & 8                 & PRIMARIO          & 2                 & Primaria          & 2022              & N                 & 1                 & PRIMERO          \\\\\n",
       "\t 6000096           & 51151254          & DIAMANTE          & 4                 & ROTATIVO          & 4-6 - A Prim      & Primer Trimestre  & LENGUA            & 6                 & PRIMARIO          & 2                 & Primaria          & 2022              & N                 & 1                 & CUARTO           \\\\\n",
       "\t 6000096           & 50071501          & DIAMANTE          & 4                 & ROTATIVO          & 4-6 - A Prim      & Segundo Trimestre & LENGUA            & 9                 & PRIMARIO          & 2                 & Primaria          & 2022              & N                 & 2                 & CUARTO           \\\\\n",
       "\\end{tabular}\n"
      ],
      "text/markdown": [
       "\n",
       "| CUE | Documento | localidad | Curso | turno | curso | periodoEvaluatorio | asignatura | nota | NivelEnsenanza | Nivel | Modalidad | año | EsPrivada | orden | Año_cursado |\n",
       "|---|---|---|---|---|---|---|---|---|---|---|---|---|---|---|---|\n",
       "| 6000096           | 53004428          | DIAMANTE          | 4                 | ROTATIVO          | 4-6 - A Prim      | Primer Trimestre  | LENGUA            | 6                 | PRIMARIO          | 2                 | Primaria          | 2022              | N                 | 1                 | CUARTO            |\n",
       "| 6000096           | 50184264          | DIAMANTE          | 4                 | ROTATIVO          | 4-6 - A Prim      | Segundo Trimestre | LENGUA            | 9                 | PRIMARIO          | 2                 | Primaria          | 2022              | N                 | 2                 | CUARTO            |\n",
       "| 6000096           | 51285602          | DIAMANTE          | 4                 | ROTATIVO          | 4-6 - A Prim      | Primer Trimestre  | LENGUA            | 7                 | PRIMARIO          | 2                 | Primaria          | 2022              | N                 | 1                 | CUARTO            |\n",
       "| 6000096           | 54252120          | DIAMANTE          | 1                 | ROTATIVO          | 1-3 - A Prim      | Primer Trimestre  | LENGUA            | 8                 | PRIMARIO          | 2                 | Primaria          | 2022              | N                 | 1                 | PRIMERO           |\n",
       "| 6000096           | 51151254          | DIAMANTE          | 4                 | ROTATIVO          | 4-6 - A Prim      | Primer Trimestre  | LENGUA            | 6                 | PRIMARIO          | 2                 | Primaria          | 2022              | N                 | 1                 | CUARTO            |\n",
       "| 6000096           | 50071501          | DIAMANTE          | 4                 | ROTATIVO          | 4-6 - A Prim      | Segundo Trimestre | LENGUA            | 9                 | PRIMARIO          | 2                 | Primaria          | 2022              | N                 | 2                 | CUARTO            |\n",
       "\n"
      ],
      "text/plain": [
       "  CUE     Documento localidad Curso turno    curso        periodoEvaluatorio\n",
       "1 6000096 53004428  DIAMANTE  4     ROTATIVO 4-6 - A Prim Primer Trimestre  \n",
       "2 6000096 50184264  DIAMANTE  4     ROTATIVO 4-6 - A Prim Segundo Trimestre \n",
       "3 6000096 51285602  DIAMANTE  4     ROTATIVO 4-6 - A Prim Primer Trimestre  \n",
       "4 6000096 54252120  DIAMANTE  1     ROTATIVO 1-3 - A Prim Primer Trimestre  \n",
       "5 6000096 51151254  DIAMANTE  4     ROTATIVO 4-6 - A Prim Primer Trimestre  \n",
       "6 6000096 50071501  DIAMANTE  4     ROTATIVO 4-6 - A Prim Segundo Trimestre \n",
       "  asignatura nota NivelEnsenanza Nivel Modalidad año  EsPrivada orden\n",
       "1 LENGUA     6    PRIMARIO       2     Primaria  2022 N         1    \n",
       "2 LENGUA     9    PRIMARIO       2     Primaria  2022 N         2    \n",
       "3 LENGUA     7    PRIMARIO       2     Primaria  2022 N         1    \n",
       "4 LENGUA     8    PRIMARIO       2     Primaria  2022 N         1    \n",
       "5 LENGUA     6    PRIMARIO       2     Primaria  2022 N         1    \n",
       "6 LENGUA     9    PRIMARIO       2     Primaria  2022 N         2    \n",
       "  Año_cursado\n",
       "1 CUARTO     \n",
       "2 CUARTO     \n",
       "3 CUARTO     \n",
       "4 PRIMERO    \n",
       "5 CUARTO     \n",
       "6 CUARTO     "
      ]
     },
     "metadata": {},
     "output_type": "display_data"
    }
   ],
   "source": [
    "materias_troncales_na<-na.omit(materias_troncales)\n",
    "head(materias_troncales_na)"
   ]
  },
  {
   "cell_type": "code",
   "execution_count": 63,
   "id": "e86cb15e",
   "metadata": {},
   "outputs": [
    {
     "data": {
      "text/html": [
       "1256"
      ],
      "text/latex": [
       "1256"
      ],
      "text/markdown": [
       "1256"
      ],
      "text/plain": [
       "[1] 1256"
      ]
     },
     "metadata": {},
     "output_type": "display_data"
    },
    {
     "data": {
      "text/html": [
       "922"
      ],
      "text/latex": [
       "922"
      ],
      "text/markdown": [
       "922"
      ],
      "text/plain": [
       "[1] 922"
      ]
     },
     "metadata": {},
     "output_type": "display_data"
    },
    {
     "data": {
      "text/html": [
       "889"
      ],
      "text/latex": [
       "889"
      ],
      "text/markdown": [
       "889"
      ],
      "text/plain": [
       "[1] 889"
      ]
     },
     "metadata": {},
     "output_type": "display_data"
    },
    {
     "data": {
      "text/html": [
       "888"
      ],
      "text/latex": [
       "888"
      ],
      "text/markdown": [
       "888"
      ],
      "text/plain": [
       "[1] 888"
      ]
     },
     "metadata": {},
     "output_type": "display_data"
    },
    {
     "data": {
      "text/html": [
       "807"
      ],
      "text/latex": [
       "807"
      ],
      "text/markdown": [
       "807"
      ],
      "text/plain": [
       "[1] 807"
      ]
     },
     "metadata": {},
     "output_type": "display_data"
    },
    {
     "data": {
      "text/html": [
       "835"
      ],
      "text/latex": [
       "835"
      ],
      "text/markdown": [
       "835"
      ],
      "text/plain": [
       "[1] 835"
      ]
     },
     "metadata": {},
     "output_type": "display_data"
    }
   ],
   "source": [
    "dst_1_na <- filter(materias_troncales_na, Curso == 1)\n",
    "dst_2_na <- filter(materias_troncales_na, Curso == 2)\n",
    "dst_3_na <- filter(materias_troncales_na, Curso == 3)\n",
    "dst_4_na <- filter(materias_troncales_na, Curso == 4)\n",
    "dst_5_na <- filter(materias_troncales_na, Curso == 5)\n",
    "dst_6_na <- filter(materias_troncales_na, Curso == 6)\n",
    "\n",
    "length(unique(dst_1_na$Documento))\n",
    "length(unique(dst_2_na$Documento))\n",
    "length(unique(dst_3_na$Documento))\n",
    "length(unique(dst_4_na$Documento))\n",
    "length(unique(dst_5_na$Documento))\n",
    "length(unique(dst_6_na$Documento))"
   ]
  },
  {
   "cell_type": "code",
   "execution_count": 64,
   "id": "2604a0a5",
   "metadata": {},
   "outputs": [],
   "source": [
    "#install.packages ('writexl') \n",
    "\n",
    "library(\"writexl\")\n",
    "\n",
    "write_xlsx (materias_troncales_na, \"C:/Users/Sabrina/Downloads/Exploracion_d_multivariados/diamante_nuevo.xlsx\")"
   ]
  },
  {
   "cell_type": "code",
   "execution_count": null,
   "id": "33ae5859",
   "metadata": {},
   "outputs": [],
   "source": []
  }
 ],
 "metadata": {
  "kernelspec": {
   "display_name": "R",
   "language": "R",
   "name": "ir"
  },
  "language_info": {
   "codemirror_mode": "r",
   "file_extension": ".r",
   "mimetype": "text/x-r-source",
   "name": "R",
   "pygments_lexer": "r",
   "version": "3.6.1"
  }
 },
 "nbformat": 4,
 "nbformat_minor": 5
}
