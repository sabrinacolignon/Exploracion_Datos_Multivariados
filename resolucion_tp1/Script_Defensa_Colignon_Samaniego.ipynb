{
 "cells": [
  {
   "cell_type": "code",
   "execution_count": 39,
   "id": "4800ccf2",
   "metadata": {},
   "outputs": [],
   "source": [
    "#Cargamos las librerías utilizadas para la realización de esta defensa.\n",
    "library(readxl)\n",
    "library(tidyverse)\n",
    "library(ggplot2)\n",
    "library(scales)\n",
    "library(stringr)\n",
    "library(nortest)\n",
    "library(corrplot)\n",
    "library(PerformanceAnalytics)"
   ]
  },
  {
   "cell_type": "code",
   "execution_count": 2,
   "id": "6c5f70eb",
   "metadata": {},
   "outputs": [],
   "source": [
    "#Comenzamos cargando la base de datos\n",
    "options(warn=-1)\n",
    "base_datos <- read_excel(\"C:\\\\Users\\\\patoa\\\\OneDrive\\\\Escritorio\\\\Anchu\\\\Exploracion de datos multi\\\\DIAMANTE3.xlsx\")"
   ]
  },
  {
   "cell_type": "markdown",
   "id": "ba41659d",
   "metadata": {},
   "source": [
    "# Base de datos para Secundaria"
   ]
  },
  {
   "cell_type": "code",
   "execution_count": 3,
   "id": "7c4cae12",
   "metadata": {},
   "outputs": [],
   "source": [
    "#Aplicamos los filtros correspondientes\n",
    "bd_secundaria <- filter(base_datos, Modalidad == \"Secundaria\")\n",
    "bd_secundaria <- filter(bd_secundaria, NivelEnsenanza == \"SECUNDARIO\" | NivelEnsenanza == \"EGB 3\")\n",
    "bd_secundaria <- filter(bd_secundaria, ModEnsenaza == \"Comun\")\n",
    "bd_secundaria <- select(bd_secundaria, CUE,EsPrivada,turno,curso,periodoEvaluatorio,Documento,anioLectivo,\n",
    "                        asignatura,nota,orden,Nivel,Modalidad,ModEnsenaza)\n",
    "bd_secundaria <- rename(bd_secundaria, Año = anioLectivo, Materia = asignatura, Nota = nota, \n",
    "                        DNI = Documento, Turno = turno, PeriodoEvaluatorio = periodoEvaluatorio)\n",
    "bd_secundaria <- filter(bd_secundaria, Año == 2022)\n",
    "Curso <- str_sub(bd_secundaria$curso,1,1)\n",
    "bd_secundaria <- cbind(bd_secundaria[,1:3],Curso,bd_secundaria[,5:13])\n",
    "bd_secundaria <- na.omit(bd_secundaria)\n",
    "\n",
    "\n"
   ]
  },
  {
   "cell_type": "markdown",
   "id": "2a9f516d",
   "metadata": {},
   "source": [
    "# Base de datos para Primaria"
   ]
  },
  {
   "cell_type": "code",
   "execution_count": 5,
   "id": "ab418322",
   "metadata": {},
   "outputs": [],
   "source": [
    "#Mismo procedimiento para la primaria\n",
    "bd_primaria <- filter(base_datos, Modalidad == \"Primaria\")\n",
    "bd_primaria <- filter(bd_primaria, NivelEnsenanza == \"PRIMARIO\")\n",
    "bd_primaria  <- filter(bd_primaria, ModEnsenaza == \"Comun\")\n",
    "bd_primaria <- select(bd_primaria, CUE,EsPrivada,turno,curso,periodoEvaluatorio,Documento,anioLectivo,\n",
    "                        asignatura,nota,orden,Nivel,Modalidad,ModEnsenaza)\n",
    "#Acondicionamiento de la base de datos generada\n",
    "bd_primaria<- rename(bd_primaria, Año = anioLectivo, Materia = asignatura, Nota = nota, \n",
    "                        DNI = Documento, Turno = turno, PeriodoEvaluatorio = periodoEvaluatorio)\n",
    "bd_primaria <- filter(bd_primaria, Año == 2022)\n",
    "bd_primaria$Materia <- toupper(bd_primaria$Materia)\n",
    "Curso <- str_sub(bd_primaria$curso,1,1)\n",
    "bd_primaria <- cbind(bd_primaria[,1:3],Curso,bd_primaria[,5:13])\n",
    "bd_primaria <- na.omit(bd_primaria)"
   ]
  },
  {
   "cell_type": "markdown",
   "id": "653d4a9a",
   "metadata": {},
   "source": [
    "# Creación de un dataset con la columna promedios"
   ]
  },
  {
   "cell_type": "code",
   "execution_count": 6,
   "id": "e980bc42",
   "metadata": {},
   "outputs": [],
   "source": [
    "#Para secundaria\n",
    "PrimerT_sec <- filter(bd_secundaria, PeriodoEvaluatorio == \"Primer Trimestre\")\n",
    "PrimerT_sec <- rename(PrimerT_sec, NotasPTS = Nota)\n",
    "SegundoT_sec <- filter(bd_secundaria, PeriodoEvaluatorio == \"Segundo Trimestre\")\n",
    "SegundoT_sec <- rename(SegundoT_sec, NotasSTS = Nota)\n",
    "TercerT_sec <- filter(bd_secundaria, PeriodoEvaluatorio == \"Tercer Trimestre\")\n",
    "TercerT_sec <- rename(TercerT_sec, NotasTTS = Nota)\n",
    "#----------------------------------------------------------------------------------------------\n",
    "dataset_merge_trimestres <- merge(x = PrimerT_sec, y = SegundoT_sec, by = c(\"DNI\", \"Materia\"))\n",
    "notas_trimestres <- merge(x= dataset_merge_trimestres, y =TercerT_sec, by = c(\"DNI\", \"Materia\"))\n",
    "#------------------------------------------------------------------------------------------------\n",
    "#Creamos la columna promedios\n",
    "notas_trimestres <- select(notas_trimestres,CUE, EsPrivada,Turno, Curso,PeriodoEvaluatorio,Año,DNI,Materia,NotasPTS,NotasSTS,NotasTTS)\n",
    "notas_trimestres$NotasPTS <- as.numeric(notas_trimestres$NotasPTS)\n",
    "notas_trimestres$NotasSTS <- as.numeric(notas_trimestres$NotasSTS)\n",
    "notas_trimestres$NotasTTS <- as.numeric(notas_trimestres$NotasTTS)\n",
    "secundaria_promedios <- mutate(notas_trimestres, Promedio = (NotasPTS+NotasSTS+NotasTTS)/3)"
   ]
  },
  {
   "cell_type": "code",
   "execution_count": 7,
   "id": "91b5a0e9",
   "metadata": {},
   "outputs": [],
   "source": [
    "#Mismo procedimiento para la Primaria\n",
    "PrimerT_prim <- filter(bd_primaria, PeriodoEvaluatorio == \"Primer Trimestre\")\n",
    "PrimerT_prim <- rename(PrimerT_prim, NotasPTP = Nota)\n",
    "SegundoT_prim <- filter(bd_primaria, PeriodoEvaluatorio == \"Segundo Trimestre\")\n",
    "SegundoT_prim <- rename(SegundoT_prim, NotasSTP = Nota)\n",
    "TercerT_prim <- filter(bd_primaria, PeriodoEvaluatorio == \"Tercer Trimestre\")\n",
    "TercerT_prim <- rename(TercerT_prim, NotasTTP = Nota)\n",
    "#-----------------------------------------------------------------------------------------\n",
    "dataset_merge_trimestres_prim <- merge(x = PrimerT_prim, y = SegundoT_prim, by = c(\"DNI\", \"Materia\"))\n",
    "notas_trimestres_primaria <- merge(x= dataset_merge_trimestres_prim, y =TercerT_prim, by = c(\"DNI\", \"Materia\"))\n",
    "#---------------------------------------------------------------------------------------------------\n",
    "notas_trimestres_primaria <- select(notas_trimestres_primaria,CUE, EsPrivada,Turno, Curso,PeriodoEvaluatorio,Año,DNI,Materia,NotasPTP,NotasSTP,NotasTTP)\n",
    "notas_trimestres_primaria$NotasPTP <- as.numeric(notas_trimestres_primaria$NotasPTP)\n",
    "notas_trimestres_primaria$NotasSTP <- as.numeric(notas_trimestres_primaria$NotasSTP)\n",
    "notas_trimestres_primaria$NotasTTP <- as.numeric(notas_trimestres_primaria$NotasTTP)\n",
    "primaria_promedios <- mutate(notas_trimestres_primaria, Promedio = (NotasPTP+NotasSTP+NotasTTP)/3)\n",
    "\n",
    "\n"
   ]
  },
  {
   "cell_type": "markdown",
   "id": "f0b0f3cd",
   "metadata": {},
   "source": [
    "# Averiguamos la representatividad de nuestro dataset"
   ]
  },
  {
   "cell_type": "code",
   "execution_count": 19,
   "id": "124db885",
   "metadata": {
    "collapsed": true
   },
   "outputs": [
    {
     "data": {
      "text/html": [
       "5399"
      ],
      "text/latex": [
       "5399"
      ],
      "text/markdown": [
       "5399"
      ],
      "text/plain": [
       "[1] 5399"
      ]
     },
     "metadata": {},
     "output_type": "display_data"
    },
    {
     "data": {
      "text/html": [
       "474"
      ],
      "text/latex": [
       "474"
      ],
      "text/markdown": [
       "474"
      ],
      "text/plain": [
       "[1] 474"
      ]
     },
     "metadata": {},
     "output_type": "display_data"
    },
    {
     "data": {
      "text/html": [
       "415"
      ],
      "text/latex": [
       "415"
      ],
      "text/markdown": [
       "415"
      ],
      "text/plain": [
       "[1] 415"
      ]
     },
     "metadata": {},
     "output_type": "display_data"
    },
    {
     "data": {
      "text/html": [
       "340"
      ],
      "text/latex": [
       "340"
      ],
      "text/markdown": [
       "340"
      ],
      "text/plain": [
       "[1] 340"
      ]
     },
     "metadata": {},
     "output_type": "display_data"
    },
    {
     "data": {
      "text/html": [
       "356"
      ],
      "text/latex": [
       "356"
      ],
      "text/markdown": [
       "356"
      ],
      "text/plain": [
       "[1] 356"
      ]
     },
     "metadata": {},
     "output_type": "display_data"
    },
    {
     "data": {
      "text/html": [
       "299"
      ],
      "text/latex": [
       "299"
      ],
      "text/markdown": [
       "299"
      ],
      "text/plain": [
       "[1] 299"
      ]
     },
     "metadata": {},
     "output_type": "display_data"
    },
    {
     "data": {
      "text/html": [
       "331"
      ],
      "text/latex": [
       "331"
      ],
      "text/markdown": [
       "331"
      ],
      "text/plain": [
       "[1] 331"
      ]
     },
     "metadata": {},
     "output_type": "display_data"
    }
   ],
   "source": [
    "#Para primaria\n",
    "length(unique(primaria_promedios$DNI))\n",
    "#Para secundaria, primero separamos cada curso\n",
    "primero <- filter(secundaria_promedios, Curso == 1)\n",
    "segundo <- filter(secundaria_promedios, Curso == 2)\n",
    "tercero <- filter(secundaria_promedios, Curso == 3)\n",
    "cuarto <- filter(secundaria_promedios, Curso == 4)\n",
    "quinto <- filter(secundaria_promedios, Curso == 5)\n",
    "sexto <- filter(secundaria_promedios, Curso == 6)\n",
    "\n",
    "#Luego calculamos la matricula de cada uno\n",
    "length(unique(primero$DNI))\n",
    "length(unique(segundo$DNI))\n",
    "length(unique(tercero$DNI))\n",
    "length(unique(cuarto$DNI))\n",
    "length(unique(quinto$DNI))\n",
    "length(unique(sexto$DNI))"
   ]
  },
  {
   "cell_type": "markdown",
   "id": "059cee21",
   "metadata": {},
   "source": [
    "# Análisis gráfico"
   ]
  },
  {
   "cell_type": "code",
   "execution_count": null,
   "id": "481d23e1",
   "metadata": {},
   "outputs": [],
   "source": [
    "#Distribución de estudiantes por nivel de enseñanza\n",
    "primaria <- length(unique(primaria_promedios$DNI))\n",
    "secundaria <- length(unique(secundaria_promedios$DNI))\n",
    "\n",
    "Nivel <- data.frame(\"Nivel\" = c(\"Primaria\", \"Secundaria\"),\n",
    "                   \"Cantidad\" = c(primaria, secundaria))\n",
    "\n",
    "pie(Nivel$Cantidad, labels = Nivel$Nivel, main = \"Distribución de los alumnos por Nivel de Enseñanza\",\n",
    "   sub= \"Fuente de elaboración propia\", col = rainbow(2))\n",
    "\n",
    "porcentajes <- paste0(percent(Nivel$Cantidad/sum(Nivel$Cantidad)), \" (\", Nivel$Cantidad, \")\")\n",
    "legend(\"topright\", legend = porcentajes, cex = 0.8, fill = rainbow(2))"
   ]
  },
  {
   "cell_type": "code",
   "execution_count": null,
   "id": "ffe5fb6f",
   "metadata": {},
   "outputs": [],
   "source": [
    "# Distribución de estudiantes por Gestion (Primaria)\n",
    "priv_prim <- filter(primaria_promedios, EsPrivada == \"S\")\n",
    "pub_prim <- filter(primaria_promedios, EsPrivada == \"N\")\n",
    "alumnospgest_prim <- data.frame(\"Gestion\" = c(\"Pública\", \"Privada\"),\n",
    "                           \"Cantidad\" = c(length(unique(pub_prim$DNI)),length(unique(priv_prim$DNI))))\n",
    "\n",
    "alumnospgest_prim$Gestion <- as.factor(alumnospgest_prim$Gestion)\n",
    "\n",
    "colors = c('#4286f4','#bb3af2')\n",
    "pie(alumnospgest_prim$Cantidad, labels = alumnospgest_prim$Gestion, main = \"Alumnos por tipo de gestión en escuelas primarias\",\n",
    "    col = colors, sub = \"Fuente de elaboración propia\")\n",
    "\n",
    "# Agregar los porcentajes\n",
    "porcentajes <- paste0(percent(alumnospgest_prim$Cantidad/sum(alumnospgest_prim$Cantidad)), \" (\", alumnospgest_prim$Cantidad, \")\")\n",
    "legend(\"topright\", legend = porcentajes, cex = 0.8, fill = colors)"
   ]
  },
  {
   "cell_type": "code",
   "execution_count": null,
   "id": "6ca0fb1e",
   "metadata": {},
   "outputs": [],
   "source": [
    "# Distribución de estudiantes por Gestion (Secundaria)\n",
    "priv_sec <- filter(secundaria_promedios, EsPrivada == \"S\")\n",
    "pub_sec <- filter(secundaria_promedios, EsPrivada == \"N\")\n",
    "alumnospgest_sec <- data.frame(\"Gestion\" = c(\"Pública\", \"Privada\"),\n",
    "                           \"Cantidad\" = c(length(unique(pub_sec$DNI)),length(unique(priv_sec$DNI))))\n",
    "\n",
    "alumnospgest_sec$Gestion <- as.factor(alumnospgest_sec$Gestion)\n",
    "\n",
    "colors = c('#4286f4','#bb3af2')\n",
    "pie(alumnospgest_sec$Cantidad, labels = alumnospgest_sec$Gestion, main = \"Alumnos por tipo de gestión en escuelas secundarias\",\n",
    "    col = colors, sub = \"Fuente de elaboración propia\")\n",
    "\n",
    "# Agregar los porcentajes\n",
    "porcentajes <- paste0(percent(alumnospgest_sec$Cantidad/sum(alumnospgest_sec$Cantidad)), \" (\", alumnospgest_sec$Cantidad, \")\")\n",
    "legend(\"topright\", legend = porcentajes, cex = 0.8, fill = colors)"
   ]
  },
  {
   "cell_type": "code",
   "execution_count": 35,
   "id": "2869423c",
   "metadata": {
    "collapsed": true
   },
   "outputs": [
    {
     "data": {
      "image/png": "[encoded data removed]",
      "text/plain": [
       "Plot with title \"Frecuencia absoluta de alumnos por turno en escuelas primarias\""
      ]
     },
     "metadata": {},
     "output_type": "display_data"
    }
   ],
   "source": [
    "#Distribución por turnos en primaria\n",
    "tarde_prim <- filter(primaria_promedios, Turno == \"TARDE\")\n",
    "mañana_prim <- filter(primaria_promedios, Turno == \"MAÑANA\")\n",
    "diurno_prim <- filter(primaria_promedios, Turno == \"DIURNO\")\n",
    "rot_prim <- filter(primaria_promedios, Turno == \"ROTATIVO\")\n",
    "comp_prim <- filter(primaria_promedios, Turno == \"COMPLETO\")\n",
    "\n",
    "ptarde <- length(unique(tarde_prim$DNI))\n",
    "pmañana <- length(unique(mañana_prim$DNI))\n",
    "pdiurno <- length(unique(diurno_prim$DNI))\n",
    "prot <- length(unique(rot_prim$DNI))\n",
    "pcomp <- length(unique(comp_prim$DNI))\n",
    "\n",
    "turno <- c(\"Tarde\", \"Mañana\",\"Diurno\",\"Rotativo\",\"Completo\")\n",
    "cantidad <- c(ptarde,pmañana,pdiurno,prot,pcomp)\n",
    "\n",
    "alumnospturnoprim <- data.frame(\"Turno\"=turno,\n",
    "           \"Cantidad\"=cantidad)\n",
    "alumnospturnoprim$Turno <- as.factor(alumnospturnoprim$Turno)\n",
    "\n",
    "\n",
    "barplot(alumnospturnoprim$Cantidad,names = alumnospturnoprim$Turno ,\n",
    "        main = \"Frecuencia absoluta de alumnos por turno en escuelas primarias\",\n",
    "        col= rainbow(6), \n",
    "        ylab = \"Cantidad alumnos\", \n",
    "        ylim = c(0,3000), sub = \"Fuente de elaboración propia\")\n"
   ]
  },
  {
   "cell_type": "markdown",
   "id": "10afcbb8",
   "metadata": {},
   "source": [
    "# Análisis gráfico"
   ]
  },
  {
   "cell_type": "code",
   "execution_count": null,
   "id": "8bd04d33",
   "metadata": {},
   "outputs": [],
   "source": [
    "#Distribución por turnos en secundaria\n",
    "tarde_sec<- filter(secundaria_promedios, Turno == \"TARDE\")\n",
    "mañana_sec <- filter(secundaria_promedios, Turno == \"MAÑANA\")\n",
    "diurno_sec <- filter(secundaria_promedios, Turno == \"DIURNO\")\n",
    "rot_sec <- filter(secundaria_promedios, Turno == \"ROTATIVO\")\n",
    "\n",
    "starde <- length(unique(tarde_sec$DNI))\n",
    "smañana <- length(unique(mañana_sec$DNI))\n",
    "sdiurno <- length(unique(diurno_sec$DNI))\n",
    "srot <- length(unique(rot_sec$DNI))\n",
    "\n",
    "turno <- c(\"Tarde\", \"Mañana\",\"Diurno\",\"Rotativo\")\n",
    "cantidad <- c(starde,smañana,sdiurno,srot)\n",
    "\n",
    "alumnospturnosec <- data.frame(\"Turno\"=turno,\n",
    "           \"Cantidad\"=cantidad)\n",
    "alumnospturnosec$Turno <- as.factor(alumnospturnosec$Turno)\n",
    "\n",
    "\n",
    "barplot(alumnospturnosec$Cantidad,names = alumnospturnosec$Turno ,main = \"Frecuencia absoluta de alumnos por turno en escuelas secundarias\",\n",
    "        col= rainbow(6), ylab = \"Cantidad alumnos\", ylim = c(0,2000), sub = \"Fuente de elaboración propia\")"
   ]
  },
  {
   "cell_type": "code",
   "execution_count": null,
   "id": "4216d8f7",
   "metadata": {},
   "outputs": [],
   "source": [
    "#Distribución por curso en primaria\n",
    "primaria_promedios$Curso <- as.factor(primaria_promedios$Curso)\n",
    "prim <- filter(primaria_promedios, Curso== \"1\")\n",
    "seg<- filter(primaria_promedios, Curso== \"2\")\n",
    "ter<- filter(primaria_promedios, Curso== \"3\")\n",
    "cuart<- filter(primaria_promedios, Curso== \"4\")\n",
    "quint<- filter(primaria_promedios, Curso== \"5\")\n",
    "sext<- filter(primaria_promedios, Curso== \"6\")\n",
    "\n",
    "\n",
    "unop <- length(unique(prim$DNI))\n",
    "dosp <- length(unique(seg$DNI))\n",
    "tresp <- length(unique(ter$DNI))\n",
    "cuatrop <- length(unique(cuart$DNI))\n",
    "cincop <- length(unique(quint$DNI))\n",
    "seisp <- length(unique(sext$DNI))\n",
    "\n",
    "\n",
    "\n",
    "alumnospcursoprim <- data.frame(\"Curso\" = c(\"PRIMERO\",\"SEGUNDO\",\"TERCERO\",\"CUARTO\",\"QUINTO\",\"SEXTO\"),\n",
    "                            \"Cantidad\"= c(unop,dosp,tresp,cuatrop,cincop,seisp))\n",
    "\n",
    "pie(alumnospcursoprim$Cantidad, labels = alumnospcursoprim$Curso, \n",
    "    main = \"Distribución de los alumnos por curso en escuelas primarias\", \n",
    "    col = rainbow(6),\n",
    "    density=9,\n",
    "    border= \"blue\",\n",
    "    sub= \"Fuente de elaboración propia\")\n",
    "\n",
    "porcentajes <- paste0(percent(alumnospcursoprim$Cantidad/sum(alumnospcursoprim$Cantidad)), \" (\", alumnospcursoprim$Cantidad, \")\")\n",
    "legend(\"topright\", legend = porcentajes, cex = 0.6, fill = rainbow(6))"
   ]
  },
  {
   "cell_type": "code",
   "execution_count": null,
   "id": "6043630e",
   "metadata": {},
   "outputs": [],
   "source": [
    "#Distribución por curso en primaria\n",
    "secundaria_promedios$Curso <- as.factor(secundaria_promedios$Curso)\n",
    "prims <- filter(secundaria_promedios, Curso== \"1\")\n",
    "segs<- filter(secundaria_promedios, Curso== \"2\")\n",
    "ters<- filter(secundaria_promedios, Curso== \"3\")\n",
    "cuarts<- filter(secundaria_promedios, Curso== \"4\")\n",
    "quints<- filter(secundaria_promedios, Curso== \"5\")\n",
    "sexts<- filter(secundaria_promedios, Curso== \"6\")\n",
    "\n",
    "\n",
    "\n",
    "unos <- length(unique(prims$DNI))\n",
    "doss <- length(unique(segs$DNI))\n",
    "tress <- length(unique(ters$DNI))\n",
    "cuatros <- length(unique(cuarts$DNI))\n",
    "cincos <- length(unique(quints$DNI))\n",
    "seiss <- length(unique(sexts$DNI))\n",
    "\n",
    "\n",
    "\n",
    "\n",
    "alumnospcursosec <- data.frame(\"Curso\" = c(\"PRIMERO\",\"SEGUNDO\",\"TERCERO\",\"CUARTO\",\"QUINTO\",\"SEXTO\"),\n",
    "                            \"Cantidad\"= c(unos,doss,tress,cuatros,cincos,seiss))\n",
    "\n",
    "pie(alumnospcursosec$Cantidad, labels = alumnospcursosec$Curso, \n",
    "    main = \"Distribución de los alumnos por curso en escuelas secundarias\", \n",
    "    col = rainbow(6),\n",
    "    density=9,\n",
    "    border= \"blue\",\n",
    "    sub = \"Fuente de elaboración propia\")\n",
    "\n",
    "porcentajes <- paste0(percent(alumnospcursosec$Cantidad/sum(alumnospcursosec$Cantidad)), \" (\", alumnospcursosec$Cantidad, \")\")\n",
    "legend(\"topright\", legend = porcentajes, cex = 0.6, fill = rainbow(6))"
   ]
  },
  {
   "cell_type": "markdown",
   "id": "bddb6eb2",
   "metadata": {},
   "source": [
    "# Boxplots e Histogramas para Matemática"
   ]
  },
  {
   "cell_type": "markdown",
   "id": "db9e9737",
   "metadata": {},
   "source": [
    "# Secundaria"
   ]
  },
  {
   "cell_type": "code",
   "execution_count": 24,
   "id": "125618e3",
   "metadata": {
    "collapsed": true
   },
   "outputs": [
    {
     "data": {
      "text/html": [
       "<table>\n",
       "<thead><tr><th scope=col>Promedio</th><th scope=col>frequency</th><th scope=col>acumulado</th></tr></thead>\n",
       "<tbody>\n",
       "\t<tr><td>(1.99,3.6]</td><td>  7       </td><td>  7       </td></tr>\n",
       "\t<tr><td>(3.6,5.2] </td><td> 64       </td><td> 71       </td></tr>\n",
       "\t<tr><td>(5.2,6.8] </td><td>179       </td><td>250       </td></tr>\n",
       "\t<tr><td>(6.8,8.4] </td><td>132       </td><td>382       </td></tr>\n",
       "\t<tr><td>(8.4,10]  </td><td> 62       </td><td>444       </td></tr>\n",
       "</tbody>\n",
       "</table>\n"
      ],
      "text/latex": [
       "\\begin{tabular}{r|lll}\n",
       " Promedio & frequency & acumulado\\\\\n",
       "\\hline\n",
       "\t (1.99,3.6{]} &   7          &   7         \\\\\n",
       "\t (3.6,5.2{]}  &  64          &  71         \\\\\n",
       "\t (5.2,6.8{]}  & 179          & 250         \\\\\n",
       "\t (6.8,8.4{]}  & 132          & 382         \\\\\n",
       "\t (8.4,10{]}   &  62          & 444         \\\\\n",
       "\\end{tabular}\n"
      ],
      "text/markdown": [
       "\n",
       "| Promedio | frequency | acumulado |\n",
       "|---|---|---|\n",
       "| (1.99,3.6] |   7        |   7        |\n",
       "| (3.6,5.2]  |  64        |  71        |\n",
       "| (5.2,6.8]  | 179        | 250        |\n",
       "| (6.8,8.4]  | 132        | 382        |\n",
       "| (8.4,10]   |  62        | 444        |\n",
       "\n"
      ],
      "text/plain": [
       "  Promedio   frequency acumulado\n",
       "1 (1.99,3.6]   7         7      \n",
       "2 (3.6,5.2]   64        71      \n",
       "3 (5.2,6.8]  179       250      \n",
       "4 (6.8,8.4]  132       382      \n",
       "5 (8.4,10]    62       444      "
      ]
     },
     "metadata": {},
     "output_type": "display_data"
    },
    {
     "data": {
      "image/png": "[encoded data removed]",
      "text/plain": [
       "Plot with title \"Boxplot para la asignatura Matemática de 1°año de Secundaria\""
      ]
     },
     "metadata": {},
     "output_type": "display_data"
    }
   ],
   "source": [
    "#Primero\n",
    "sec_Mat_1 <- filter(secundaria_promedios, Curso== 1 & Materia==\"MATEMATICA\")\n",
    "\n",
    "\n",
    "#Obtenemos los estadísticos\n",
    "summary(sec_Mat_1$Promedio)\n",
    "\n",
    "\n",
    "#Boxplot\n",
    "boxplot(sec_Mat_1[!is.na(sec_Mat_1$Promedio),]$Promedio,\n",
    "        main =\"Boxplot para la asignatura Matemática de 1°año de Secundaria\",\n",
    "        horizontal = FALSE,\n",
    "        sub = \"Fuente de elaboración propia\",\n",
    "        whisklty = 2,       \n",
    "        whisklwd = 2,       \n",
    "        whiskcol = \"red\",  \n",
    "        staplelty = 3,      \n",
    "        staplelwd = 2,     \n",
    "        staplecol = \"blue\",  \n",
    "        col =\"orange\") \n",
    "\n",
    "# Añadimos linea de media\n",
    "abline(h = mean(sec_Mat_1[!is.na(sec_Mat_1$Promedio),]$Promedio), col = 4, lwd = 2) \n",
    "\n",
    "# Añadimos punto con la media\n",
    "points(mean(sec_Mat_1[!is.na(sec_Mat_1$Promedio),]$Promedio), col = 3, pch = 19)"
   ]
  },
  {
   "cell_type": "code",
   "execution_count": 39,
   "id": "e41f9940",
   "metadata": {
    "collapsed": true
   },
   "outputs": [
    {
     "data": {
      "image/png": "[encoded data removed]",
      "text/plain": [
       "Plot with title \"Histograma para la asignatura Matemática de 1°año de Secundaria\""
      ]
     },
     "metadata": {},
     "output_type": "display_data"
    }
   ],
   "source": [
    "#Histograma para primero\n",
    "hist(x = sec_Mat_1$Promedio,\n",
    "     probability = TRUE, \n",
    "     col=\"orange\",\n",
    "     xaxp = c(0, 10, 5),\n",
    "     ylim = c(0, 0.5),\n",
    "     xlab=\"Notas\",\n",
    "     ylab=\"Frecuencia relativa\",\n",
    "     main =\"Histograma para la asignatura Matemática de 1°año de Secundaria\",\n",
    "     sub = \"Fuente de elaboración propia\")"
   ]
  },
  {
   "cell_type": "code",
   "execution_count": 26,
   "id": "d954f3cb",
   "metadata": {
    "collapsed": true
   },
   "outputs": [
    {
     "data": {
      "text/html": [
       "<table>\n",
       "<thead><tr><th scope=col>Promedio</th><th scope=col>frequency</th><th scope=col>acumulado</th></tr></thead>\n",
       "<tbody>\n",
       "\t<tr><td>(2.99,4.4]</td><td> 38       </td><td> 38       </td></tr>\n",
       "\t<tr><td>(4.4,5.8] </td><td>125       </td><td>163       </td></tr>\n",
       "\t<tr><td>(5.8,7.2] </td><td> 97       </td><td>260       </td></tr>\n",
       "\t<tr><td>(7.2,8.6] </td><td> 62       </td><td>322       </td></tr>\n",
       "\t<tr><td>(8.6,10]  </td><td> 50       </td><td>372       </td></tr>\n",
       "</tbody>\n",
       "</table>\n"
      ],
      "text/latex": [
       "\\begin{tabular}{r|lll}\n",
       " Promedio & frequency & acumulado\\\\\n",
       "\\hline\n",
       "\t (2.99,4.4{]} &  38          &  38         \\\\\n",
       "\t (4.4,5.8{]}  & 125          & 163         \\\\\n",
       "\t (5.8,7.2{]}  &  97          & 260         \\\\\n",
       "\t (7.2,8.6{]}  &  62          & 322         \\\\\n",
       "\t (8.6,10{]}   &  50          & 372         \\\\\n",
       "\\end{tabular}\n"
      ],
      "text/markdown": [
       "\n",
       "| Promedio | frequency | acumulado |\n",
       "|---|---|---|\n",
       "| (2.99,4.4] |  38        |  38        |\n",
       "| (4.4,5.8]  | 125        | 163        |\n",
       "| (5.8,7.2]  |  97        | 260        |\n",
       "| (7.2,8.6]  |  62        | 322        |\n",
       "| (8.6,10]   |  50        | 372        |\n",
       "\n"
      ],
      "text/plain": [
       "  Promedio   frequency acumulado\n",
       "1 (2.99,4.4]  38        38      \n",
       "2 (4.4,5.8]  125       163      \n",
       "3 (5.8,7.2]   97       260      \n",
       "4 (7.2,8.6]   62       322      \n",
       "5 (8.6,10]    50       372      "
      ]
     },
     "metadata": {},
     "output_type": "display_data"
    },
    {
     "data": {
      "image/png": "[encoded data removed]",
      "text/plain": [
       "Plot with title \"Boxplot para la asignatura Matemática de 2°año de Secundaria\""
      ]
     },
     "metadata": {},
     "output_type": "display_data"
    }
   ],
   "source": [
    "#Segundo\n",
    "sec_Mat_2 <- filter(secundaria_promedios, Curso== 2 & Materia==\"MATEMATICA\")\n",
    "\n",
    "#Obtenemos los estadísticos\n",
    "summary(sec_Mat_2$Promedio)\n",
    "\n",
    "\n",
    "#Boxplot\n",
    "boxplot(sec_Mat_2[!is.na(sec_Mat_2$Promedio),]$Promedio,\n",
    "        main =\"Boxplot para la asignatura Matemática de 2°año de Secundaria\",\n",
    "        horizontal = FALSE,\n",
    "        sub = \"Fuente de elaboración propia\",\n",
    "        whisklty = 2,      \n",
    "        whisklwd = 2,       \n",
    "        whiskcol = \"red\",   \n",
    "        staplelty = 3,      \n",
    "        staplelwd = 2,      \n",
    "        staplecol = \"blue\",  \n",
    "        col =\"orange\") \n",
    "\n",
    "# Añadimos linea de media\n",
    "abline(h = mean(sec_Mat_2[!is.na(sec_Mat_2$Promedio),]$Promedio), col = 4, lwd = 2) \n",
    "\n",
    "# Añadimos punto con la media\n",
    "points(mean(sec_Mat_2[!is.na(sec_Mat_2$Promedio),]$Promedio), col = 3, pch = 19)"
   ]
  },
  {
   "cell_type": "code",
   "execution_count": 40,
   "id": "cdd0b3df",
   "metadata": {
    "collapsed": true
   },
   "outputs": [
    {
     "data": {
      "image/png": "[encoded data removed]",
      "text/plain": [
       "Plot with title \"Histograma para la asignatura Matemática de 2°año de Secundaria\""
      ]
     },
     "metadata": {},
     "output_type": "display_data"
    }
   ],
   "source": [
    "#Histograma para segundo\n",
    "hist(x = sec_Mat_2$Promedio,\n",
    "     probability = TRUE, \n",
    "     col=\"orange\",\n",
    "     xaxp = c(0, 10, 5),\n",
    "     ylim = c(0, 0.5),\n",
    "     xlab=\"Notas\",\n",
    "     ylab=\"Frecuencia relativa\",\n",
    "     main =\"Histograma para la asignatura Matemática de 2°año de Secundaria\",\n",
    "     sub = \"Fuente de elaboración propia\")"
   ]
  },
  {
   "cell_type": "code",
   "execution_count": 27,
   "id": "699532c8",
   "metadata": {
    "collapsed": true
   },
   "outputs": [
    {
     "data": {
      "text/html": [
       "<table>\n",
       "<thead><tr><th scope=col>Promedio</th><th scope=col>frequency</th><th scope=col>acumulado</th></tr></thead>\n",
       "<tbody>\n",
       "\t<tr><td>(3.99,5.2]</td><td> 34       </td><td> 34       </td></tr>\n",
       "\t<tr><td>(5.2,6.4] </td><td>102       </td><td>136       </td></tr>\n",
       "\t<tr><td>(6.4,7.6] </td><td> 51       </td><td>187       </td></tr>\n",
       "\t<tr><td>(7.6,8.8] </td><td> 85       </td><td>272       </td></tr>\n",
       "\t<tr><td>(8.8,10]  </td><td> 45       </td><td>317       </td></tr>\n",
       "</tbody>\n",
       "</table>\n"
      ],
      "text/latex": [
       "\\begin{tabular}{r|lll}\n",
       " Promedio & frequency & acumulado\\\\\n",
       "\\hline\n",
       "\t (3.99,5.2{]} &  34          &  34         \\\\\n",
       "\t (5.2,6.4{]}  & 102          & 136         \\\\\n",
       "\t (6.4,7.6{]}  &  51          & 187         \\\\\n",
       "\t (7.6,8.8{]}  &  85          & 272         \\\\\n",
       "\t (8.8,10{]}   &  45          & 317         \\\\\n",
       "\\end{tabular}\n"
      ],
      "text/markdown": [
       "\n",
       "| Promedio | frequency | acumulado |\n",
       "|---|---|---|\n",
       "| (3.99,5.2] |  34        |  34        |\n",
       "| (5.2,6.4]  | 102        | 136        |\n",
       "| (6.4,7.6]  |  51        | 187        |\n",
       "| (7.6,8.8]  |  85        | 272        |\n",
       "| (8.8,10]   |  45        | 317        |\n",
       "\n"
      ],
      "text/plain": [
       "  Promedio   frequency acumulado\n",
       "1 (3.99,5.2]  34        34      \n",
       "2 (5.2,6.4]  102       136      \n",
       "3 (6.4,7.6]   51       187      \n",
       "4 (7.6,8.8]   85       272      \n",
       "5 (8.8,10]    45       317      "
      ]
     },
     "metadata": {},
     "output_type": "display_data"
    },
    {
     "data": {
      "image/png": "[encoded data removed]",
      "text/plain": [
       "Plot with title \"Boxplot para la asignatura Matemática de 3°año de Secundaria\""
      ]
     },
     "metadata": {},
     "output_type": "display_data"
    }
   ],
   "source": [
    "#Tercero \n",
    "sec_Mat_3 <- filter(secundaria_promedios, Curso== 3 & Materia==\"MATEMATICA\")\n",
    "\n",
    "#Obtenemos los estadísticos\n",
    "summary(sec_Mat_3$Promedio)\n",
    "\n",
    "\n",
    "#Boxplot\n",
    "boxplot(sec_Mat_3[!is.na(sec_Mat_3$Promedio),]$Promedio,\n",
    "        main =\"Boxplot para la asignatura Matemática de 3°año de Secundaria\",\n",
    "        horizontal = FALSE,\n",
    "        sub = \"Fuente de elaboración propia\",\n",
    "        whisklty = 2,       \n",
    "        whisklwd = 2,       \n",
    "        whiskcol = \"red\",   \n",
    "        staplelty = 3,      \n",
    "        staplelwd = 2,      \n",
    "        staplecol = \"blue\",  \n",
    "        col =\"orange\") \n",
    "\n",
    "# Añadimos linea de media\n",
    "abline(h = mean(sec_Mat_3[!is.na(sec_Mat_3$Promedio),]$Promedio), col = 4, lwd = 2) \n",
    "\n",
    "# Añadimos punto con la media\n",
    "points(mean(sec_Mat_3[!is.na(sec_Mat_3$Promedio),]$Promedio), col = 3, pch = 19)"
   ]
  },
  {
   "cell_type": "code",
   "execution_count": 41,
   "id": "f8d59aab",
   "metadata": {
    "collapsed": true
   },
   "outputs": [
    {
     "data": {
      "image/png": "[encoded data removed]",
      "text/plain": [
       "Plot with title \"Histograma para la asignatura Matemática de 3°año de Secundaria\""
      ]
     },
     "metadata": {},
     "output_type": "display_data"
    }
   ],
   "source": [
    "#Histograma para tercero\n",
    "hist(x = sec_Mat_3$Promedio,\n",
    "     probability = TRUE, \n",
    "     col=\"orange\",\n",
    "     xaxp = c(0, 10, 5),\n",
    "     ylim = c(0, 0.5),\n",
    "     xlab=\"Notas\",\n",
    "     ylab=\"Frecuencia relativa\",\n",
    "     main =\"Histograma para la asignatura Matemática de 3°año de Secundaria\",\n",
    "     sub = \"Fuente de elaboración propia\")"
   ]
  },
  {
   "cell_type": "code",
   "execution_count": 29,
   "id": "3120c095",
   "metadata": {
    "collapsed": true
   },
   "outputs": [
    {
     "data": {
      "text/html": [
       "<table>\n",
       "<thead><tr><th scope=col>Promedio</th><th scope=col>frequency</th><th scope=col>acumulado</th></tr></thead>\n",
       "<tbody>\n",
       "\t<tr><td>(3.33,4.67]</td><td>15         </td><td> 15        </td></tr>\n",
       "\t<tr><td>(4.67,6]   </td><td>97         </td><td>112        </td></tr>\n",
       "\t<tr><td>(6,7.33]   </td><td>93         </td><td>205        </td></tr>\n",
       "\t<tr><td>(7.33,8.67]</td><td>70         </td><td>275        </td></tr>\n",
       "\t<tr><td>(8.67,10]  </td><td>40         </td><td>315        </td></tr>\n",
       "</tbody>\n",
       "</table>\n"
      ],
      "text/latex": [
       "\\begin{tabular}{r|lll}\n",
       " Promedio & frequency & acumulado\\\\\n",
       "\\hline\n",
       "\t (3.33,4.67{]} & 15            &  15          \\\\\n",
       "\t (4.67,6{]}    & 97            & 112          \\\\\n",
       "\t (6,7.33{]}    & 93            & 205          \\\\\n",
       "\t (7.33,8.67{]} & 70            & 275          \\\\\n",
       "\t (8.67,10{]}   & 40            & 315          \\\\\n",
       "\\end{tabular}\n"
      ],
      "text/markdown": [
       "\n",
       "| Promedio | frequency | acumulado |\n",
       "|---|---|---|\n",
       "| (3.33,4.67] | 15          |  15         |\n",
       "| (4.67,6]    | 97          | 112         |\n",
       "| (6,7.33]    | 93          | 205         |\n",
       "| (7.33,8.67] | 70          | 275         |\n",
       "| (8.67,10]   | 40          | 315         |\n",
       "\n"
      ],
      "text/plain": [
       "  Promedio    frequency acumulado\n",
       "1 (3.33,4.67] 15         15      \n",
       "2 (4.67,6]    97        112      \n",
       "3 (6,7.33]    93        205      \n",
       "4 (7.33,8.67] 70        275      \n",
       "5 (8.67,10]   40        315      "
      ]
     },
     "metadata": {},
     "output_type": "display_data"
    },
    {
     "data": {
      "image/png": "[encoded data removed]",
      "text/plain": [
       "Plot with title \"Boxplot para la asignatura Matemática de 4°año de Secundaria\""
      ]
     },
     "metadata": {},
     "output_type": "display_data"
    }
   ],
   "source": [
    "#Cuarto\n",
    "sec_Mat_4<- filter(secundaria_promedios, Curso== 4 & Materia==\"MATEMATICA\")\n",
    "\n",
    "#Obtenemos los estadísticos\n",
    "summary(sec_Mat_4$Promedio)\n",
    "\n",
    "\n",
    "#Boxplot\n",
    "boxplot(sec_Mat_4[!is.na(sec_Mat_4$Promedio),]$Promedio,\n",
    "        main =\"Boxplot para la asignatura Matemática de 4°año de Secundaria\",\n",
    "        horizontal = FALSE,\n",
    "        sub = \"Fuente de elaboración propia\",\n",
    "        whisklty = 2,       \n",
    "        whisklwd = 2,       \n",
    "        whiskcol = \"red\",   \n",
    "        staplelty = 3,      \n",
    "        staplelwd = 2,     \n",
    "        staplecol = \"blue\",  \n",
    "        col =\"orange\") \n",
    "\n",
    "# Añadimos linea de media\n",
    "abline(h = mean(sec_Mat_4[!is.na(sec_Mat_4$Promedio),]$Promedio), col = 4, lwd = 2) \n",
    "\n",
    "# Añadimos punto con la media\n",
    "points(mean(sec_Mat_4[!is.na(sec_Mat_4$Promedio),]$Promedio), col = 3, pch = 19)"
   ]
  },
  {
   "cell_type": "code",
   "execution_count": 42,
   "id": "428b75c2",
   "metadata": {
    "collapsed": true
   },
   "outputs": [
    {
     "data": {
      "image/png": "[encoded data removed]",
      "text/plain": [
       "Plot with title \"Histograma para la asignatura Matemática de 4°año de Secundaria\""
      ]
     },
     "metadata": {},
     "output_type": "display_data"
    }
   ],
   "source": [
    "#Histograma para cuarto\n",
    "hist(x = sec_Mat_4$Promedio,\n",
    "     probability = TRUE, \n",
    "     col=\"orange\",\n",
    "     xaxp = c(0, 10, 5),\n",
    "     ylim = c(0, 0.5),\n",
    "     xlab=\"Notas\",\n",
    "     ylab=\"Frecuencia relativa\",\n",
    "     main =\"Histograma para la asignatura Matemática de 4°año de Secundaria\",\n",
    "     sub = \"Fuente de elaboración propia\")"
   ]
  },
  {
   "cell_type": "code",
   "execution_count": 30,
   "id": "fbdc8d36",
   "metadata": {
    "collapsed": true
   },
   "outputs": [
    {
     "data": {
      "text/html": [
       "<table>\n",
       "<thead><tr><th scope=col>Promedio</th><th scope=col>frequency</th><th scope=col>acumulado</th></tr></thead>\n",
       "<tbody>\n",
       "\t<tr><td>(3.66,4.93]</td><td>16         </td><td> 16        </td></tr>\n",
       "\t<tr><td>(4.93,6.2] </td><td>63         </td><td> 79        </td></tr>\n",
       "\t<tr><td>(6.2,7.47] </td><td>67         </td><td>146        </td></tr>\n",
       "\t<tr><td>(7.47,8.73]</td><td>61         </td><td>207        </td></tr>\n",
       "\t<tr><td>(8.73,10]  </td><td>31         </td><td>238        </td></tr>\n",
       "</tbody>\n",
       "</table>\n"
      ],
      "text/latex": [
       "\\begin{tabular}{r|lll}\n",
       " Promedio & frequency & acumulado\\\\\n",
       "\\hline\n",
       "\t (3.66,4.93{]} & 16            &  16          \\\\\n",
       "\t (4.93,6.2{]}  & 63            &  79          \\\\\n",
       "\t (6.2,7.47{]}  & 67            & 146          \\\\\n",
       "\t (7.47,8.73{]} & 61            & 207          \\\\\n",
       "\t (8.73,10{]}   & 31            & 238          \\\\\n",
       "\\end{tabular}\n"
      ],
      "text/markdown": [
       "\n",
       "| Promedio | frequency | acumulado |\n",
       "|---|---|---|\n",
       "| (3.66,4.93] | 16          |  16         |\n",
       "| (4.93,6.2]  | 63          |  79         |\n",
       "| (6.2,7.47]  | 67          | 146         |\n",
       "| (7.47,8.73] | 61          | 207         |\n",
       "| (8.73,10]   | 31          | 238         |\n",
       "\n"
      ],
      "text/plain": [
       "  Promedio    frequency acumulado\n",
       "1 (3.66,4.93] 16         16      \n",
       "2 (4.93,6.2]  63         79      \n",
       "3 (6.2,7.47]  67        146      \n",
       "4 (7.47,8.73] 61        207      \n",
       "5 (8.73,10]   31        238      "
      ]
     },
     "metadata": {},
     "output_type": "display_data"
    },
    {
     "data": {
      "image/png": "[encoded data removed]",
      "text/plain": [
       "Plot with title \"Boxplot para la asignatura Matemática de 5°año de Secundaria\""
      ]
     },
     "metadata": {},
     "output_type": "display_data"
    }
   ],
   "source": [
    "#Quinto\n",
    "sec_Mat_5<- filter(secundaria_promedios, Curso == 5 & Materia==\"MATEMATICA\")\n",
    "\n",
    "\n",
    "#Obtenemos los estadísticos\n",
    "summary(sec_Mat_5$Promedio)\n",
    "\n",
    "#Boxplot\n",
    "boxplot(sec_Mat_5[!is.na(sec_Mat_5$Promedio),]$Promedio,\n",
    "        main =\"Boxplot para la asignatura Matemática de 5°año de Secundaria\",\n",
    "        horizontal = FALSE,\n",
    "        sub = \"Fuente de elaboración propia\",\n",
    "        whisklty = 2,       \n",
    "        whisklwd = 2,     \n",
    "        whiskcol = \"red\",  \n",
    "        staplelty = 3,      \n",
    "        staplelwd = 2,      \n",
    "        staplecol = \"blue\",  \n",
    "        col =\"orange\") \n",
    "\n",
    "# Añadimos linea de media\n",
    "abline(h = mean(sec_Mat_5[!is.na(sec_Mat_5$Promedio),]$Promedio), col = 4, lwd = 2) \n",
    "\n",
    "# Añadimos punto con la media\n",
    "points(mean(sec_Mat_5[!is.na(sec_Mat_5$Promedio),]$Promedio), col = 3, pch = 19)"
   ]
  },
  {
   "cell_type": "code",
   "execution_count": 43,
   "id": "893beae5",
   "metadata": {
    "collapsed": true
   },
   "outputs": [
    {
     "data": {
      "image/png": "[encoded data removed]",
      "text/plain": [
       "Plot with title \"Histograma para la asignatura Matemática de 5°año de Secundaria\""
      ]
     },
     "metadata": {},
     "output_type": "display_data"
    }
   ],
   "source": [
    "#Histograma para quinto\n",
    "hist(x = sec_Mat_5$Promedio,\n",
    "     probability = TRUE, \n",
    "     col=\"orange\",\n",
    "     xaxp = c(0, 10, 5),\n",
    "     ylim = c(0, 0.5),\n",
    "     xlab=\"Notas\",\n",
    "     ylab=\"Frecuencia relativa\",\n",
    "     main =\"Histograma para la asignatura Matemática de 5°año de Secundaria\",\n",
    "     sub = \"Fuente de elaboración propia\")"
   ]
  },
  {
   "cell_type": "code",
   "execution_count": 32,
   "id": "8d41c572",
   "metadata": {
    "collapsed": true
   },
   "outputs": [
    {
     "data": {
      "text/html": [
       "<table>\n",
       "<thead><tr><th scope=col>Promedio</th><th scope=col>frequency</th><th scope=col>acumulado</th></tr></thead>\n",
       "<tbody>\n",
       "\t<tr><td>(1.32,3.07]</td><td>  8        </td><td>  8        </td></tr>\n",
       "\t<tr><td>(3.07,4.8] </td><td> 23        </td><td> 31        </td></tr>\n",
       "\t<tr><td>(4.8,6.53] </td><td> 85        </td><td>116        </td></tr>\n",
       "\t<tr><td>(6.53,8.27]</td><td>109        </td><td>225        </td></tr>\n",
       "\t<tr><td>(8.27,10]  </td><td> 67        </td><td>292        </td></tr>\n",
       "</tbody>\n",
       "</table>\n"
      ],
      "text/latex": [
       "\\begin{tabular}{r|lll}\n",
       " Promedio & frequency & acumulado\\\\\n",
       "\\hline\n",
       "\t (1.32,3.07{]} &   8           &   8          \\\\\n",
       "\t (3.07,4.8{]}  &  23           &  31          \\\\\n",
       "\t (4.8,6.53{]}  &  85           & 116          \\\\\n",
       "\t (6.53,8.27{]} & 109           & 225          \\\\\n",
       "\t (8.27,10{]}   &  67           & 292          \\\\\n",
       "\\end{tabular}\n"
      ],
      "text/markdown": [
       "\n",
       "| Promedio | frequency | acumulado |\n",
       "|---|---|---|\n",
       "| (1.32,3.07] |   8         |   8         |\n",
       "| (3.07,4.8]  |  23         |  31         |\n",
       "| (4.8,6.53]  |  85         | 116         |\n",
       "| (6.53,8.27] | 109         | 225         |\n",
       "| (8.27,10]   |  67         | 292         |\n",
       "\n"
      ],
      "text/plain": [
       "  Promedio    frequency acumulado\n",
       "1 (1.32,3.07]   8         8      \n",
       "2 (3.07,4.8]   23        31      \n",
       "3 (4.8,6.53]   85       116      \n",
       "4 (6.53,8.27] 109       225      \n",
       "5 (8.27,10]    67       292      "
      ]
     },
     "metadata": {},
     "output_type": "display_data"
    },
    {
     "data": {
      "image/png": "[encoded data removed]",
      "text/plain": [
       "Plot with title \"Boxplot para la asignatura Matemática de 6°año de Secundaria\""
      ]
     },
     "metadata": {},
     "output_type": "display_data"
    }
   ],
   "source": [
    "#Sexto \n",
    "sec_Mat_6<- filter(secundaria_promedios, Curso == 6 & Materia==\"MATEMATICA\")\n",
    "\n",
    "\n",
    "#Obtenemos los estadísticos\n",
    "summary(sec_Mat_6$Promedio)\n",
    "\n",
    "\n",
    "#Boxplot\n",
    "boxplot(sec_Mat_6[!is.na(sec_Mat_6$Promedio),]$Promedio,\n",
    "        main =\"Boxplot para la asignatura Matemática de 6°año de Secundaria\",\n",
    "        horizontal = FALSE,\n",
    "        sub = \"Fuente de elaboración propia\",\n",
    "        whisklty = 2,      \n",
    "        whisklwd = 2,    \n",
    "        whiskcol = \"red\",  \n",
    "        staplelty = 3,     \n",
    "        staplelwd = 2,     \n",
    "        staplecol = \"blue\", \n",
    "        col =\"orange\") \n",
    "\n",
    "# Añadimos linea de media\n",
    "abline(h = mean(sec_Mat_6[!is.na(sec_Mat_6$Promedio),]$Promedio), col = 4, lwd = 2) \n",
    "\n",
    "# Añadimos punto con la media\n",
    "points(mean(sec_Mat_6[!is.na(sec_Mat_6$Promedio),]$Promedio), col = 3, pch = 19)"
   ]
  },
  {
   "cell_type": "code",
   "execution_count": 44,
   "id": "0da001dd",
   "metadata": {
    "collapsed": true
   },
   "outputs": [
    {
     "data": {
      "image/png": "[encoded data removed]",
      "text/plain": [
       "Plot with title \"Histograma para la asignatura Matemática de 6°año de Secundaria\""
      ]
     },
     "metadata": {},
     "output_type": "display_data"
    }
   ],
   "source": [
    "#Histograma para sexto\n",
    "hist(x = sec_Mat_6$Promedio,\n",
    "     probability = TRUE, \n",
    "     col=\"orange\",\n",
    "     xaxp = c(0, 10, 5),\n",
    "     ylim = c(0, 0.5),\n",
    "     xlab=\"Notas\",\n",
    "     ylab=\"Frecuencia relativa\",\n",
    "     main =\"Histograma para la asignatura Matemática de 6°año de Secundaria\",\n",
    "     sub = \"Fuente de elaboración propia\")"
   ]
  },
  {
   "cell_type": "markdown",
   "id": "67cdfa41",
   "metadata": {},
   "source": [
    "# Primaria"
   ]
  },
  {
   "cell_type": "code",
   "execution_count": null,
   "id": "976186c3",
   "metadata": {},
   "outputs": [],
   "source": [
    "#Primero\n",
    "prim_Mat_1 <- filter(primaria_promedios, Curso== 1 & Materia==\"MATEMATICA\")\n",
    "\n",
    "\n",
    "#Obtenemos los estadísticos\n",
    "summary(prim_Mat_1$Promedio)\n",
    "\n",
    "#Boxplot\n",
    "boxplot(prim_Mat_1[!is.na(prim_Mat_1$Promedio),]$Promedio,\n",
    "        main =\"Boxplot para la asignatura Matemática de 1°grado de Primaria\",\n",
    "        horizontal = FALSE,\n",
    "        sub = \"Fuente de elaboración propia\",\n",
    "        whisklty = 2,       \n",
    "        whisklwd = 2,      \n",
    "        whiskcol = \"red\",  \n",
    "        staplelty = 3,      \n",
    "        staplelwd = 2,     \n",
    "        staplecol = \"blue\",  \n",
    "        col =\"orange\")\n",
    "\n",
    "# Añadimos linea de media\n",
    "abline(h = mean(prim_Mat_1[!is.na(prim_Mat_1$Promedio),]$Promedio), col = 4, lwd = 2) \n",
    "\n",
    "# Añadimos punto con la media\n",
    "points(mean(prim_Mat_1[!is.na(prim_Mat_1$Promedio),]$Promedio), col = 3, pch = 19)"
   ]
  },
  {
   "cell_type": "code",
   "execution_count": null,
   "id": "f338924b",
   "metadata": {},
   "outputs": [],
   "source": [
    "#Histograma primero\n",
    "hist(x = prim_Mat_1$Promedio,\n",
    "     probability = TRUE, \n",
    "     col=\"orange\",\n",
    "     breaks = c(6,6.8,7.6,8.4,9.2,10), \n",
    "     xaxp = c(6, 10, 5), \n",
    "     ylim = c(0, 0.5),\n",
    "     xlab=\"notas\",\n",
    "     ylab=\"frecuencia relativa\",\n",
    "     main =\"Histograma para la asignatura Matemática de 1°grado de Primaria\",\n",
    "     sub= \"Fuente de elaboración propia\")"
   ]
  },
  {
   "cell_type": "code",
   "execution_count": null,
   "id": "c92c5613",
   "metadata": {},
   "outputs": [],
   "source": [
    "#Segundo \n",
    "prim_Mat_2 <- filter(primaria_promedios, Curso== 2 & Materia==\"MATEMATICA\")\n",
    "\n",
    "#Obtenemos los estadísticos\n",
    "summary(prim_Mat_2$Promedio)\n",
    "\n",
    "#Boxplot\n",
    "boxplot(prim_Mat_2[!is.na(prim_Mat_2$Promedio),]$Promedio,\n",
    "        main =\"Boxplot para la asignatura Matemática de 2°grado de Primaria\",\n",
    "        horizontal = FALSE,\n",
    "        sub = \"Fuente de elaboración propia\",\n",
    "        whisklty = 2,      \n",
    "        whisklwd = 2,      \n",
    "        whiskcol = \"red\",  \n",
    "        staplelty = 3,     \n",
    "        staplelwd = 2,      \n",
    "        staplecol = \"blue\",  \n",
    "        col =\"orange\")\n",
    "\n",
    "# Añadimos linea de media\n",
    "abline(h = mean(prim_Mat_2[!is.na(prim_Mat_2$Promedio),]$Promedio), col = 4, lwd = 2) \n",
    "\n",
    "# Añadimos punto con la media\n",
    "points(mean(prim_Mat_2[!is.na(prim_Mat_2$Promedio),]$Promedio), col = 3, pch = 19)"
   ]
  },
  {
   "cell_type": "code",
   "execution_count": null,
   "id": "f19c3836",
   "metadata": {},
   "outputs": [],
   "source": [
    "#Histograma para segundo\n",
    "hist(x = prim_Mat_2$Promedio,\n",
    "     probability = TRUE, \n",
    "     col=\"orange\",\n",
    "     breaks = c(6,6.8,7.6,8.4,9.2,10), \n",
    "     xaxp = c(6, 10, 5), \n",
    "     ylim = c(0, 0.5),\n",
    "     xlab=\"notas\",\n",
    "     ylab=\"frecuencia relativa\",\n",
    "     main =\"Histograma para la asignatura Matemática de 2°grado de Primaria\",\n",
    "     sub = \"Fuente de elaboración propia\")"
   ]
  },
  {
   "cell_type": "code",
   "execution_count": null,
   "id": "7a76ed29",
   "metadata": {},
   "outputs": [],
   "source": [
    "#Tercero \n",
    "prim_Mat_3 <- filter(primaria_promedios, Curso== 3 & Materia==\"MATEMATICA\")\n",
    "\n",
    "#Obtenemos los estadísticos\n",
    "summary(prim_Mat_3$Promedio)\n",
    "\n",
    "#Boxplot\n",
    "boxplot(prim_Mat_3[!is.na(prim_Mat_3$Promedio),]$Promedio,\n",
    "        main =\"Boxplot para la asignatura Matemática de 3°grado de Primaria\",\n",
    "        horizontal = FALSE,\n",
    "        sub = \"Fuente de elaboración propia\",\n",
    "        whisklty = 2,       \n",
    "        whisklwd = 2,       \n",
    "        whiskcol = \"red\",   \n",
    "        staplelty = 3,      \n",
    "        staplelwd = 2,      \n",
    "        staplecol = \"blue\",\n",
    "        col =\"orange\")\n",
    "\n",
    "# Añadimos linea de media\n",
    "abline(h = mean(prim_Mat_3[!is.na(prim_Mat_3$Promedio),]$Promedio), col = 4, lwd = 2) \n",
    "\n",
    "# Añadimos punto con la media\n",
    "points(mean(prim_Mat_3[!is.na(prim_Mat_3$Promedio),]$Promedio), col = 3, pch = 19)|"
   ]
  },
  {
   "cell_type": "code",
   "execution_count": null,
   "id": "07ef9ba7",
   "metadata": {},
   "outputs": [],
   "source": [
    "#Histograma para tercero\n",
    "hist(x = prim_Mat_3$Promedio,\n",
    "     probability = TRUE, \n",
    "     col=\"orange\",\n",
    "     breaks = c(6,6.8,7.6,8.4,9.2,10), \n",
    "     xaxp = c(6, 10, 5), \n",
    "     ylim = c(0, 0.5),\n",
    "     xlab=\"notas\",\n",
    "     ylab=\"frecuencia relativa\",\n",
    "     main =\"Histograma para la asignatura Matemática de 3°grado de Primaria\",\n",
    "     sub = \"Fuente de elaboracion propia\")    "
   ]
  },
  {
   "cell_type": "code",
   "execution_count": null,
   "id": "6a259095",
   "metadata": {},
   "outputs": [],
   "source": [
    "#Cuarto\n",
    "prim_Mat_4 <- filter(primaria_promedios, Curso== 4 & Materia==\"MATEMATICA\")\n",
    "\n",
    "#Obtenemos los estadísticos\n",
    "summary(prim_Mat_4$Promedio)\n",
    "\n",
    "boxplot(prim_Mat_4[!is.na(prim_Mat_4$Promedio),]$Promedio,\n",
    "        main =\"Boxplot para la asignatura Matemática de 4°grado de Primaria\",\n",
    "        horizontal = FALSE,\n",
    "        sub = \"Fuente de elaboración propia\",\n",
    "        whisklty = 2,       \n",
    "        whisklwd = 2,       \n",
    "        whiskcol = \"red\",   \n",
    "        staplelty = 3,      \n",
    "        staplelwd = 2,     \n",
    "        staplecol = \"blue\", \n",
    "        col =\"orange\") \n",
    "\n",
    "# Añadimos linea de media\n",
    "abline(h = mean(prim_Mat_4[!is.na(prim_Mat_4$Promedio),]$Promedio), col = 4, lwd = 2) \n",
    "# Añadimos punto con la media\n",
    "points(mean(prim_Mat_4[!is.na(prim_Mat_4$Promedio),]$Promedio), col = 3, pch = 19)"
   ]
  },
  {
   "cell_type": "code",
   "execution_count": null,
   "id": "e9f10f16",
   "metadata": {},
   "outputs": [],
   "source": [
    "#Histograma para cuarto\n",
    "hist(x = prim_Mat_4$Promedio,\n",
    "     probability = TRUE, \n",
    "     col=\"orange\",\n",
    "     breaks = c(6,6.8,7.6,8.4,9.2,10), \n",
    "     xaxp = c(6, 10, 5), \n",
    "     ylim = c(0, 0.5),\n",
    "     xlab=\"notas\",\n",
    "     ylab=\"frecuencia relativa\",\n",
    "     main =\"Histograma para la asignatura Matemática de 4°grado de Primaria\",\n",
    "     sub = \"Fuente de elaboración propia\")"
   ]
  },
  {
   "cell_type": "code",
   "execution_count": null,
   "id": "0327cfdf",
   "metadata": {},
   "outputs": [],
   "source": [
    "#Quinto\n",
    "prim_Mat_5 <- filter(primaria_promedios, Curso== 5 & Materia==\"MATEMATICA\")\n",
    "\n",
    "#Obtenemos los estadísticos\n",
    "summary(prim_Mat_1$Promedio)\n",
    "\n",
    "#Boxplot\n",
    "boxplot(prim_Mat_5[!is.na(prim_Mat_5$Promedio),]$Promedio,\n",
    "        main =\"Boxplot para la asignatura Matemática de 5°grado de Primaria\",\n",
    "        horizontal = FALSE,\n",
    "        sub = \"Fuente de elaboración propia\",\n",
    "        whisklty = 2,      \n",
    "        whisklwd = 2,       \n",
    "        whiskcol = \"red\",   \n",
    "        staplelty = 3,      \n",
    "        staplelwd = 2,      \n",
    "        staplecol = \"blue\", \n",
    "        col =\"orange\") \n",
    "\n",
    "# Añadimos linea de media\n",
    "abline(h = mean(prim_Mat_5[!is.na(prim_Mat_5$Promedio),]$Promedio), col = 4, lwd = 2)\n",
    "# Añadimos punto con la media\n",
    "points(mean(prim_Mat_5[!is.na(prim_Mat_5$Promedio),]$Promedio), col = 3, pch = 19)\n"
   ]
  },
  {
   "cell_type": "code",
   "execution_count": null,
   "id": "9290a2db",
   "metadata": {},
   "outputs": [],
   "source": [
    "#Histograma para quinto\n",
    "hist(x = prim_Mat_5$Promedio,\n",
    "     probability = TRUE, \n",
    "     col=\"orange\",\n",
    "     breaks = c(6,6.8,7.6,8.4,9.2,10), \n",
    "     xaxp = c(6, 10, 5), \n",
    "     ylim = c(0, 0.5),\n",
    "     xlab=\"notas\",\n",
    "     ylab=\"frecuencia relativa\",\n",
    "     main =\"Histograma para la asignatura Matemática de 5°grado de Primaria\",\n",
    "     sub = \"Fuente de elaboración propia\")"
   ]
  },
  {
   "cell_type": "code",
   "execution_count": null,
   "id": "b96682f1",
   "metadata": {},
   "outputs": [],
   "source": [
    "#Sexto\n",
    "prim_Mat_6 <- filter(primaria_promedios, Curso== 6 & Materia==\"MATEMATICA\")\n",
    "\n",
    "#Obtenemos los estadísticos\n",
    "summary(prim_Mat_1$Promedio)\n",
    "\n",
    "#Boxplot\n",
    "boxplot(prim_Mat_6[!is.na(prim_Mat_6$Promedio),]$Promedio,\n",
    "        main =\"Boxplot para la asignatura Matemática de 6°grado de Primaria\",\n",
    "        horizontal = FALSE,\n",
    "        sub = \"Fuente de elaboración propia\",\n",
    "        whisklty = 2,      \n",
    "        whisklwd = 2,       \n",
    "        whiskcol = \"red\",   \n",
    "        staplelty = 3,      \n",
    "        staplelwd = 2,     \n",
    "        staplecol = \"blue\", \n",
    "        col =\"orange\")\n",
    "\n",
    "# Añadimos linea de media\n",
    "abline(h = mean(prim_Mat_6[!is.na(prim_Mat_6$Promedio),]$Promedio), col = 4, lwd = 2) \n",
    "# Añadimos  punto con la media\n",
    "points(mean(prim_Mat_6[!is.na(prim_Mat_6$Promedio),]$Promedio), col = 3, pch = 19)"
   ]
  },
  {
   "cell_type": "code",
   "execution_count": null,
   "id": "e12bb029",
   "metadata": {},
   "outputs": [],
   "source": [
    "#Histograma para sexto \n",
    "hist(x = prim_Mat_6$Promedio,\n",
    "     probability = TRUE, \n",
    "     col=\"orange\",\n",
    "     breaks = c(6,6.8,7.6,8.4,9.2,10), \n",
    "     xaxp = c(6, 10, 5), \n",
    "     ylim = c(0, 0.5),\n",
    "     xlab=\"notas\",\n",
    "     ylab=\"frecuencia relativa\",\n",
    "     main =\"Histograma para la asignatura Matemática de 6°grado de Primaria\",\n",
    "     sub = \"Fuente de elaboración propia\")"
   ]
  },
  {
   "cell_type": "markdown",
   "id": "0ee4898a",
   "metadata": {},
   "source": [
    "# Boxplots e Histogramas para Lengua"
   ]
  },
  {
   "cell_type": "markdown",
   "id": "163cacf7",
   "metadata": {},
   "source": [
    "# Secundaria"
   ]
  },
  {
   "cell_type": "code",
   "execution_count": null,
   "id": "0f087aa4",
   "metadata": {},
   "outputs": [],
   "source": [
    "#Primero\n",
    "sec_Leng_1<- filter(secundaria_promedios, Materia == \"LENGUA Y LITERATURA\" & Curso == 1)\n",
    "\n",
    "#Obtenemos los estadísticos\n",
    "summary(sec_Leng_1$Promedio)\n",
    "\n",
    "#Boxplot\n",
    "boxplot(sec_Leng_1[!is.na(sec_Leng_1$Promedio),]$Promedio,\n",
    "        main =\"Boxplot para la asignatura Lengua y Literatura de 1°año de Secundaria\",\n",
    "        horizontal = FALSE,\n",
    "        sub = \"Fuente de elaboración propia\",\n",
    "        whisklty = 2,      \n",
    "        whisklwd = 2,       \n",
    "        whiskcol = \"red\",   \n",
    "        staplelty = 3,      \n",
    "        staplelwd = 2,     \n",
    "        staplecol = \"blue\", \n",
    "        col =\"orange\")\n",
    "\n",
    "# Añadimos linea de media\n",
    "abline(h = mean(sec_Leng_1[!is.na(sec_Leng_1$Promedio),]$Promedio), col = 4, lwd = 2)\n",
    "# Añadimos  punto con la media\n",
    "points(mean(sec_Leng_1[!is.na(sec_Leng_1$Promedio),]$Promedio), col = 3, pch = 19)\n"
   ]
  },
  {
   "cell_type": "code",
   "execution_count": null,
   "id": "4bd5942a",
   "metadata": {},
   "outputs": [],
   "source": [
    "#Histograma para primero \n",
    "hist(x = sec_Leng_1$Promedio,\n",
    "     probability = TRUE, \n",
    "     col=\"orange\",\n",
    "     xaxp = c(0, 10, 5),\n",
    "     ylim = c(0, 0.5),\n",
    "     xlab=\"Notas\",\n",
    "     ylab=\"Frecuencia relativa\",\n",
    "     main =\"Histograma para la asignatura Lengua y Literatura de 1°año de Secundaria\",\n",
    "     sub = \"Fuente de elaboración propia\")"
   ]
  },
  {
   "cell_type": "code",
   "execution_count": null,
   "id": "c334667a",
   "metadata": {},
   "outputs": [],
   "source": [
    "#Segundo\n",
    "sec_Leng_2<- filter(secundaria_promedios, Materia == \"LENGUA Y LITERATURA\" & Curso == 2)\n",
    "\n",
    "#Obtenemos los estadísticos\n",
    "summary(sec_Leng_2$Promedio)\n",
    "\n",
    "#Boxplot\n",
    "boxplot(sec_Leng_2[!is.na(sec_Leng_2$Promedio),]$Promedio,\n",
    "        main =\"Boxplot para la asignatura Lengua y Literatura de 2°año de Secundaria\",\n",
    "        horizontal = FALSE,\n",
    "        sub = \"Fuente de elaboración propia\",\n",
    "        whisklty = 2,      \n",
    "        whisklwd = 2,       \n",
    "        whiskcol = \"red\",   \n",
    "        staplelty = 3,      \n",
    "        staplelwd = 2,     \n",
    "        staplecol = \"blue\", \n",
    "        col =\"orange\")\n",
    "\n",
    "# Añadimos linea de media\n",
    "abline(h = mean(sec_Leng_2[!is.na(sec_Leng_2$Promedio),]$Promedio), col = 4, lwd = 2)\n",
    "# Añadimos  punto con la media\n",
    "points(mean(sec_Leng_2[!is.na(sec_Leng_2$Promedio),]$Promedio), col = 3, pch = 19)"
   ]
  },
  {
   "cell_type": "code",
   "execution_count": null,
   "id": "d26d960f",
   "metadata": {},
   "outputs": [],
   "source": [
    "#Histograma para segundo\n",
    "hist(x = sec_Leng_2$Promedio,\n",
    "     probability = TRUE, \n",
    "     col=\"orange\",\n",
    "     xaxp = c(0, 10, 5),\n",
    "     ylim = c(0, 0.5),\n",
    "     xlab=\"Notas\",\n",
    "     ylab=\"Frecuencia relativa\",\n",
    "     main =\"Histograma para la asignatura Lengua y Literatura de 2°año de Secundaria\",\n",
    "     sub = \"Fuente de elaboración propia\")"
   ]
  },
  {
   "cell_type": "code",
   "execution_count": null,
   "id": "5429f4a3",
   "metadata": {},
   "outputs": [],
   "source": [
    "#Tercero\n",
    "sec_Leng_3<- filter(secundaria_promedios, Materia == \"LENGUA Y LITERATURA\" & Curso == 3)\n",
    "\n",
    "#Obtenemos los estadísticos\n",
    "summary(sec_Leng_3$Promedio)\n",
    "\n",
    "#Boxplot\n",
    "boxplot(sec_Leng_3[!is.na(sec_Leng_3$Promedio),]$Promedio,\n",
    "        main =\"Boxplot para la asignatura Lengua y Literatura de 3°año de Secundaria\",\n",
    "        horizontal = FALSE,\n",
    "        sub = \"Fuente de elaboración propia\",\n",
    "        whisklty = 2,      \n",
    "        whisklwd = 2,       \n",
    "        whiskcol = \"red\",   \n",
    "        staplelty = 3,      \n",
    "        staplelwd = 2,     \n",
    "        staplecol = \"blue\", \n",
    "        col =\"orange\")\n",
    "\n",
    "# Añadimos linea de media\n",
    "abline(h = mean(sec_Leng_3[!is.na(sec_Leng_3$Promedio),]$Promedio), col = 4, lwd = 2)\n",
    "# Añadimos  punto con la media\n",
    "points(mean(sec_Leng_3[!is.na(sec_Leng_3$Promedio),]$Promedio), col = 3, pch = 19)"
   ]
  },
  {
   "cell_type": "code",
   "execution_count": null,
   "id": "269f02fe",
   "metadata": {},
   "outputs": [],
   "source": [
    "#Histograma para tercero\n",
    "hist(x = sec_Leng_3$Promedio,\n",
    "     probability = TRUE, \n",
    "     col=\"orange\",\n",
    "     xaxp = c(0, 10, 5),\n",
    "     ylim = c(0, 0.5),\n",
    "     xlab=\"Notas\",\n",
    "     ylab=\"Frecuencia relativa\",\n",
    "     main =\"Histograma para la asignatura Lengua y Literatura de 3°año de Secundaria\",\n",
    "     sub = \"Fuente de elaboración propia\")"
   ]
  },
  {
   "cell_type": "code",
   "execution_count": null,
   "id": "5582e995",
   "metadata": {},
   "outputs": [],
   "source": [
    "#Cuarto\n",
    "sec_Leng_4<- filter(secundaria_promedios, Materia == \"LENGUA Y LITERATURA\" & Curso == 4)\n",
    "\n",
    "#Obtenemos los estadísticos\n",
    "summary(sec_Leng_4$Promedio)\n",
    "\n",
    "#Boxplot\n",
    "boxplot(sec_Leng_4[!is.na(sec_Leng_4$Promedio),]$Promedio,\n",
    "        main =\"Boxplot para la asignatura Lengua y Literatura de 4°año de Secundaria\",\n",
    "        horizontal = FALSE,\n",
    "        sub = \"Fuente de elaboración propia\",\n",
    "        whisklty = 2,      \n",
    "        whisklwd = 2,       \n",
    "        whiskcol = \"red\",   \n",
    "        staplelty = 3,      \n",
    "        staplelwd = 2,     \n",
    "        staplecol = \"blue\", \n",
    "        col =\"orange\")\n",
    "\n",
    "# Añadimos linea de media\n",
    "abline(h = mean(sec_Leng_4[!is.na(sec_Leng_4$Promedio),]$Promedio), col = 4, lwd = 2)\n",
    "# Añadimos  punto con la media\n",
    "points(mean(sec_Leng_4[!is.na(sec_Leng_4$Promedio),]$Promedio), col = 3, pch = 19)"
   ]
  },
  {
   "cell_type": "code",
   "execution_count": null,
   "id": "8ca3c4cd",
   "metadata": {},
   "outputs": [],
   "source": [
    "#Histograma para cuarto\n",
    "hist(x = sec_Leng_4$Promedio,\n",
    "     probability = TRUE, \n",
    "     col=\"orange\",\n",
    "     xaxp = c(0, 10, 5),\n",
    "     ylim = c(0, 0.5),\n",
    "     xlab=\"Notas\",\n",
    "     ylab=\"Frecuencia relativa\",\n",
    "     main =\"Histograma para la asignatura Lengua y Literatura de 4°año de Secundaria\",\n",
    "     sub = \"Fuente de elaboración propia\")"
   ]
  },
  {
   "cell_type": "code",
   "execution_count": null,
   "id": "39d4ee72",
   "metadata": {},
   "outputs": [],
   "source": [
    "#Quinto\n",
    "sec_Leng_5<- filter(secundaria_promedios, Materia == \"LITERATURA LATINOAMERICANA\" & Curso == 5)\n",
    "\n",
    "#Obtenemos los estadísticos\n",
    "summary(sec_Leng_5$Promedio)\n",
    "\n",
    "#Boxplot\n",
    "boxplot(sec_Leng_5[!is.na(sec_Leng_5$Promedio),]$Promedio,\n",
    "        main =\"Boxplot para la asignatura Literatura Latinoamericana de 5°año de Secundaria\",\n",
    "        horizontal = FALSE,\n",
    "        sub = \"Fuente de elaboración propia\",\n",
    "        whisklty = 2,      \n",
    "        whisklwd = 2,       \n",
    "        whiskcol = \"red\",   \n",
    "        staplelty = 3,      \n",
    "        staplelwd = 2,     \n",
    "        staplecol = \"blue\", \n",
    "        col =\"orange\")\n",
    "\n",
    "# Añadimos linea de media\n",
    "abline(h = mean(sec_Leng_5[!is.na(sec_Leng_5$Promedio),]$Promedio), col = 4, lwd = 2)\n",
    "# Añadimos  punto con la media\n",
    "points(mean(sec_Leng_5[!is.na(sec_Leng_5$Promedio),]$Promedio), col = 3, pch = 19)"
   ]
  },
  {
   "cell_type": "code",
   "execution_count": null,
   "id": "e96a2a33",
   "metadata": {},
   "outputs": [],
   "source": [
    "#Histograma para quinto\n",
    "hist(x = sec_Leng_5$Promedio,\n",
    "     probability = TRUE, \n",
    "     col=\"orange\",\n",
    "     xaxp = c(0, 10, 5),\n",
    "     ylim = c(0, 0.5),\n",
    "     xlab=\"Notas\",\n",
    "     ylab=\"Frecuencia relativa\",\n",
    "     main =\"Histograma para la asignatura Literatura Latinoamericana de 5°año de Secundaria\",\n",
    "     sub = \"Fuente de elaboración propia\")"
   ]
  },
  {
   "cell_type": "code",
   "execution_count": null,
   "id": "6df0f2f5",
   "metadata": {},
   "outputs": [],
   "source": [
    "#Sexto\n",
    "sec_Leng_6<- filter(secundaria_promedios, Materia == \"LITERATURA ARGENTINA\" & Curso == 6)\n",
    "\n",
    "#Obtenemos los estadísticos\n",
    "summary(sec_Leng_6$Promedio)\n",
    "\n",
    "#Boxplot\n",
    "boxplot(sec_Leng_6[!is.na(sec_Leng_6$Promedio),]$Promedio,\n",
    "        main =\"Boxplot para la asignatura Literatura Argentina de 6°año de Secundaria\",\n",
    "        horizontal = FALSE,\n",
    "        sub = \"Fuente de elaboración propia\",\n",
    "        whisklty = 2,      \n",
    "        whisklwd = 2,       \n",
    "        whiskcol = \"red\",   \n",
    "        staplelty = 3,      \n",
    "        staplelwd = 2,     \n",
    "        staplecol = \"blue\", \n",
    "        col =\"orange\")\n",
    "\n",
    "# Añadimos linea de media\n",
    "abline(h = mean(sec_Leng_6[!is.na(sec_Leng_6$Promedio),]$Promedio), col = 4, lwd = 2)\n",
    "# Añadimos  punto con la media\n",
    "points(mean(sec_Leng_6[!is.na(sec_Leng_6$Promedio),]$Promedio), col = 3, pch = 19)"
   ]
  },
  {
   "cell_type": "code",
   "execution_count": null,
   "id": "a9b1afda",
   "metadata": {},
   "outputs": [],
   "source": [
    "#Histograma para sexto\n",
    "hist(x = sec_Leng_6$Promedio,\n",
    "     probability = TRUE, \n",
    "     col=\"orange\",\n",
    "     xaxp = c(0, 10, 5),\n",
    "     ylim = c(0, 0.5),\n",
    "     xlab=\"Notas\",\n",
    "     ylab=\"Frecuencia relativa\",\n",
    "     main =\"Histograma para la asignatura Literatura Argentina de 6°año de Secundaria\",\n",
    "     sub = \"Fuente de elaboración propia\")"
   ]
  },
  {
   "cell_type": "markdown",
   "id": "a1321298",
   "metadata": {},
   "source": [
    "# Primaria"
   ]
  },
  {
   "cell_type": "code",
   "execution_count": null,
   "id": "ceed39f0",
   "metadata": {},
   "outputs": [],
   "source": [
    "#Primero\n",
    "prim_Leng_1 <- filter(primaria_promedios, Curso== 1 & Materia==\"LENGUA\")\n",
    "\n",
    "\n",
    "#Obtenemos los estadísticos\n",
    "summary(prim_Leng_1$Promedio)\n",
    "\n",
    "#Boxplot\n",
    "boxplot(prim_Leng_1[!is.na(prim_Leng_1$Promedio),]$Promedio,\n",
    "        main =\"Boxplot para la asignatura Lengua de 1°grado de Primaria\",\n",
    "        horizontal = FALSE,\n",
    "        sub = \"Fuente de elaboración propia\",\n",
    "        whisklty = 2,       \n",
    "        whisklwd = 2,      \n",
    "        whiskcol = \"red\",  \n",
    "        staplelty = 3,      \n",
    "        staplelwd = 2,     \n",
    "        staplecol = \"blue\",  \n",
    "        col =\"orange\")\n",
    "\n",
    "# Añadimos linea de media\n",
    "abline(h = mean(prim_Leng_1[!is.na(prim_Leng_1$Promedio),]$Promedio), col = 4, lwd = 2)\n",
    "# Añadimos  punto con la media\n",
    "points(mean(prim_Leng_1[!is.na(prim_Leng_1$Promedio),]$Promedio), col = 3, pch = 19)"
   ]
  },
  {
   "cell_type": "code",
   "execution_count": null,
   "id": "df82ded2",
   "metadata": {},
   "outputs": [],
   "source": [
    "#Histograma para primero\n",
    "hist(x = prim_Leng_1$Promedio,\n",
    "     probability = TRUE, \n",
    "     col=\"orange\",\n",
    "     breaks = c(6,6.8,7.6,8.4,9.2,10), \n",
    "     xaxp = c(6, 10, 5), \n",
    "     ylim = c(0, 0.5),\n",
    "     xlab=\"notas\",\n",
    "     ylab=\"frecuencia relativa\",\n",
    "     main =\"Histograma para la asignatura Matemática de 1°grado de Primaria\",\n",
    "     sub = \"Fuente de elaboración propia\")"
   ]
  },
  {
   "cell_type": "code",
   "execution_count": null,
   "id": "cd03ac40",
   "metadata": {},
   "outputs": [],
   "source": [
    "#Segundo\n",
    "prim_Leng_2 <- filter(primaria_promedios, Curso== 2 & Materia==\"LENGUA\")\n",
    "\n",
    "#Obtenemos los estadísticos\n",
    "summary(prim_Leng_2$Promedio)\n",
    "\n",
    "#Boxplot\n",
    "boxplot(prim_Leng_2[!is.na(prim_Leng_2$Promedio),]$Promedio,\n",
    "        main =\"Boxplot para la asignatura Lengua de 2°grado de Primaria\",\n",
    "        horizontal = FALSE,\n",
    "        sub = \"Fuente de elaboración propia\",\n",
    "        whisklty = 2,       \n",
    "        whisklwd = 2,      \n",
    "        whiskcol = \"red\",  \n",
    "        staplelty = 3,      \n",
    "        staplelwd = 2,     \n",
    "        staplecol = \"blue\",  \n",
    "        col =\"orange\")\n",
    "\n",
    "# Añadimos linea de media\n",
    "abline(h = mean(prim_Leng_2[!is.na(prim_Leng_2$Promedio),]$Promedio), col = 4, lwd = 2)\n",
    "# Añadimos  punto con la media\n",
    "points(mean(prim_Leng_2[!is.na(prim_Leng_2$Promedio),]$Promedio), col = 3, pch = 19)"
   ]
  },
  {
   "cell_type": "code",
   "execution_count": null,
   "id": "d204b131",
   "metadata": {},
   "outputs": [],
   "source": [
    "#Histograma para segundo\n",
    "hist(x = prim_Leng_2$Promedio,\n",
    "     probability = TRUE, \n",
    "     col=\"orange\",\n",
    "     breaks = c(6,6.8,7.6,8.4,9.2,10), \n",
    "     xaxp = c(6, 10, 5), \n",
    "     ylim = c(0, 0.5),\n",
    "     xlab=\"notas\",\n",
    "     ylab=\"frecuencia relativa\",\n",
    "     main =\"Histograma para la asignatura Matemática de 2°grado de Primaria\",\n",
    "     sub = \"Fuente de elaboración propia\")"
   ]
  },
  {
   "cell_type": "code",
   "execution_count": null,
   "id": "eec038ac",
   "metadata": {},
   "outputs": [],
   "source": [
    "#Tercero\n",
    "prim_Leng_3 <- filter(primaria_promedios, Curso== 3 & Materia==\"LENGUA\")\n",
    "\n",
    "#Obtenemos los estadísticos\n",
    "summary(prim_Leng_3$Promedio)\n",
    "\n",
    "#Boxplot\n",
    "boxplot(prim_Leng_3[!is.na(prim_Leng_3$Promedio),]$Promedio,\n",
    "        main =\"Boxplot para la asignatura Lengua de 3°grado de Primaria\",\n",
    "        horizontal = FALSE,\n",
    "        sub = \"Fuente de elaboración propia\",\n",
    "        whisklty = 2,       \n",
    "        whisklwd = 2,      \n",
    "        whiskcol = \"red\",  \n",
    "        staplelty = 3,      \n",
    "        staplelwd = 2,     \n",
    "        staplecol = \"blue\",  \n",
    "        col =\"orange\")\n",
    "\n",
    "# Añadimos linea de media\n",
    "abline(h = mean(prim_Leng_3[!is.na(prim_Leng_3$Promedio),]$Promedio), col = 4, lwd = 2)\n",
    "# Añadimos  punto con la media\n",
    "points(mean(prim_Leng_3[!is.na(prim_Leng_3$Promedio),]$Promedio), col = 3, pch = 19)"
   ]
  },
  {
   "cell_type": "code",
   "execution_count": null,
   "id": "5f98df86",
   "metadata": {},
   "outputs": [],
   "source": [
    "#Histograma para tercero\n",
    "hist(x = prim_Leng_3$Promedio,\n",
    "     probability = TRUE, \n",
    "     col=\"orange\",\n",
    "     breaks = c(6,6.8,7.6,8.4,9.2,10), \n",
    "     xaxp = c(6, 10, 5), \n",
    "     ylim = c(0, 0.5),\n",
    "     xlab=\"notas\",\n",
    "     ylab=\"frecuencia relativa\",\n",
    "     main =\"Histograma para la asignatura Matemática de 3°grado de Primaria\",\n",
    "     sub = \"Fuente de elaboración propia\")"
   ]
  },
  {
   "cell_type": "code",
   "execution_count": null,
   "id": "ea1d5b4f",
   "metadata": {},
   "outputs": [],
   "source": [
    "#Cuarto\n",
    "prim_Leng_4 <- filter(primaria_promedios, Curso== 4 & Materia==\"LENGUA\")\n",
    "\n",
    "#Obtenemos los estadísticos\n",
    "summary(prim_Leng_4$Promedio)\n",
    "\n",
    "#Boxplot\n",
    "boxplot(prim_Leng_4[!is.na(prim_Leng_4$Promedio),]$Promedio,\n",
    "        main =\"Boxplot para la asignatura Lengua de 4°grado de Primaria\",\n",
    "        horizontal = FALSE,\n",
    "        sub = \"Fuente de elaboración propia\",\n",
    "        whisklty = 2,       \n",
    "        whisklwd = 2,      \n",
    "        whiskcol = \"red\",  \n",
    "        staplelty = 3,      \n",
    "        staplelwd = 2,     \n",
    "        staplecol = \"blue\",  \n",
    "        col =\"orange\")\n",
    "\n",
    "# Añadimos linea de media\n",
    "abline(h = mean(prim_Leng_4[!is.na(prim_Leng_4$Promedio),]$Promedio), col = 4, lwd = 2)\n",
    "# Añadimos  punto con la media\n",
    "points(mean(prim_Leng_4[!is.na(prim_Leng_1$Promedio),]$Promedio), col = 3, pch = 19)"
   ]
  },
  {
   "cell_type": "code",
   "execution_count": null,
   "id": "e329fdcb",
   "metadata": {},
   "outputs": [],
   "source": [
    "#Histograma para cuarto\n",
    "hist(x = prim_Leng_4$Promedio,\n",
    "     probability = TRUE, \n",
    "     col=\"orange\",\n",
    "     breaks = c(6,6.8,7.6,8.4,9.2,10), \n",
    "     xaxp = c(6, 10, 5), \n",
    "     ylim = c(0, 0.5),\n",
    "     xlab=\"notas\",\n",
    "     ylab=\"frecuencia relativa\",\n",
    "     main =\"Histograma para la asignatura Matemática de 4°grado de Primaria\",\n",
    "     sub = \"Fuente de elaboración propia\")"
   ]
  },
  {
   "cell_type": "code",
   "execution_count": null,
   "id": "9a054647",
   "metadata": {},
   "outputs": [],
   "source": [
    "#Quinto\n",
    "prim_Leng_5 <- filter(primaria_promedios, Curso== 5 & Materia==\"LENGUA\")\n",
    "\n",
    "#Obtenemos los estadísticos\n",
    "summary(prim_Leng_5$Promedio)\n",
    "\n",
    "#Boxplot\n",
    "boxplot(prim_Leng_5[!is.na(prim_Leng_5$Promedio),]$Promedio,\n",
    "        main =\"Boxplot para la asignatura Lengua de 5°grado de Primaria\",\n",
    "        horizontal = FALSE,\n",
    "        sub = \"Fuente de elaboración propia\",\n",
    "        whisklty = 2,       \n",
    "        whisklwd = 2,      \n",
    "        whiskcol = \"red\",  \n",
    "        staplelty = 3,      \n",
    "        staplelwd = 2,     \n",
    "        staplecol = \"blue\",  \n",
    "        col =\"orange\")\n",
    "\n",
    "# Añadimos linea de media\n",
    "abline(h = mean(prim_Leng_5[!is.na(prim_Leng_5$Promedio),]$Promedio), col = 4, lwd = 2)\n",
    "# Añadimos  punto con la media\n",
    "points(mean(prim_Leng_5[!is.na(prim_Leng_5$Promedio),]$Promedio), col = 3, pch = 19)"
   ]
  },
  {
   "cell_type": "code",
   "execution_count": null,
   "id": "5581f508",
   "metadata": {},
   "outputs": [],
   "source": [
    "#Histograma para quinto\n",
    "hist(x = prim_Leng_5$Promedio,\n",
    "     probability = TRUE, \n",
    "     col=\"orange\",\n",
    "     breaks = c(6,6.8,7.6,8.4,9.2,10), \n",
    "     xaxp = c(6, 10, 5), \n",
    "     ylim = c(0, 0.5),\n",
    "     xlab=\"notas\",\n",
    "     ylab=\"frecuencia relativa\",\n",
    "     main =\"Histograma para la asignatura Matemática de 5°grado de Primaria\",\n",
    "     sub = \"Fuente de elaboración propoa\")"
   ]
  },
  {
   "cell_type": "code",
   "execution_count": null,
   "id": "90b1f45c",
   "metadata": {},
   "outputs": [],
   "source": [
    "#Sexto \n",
    "prim_Leng_6 <- filter(primaria_promedios, Curso== 6 & Materia==\"LENGUA\")\n",
    "\n",
    "#Obtenemos los estadísticos\n",
    "summary(prim_Leng_6$Promedio)\n",
    "\n",
    "#Boxplot\n",
    "boxplot(prim_Leng_6[!is.na(prim_Leng_6$Promedio),]$Promedio,\n",
    "        main =\"Boxplot para la asignatura Lengua de 1°grado de Primaria\",\n",
    "        horizontal = FALSE,\n",
    "        sub = \"Fuente de elaboración propia\",\n",
    "        whisklty = 2,       \n",
    "        whisklwd = 2,      \n",
    "        whiskcol = \"red\",  \n",
    "        staplelty = 3,      \n",
    "        staplelwd = 2,     \n",
    "        staplecol = \"blue\",  \n",
    "        col =\"orange\")\n",
    "\n",
    "# Añadimos linea de media\n",
    "abline(h = mean(prim_Leng_6[!is.na(prim_Leng_6$Promedio),]$Promedio), col = 4, lwd = 2)\n",
    "# Añadimos  punto con la media\n",
    "points(mean(prim_Leng_6[!is.na(prim_Leng_6$Promedio),]$Promedio), col = 3, pch = 19)"
   ]
  },
  {
   "cell_type": "code",
   "execution_count": null,
   "id": "a23df919",
   "metadata": {},
   "outputs": [],
   "source": [
    "#Histograma para sexto\n",
    "hist(x = prim_Leng_6$Promedio,\n",
    "     probability = TRUE, \n",
    "     col=\"orange\",\n",
    "     breaks = c(6,6.8,7.6,8.4,9.2,10), \n",
    "     xaxp = c(6, 10, 5), \n",
    "     ylim = c(0, 0.5),\n",
    "     xlab=\"notas\",\n",
    "     ylab=\"frecuencia relativa\",\n",
    "     main =\"Histograma para la asignatura Matemática de 6°grado de Primaria\",\n",
    "     sub = \"Fuente de elaboración propia\")"
   ]
  },
  {
   "cell_type": "markdown",
   "id": "2b5894b0",
   "metadata": {},
   "source": [
    "# Análisis bivariado"
   ]
  },
  {
   "cell_type": "markdown",
   "id": "33898979",
   "metadata": {},
   "source": [
    "# Comparación notas de Lengua según el sector."
   ]
  },
  {
   "cell_type": "code",
   "execution_count": 20,
   "id": "8ca310d3",
   "metadata": {
    "collapsed": true
   },
   "outputs": [
    {
     "data": {
      "image/png": "[encoded data removed]",
      "text/plain": [
       "Plot with title \"Promedios de Lengua: 4° grado en según tipo de gestión\""
      ]
     },
     "metadata": {},
     "output_type": "display_data"
    }
   ],
   "source": [
    "#Para primaria comparamos los 4to grado de escuelas de gestión pública y privada\n",
    "boxplot( filter(primaria_promedios, Curso== 1 & Materia==\"LENGUA\")$Promedio ~ filter(primaria_promedios,Curso == 1 & Materia == \"LENGUA\")$EsPrivada, \n",
    "        col = c(\"lightblue\",\"pink\"),\n",
    "        las = 2, \n",
    "        ylab=\"Promedios\", \n",
    "        xlab=\"Gestión\",\n",
    "        cex.axis = 0.8, \n",
    "        cex.names= 0.75, \n",
    "        main=\"Promedios de Lengua: 4° grado en según tipo de gestión\",\n",
    "        sub = \"Fuente de elaboración propia\")"
   ]
  },
  {
   "cell_type": "code",
   "execution_count": 21,
   "id": "7cf8f20a",
   "metadata": {
    "collapsed": true
   },
   "outputs": [
    {
     "data": {
      "image/png": "[encoded data removed]",
      "text/plain": [
       "Plot with title \"Promedios de Lengua: 4° año en según tipo de gestión\""
      ]
     },
     "metadata": {},
     "output_type": "display_data"
    }
   ],
   "source": [
    "#Mismo procedimiento para segundaria con los 4to año de escuelas de gestión pública y privada\n",
    "\n",
    "boxplot( filter(secundaria_promedios, Curso== 1 & Materia==\"LENGUA Y LITERATURA\")$Promedio ~ filter(secundaria_promedios,Curso == 1 & Materia == \"LENGUA Y LITERATURA\")$EsPrivada, \n",
    "        col = c(\"lightblue\",\"pink\"),\n",
    "        las = 2, \n",
    "        ylab=\"Promedios\", \n",
    "        xlab=\"Gestión\",\n",
    "        cex.axis = 0.8, \n",
    "        cex.names= 0.75, \n",
    "        main=\"Promedios de Lengua: 4° año en según tipo de gestión\",\n",
    "        sub = \"Fuente de elaboración propia\")"
   ]
  },
  {
   "cell_type": "markdown",
   "id": "99c0d5cf",
   "metadata": {},
   "source": [
    "# Análisis de correlación."
   ]
  },
  {
   "cell_type": "markdown",
   "id": "ef091cf8",
   "metadata": {},
   "source": [
    "# Primaria"
   ]
  },
  {
   "cell_type": "code",
   "execution_count": 43,
   "id": "dc804b49",
   "metadata": {
    "collapsed": true
   },
   "outputs": [
    {
     "data": {
      "text/html": [
       "<ol class=list-inline>\n",
       "\t<li>857</li>\n",
       "\t<li>3</li>\n",
       "</ol>\n"
      ],
      "text/latex": [
       "\\begin{enumerate*}\n",
       "\\item 857\n",
       "\\item 3\n",
       "\\end{enumerate*}\n"
      ],
      "text/markdown": [
       "1. 857\n",
       "2. 3\n",
       "\n",
       "\n"
      ],
      "text/plain": [
       "[1] 857   3"
      ]
     },
     "metadata": {},
     "output_type": "display_data"
    },
    {
     "data": {
      "text/html": [
       "<ol class=list-inline>\n",
       "\t<li>857</li>\n",
       "\t<li>3</li>\n",
       "</ol>\n"
      ],
      "text/latex": [
       "\\begin{enumerate*}\n",
       "\\item 857\n",
       "\\item 3\n",
       "\\end{enumerate*}\n"
      ],
      "text/markdown": [
       "1. 857\n",
       "2. 3\n",
       "\n",
       "\n"
      ],
      "text/plain": [
       "[1] 857   3"
      ]
     },
     "metadata": {},
     "output_type": "display_data"
    }
   ],
   "source": [
    "#Creamos un nuevo dataset para ver si existe una correlación entre los promedios de Matemática y lengua\n",
    "\n",
    "\n",
    "#Corroboramos que tengan la misma dimensión\n",
    "dim(dplyr::select(filter(primaria_promedios,Materia ==\"MATEMATICA\" & Curso == 4),\"DNI\",\"Promedio\",\"EsPrivada\"))\n",
    "dim(dplyr::select(filter(primaria_promedios,Materia==\"LENGUA\" & Curso == 4),\"DNI\",\"Promedio\",\"EsPrivada\"))\n",
    "\n",
    "#Definimos nuestro nuevo dataset\n",
    "df_primaria<- dplyr::select(filter(primaria_promedios,Materia==\"MATEMATICA\" & Curso == 4),\"DNI\",\"Promedio\",\"EsPrivada\") %>% inner_join(dplyr::select(filter(primaria_promedios,Materia == \"LENGUA\" & Curso == 4),\"DNI\",\"Promedio\",\"EsPrivada\"),by=\"DNI\")\n",
    "df_primaria<-rename(df_primaria,Prom_Mat=Promedio.x, Prom_Leng=Promedio.y,EsPrivada=EsPrivada.x)\n",
    "\n",
    "#Eliminamos los NA\n",
    "df_primaria <- na.omit(df_primaria)\n"
   ]
  },
  {
   "cell_type": "code",
   "execution_count": 30,
   "id": "46d8f584",
   "metadata": {
    "collapsed": true
   },
   "outputs": [
    {
     "data": {
      "image/png": "[encoded data removed]",
      "text/plain": [
       "plot without title"
      ]
     },
     "metadata": {},
     "output_type": "display_data"
    }
   ],
   "source": [
    "#Realizamos un scatterplot para ver si en un principio existe correlación\n",
    "ggplot(data=df_primaria, aes(x=Prom_Mat,y=Prom_Leng))+geom_point(aes(colour=EsPrivada)\n",
    ")+xlab(\"Prom_Mat\")+ylab(\"Prom_Leng\")"
   ]
  },
  {
   "cell_type": "code",
   "execution_count": 34,
   "id": "2e1812cb",
   "metadata": {
    "collapsed": true
   },
   "outputs": [
    {
     "name": "stderr",
     "output_type": "stream",
     "text": [
      "`geom_smooth()` using formula 'y ~ x'\n"
     ]
    },
    {
     "data": {
      "image/png": "[encoded data removed]",
      "text/plain": [
       "plot without title"
      ]
     },
     "metadata": {},
     "output_type": "display_data"
    }
   ],
   "source": [
    "#Graficamos las rectas que mejor se ajustan para nuestra dispersión\n",
    "ggplot(data=df_primaria, aes(x=Prom_Mat,y=Prom_Leng, color = EsPrivada))+geom_point()+ \n",
    "       geom_smooth(method = \"lm\")\n"
   ]
  },
  {
   "cell_type": "code",
   "execution_count": 62,
   "id": "85180ec1",
   "metadata": {
    "collapsed": true
   },
   "outputs": [
    {
     "data": {
      "text/html": [
       "<table>\n",
       "<thead><tr><th></th><th scope=col>Prom_Mat</th><th scope=col>Prom_Leng</th></tr></thead>\n",
       "<tbody>\n",
       "\t<tr><th scope=row>Prom_Mat</th><td>1.063157</td><td>0.916450</td></tr>\n",
       "\t<tr><th scope=row>Prom_Leng</th><td>0.916450</td><td>1.027523</td></tr>\n",
       "</tbody>\n",
       "</table>\n"
      ],
      "text/latex": [
       "\\begin{tabular}{r|ll}\n",
       "  & Prom\\_Mat & Prom\\_Leng\\\\\n",
       "\\hline\n",
       "\tProm\\_Mat & 1.063157 & 0.916450\\\\\n",
       "\tProm\\_Leng & 0.916450 & 1.027523\\\\\n",
       "\\end{tabular}\n"
      ],
      "text/markdown": [
       "\n",
       "| <!--/--> | Prom_Mat | Prom_Leng |\n",
       "|---|---|---|\n",
       "| Prom_Mat | 1.063157 | 0.916450 |\n",
       "| Prom_Leng | 0.916450 | 1.027523 |\n",
       "\n"
      ],
      "text/plain": [
       "          Prom_Mat Prom_Leng\n",
       "Prom_Mat  1.063157 0.916450 \n",
       "Prom_Leng 0.916450 1.027523 "
      ]
     },
     "metadata": {},
     "output_type": "display_data"
    },
    {
     "data": {
      "text/plain": [
       "\n",
       "\tLilliefors (Kolmogorov-Smirnov) normality test\n",
       "\n",
       "data:  dataMp$Prom_Mat\n",
       "D = 0.1027, p-value < 2.2e-16\n"
      ]
     },
     "metadata": {},
     "output_type": "display_data"
    },
    {
     "data": {
      "text/plain": [
       "\n",
       "\tLilliefors (Kolmogorov-Smirnov) normality test\n",
       "\n",
       "data:  dataMp$Prom_Leng\n",
       "D = 0.10209, p-value < 2.2e-16\n"
      ]
     },
     "metadata": {},
     "output_type": "display_data"
    },
    {
     "data": {
      "text/html": [
       "0.876827644258028"
      ],
      "text/latex": [
       "0.876827644258028"
      ],
      "text/markdown": [
       "0.876827644258028"
      ],
      "text/plain": [
       "[1] 0.8768276"
      ]
     },
     "metadata": {},
     "output_type": "display_data"
    }
   ],
   "source": [
    "#Análisis de la covarianza\n",
    "dataMp <- na.omit(data.frame(df_primaria$Prom_Mat, df_primaria$Prom_Leng)) \n",
    "dataMp<-rename(dataMp,Prom_Mat=df_primaria.Prom_Mat, Prom_Leng=df_primaria.Prom_Leng)\n",
    "\n",
    "var(dataMp)\n",
    "\n",
    "#Análisis de la normalidad de nuestras variables\n",
    "#Como ambas son mayores a 50 utilizamos el test de Kolmogorov-Smirnov\n",
    "\n",
    "#Matemática\n",
    "lillie.test(x = dataMp$Prom_Mat)\n",
    "#Lengua\n",
    "lillie.test(x = dataMp$Prom_Leng)\n",
    "\n",
    "#Revisamos la correlacion\n",
    "cor(dataMp$Prom_Mat, dataMp$Prom_Leng, method = \"spearman\") "
   ]
  },
  {
   "cell_type": "code",
   "execution_count": 66,
   "id": "e05a4d65",
   "metadata": {
    "collapsed": true
   },
   "outputs": [
    {
     "data": {
      "image/png": "[encoded data removed]",
      "text/plain": [
       "Plot with title \"\""
      ]
     },
     "metadata": {},
     "output_type": "display_data"
    }
   ],
   "source": [
    "#Graficamos \n",
    "chart.Correlation(dataMp, histogram = TRUE, method = \"spearman\")"
   ]
  },
  {
   "cell_type": "markdown",
   "id": "509086b0",
   "metadata": {},
   "source": [
    "# Secundaria"
   ]
  },
  {
   "cell_type": "code",
   "execution_count": 57,
   "id": "c2ec084c",
   "metadata": {
    "collapsed": true
   },
   "outputs": [
    {
     "data": {
      "text/html": [
       "<ol class=list-inline>\n",
       "\t<li>317</li>\n",
       "\t<li>3</li>\n",
       "</ol>\n"
      ],
      "text/latex": [
       "\\begin{enumerate*}\n",
       "\\item 317\n",
       "\\item 3\n",
       "\\end{enumerate*}\n"
      ],
      "text/markdown": [
       "1. 317\n",
       "2. 3\n",
       "\n",
       "\n"
      ],
      "text/plain": [
       "[1] 317   3"
      ]
     },
     "metadata": {},
     "output_type": "display_data"
    },
    {
     "data": {
      "text/html": [
       "<ol class=list-inline>\n",
       "\t<li>326</li>\n",
       "\t<li>3</li>\n",
       "</ol>\n"
      ],
      "text/latex": [
       "\\begin{enumerate*}\n",
       "\\item 326\n",
       "\\item 3\n",
       "\\end{enumerate*}\n"
      ],
      "text/markdown": [
       "1. 326\n",
       "2. 3\n",
       "\n",
       "\n"
      ],
      "text/plain": [
       "[1] 326   3"
      ]
     },
     "metadata": {},
     "output_type": "display_data"
    },
    {
     "data": {
      "text/html": [
       "<table>\n",
       "<thead><tr><th></th><th scope=col>DNI</th><th scope=col>Prom_Mat</th><th scope=col>EsPrivada</th><th scope=col>Prom_Leng</th><th scope=col>EsPrivada.y</th></tr></thead>\n",
       "<tbody>\n",
       "\t<tr><th scope=row>1</th><td>43348491</td><td>5.666667</td><td>N       </td><td>6.333333</td><td>N       </td></tr>\n",
       "\t<tr><th scope=row>2</th><td>44368570</td><td>6.333333</td><td>N       </td><td>4.666667</td><td>N       </td></tr>\n",
       "\t<tr><th scope=row>3</th><td>45338359</td><td>9.333333</td><td>N       </td><td>9.000000</td><td>N       </td></tr>\n",
       "\t<tr><th scope=row>4</th><td>45552837</td><td>6.666667</td><td>N       </td><td>6.000000</td><td>N       </td></tr>\n",
       "\t<tr><th scope=row>5</th><td>45754435</td><td>7.333333</td><td>N       </td><td>8.333333</td><td>N       </td></tr>\n",
       "\t<tr><th scope=row>7</th><td>45754497</td><td>7.333333</td><td>N       </td><td>7.666667</td><td>N       </td></tr>\n",
       "</tbody>\n",
       "</table>\n"
      ],
      "text/latex": [
       "\\begin{tabular}{r|lllll}\n",
       "  & DNI & Prom\\_Mat & EsPrivada & Prom\\_Leng & EsPrivada.y\\\\\n",
       "\\hline\n",
       "\t1 & 43348491 & 5.666667 & N        & 6.333333 & N       \\\\\n",
       "\t2 & 44368570 & 6.333333 & N        & 4.666667 & N       \\\\\n",
       "\t3 & 45338359 & 9.333333 & N        & 9.000000 & N       \\\\\n",
       "\t4 & 45552837 & 6.666667 & N        & 6.000000 & N       \\\\\n",
       "\t5 & 45754435 & 7.333333 & N        & 8.333333 & N       \\\\\n",
       "\t7 & 45754497 & 7.333333 & N        & 7.666667 & N       \\\\\n",
       "\\end{tabular}\n"
      ],
      "text/markdown": [
       "\n",
       "| <!--/--> | DNI | Prom_Mat | EsPrivada | Prom_Leng | EsPrivada.y |\n",
       "|---|---|---|---|---|---|\n",
       "| 1 | 43348491 | 5.666667 | N        | 6.333333 | N        |\n",
       "| 2 | 44368570 | 6.333333 | N        | 4.666667 | N        |\n",
       "| 3 | 45338359 | 9.333333 | N        | 9.000000 | N        |\n",
       "| 4 | 45552837 | 6.666667 | N        | 6.000000 | N        |\n",
       "| 5 | 45754435 | 7.333333 | N        | 8.333333 | N        |\n",
       "| 7 | 45754497 | 7.333333 | N        | 7.666667 | N        |\n",
       "\n"
      ],
      "text/plain": [
       "  DNI      Prom_Mat EsPrivada Prom_Leng EsPrivada.y\n",
       "1 43348491 5.666667 N         6.333333  N          \n",
       "2 44368570 6.333333 N         4.666667  N          \n",
       "3 45338359 9.333333 N         9.000000  N          \n",
       "4 45552837 6.666667 N         6.000000  N          \n",
       "5 45754435 7.333333 N         8.333333  N          \n",
       "7 45754497 7.333333 N         7.666667  N          "
      ]
     },
     "metadata": {},
     "output_type": "display_data"
    }
   ],
   "source": [
    "#Corroboramos que tengan la misma dimensión\n",
    "dim(dplyr::select(filter(secundaria_promedios,Materia ==\"MATEMATICA\" & Curso == 4),\"DNI\",\"Promedio\",\"EsPrivada\"))\n",
    "dim(dplyr::select(filter(secundaria_promedios,Materia==\"LENGUA Y LITERATURA\" & Curso == 4),\"DNI\",\"Promedio\",\"EsPrivada\"))\n",
    "\n",
    "#Definimos nuestro nuevo dataset\n",
    "df_secundaria<- dplyr::select(filter(secundaria_promedios,Materia==\"MATEMATICA\" & Curso == 4),\"DNI\",\"Promedio\",\"EsPrivada\") %>% inner_join(dplyr::select(filter(secundaria_promedios,Materia == \"LENGUA Y LITERATURA\" & Curso == 4),\"DNI\",\"Promedio\",\"EsPrivada\"),by=\"DNI\")\n",
    "df_secundaria<-rename(df_secundaria,Prom_Mat=Promedio.x, Prom_Leng=Promedio.y,EsPrivada=EsPrivada.x)\n",
    "\n",
    "#Eliminamos los NA\n",
    "df_secundaria <- na.omit(df_secundaria)\n"
   ]
  },
  {
   "cell_type": "code",
   "execution_count": 58,
   "id": "a5833329",
   "metadata": {
    "collapsed": true
   },
   "outputs": [
    {
     "data": {
      "image/png": "[encoded data removed]",
      "text/plain": [
       "plot without title"
      ]
     },
     "metadata": {},
     "output_type": "display_data"
    }
   ],
   "source": [
    "#Realizamos un scatterplot para ver si en un principio existe correlación\n",
    "ggplot(data=df_secundaria, aes(x=Prom_Mat,y=Prom_Leng))+geom_point(aes(colour=EsPrivada)\n",
    ")+xlab(\"Prom_Mat\")+ylab(\"Prom_Leng\")"
   ]
  },
  {
   "cell_type": "code",
   "execution_count": 67,
   "id": "26b3cd08",
   "metadata": {
    "collapsed": true
   },
   "outputs": [
    {
     "name": "stderr",
     "output_type": "stream",
     "text": [
      "`geom_smooth()` using formula 'y ~ x'\n"
     ]
    },
    {
     "data": {
      "image/png": "[encoded data removed]",
      "text/plain": [
       "plot without title"
      ]
     },
     "metadata": {},
     "output_type": "display_data"
    }
   ],
   "source": [
    "#Graficamos las rectas que mejor se ajustan para nuestra dispersión\n",
    "ggplot(data=df_secundaria, aes(x=Prom_Mat,y=Prom_Leng, color = EsPrivada))+geom_point()+ \n",
    "       geom_smooth(method = \"lm\")"
   ]
  },
  {
   "cell_type": "code",
   "execution_count": 63,
   "id": "f7c80f03",
   "metadata": {
    "collapsed": true
   },
   "outputs": [
    {
     "data": {
      "text/html": [
       "<table>\n",
       "<thead><tr><th></th><th scope=col>Prom_Mat</th><th scope=col>Prom_Leng</th></tr></thead>\n",
       "<tbody>\n",
       "\t<tr><th scope=row>Prom_Mat</th><td>1.963276</td><td>1.268158</td></tr>\n",
       "\t<tr><th scope=row>Prom_Leng</th><td>1.268158</td><td>1.956229</td></tr>\n",
       "</tbody>\n",
       "</table>\n"
      ],
      "text/latex": [
       "\\begin{tabular}{r|ll}\n",
       "  & Prom\\_Mat & Prom\\_Leng\\\\\n",
       "\\hline\n",
       "\tProm\\_Mat & 1.963276 & 1.268158\\\\\n",
       "\tProm\\_Leng & 1.268158 & 1.956229\\\\\n",
       "\\end{tabular}\n"
      ],
      "text/markdown": [
       "\n",
       "| <!--/--> | Prom_Mat | Prom_Leng |\n",
       "|---|---|---|\n",
       "| Prom_Mat | 1.963276 | 1.268158 |\n",
       "| Prom_Leng | 1.268158 | 1.956229 |\n",
       "\n"
      ],
      "text/plain": [
       "          Prom_Mat Prom_Leng\n",
       "Prom_Mat  1.963276 1.268158 \n",
       "Prom_Leng 1.268158 1.956229 "
      ]
     },
     "metadata": {},
     "output_type": "display_data"
    },
    {
     "data": {
      "text/plain": [
       "\n",
       "\tLilliefors (Kolmogorov-Smirnov) normality test\n",
       "\n",
       "data:  dataMs$Prom_Mat\n",
       "D = 0.096079, p-value = 2.95e-07\n"
      ]
     },
     "metadata": {},
     "output_type": "display_data"
    },
    {
     "data": {
      "text/plain": [
       "\n",
       "\tLilliefors (Kolmogorov-Smirnov) normality test\n",
       "\n",
       "data:  dataMs$Prom_Leng\n",
       "D = 0.076621, p-value = 0.000159\n"
      ]
     },
     "metadata": {},
     "output_type": "display_data"
    },
    {
     "data": {
      "text/html": [
       "0.647102060864589"
      ],
      "text/latex": [
       "0.647102060864589"
      ],
      "text/markdown": [
       "0.647102060864589"
      ],
      "text/plain": [
       "[1] 0.6471021"
      ]
     },
     "metadata": {},
     "output_type": "display_data"
    }
   ],
   "source": [
    "#Análisis de la covarianza\n",
    "dataMs <- na.omit(data.frame(df_secundaria$Prom_Mat, df_secundaria$Prom_Leng)) \n",
    "dataMs<-rename(dataMs,Prom_Mat=df_secundaria.Prom_Mat, Prom_Leng=df_secundaria.Prom_Leng)\n",
    "\n",
    "var(dataMs)\n",
    "\n",
    "#Análisis de la normalidad de nuestras variables\n",
    "#Como ambas son mayores a 50 utilizamos el test de Kolmogorov-Smirnov\n",
    "\n",
    "#Matemática\n",
    "lillie.test(x = dataMs$Prom_Mat)\n",
    "#Lengua\n",
    "lillie.test(x = dataMs$Prom_Leng)\n",
    "\n",
    "#Revisamos la correlacion\n",
    "cor(dataMs$Prom_Mat, dataMs$Prom_Leng, method = \"spearman\") "
   ]
  },
  {
   "cell_type": "code",
   "execution_count": 65,
   "id": "8c5fbba7",
   "metadata": {
    "collapsed": true
   },
   "outputs": [
    {
     "data": {
      "image/png": "[encoded data removed]",
      "text/plain": [
       "Plot with title \"\""
      ]
     },
     "metadata": {},
     "output_type": "display_data"
    }
   ],
   "source": [
    "#Graficamos\n",
    "chart.Correlation(dataMs, histogram = TRUE, method = \"spearman\")"
   ]
  }
 ],
 "metadata": {
  "kernelspec": {
   "display_name": "R",
   "language": "R",
   "name": "ir"
  },
  "language_info": {
   "codemirror_mode": "r",
   "file_extension": ".r",
   "mimetype": "text/x-r-source",
   "name": "R",
   "pygments_lexer": "r",
   "version": "3.6.1"
  }
 },
 "nbformat": 4,
 "nbformat_minor": 5
}
