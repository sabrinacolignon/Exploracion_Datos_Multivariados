{
 "cells": [
  {
   "cell_type": "code",
   "execution_count": 1,
   "id": "a2cc6811",
   "metadata": {},
   "outputs": [
    {
     "name": "stderr",
     "output_type": "stream",
     "text": [
      "Warning message:\n",
      "\"package 'readxl' was built under R version 3.6.3\"Warning message:\n",
      "\"package 'dplyr' was built under R version 3.6.3\"\n",
      "Attaching package: 'dplyr'\n",
      "\n",
      "The following objects are masked from 'package:stats':\n",
      "\n",
      "    filter, lag\n",
      "\n",
      "The following objects are masked from 'package:base':\n",
      "\n",
      "    intersect, setdiff, setequal, union\n",
      "\n"
     ]
    }
   ],
   "source": [
    "library(readxl)\n",
    "library(dplyr)"
   ]
  },
  {
   "cell_type": "code",
   "execution_count": 13,
   "id": "d17ee873",
   "metadata": {},
   "outputs": [
    {
     "data": {
      "text/html": [
       "<ol class=list-inline>\n",
       "\t<li>82241</li>\n",
       "\t<li>16</li>\n",
       "</ol>\n"
      ],
      "text/latex": [
       "\\begin{enumerate*}\n",
       "\\item 82241\n",
       "\\item 16\n",
       "\\end{enumerate*}\n"
      ],
      "text/markdown": [
       "1. 82241\n",
       "2. 16\n",
       "\n",
       "\n"
      ],
      "text/plain": [
       "[1] 82241    16"
      ]
     },
     "metadata": {},
     "output_type": "display_data"
    },
    {
     "data": {
      "text/html": [
       "<ol class=list-inline>\n",
       "\t<li>'CUE'</li>\n",
       "\t<li>'Documento'</li>\n",
       "\t<li>'localidad'</li>\n",
       "\t<li>'Curso'</li>\n",
       "\t<li>'turno'</li>\n",
       "\t<li>'curso'</li>\n",
       "\t<li>'periodoEvaluatorio'</li>\n",
       "\t<li>'asignatura'</li>\n",
       "\t<li>'nota'</li>\n",
       "\t<li>'NivelEnsenanza'</li>\n",
       "\t<li>'Nivel'</li>\n",
       "\t<li>'Modalidad'</li>\n",
       "\t<li>'año'</li>\n",
       "\t<li>'EsPrivada'</li>\n",
       "\t<li>'orden'</li>\n",
       "\t<li>'Año_cursado'</li>\n",
       "</ol>\n"
      ],
      "text/latex": [
       "\\begin{enumerate*}\n",
       "\\item 'CUE'\n",
       "\\item 'Documento'\n",
       "\\item 'localidad'\n",
       "\\item 'Curso'\n",
       "\\item 'turno'\n",
       "\\item 'curso'\n",
       "\\item 'periodoEvaluatorio'\n",
       "\\item 'asignatura'\n",
       "\\item 'nota'\n",
       "\\item 'NivelEnsenanza'\n",
       "\\item 'Nivel'\n",
       "\\item 'Modalidad'\n",
       "\\item 'año'\n",
       "\\item 'EsPrivada'\n",
       "\\item 'orden'\n",
       "\\item 'Año\\_cursado'\n",
       "\\end{enumerate*}\n"
      ],
      "text/markdown": [
       "1. 'CUE'\n",
       "2. 'Documento'\n",
       "3. 'localidad'\n",
       "4. 'Curso'\n",
       "5. 'turno'\n",
       "6. 'curso'\n",
       "7. 'periodoEvaluatorio'\n",
       "8. 'asignatura'\n",
       "9. 'nota'\n",
       "10. 'NivelEnsenanza'\n",
       "11. 'Nivel'\n",
       "12. 'Modalidad'\n",
       "13. 'año'\n",
       "14. 'EsPrivada'\n",
       "15. 'orden'\n",
       "16. 'Año_cursado'\n",
       "\n",
       "\n"
      ],
      "text/plain": [
       " [1] \"CUE\"                \"Documento\"          \"localidad\"         \n",
       " [4] \"Curso\"              \"turno\"              \"curso\"             \n",
       " [7] \"periodoEvaluatorio\" \"asignatura\"         \"nota\"              \n",
       "[10] \"NivelEnsenanza\"     \"Nivel\"              \"Modalidad\"         \n",
       "[13] \"año\"                \"EsPrivada\"          \"orden\"             \n",
       "[16] \"Año_cursado\"       "
      ]
     },
     "metadata": {},
     "output_type": "display_data"
    }
   ],
   "source": [
    "options(warn=-1)\n",
    "Diamante <- read_excel(\"C:/Users/Sabrina/Downloads/Exploracion_d_multivariados/diamante_nuevo.xlsx\", sheet = 1)\n",
    "dim(Diamante)\n",
    "names(Diamante)"
   ]
  },
  {
   "cell_type": "code",
   "execution_count": 14,
   "id": "b5db7c14",
   "metadata": {},
   "outputs": [],
   "source": [
    "Diamante_filter<-filter(Diamante, Año_cursado== \"PRIMERO\" |  Año_cursado== \"SEGUNDO\" |  Año_cursado== \"TERCERO\" |\n",
    "                     Año_cursado== \"CUARTO\" |  Año_cursado== \"QUINTO\" |  Año_cursado== \"SEXTO\")"
   ]
  },
  {
   "cell_type": "code",
   "execution_count": 16,
   "id": "b0fadee8",
   "metadata": {},
   "outputs": [],
   "source": [
    "PrimerT<-filter(Diamante_filter, periodoEvaluatorio==\"Primer Trimestre\")\n",
    "PrimerT<-rename(PrimerT,NotasPrimerT=nota)\n",
    "\n",
    "SegundoT<-filter(Diamante_filter, periodoEvaluatorio==\"Segundo Trimestre\")\n",
    "SegundoT<-rename(SegundoT,NotasSegundoT=nota)\n",
    "\n",
    "prueba<-merge(x = PrimerT, y = SegundoT, by = c(\"Documento\", \"asignatura\"))\n",
    "\n",
    "TercerT<-filter(Diamante_filter, periodoEvaluatorio==\"Tercer Trimestre\")\n",
    "TercerT<-rename(TercerT,NotasTercerT=nota)\n",
    "\n",
    "prueba1<-merge(x = prueba, y = TercerT, by = c(\"Documento\", \"asignatura\"))\n"
   ]
  },
  {
   "cell_type": "code",
   "execution_count": 18,
   "id": "1ded97a9",
   "metadata": {},
   "outputs": [],
   "source": [
    "Diamante_filter<-dplyr::select(prueba1,'CUE', 'Documento', 'localidad', 'Curso', 'turno', 'curso', 'periodoEvaluatorio', 'asignatura', 'NivelEnsenanza', 'Nivel', 'Modalidad', 'año', 'EsPrivada', 'orden', 'Año_cursado','NotasPrimerT','NotasSegundoT', 'NotasTercerT')\n",
    "\n",
    "Diamante_filter$Promedio<-round((as.numeric(Diamante_filter$NotasPrimerT)+as.numeric(Diamante_filter$NotasSegundoT)+as.numeric(Diamante_filter$NotasTercerT))/3,2)"
   ]
  },
  {
   "cell_type": "code",
   "execution_count": 37,
   "id": "a3c9adfd",
   "metadata": {
    "scrolled": true
   },
   "outputs": [
    {
     "data": {
      "image/png": "[encoded data removed]",
      "text/plain": [
       "Plot with title \"Histograma frecuencias relativas\""
      ]
     },
     "metadata": {},
     "output_type": "display_data"
    }
   ],
   "source": [
    "x <- as.numeric(filter(Diamante_filter,Año_cursado== \"PRIMERO\"  & EsPrivada==\"S\" & asignatura==\"MATEMÁTICA\")$Promedio) # Primer grupo\n",
    "y <-  as.numeric(filter(Diamante_filter ,Año_cursado== \"PRIMERO\"  & EsPrivada==\"N\" & asignatura==\"MATEMÁTICA\")$Promedio)\n",
    "hist(x, col=\"paleturquoise3\",border=\"royalblue\",breaks = \"Sturges\", ylim = c(0, 250),\n",
    "     density=20,angle=70, xlab=\"notas\", ylab=\"frecuencia absoluta\", main=\"Histograma frecuencias relativas\")\n",
    "hist(y, add = TRUE, col = rgb(1, 1, 0, alpha = 0.5))\n",
    "\n",
    "mean_x <- mean(x,na.rm=TRUE)     \n",
    "med_x <- median(x,na.rm=TRUE)   \n",
    "mean_y <- mean(y,na.rm=TRUE)     \n",
    "med_y <- median(y,na.rm=TRUE)   \n",
    "\n",
    "abline(v = mean_x, col = 'blue') #media x\n",
    "abline(v = med_x, col = 'red') #mediana x\n",
    "\n",
    "abline(v = mean_y, col = 'black') #media y\n",
    "abline(v = med_y, col = 'green') #mediana y"
   ]
  },
  {
   "cell_type": "code",
   "execution_count": 54,
   "id": "69da7674",
   "metadata": {
    "scrolled": true
   },
   "outputs": [
    {
     "data": {
      "image/png": "[encoded data removed]",
      "text/plain": [
       "Plot with title \"Histograma frecuencias relativas\""
      ]
     },
     "metadata": {},
     "output_type": "display_data"
    }
   ],
   "source": [
    "x <- as.numeric(filter(Diamante_filter,Año_cursado== \"PRIMERO\" & EsPrivada==\"S\" & asignatura==\"MATEMÁTICA\")$Promedio) # Primer grupo\n",
    "y <-  as.numeric(filter(Diamante_filter,Año_cursado== \"PRIMERO\" & EsPrivada==\"N\" & asignatura==\"MATEMÁTICA\")$Promedio)\n",
    "\n",
    "hist(x,\n",
    "     probability = TRUE, \n",
    "     col=\"paleturquoise3\",\n",
    "     border=\"royalblue\",\n",
    "     breaks = \"Sturges\", \n",
    "     ylim = c(0, 0.8),\n",
    "     density=20,\n",
    "     angle=70, \n",
    "     xlab=\"notas\", \n",
    "     ylab=\"frecuencia absoluta\", \n",
    "     main=\"Histograma frecuencias relativas\")\n",
    "\n",
    "hist(y,\n",
    "     probability = TRUE,\n",
    "     add = TRUE, \n",
    "     col = rgb(1, 1, 0, alpha = 0.8))"
   ]
  },
  {
   "cell_type": "code",
   "execution_count": 65,
   "id": "a83e7a3d",
   "metadata": {
    "scrolled": true
   },
   "outputs": [
    {
     "data": {
      "image/png": "[encoded data removed]",
      "text/plain": [
       "Plot with title \"Boxplot relación\""
      ]
     },
     "metadata": {},
     "output_type": "display_data"
    }
   ],
   "source": [
    "boxplot( filter(Diamante_filter, Año_cursado== \"PRIMERO\" & asignatura==\"MATEMÁTICA\")$Promedio ~ filter(Diamante_filter, Año_cursado== \"PRIMERO\" & asignatura==\"MATEMÁTICA\")$EsPrivada,\n",
    "        col = rainbow(15),\n",
    "        las = 2,\n",
    "        ylab=\"Notas\",\n",
    "        xlab=\"Es Privada\",\n",
    "        cex.axis = 0.8,\n",
    "        cex.names= 0.75,\n",
    "        main=\"Boxplot relación\")"
   ]
  },
  {
   "cell_type": "markdown",
   "id": "746f326b",
   "metadata": {},
   "source": [
    "# Correlación"
   ]
  },
  {
   "cell_type": "code",
   "execution_count": 50,
   "id": "8c50e25f",
   "metadata": {},
   "outputs": [
    {
     "data": {
      "text/html": [
       "<ol class=list-inline>\n",
       "\t<li>1011</li>\n",
       "\t<li>3</li>\n",
       "</ol>\n"
      ],
      "text/latex": [
       "\\begin{enumerate*}\n",
       "\\item 1011\n",
       "\\item 3\n",
       "\\end{enumerate*}\n"
      ],
      "text/markdown": [
       "1. 1011\n",
       "2. 3\n",
       "\n",
       "\n"
      ],
      "text/plain": [
       "[1] 1011    3"
      ]
     },
     "metadata": {},
     "output_type": "display_data"
    },
    {
     "data": {
      "text/html": [
       "<ol class=list-inline>\n",
       "\t<li>1156</li>\n",
       "\t<li>3</li>\n",
       "</ol>\n"
      ],
      "text/latex": [
       "\\begin{enumerate*}\n",
       "\\item 1156\n",
       "\\item 3\n",
       "\\end{enumerate*}\n"
      ],
      "text/markdown": [
       "1. 1156\n",
       "2. 3\n",
       "\n",
       "\n"
      ],
      "text/plain": [
       "[1] 1156    3"
      ]
     },
     "metadata": {},
     "output_type": "display_data"
    },
    {
     "data": {
      "text/html": [
       "<table>\n",
       "<thead><tr><th scope=col>Documento</th><th scope=col>Prom_Mat</th><th scope=col>EsPrivada</th><th scope=col>Prom_CsNat</th><th scope=col>EsPrivada.y</th></tr></thead>\n",
       "<tbody>\n",
       "\t<tr><td>48960601</td><td>9.00    </td><td>N       </td><td>9.33    </td><td>N       </td></tr>\n",
       "\t<tr><td>49019457</td><td>8.33    </td><td>N       </td><td>7.67    </td><td>N       </td></tr>\n",
       "\t<tr><td>49020658</td><td>7.33    </td><td>N       </td><td>9.33    </td><td>N       </td></tr>\n",
       "\t<tr><td>49225652</td><td>6.33    </td><td>N       </td><td>6.67    </td><td>N       </td></tr>\n",
       "\t<tr><td>49296063</td><td>8.00    </td><td>N       </td><td>7.33    </td><td>N       </td></tr>\n",
       "\t<tr><td>49649414</td><td>9.00    </td><td>N       </td><td>8.33    </td><td>N       </td></tr>\n",
       "</tbody>\n",
       "</table>\n"
      ],
      "text/latex": [
       "\\begin{tabular}{r|lllll}\n",
       " Documento & Prom\\_Mat & EsPrivada & Prom\\_CsNat & EsPrivada.y\\\\\n",
       "\\hline\n",
       "\t 48960601 & 9.00     & N        & 9.33     & N       \\\\\n",
       "\t 49019457 & 8.33     & N        & 7.67     & N       \\\\\n",
       "\t 49020658 & 7.33     & N        & 9.33     & N       \\\\\n",
       "\t 49225652 & 6.33     & N        & 6.67     & N       \\\\\n",
       "\t 49296063 & 8.00     & N        & 7.33     & N       \\\\\n",
       "\t 49649414 & 9.00     & N        & 8.33     & N       \\\\\n",
       "\\end{tabular}\n"
      ],
      "text/markdown": [
       "\n",
       "| Documento | Prom_Mat | EsPrivada | Prom_CsNat | EsPrivada.y |\n",
       "|---|---|---|---|---|\n",
       "| 48960601 | 9.00     | N        | 9.33     | N        |\n",
       "| 49019457 | 8.33     | N        | 7.67     | N        |\n",
       "| 49020658 | 7.33     | N        | 9.33     | N        |\n",
       "| 49225652 | 6.33     | N        | 6.67     | N        |\n",
       "| 49296063 | 8.00     | N        | 7.33     | N        |\n",
       "| 49649414 | 9.00     | N        | 8.33     | N        |\n",
       "\n"
      ],
      "text/plain": [
       "  Documento Prom_Mat EsPrivada Prom_CsNat EsPrivada.y\n",
       "1 48960601  9.00     N         9.33       N          \n",
       "2 49019457  8.33     N         7.67       N          \n",
       "3 49020658  7.33     N         9.33       N          \n",
       "4 49225652  6.33     N         6.67       N          \n",
       "5 49296063  8.00     N         7.33       N          \n",
       "6 49649414  9.00     N         8.33       N          "
      ]
     },
     "metadata": {},
     "output_type": "display_data"
    }
   ],
   "source": [
    "#diagrama de dispersión\n",
    "#deben tener misma dimension\n",
    "dim(dplyr::select(filter(Diamante_filter,asignatura==\"MATEMÁTICA\" & Año_cursado== \"PRIMERO\"),\"Documento\",\"Promedio\",\"EsPrivada\"))\n",
    "dim(dplyr::select(filter(Diamante_filter,asignatura==\"CIENCIAS NATURALES\" & Año_cursado== \"PRIMERO\"),\"Documento\",\"Promedio\",\"EsPrivada\"))\n",
    "\n",
    "df<- dplyr::select(filter(Diamante_filter,asignatura==\"MATEMÁTICA\" & Año_cursado== \"PRIMERO\"),\"Documento\",\"Promedio\",\"EsPrivada\") %>% inner_join(dplyr::select(filter(Diamante_filter,asignatura==\"CIENCIAS NATURALES\" & Año_cursado== \"PRIMERO\"),\"Documento\",\"Promedio\",\"EsPrivada\"),by=\"Documento\")\n",
    "df<-rename(df,Prom_Mat=Promedio.x, Prom_CsNat=Promedio.y,EsPrivada=EsPrivada.x)\n",
    "\n",
    "head(df)"
   ]
  },
  {
   "cell_type": "code",
   "execution_count": 47,
   "id": "86c0ce5f",
   "metadata": {},
   "outputs": [],
   "source": [
    "library(ggplot2)"
   ]
  },
  {
   "cell_type": "code",
   "execution_count": 57,
   "id": "9b6fe6cd",
   "metadata": {
    "scrolled": true
   },
   "outputs": [
    {
     "data": {
      "image/png": "[encoded data removed]",
      "text/plain": [
       "plot without title"
      ]
     },
     "metadata": {},
     "output_type": "display_data"
    }
   ],
   "source": [
    "ggplot(data=df, aes(x=Prom_Mat,y=Prom_CsNat)) + geom_point(aes(colour=EsPrivada)) + xlab(\"Longitud\") + ylab(\"ancho\")"
   ]
  },
  {
   "cell_type": "code",
   "execution_count": 58,
   "id": "61d19853",
   "metadata": {
    "scrolled": true
   },
   "outputs": [
    {
     "name": "stderr",
     "output_type": "stream",
     "text": [
      "`geom_smooth()` using formula 'y ~ x'\n"
     ]
    },
    {
     "data": {
      "image/png": "[encoded data removed]",
      "text/plain": [
       "plot without title"
      ]
     },
     "metadata": {},
     "output_type": "display_data"
    }
   ],
   "source": [
    "ggplot(data=df,\n",
    "       aes(x=Prom_Mat,y=Prom_CsNat, color = EsPrivada)) + geom_point() + geom_smooth(method = \"lm\")"
   ]
  },
  {
   "cell_type": "markdown",
   "id": "4233a599",
   "metadata": {},
   "source": [
    "# Varianza y covarianza"
   ]
  },
  {
   "cell_type": "code",
   "execution_count": 59,
   "id": "d2ade339",
   "metadata": {},
   "outputs": [
    {
     "data": {
      "text/html": [
       "<table>\n",
       "<thead><tr><th></th><th scope=col>Prom_Mat</th><th scope=col>Prom_CsNat</th></tr></thead>\n",
       "<tbody>\n",
       "\t<tr><th scope=row>Prom_Mat</th><td>0.9795894</td><td>0.7259072</td></tr>\n",
       "\t<tr><th scope=row>Prom_CsNat</th><td>0.7259072</td><td>0.7251015</td></tr>\n",
       "</tbody>\n",
       "</table>\n"
      ],
      "text/latex": [
       "\\begin{tabular}{r|ll}\n",
       "  & Prom\\_Mat & Prom\\_CsNat\\\\\n",
       "\\hline\n",
       "\tProm\\_Mat & 0.9795894 & 0.7259072\\\\\n",
       "\tProm\\_CsNat & 0.7259072 & 0.7251015\\\\\n",
       "\\end{tabular}\n"
      ],
      "text/markdown": [
       "\n",
       "| <!--/--> | Prom_Mat | Prom_CsNat |\n",
       "|---|---|---|\n",
       "| Prom_Mat | 0.9795894 | 0.7259072 |\n",
       "| Prom_CsNat | 0.7259072 | 0.7251015 |\n",
       "\n"
      ],
      "text/plain": [
       "           Prom_Mat  Prom_CsNat\n",
       "Prom_Mat   0.9795894 0.7259072 \n",
       "Prom_CsNat 0.7259072 0.7251015 "
      ]
     },
     "metadata": {},
     "output_type": "display_data"
    }
   ],
   "source": [
    "dataM <- na.omit(data.frame(df$Prom_Mat, df$Prom_CsNat)) \n",
    "\n",
    "dataM <- rename(dataM,Prom_Mat=df.Prom_Mat, Prom_CsNat=df.Prom_CsNat)\n",
    "\n",
    "var(dataM)"
   ]
  },
  {
   "cell_type": "code",
   "execution_count": 60,
   "id": "47459506",
   "metadata": {},
   "outputs": [
    {
     "name": "stderr",
     "output_type": "stream",
     "text": [
      "Loading required package: xts\n",
      "Loading required package: zoo\n",
      "\n",
      "Attaching package: 'zoo'\n",
      "\n",
      "The following objects are masked from 'package:base':\n",
      "\n",
      "    as.Date, as.Date.numeric\n",
      "\n",
      "Registered S3 method overwritten by 'xts':\n",
      "  method     from\n",
      "  as.zoo.xts zoo \n",
      "\n",
      "Attaching package: 'xts'\n",
      "\n",
      "The following objects are masked from 'package:dplyr':\n",
      "\n",
      "    first, last\n",
      "\n",
      "\n",
      "Attaching package: 'PerformanceAnalytics'\n",
      "\n",
      "The following object is masked from 'package:graphics':\n",
      "\n",
      "    legend\n",
      "\n"
     ]
    }
   ],
   "source": [
    "library(\"PerformanceAnalytics\")"
   ]
  },
  {
   "cell_type": "code",
   "execution_count": 61,
   "id": "bbf0fb02",
   "metadata": {
    "scrolled": true
   },
   "outputs": [
    {
     "data": {
      "image/png": "[encoded data removed]",
      "text/plain": [
       "Plot with title \"\""
      ]
     },
     "metadata": {},
     "output_type": "display_data"
    }
   ],
   "source": [
    "chart.Correlation(dataM, histogram = TRUE, method = \"pearson\") #dataM: Matriz de correlacion"
   ]
  },
  {
   "cell_type": "code",
   "execution_count": 66,
   "id": "bee1b354",
   "metadata": {},
   "outputs": [
    {
     "data": {
      "text/plain": [
       "\n",
       "\tLilliefors (Kolmogorov-Smirnov) normality test\n",
       "\n",
       "data:  dataM$Prom_Mat\n",
       "D = 0.1005, p-value < 2.2e-16\n"
      ]
     },
     "metadata": {},
     "output_type": "display_data"
    }
   ],
   "source": [
    "library(nortest)\n",
    "lillie.test(x = dataM$Prom_Mat)"
   ]
  },
  {
   "cell_type": "code",
   "execution_count": 67,
   "id": "014763e9",
   "metadata": {},
   "outputs": [
    {
     "data": {
      "text/html": [
       "<table>\n",
       "<thead><tr><th scope=col>name</th><th scope=col>value</th></tr></thead>\n",
       "<tbody>\n",
       "\t<tr><td>pearson  </td><td>0.8613104</td></tr>\n",
       "\t<tr><td>kendall  </td><td>0.7432633</td></tr>\n",
       "\t<tr><td>spearman </td><td>0.8632962</td></tr>\n",
       "</tbody>\n",
       "</table>\n"
      ],
      "text/latex": [
       "\\begin{tabular}{r|ll}\n",
       " name & value\\\\\n",
       "\\hline\n",
       "\t pearson   & 0.8613104\\\\\n",
       "\t kendall   & 0.7432633\\\\\n",
       "\t spearman  & 0.8632962\\\\\n",
       "\\end{tabular}\n"
      ],
      "text/markdown": [
       "\n",
       "| name | value |\n",
       "|---|---|\n",
       "| pearson   | 0.8613104 |\n",
       "| kendall   | 0.7432633 |\n",
       "| spearman  | 0.8632962 |\n",
       "\n"
      ],
      "text/plain": [
       "  name     value    \n",
       "1 pearson  0.8613104\n",
       "2 kendall  0.7432633\n",
       "3 spearman 0.8632962"
      ]
     },
     "metadata": {},
     "output_type": "display_data"
    }
   ],
   "source": [
    "per <- cor(dataM$Prom_Mat, dataM$Prom_CsNat, method = \"pearson\")\n",
    "ken <- cor(dataM$Prom_Mat, dataM$Prom_CsNat, method = \"kendall\")\n",
    "spe <- cor(dataM$Prom_Mat, dataM$Prom_CsNat, method = \"spearman\")\n",
    "\n",
    "data <- data.frame(name=c(\"pearson\",\"kendall\",\"spearman\") , value=c(per,ken,spe))\n",
    "\n",
    "data"
   ]
  },
  {
   "cell_type": "code",
   "execution_count": 68,
   "id": "ed04a934",
   "metadata": {},
   "outputs": [
    {
     "name": "stderr",
     "output_type": "stream",
     "text": [
      "corrplot 0.88 loaded\n"
     ]
    },
    {
     "data": {
      "image/png": "[encoded data removed]",
      "text/plain": [
       "Plot with title \"\""
      ]
     },
     "metadata": {},
     "output_type": "display_data"
    }
   ],
   "source": [
    "library(corrplot)\n",
    "corrplot.mixed(cor(dataM, method = \"spearman\"),addshade=\"all\")"
   ]
  },
  {
   "cell_type": "code",
   "execution_count": 72,
   "id": "7415cbb4",
   "metadata": {},
   "outputs": [],
   "source": [
    "df2<-dplyr::select(filter(Diamante_filter,asignatura==\"LENGUA\" & Año_cursado== \"PRIMERO\"),\"Documento\",\"Promedio\",\"EsPrivada\")\n",
    "\n",
    "df<- df %>% inner_join(df2,by=\"Documento\")"
   ]
  },
  {
   "cell_type": "code",
   "execution_count": 73,
   "id": "0b9845b2",
   "metadata": {},
   "outputs": [],
   "source": [
    "dataN<-rename(df, Prom_Len= Promedio.x)"
   ]
  },
  {
   "cell_type": "code",
   "execution_count": 74,
   "id": "7e8c1bb8",
   "metadata": {},
   "outputs": [
    {
     "data": {
      "text/html": [
       "<table>\n",
       "<thead><tr><th scope=col>Documento</th><th scope=col>Prom_Mat</th><th scope=col>EsPrivada.x</th><th scope=col>Prom_CsNat</th><th scope=col>EsPrivada.y</th><th scope=col>Prom_Len</th><th scope=col>EsPrivada.y.y</th><th scope=col>Promedio.y</th><th scope=col>EsPrivada.x.x</th><th scope=col>Promedio</th><th scope=col>EsPrivada.y.y.y</th></tr></thead>\n",
       "<tbody>\n",
       "\t<tr><td>48960601</td><td>9.00    </td><td>N       </td><td>9.33    </td><td>N       </td><td>9.33    </td><td>N       </td><td>9.33    </td><td>N       </td><td>9.33    </td><td>N       </td></tr>\n",
       "\t<tr><td>49019457</td><td>8.33    </td><td>N       </td><td>7.67    </td><td>N       </td><td>7.67    </td><td>N       </td><td>7.67    </td><td>N       </td><td>7.67    </td><td>N       </td></tr>\n",
       "\t<tr><td>49020658</td><td>7.33    </td><td>N       </td><td>9.33    </td><td>N       </td><td>8.00    </td><td>N       </td><td>8.00    </td><td>N       </td><td>8.00    </td><td>N       </td></tr>\n",
       "\t<tr><td>49225652</td><td>6.33    </td><td>N       </td><td>6.67    </td><td>N       </td><td>6.67    </td><td>N       </td><td>6.67    </td><td>N       </td><td>6.67    </td><td>N       </td></tr>\n",
       "\t<tr><td>49296063</td><td>8.00    </td><td>N       </td><td>7.33    </td><td>N       </td><td>6.67    </td><td>N       </td><td>6.67    </td><td>N       </td><td>6.67    </td><td>N       </td></tr>\n",
       "\t<tr><td>49649414</td><td>9.00    </td><td>N       </td><td>8.33    </td><td>N       </td><td>7.67    </td><td>N       </td><td>7.67    </td><td>N       </td><td>7.67    </td><td>N       </td></tr>\n",
       "</tbody>\n",
       "</table>\n"
      ],
      "text/latex": [
       "\\begin{tabular}{r|lllllllllll}\n",
       " Documento & Prom\\_Mat & EsPrivada.x & Prom\\_CsNat & EsPrivada.y & Prom\\_Len & EsPrivada.y.y & Promedio.y & EsPrivada.x.x & Promedio & EsPrivada.y.y.y\\\\\n",
       "\\hline\n",
       "\t 48960601 & 9.00     & N        & 9.33     & N        & 9.33     & N        & 9.33     & N        & 9.33     & N       \\\\\n",
       "\t 49019457 & 8.33     & N        & 7.67     & N        & 7.67     & N        & 7.67     & N        & 7.67     & N       \\\\\n",
       "\t 49020658 & 7.33     & N        & 9.33     & N        & 8.00     & N        & 8.00     & N        & 8.00     & N       \\\\\n",
       "\t 49225652 & 6.33     & N        & 6.67     & N        & 6.67     & N        & 6.67     & N        & 6.67     & N       \\\\\n",
       "\t 49296063 & 8.00     & N        & 7.33     & N        & 6.67     & N        & 6.67     & N        & 6.67     & N       \\\\\n",
       "\t 49649414 & 9.00     & N        & 8.33     & N        & 7.67     & N        & 7.67     & N        & 7.67     & N       \\\\\n",
       "\\end{tabular}\n"
      ],
      "text/markdown": [
       "\n",
       "| Documento | Prom_Mat | EsPrivada.x | Prom_CsNat | EsPrivada.y | Prom_Len | EsPrivada.y.y | Promedio.y | EsPrivada.x.x | Promedio | EsPrivada.y.y.y |\n",
       "|---|---|---|---|---|---|---|---|---|---|---|\n",
       "| 48960601 | 9.00     | N        | 9.33     | N        | 9.33     | N        | 9.33     | N        | 9.33     | N        |\n",
       "| 49019457 | 8.33     | N        | 7.67     | N        | 7.67     | N        | 7.67     | N        | 7.67     | N        |\n",
       "| 49020658 | 7.33     | N        | 9.33     | N        | 8.00     | N        | 8.00     | N        | 8.00     | N        |\n",
       "| 49225652 | 6.33     | N        | 6.67     | N        | 6.67     | N        | 6.67     | N        | 6.67     | N        |\n",
       "| 49296063 | 8.00     | N        | 7.33     | N        | 6.67     | N        | 6.67     | N        | 6.67     | N        |\n",
       "| 49649414 | 9.00     | N        | 8.33     | N        | 7.67     | N        | 7.67     | N        | 7.67     | N        |\n",
       "\n"
      ],
      "text/plain": [
       "  Documento Prom_Mat EsPrivada.x Prom_CsNat EsPrivada.y Prom_Len EsPrivada.y.y\n",
       "1 48960601  9.00     N           9.33       N           9.33     N            \n",
       "2 49019457  8.33     N           7.67       N           7.67     N            \n",
       "3 49020658  7.33     N           9.33       N           8.00     N            \n",
       "4 49225652  6.33     N           6.67       N           6.67     N            \n",
       "5 49296063  8.00     N           7.33       N           6.67     N            \n",
       "6 49649414  9.00     N           8.33       N           7.67     N            \n",
       "  Promedio.y EsPrivada.x.x Promedio EsPrivada.y.y.y\n",
       "1 9.33       N             9.33     N              \n",
       "2 7.67       N             7.67     N              \n",
       "3 8.00       N             8.00     N              \n",
       "4 6.67       N             6.67     N              \n",
       "5 6.67       N             6.67     N              \n",
       "6 7.67       N             7.67     N              "
      ]
     },
     "metadata": {},
     "output_type": "display_data"
    }
   ],
   "source": [
    "head(dataN)"
   ]
  },
  {
   "cell_type": "code",
   "execution_count": 76,
   "id": "933ca1b7",
   "metadata": {},
   "outputs": [
    {
     "data": {
      "text/html": [
       "<ol class=list-inline>\n",
       "\t<li>34307</li>\n",
       "\t<li>3</li>\n",
       "</ol>\n"
      ],
      "text/latex": [
       "\\begin{enumerate*}\n",
       "\\item 34307\n",
       "\\item 3\n",
       "\\end{enumerate*}\n"
      ],
      "text/markdown": [
       "1. 34307\n",
       "2. 3\n",
       "\n",
       "\n"
      ],
      "text/plain": [
       "[1] 34307     3"
      ]
     },
     "metadata": {},
     "output_type": "display_data"
    }
   ],
   "source": [
    "dataN <- na.omit(dataN) \n",
    "dataN <-dplyr::select(dataN,Prom_Mat,Prom_CsNat,Prom_Len)\n",
    "dim(dataN)"
   ]
  },
  {
   "cell_type": "code",
   "execution_count": 77,
   "id": "62b31d7c",
   "metadata": {},
   "outputs": [
    {
     "name": "stderr",
     "output_type": "stream",
     "text": [
      "Loading required package: MASS\n",
      "\n",
      "Attaching package: 'MASS'\n",
      "\n",
      "The following object is masked from 'package:dplyr':\n",
      "\n",
      "    select\n",
      "\n"
     ]
    }
   ],
   "source": [
    "library(ppcor)"
   ]
  },
  {
   "cell_type": "code",
   "execution_count": 78,
   "id": "0a263fcf",
   "metadata": {},
   "outputs": [
    {
     "data": {
      "text/html": [
       "<dl>\n",
       "\t<dt>$estimate</dt>\n",
       "\t\t<dd><table>\n",
       "<thead><tr><th></th><th scope=col>Prom_Mat</th><th scope=col>Prom_CsNat</th></tr></thead>\n",
       "<tbody>\n",
       "\t<tr><th scope=row>Prom_Mat</th><td>1.0000000</td><td>0.8632962</td></tr>\n",
       "\t<tr><th scope=row>Prom_CsNat</th><td>0.8632962</td><td>1.0000000</td></tr>\n",
       "</tbody>\n",
       "</table>\n",
       "</dd>\n",
       "\t<dt>$p.value</dt>\n",
       "\t\t<dd><table>\n",
       "<thead><tr><th></th><th scope=col>Prom_Mat</th><th scope=col>Prom_CsNat</th></tr></thead>\n",
       "<tbody>\n",
       "\t<tr><th scope=row>Prom_Mat</th><td> 0.000000e+00</td><td>5.950112e-318</td></tr>\n",
       "\t<tr><th scope=row>Prom_CsNat</th><td>5.950112e-318</td><td> 0.000000e+00</td></tr>\n",
       "</tbody>\n",
       "</table>\n",
       "</dd>\n",
       "\t<dt>$statistic</dt>\n",
       "\t\t<dd><table>\n",
       "<thead><tr><th></th><th scope=col>Prom_Mat</th><th scope=col>Prom_CsNat</th></tr></thead>\n",
       "<tbody>\n",
       "\t<tr><th scope=row>Prom_Mat</th><td> 0.0000</td><td>55.7693</td></tr>\n",
       "\t<tr><th scope=row>Prom_CsNat</th><td>55.7693</td><td> 0.0000</td></tr>\n",
       "</tbody>\n",
       "</table>\n",
       "</dd>\n",
       "\t<dt>$n</dt>\n",
       "\t\t<dd>1065</dd>\n",
       "\t<dt>$gp</dt>\n",
       "\t\t<dd>0</dd>\n",
       "\t<dt>$method</dt>\n",
       "\t\t<dd>'spearman'</dd>\n",
       "</dl>\n"
      ],
      "text/latex": [
       "\\begin{description}\n",
       "\\item[\\$estimate] \\begin{tabular}{r|ll}\n",
       "  & Prom\\_Mat & Prom\\_CsNat\\\\\n",
       "\\hline\n",
       "\tProm\\_Mat & 1.0000000 & 0.8632962\\\\\n",
       "\tProm\\_CsNat & 0.8632962 & 1.0000000\\\\\n",
       "\\end{tabular}\n",
       "\n",
       "\\item[\\$p.value] \\begin{tabular}{r|ll}\n",
       "  & Prom\\_Mat & Prom\\_CsNat\\\\\n",
       "\\hline\n",
       "\tProm\\_Mat &  0.000000e+00 & 5.950112e-318\\\\\n",
       "\tProm\\_CsNat & 5.950112e-318 &  0.000000e+00\\\\\n",
       "\\end{tabular}\n",
       "\n",
       "\\item[\\$statistic] \\begin{tabular}{r|ll}\n",
       "  & Prom\\_Mat & Prom\\_CsNat\\\\\n",
       "\\hline\n",
       "\tProm\\_Mat &  0.0000 & 55.7693\\\\\n",
       "\tProm\\_CsNat & 55.7693 &  0.0000\\\\\n",
       "\\end{tabular}\n",
       "\n",
       "\\item[\\$n] 1065\n",
       "\\item[\\$gp] 0\n",
       "\\item[\\$method] 'spearman'\n",
       "\\end{description}\n"
      ],
      "text/markdown": [
       "$estimate\n",
       ":   \n",
       "| <!--/--> | Prom_Mat | Prom_CsNat |\n",
       "|---|---|---|\n",
       "| Prom_Mat | 1.0000000 | 0.8632962 |\n",
       "| Prom_CsNat | 0.8632962 | 1.0000000 |\n",
       "\n",
       "\n",
       "$p.value\n",
       ":   \n",
       "| <!--/--> | Prom_Mat | Prom_CsNat |\n",
       "|---|---|---|\n",
       "| Prom_Mat |  0.000000e+00 | 5.950112e-318 |\n",
       "| Prom_CsNat | 5.950112e-318 |  0.000000e+00 |\n",
       "\n",
       "\n",
       "$statistic\n",
       ":   \n",
       "| <!--/--> | Prom_Mat | Prom_CsNat |\n",
       "|---|---|---|\n",
       "| Prom_Mat |  0.0000 | 55.7693 |\n",
       "| Prom_CsNat | 55.7693 |  0.0000 |\n",
       "\n",
       "\n",
       "$n\n",
       ":   1065\n",
       "$gp\n",
       ":   0\n",
       "$method\n",
       ":   'spearman'\n",
       "\n",
       "\n"
      ],
      "text/plain": [
       "$estimate\n",
       "            Prom_Mat Prom_CsNat\n",
       "Prom_Mat   1.0000000  0.8632962\n",
       "Prom_CsNat 0.8632962  1.0000000\n",
       "\n",
       "$p.value\n",
       "                Prom_Mat    Prom_CsNat\n",
       "Prom_Mat    0.000000e+00 5.950112e-318\n",
       "Prom_CsNat 5.950112e-318  0.000000e+00\n",
       "\n",
       "$statistic\n",
       "           Prom_Mat Prom_CsNat\n",
       "Prom_Mat     0.0000    55.7693\n",
       "Prom_CsNat  55.7693     0.0000\n",
       "\n",
       "$n\n",
       "[1] 1065\n",
       "\n",
       "$gp\n",
       "[1] 0\n",
       "\n",
       "$method\n",
       "[1] \"spearman\"\n"
      ]
     },
     "metadata": {},
     "output_type": "display_data"
    }
   ],
   "source": [
    "pcor(dataM, method = c(\"spearman\"))"
   ]
  },
  {
   "cell_type": "code",
   "execution_count": 79,
   "id": "65ca548e",
   "metadata": {},
   "outputs": [],
   "source": [
    "library(ppcor)"
   ]
  },
  {
   "cell_type": "code",
   "execution_count": 80,
   "id": "697f203d",
   "metadata": {},
   "outputs": [
    {
     "data": {
      "text/html": [
       "<dl>\n",
       "\t<dt>$estimate</dt>\n",
       "\t\t<dd><table>\n",
       "<thead><tr><th></th><th scope=col>Prom_Mat</th><th scope=col>Prom_CsNat</th><th scope=col>Prom_Len</th></tr></thead>\n",
       "<tbody>\n",
       "\t<tr><th scope=row>Prom_Mat</th><td>1.0000000</td><td>0.5483093</td><td>0.5236204</td></tr>\n",
       "\t<tr><th scope=row>Prom_CsNat</th><td>0.5483093</td><td>1.0000000</td><td>0.2939059</td></tr>\n",
       "\t<tr><th scope=row>Prom_Len</th><td>0.5236204</td><td>0.2939059</td><td>1.0000000</td></tr>\n",
       "</tbody>\n",
       "</table>\n",
       "</dd>\n",
       "\t<dt>$p.value</dt>\n",
       "\t\t<dd><table>\n",
       "<thead><tr><th></th><th scope=col>Prom_Mat</th><th scope=col>Prom_CsNat</th><th scope=col>Prom_Len</th></tr></thead>\n",
       "<tbody>\n",
       "\t<tr><th scope=row>Prom_Mat</th><td>0</td><td>0</td><td>0</td></tr>\n",
       "\t<tr><th scope=row>Prom_CsNat</th><td>0</td><td>0</td><td>0</td></tr>\n",
       "\t<tr><th scope=row>Prom_Len</th><td>0</td><td>0</td><td>0</td></tr>\n",
       "</tbody>\n",
       "</table>\n",
       "</dd>\n",
       "\t<dt>$statistic</dt>\n",
       "\t\t<dd><table>\n",
       "<thead><tr><th></th><th scope=col>Prom_Mat</th><th scope=col>Prom_CsNat</th><th scope=col>Prom_Len</th></tr></thead>\n",
       "<tbody>\n",
       "\t<tr><th scope=row>Prom_Mat</th><td>  0.0000 </td><td>121.43631</td><td>113.83451</td></tr>\n",
       "\t<tr><th scope=row>Prom_CsNat</th><td>121.4363 </td><td>  0.00000</td><td> 56.95057</td></tr>\n",
       "\t<tr><th scope=row>Prom_Len</th><td>113.8345 </td><td> 56.95057</td><td>  0.00000</td></tr>\n",
       "</tbody>\n",
       "</table>\n",
       "</dd>\n",
       "\t<dt>$n</dt>\n",
       "\t\t<dd>34307</dd>\n",
       "\t<dt>$gp</dt>\n",
       "\t\t<dd>1</dd>\n",
       "\t<dt>$method</dt>\n",
       "\t\t<dd>'pearson'</dd>\n",
       "</dl>\n"
      ],
      "text/latex": [
       "\\begin{description}\n",
       "\\item[\\$estimate] \\begin{tabular}{r|lll}\n",
       "  & Prom\\_Mat & Prom\\_CsNat & Prom\\_Len\\\\\n",
       "\\hline\n",
       "\tProm\\_Mat & 1.0000000 & 0.5483093 & 0.5236204\\\\\n",
       "\tProm\\_CsNat & 0.5483093 & 1.0000000 & 0.2939059\\\\\n",
       "\tProm\\_Len & 0.5236204 & 0.2939059 & 1.0000000\\\\\n",
       "\\end{tabular}\n",
       "\n",
       "\\item[\\$p.value] \\begin{tabular}{r|lll}\n",
       "  & Prom\\_Mat & Prom\\_CsNat & Prom\\_Len\\\\\n",
       "\\hline\n",
       "\tProm\\_Mat & 0 & 0 & 0\\\\\n",
       "\tProm\\_CsNat & 0 & 0 & 0\\\\\n",
       "\tProm\\_Len & 0 & 0 & 0\\\\\n",
       "\\end{tabular}\n",
       "\n",
       "\\item[\\$statistic] \\begin{tabular}{r|lll}\n",
       "  & Prom\\_Mat & Prom\\_CsNat & Prom\\_Len\\\\\n",
       "\\hline\n",
       "\tProm\\_Mat &   0.0000  & 121.43631 & 113.83451\\\\\n",
       "\tProm\\_CsNat & 121.4363  &   0.00000 &  56.95057\\\\\n",
       "\tProm\\_Len & 113.8345  &  56.95057 &   0.00000\\\\\n",
       "\\end{tabular}\n",
       "\n",
       "\\item[\\$n] 34307\n",
       "\\item[\\$gp] 1\n",
       "\\item[\\$method] 'pearson'\n",
       "\\end{description}\n"
      ],
      "text/markdown": [
       "$estimate\n",
       ":   \n",
       "| <!--/--> | Prom_Mat | Prom_CsNat | Prom_Len |\n",
       "|---|---|---|---|\n",
       "| Prom_Mat | 1.0000000 | 0.5483093 | 0.5236204 |\n",
       "| Prom_CsNat | 0.5483093 | 1.0000000 | 0.2939059 |\n",
       "| Prom_Len | 0.5236204 | 0.2939059 | 1.0000000 |\n",
       "\n",
       "\n",
       "$p.value\n",
       ":   \n",
       "| <!--/--> | Prom_Mat | Prom_CsNat | Prom_Len |\n",
       "|---|---|---|---|\n",
       "| Prom_Mat | 0 | 0 | 0 |\n",
       "| Prom_CsNat | 0 | 0 | 0 |\n",
       "| Prom_Len | 0 | 0 | 0 |\n",
       "\n",
       "\n",
       "$statistic\n",
       ":   \n",
       "| <!--/--> | Prom_Mat | Prom_CsNat | Prom_Len |\n",
       "|---|---|---|---|\n",
       "| Prom_Mat |   0.0000  | 121.43631 | 113.83451 |\n",
       "| Prom_CsNat | 121.4363  |   0.00000 |  56.95057 |\n",
       "| Prom_Len | 113.8345  |  56.95057 |   0.00000 |\n",
       "\n",
       "\n",
       "$n\n",
       ":   34307\n",
       "$gp\n",
       ":   1\n",
       "$method\n",
       ":   'pearson'\n",
       "\n",
       "\n"
      ],
      "text/plain": [
       "$estimate\n",
       "            Prom_Mat Prom_CsNat  Prom_Len\n",
       "Prom_Mat   1.0000000  0.5483093 0.5236204\n",
       "Prom_CsNat 0.5483093  1.0000000 0.2939059\n",
       "Prom_Len   0.5236204  0.2939059 1.0000000\n",
       "\n",
       "$p.value\n",
       "           Prom_Mat Prom_CsNat Prom_Len\n",
       "Prom_Mat          0          0        0\n",
       "Prom_CsNat        0          0        0\n",
       "Prom_Len          0          0        0\n",
       "\n",
       "$statistic\n",
       "           Prom_Mat Prom_CsNat  Prom_Len\n",
       "Prom_Mat     0.0000  121.43631 113.83451\n",
       "Prom_CsNat 121.4363    0.00000  56.95057\n",
       "Prom_Len   113.8345   56.95057   0.00000\n",
       "\n",
       "$n\n",
       "[1] 34307\n",
       "\n",
       "$gp\n",
       "[1] 1\n",
       "\n",
       "$method\n",
       "[1] \"pearson\"\n"
      ]
     },
     "metadata": {},
     "output_type": "display_data"
    }
   ],
   "source": [
    "pcor(dataN, method = c(\"pearson\"))"
   ]
  },
  {
   "cell_type": "code",
   "execution_count": 82,
   "id": "44e30032",
   "metadata": {},
   "outputs": [
    {
     "data": {
      "text/html": [
       "0.548309317669782"
      ],
      "text/latex": [
       "0.548309317669782"
      ],
      "text/markdown": [
       "0.548309317669782"
      ],
      "text/plain": [
       "[1] 0.5483093"
      ]
     },
     "metadata": {},
     "output_type": "display_data"
    }
   ],
   "source": [
    "ggm::pcor(c(\"Prom_Mat\",\"Prom_CsNat\",\"Prom_Len\"), cov(dataN))\n",
    "pcor1<-ggm::pcor(c(\"Prom_Mat\",\"Prom_CsNat\",\"Prom_Len\"), cov(dataN))"
   ]
  },
  {
   "cell_type": "code",
   "execution_count": 84,
   "id": "ccdfbbd0",
   "metadata": {},
   "outputs": [],
   "source": [
    "library(\"pwr\") #contrasta que tan potentes son los tests que uso"
   ]
  },
  {
   "cell_type": "code",
   "execution_count": 85,
   "id": "7c633fd3",
   "metadata": {},
   "outputs": [
    {
     "data": {
      "text/plain": [
       "\n",
       "     approximate correlation power calculation (arctangh transformation) \n",
       "\n",
       "              n = 34307\n",
       "              r = 0.5483093\n",
       "      sig.level = 0.05\n",
       "          power = 1\n",
       "    alternative = two.sided\n"
      ]
     },
     "metadata": {},
     "output_type": "display_data"
    }
   ],
   "source": [
    "pwr.r.test(n = length(row.names(dataN)), r = pcor1, sig.level = .05, power = NULL) #power=1: la correlacion es potente"
   ]
  },
  {
   "cell_type": "code",
   "execution_count": null,
   "id": "ba40069d",
   "metadata": {},
   "outputs": [],
   "source": []
  }
 ],
 "metadata": {
  "kernelspec": {
   "display_name": "R",
   "language": "R",
   "name": "ir"
  },
  "language_info": {
   "codemirror_mode": "r",
   "file_extension": ".r",
   "mimetype": "text/x-r-source",
   "name": "R",
   "pygments_lexer": "r",
   "version": "3.6.1"
  }
 },
 "nbformat": 4,
 "nbformat_minor": 5
}
